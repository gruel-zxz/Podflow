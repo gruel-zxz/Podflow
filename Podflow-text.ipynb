{
 "cells": [
  {
   "cell_type": "code",
   "execution_count": null,
   "metadata": {},
   "outputs": [],
   "source": [
    " # 导入re模块，用于正则表达式操作\n",
    "import re\n",
    "\n",
    "# 定义文件路径和打开文件\n",
    "channel_id = 'channel_id/UCghLs6s95LrBWOdlZUCH4qw.txt'\n",
    "with open(channel_id, 'r') as channel:\n",
    "    # 读取文件内容，并赋值给xml变量\n",
    "    xml = channel.read()\n",
    "\n",
    "# 定义正则表达式模式，用于匹配视频ID\n",
    "id_pattern = re.compile(r'(?<=<id>yt:video:)[A-Za-z0-9_-]{11}(?=</id>)')\n",
    "\n",
    "# 在xml内容中搜索视频ID，并赋值给video_ids变量\n",
    "video_ids = id_pattern.findall(xml)\n",
    "\n",
    "# 输出匹配到的视频ID\n",
    "print(video_ids)"
   ]
  },
  {
   "cell_type": "code",
   "execution_count": null,
   "metadata": {},
   "outputs": [],
   "source": [
    "import requests\n",
    "import xml.etree.ElementTree as ET\n",
    "import time\n",
    "\n",
    "# 根据需要修改以下变量\n",
    "url = \"https://www.youtube.com/feeds/videos.xml?channel_id=UCghLs6s95LrBWOdlZUCH4qw\"\n",
    "pushkey = \"PDU18136TvdVYY5K3UagCr7zYKZozIqT3C5VrCScs\"\n",
    "\n",
    "# 初始化变量\n",
    "last_updated = None\n",
    "update_interval = 5 * 60  # 更新间隔（单位：秒）\n",
    "\n",
    "while True:\n",
    "    # 检查更新\n",
    "    response = requests.get(url)\n",
    "    if response.status_code == 200:\n",
    "        content = response.content\n",
    "        tree = ET.fromstring(content)\n",
    "        pub_date = tree.find(\"./{http://www.w3.org/2005/Atom}entry/{http://www.w3.org/2005/Atom}published\").text\n",
    "        if pub_date != last_updated:\n",
    "            # 触发 API 通知\n",
    "            url_payload = f\"https://api2.pushdeer.com/message/push?pushkey={pushkey}&text=YouTube更新\"\n",
    "            response = requests.get(url_payload)\n",
    "            \n",
    "            # 更新上次更新时间\n",
    "            last_updated = pub_date\n",
    "            print(\"已检测到更新，已发送通知\")\n",
    "        else:\n",
    "            print(\"没有更新\")\n",
    "    else:\n",
    "        print(\"请求失败\")\n",
    "    \n",
    "    # 等待下次更新\n",
    "    time.sleep(update_interval)"
   ]
  },
  {
   "cell_type": "code",
   "execution_count": null,
   "metadata": {},
   "outputs": [],
   "source": [
    "import datetime\n",
    "\n",
    "log = \"测试\"\n",
    "\n",
    "# 获取当前的具体时间\n",
    "current_time = datetime.datetime.now()\n",
    "\n",
    "# 格式化输出，只保留年月日时分秒\n",
    "formatted_time = current_time.strftime(\"%Y-%m-%d %H:%M:%S\")\n",
    "\n",
    "# 打印当前的具体时间（精确到秒）\n",
    "print(formatted_time,log)\n",
    "\n",
    "try:\n",
    "    # 打开文件，在末尾追加内容\n",
    "    with open(\"log.txt\", \"a\") as file:\n",
    "        file.write(formatted_time + log + \"\\n\")\n",
    "\n",
    "except FileNotFoundError:\n",
    "    # 文件不存在的处理逻辑\n",
    "    with open(\"log.txt\", \"w\") as file:\n",
    "        file.write(formatted_time + log + \"\\n\")"
   ]
  },
  {
   "cell_type": "code",
   "execution_count": null,
   "metadata": {},
   "outputs": [],
   "source": [
    "import datetime\n",
    "\n",
    "def write_log(log):\n",
    "    # 获取当前的具体时间\n",
    "    current_time = datetime.datetime.now()\n",
    "\n",
    "    # 格式化输出，只保留年月日时分秒\n",
    "    formatted_time = current_time.strftime(\"%Y-%m-%d %H:%M:%S\")\n",
    "\n",
    "    # 打印当前的具体时间（精确到秒）\n",
    "    print(formatted_time, log)\n",
    "\n",
    "    try:\n",
    "        # 打开文件，在末尾追加内容\n",
    "        with open(\"log.txt\", \"a\") as file:\n",
    "            file.write(formatted_time + \" \" + log + \"\\n\")\n",
    "\n",
    "    except FileNotFoundError:\n",
    "        # 文件不存在的处理逻辑\n",
    "        with open(\"log.txt\", \"w\") as file:\n",
    "            file.write(formatted_time + \" \" + log + \"\\n\")\n",
    "\n",
    "\n",
    "write_log(\"nihao\")"
   ]
  },
  {
   "cell_type": "code",
   "execution_count": null,
   "metadata": {},
   "outputs": [],
   "source": [
    "write_log(\"ni hao\")"
   ]
  },
  {
   "cell_type": "code",
   "execution_count": null,
   "metadata": {},
   "outputs": [],
   "source": [
    "import datetime\n",
    "\n",
    "def write_log(log):\n",
    "    # 获取当前的具体时间\n",
    "    current_time = datetime.datetime.now()\n",
    "\n",
    "    # 格式化输出，只保留年月日时分秒\n",
    "    formatted_time = current_time.strftime(\"%Y-%m-%d %H:%M:%S\")\n",
    "\n",
    "    # 打开文件，并读取原有内容\n",
    "    try:\n",
    "        with open(\"log.txt\", \"r\") as file:\n",
    "            contents = file.read()\n",
    "    except FileNotFoundError:\n",
    "        contents = \"\"\n",
    "\n",
    "    # 将新的日志内容添加在原有内容之前\n",
    "    new_contents = formatted_time + \" \" + log + \"\\n\" + contents\n",
    "\n",
    "    # 将新的日志内容写入文件\n",
    "    with open(\"log.txt\", \"w\") as file:\n",
    "        file.write(new_contents)\n",
    "\n",
    "    # 打印当前的具体时间（精确到秒）\n",
    "    print(formatted_time, log)\n"
   ]
  },
  {
   "cell_type": "code",
   "execution_count": null,
   "metadata": {},
   "outputs": [],
   "source": [
    "write_log(\"ni hao\")"
   ]
  },
  {
   "cell_type": "code",
   "execution_count": null,
   "metadata": {},
   "outputs": [],
   "source": [
    "import subprocess\n",
    "\n",
    "library = \"rangehttpserver\"\n",
    "\n",
    "def is_library_installed():\n",
    "    try:\n",
    "        result = subprocess.run([library , '--version'], capture_output=True, text=True)\n",
    "        if result.returncode == 0:\n",
    "            return True\n",
    "        else:\n",
    "            return False\n",
    "    except FileNotFoundError:\n",
    "        return False\n",
    "\n",
    "def install_library():\n",
    "    try:\n",
    "        result = subprocess.run(['pip', 'install', library], capture_output=True, text=True)\n",
    "        if result.returncode == 0:\n",
    "            return True\n",
    "        else:\n",
    "            return False\n",
    "    except FileNotFoundError:\n",
    "        return False\n",
    "\n",
    "# 更新yt-dlp\n",
    "def update_library():\n",
    "    try:\n",
    "        result = subprocess.run(['pip', 'install', '--upgrade', library], capture_output=True, text=True)\n",
    "        if result.returncode == 0:\n",
    "            return True\n",
    "        else:\n",
    "            return False\n",
    "    except FileNotFoundError:\n",
    "        return False\n",
    "\n",
    "# 检查是否已安装yt-dlp\n",
    "if is_library_installed():\n",
    "    print(library + \"已安装\")\n",
    "else:\n",
    "    print(library + \"未安装\")\n",
    "\n",
    "# 安装或更新yt-dlp\n",
    "if is_library_installed():\n",
    "    if update_library():\n",
    "        print(library + \"更新成功\")\n",
    "    else:\n",
    "        print(library + \"更新失败\")\n",
    "else:\n",
    "    if install_library():\n",
    "        print(library + \"安装成功\")\n",
    "    else:\n",
    "        print(library + \"安装失败\")\n"
   ]
  },
  {
   "cell_type": "code",
   "execution_count": 3,
   "metadata": {},
   "outputs": [],
   "source": [
    "import subprocess\n",
    "# 安装库模块\n",
    "def library_install(library):\n",
    "    # 检查库是否已安装\n",
    "    def is_library_installed():\n",
    "        try:\n",
    "            result = subprocess.run([library , '--version'], capture_output=True, text=True)\n",
    "            if result.returncode == 0:\n",
    "                return True\n",
    "            else:\n",
    "                return False\n",
    "        except FileNotFoundError:\n",
    "            return False\n",
    "    # 如果库未安装，则尝试安装\n",
    "    def install_library():\n",
    "        try:\n",
    "            result = subprocess.run(['pip', 'install', library], capture_output=True, text=True)\n",
    "            if result.returncode == 0:\n",
    "                return True\n",
    "            else:\n",
    "                return False\n",
    "        except FileNotFoundError:\n",
    "            return False\n",
    "    # 如果库已安装，则尝试更新\n",
    "    def update_library():\n",
    "        try:\n",
    "            result = subprocess.run(['pip', 'install', '--upgrade', library], capture_output=True, text=True)\n",
    "            if result.returncode == 0:\n",
    "                return True\n",
    "            else:\n",
    "                return False\n",
    "        except FileNotFoundError:\n",
    "            return False\n",
    "    # 检查库是否已安装\n",
    "    if is_library_installed():\n",
    "        print(library + \"已安装\")\n",
    "    else:\n",
    "        print(library + \"未安装\")\n",
    "    # 如果库已安装，则尝试更新\n",
    "    if is_library_installed():\n",
    "        if update_library():\n",
    "            print(library + \"更新成功\")\n",
    "        else:\n",
    "            print(library + \"更新失败\")\n",
    "    else:  # 如果库未安装，则尝试安装\n",
    "        if install_library():\n",
    "            print(library + \"安装成功\")\n",
    "        else:\n",
    "            print(library + \"安装失败\")"
   ]
  },
  {
   "cell_type": "code",
   "execution_count": 4,
   "metadata": {},
   "outputs": [
    {
     "name": "stdout",
     "output_type": "stream",
     "text": [
      "yt-dlp已安装\n",
      "yt-dlp更新成功\n"
     ]
    }
   ],
   "source": [
    "library_install(\"yt-dlp\")"
   ]
  },
  {
   "cell_type": "code",
   "execution_count": 6,
   "metadata": {},
   "outputs": [
    {
     "name": "stdout",
     "output_type": "stream",
     "text": [
      "<!DOCTYPE html>\n",
      "<html lang=en>\n",
      "  <meta charset=utf-8>\n",
      "  <meta name=viewport content=\"initial-scale=1, minimum-scale=1, width=device-width\">\n",
      "  <title>Error 404 (Not Found)!!1</title>\n",
      "  <style>\n",
      "    *{margin:0;padding:0}html,code{font:15px/22px arial,sans-serif}html{background:#fff;color:#222;padding:15px}body{margin:7% auto 0;max-width:390px;min-height:180px;padding:30px 0 15px}* > body{background:url(//www.google.com/images/errors/robot.png) 100% 5px no-repeat;padding-right:205px}p{margin:11px 0 22px;overflow:hidden}ins{color:#777;text-decoration:none}a img{border:0}@media screen and (max-width:772px){body{background:none;margin-top:0;max-width:none;padding-right:0}}#logo{background:url(//www.google.com/images/branding/googlelogo/1x/googlelogo_color_150x54dp.png) no-repeat;margin-left:-5px}@media only screen and (min-resolution:192dpi){#logo{background:url(//www.google.com/images/branding/googlelogo/2x/googlelogo_color_150x54dp.png) no-repeat 0% 0%/100% 100%;-moz-border-image:url(//www.google.com/images/branding/googlelogo/2x/googlelogo_color_150x54dp.png) 0}}@media only screen and (-webkit-min-device-pixel-ratio:2){#logo{background:url(//www.google.com/images/branding/googlelogo/2x/googlelogo_color_150x54dp.png) no-repeat;-webkit-background-size:100% 100%}}#logo{display:inline-block;height:54px;width:150px}\n",
      "  </style>\n",
      "  <a href=//www.google.com/><span id=logo aria-label=Google></span></a>\n",
      "  <p><b>404.</b> <ins>That’s an error.</ins>\n",
      "  <p>The requested URL <code>/feeds/videos.xml?channel_id=UCBR8-60-B28hp2BmDPdntc</code> was not found on this server.  <ins>That’s all we know.</ins>\n",
      "\n",
      "不正确\n"
     ]
    }
   ],
   "source": [
    "import requests\n",
    "url = \"https://www.youtube.com/feeds/videos.xml?channel_id=UCBR8-60-B28hp2BmDPdntc\"\n",
    "response = requests.get(url)  # 发送GET请求获取网页内容\n",
    "content = response.text \n",
    "\n",
    "print (content)\n",
    "\n",
    "\n",
    "\n",
    "import re\n",
    "# 判断频道id是否正确\n",
    "pattern_youtube404 = r\"Error 404\"  # 设置要匹配的正则表达式模式\n",
    "if not re.search(pattern_youtube404, content):\n",
    "    print(\"文本中不包含 'Error 404 (Not Found)!!'\")\n",
    "else:\n",
    "    print(\"不正确\")\n"
   ]
  },
  {
   "cell_type": "code",
   "execution_count": null,
   "metadata": {},
   "outputs": [],
   "source": [
    "{\n",
    "        \"YouTube\": {\n",
    "            \"update_size\": 1,\n",
    "            \"id\": \"UCBR8-60-B28hp2BmDPdntcQ\",\n",
    "            \"title\": \"YouTube\",\n",
    "            \"quality\": \"720\",\n",
    "            \"last_size\": 1,\n",
    "            \"media\": \"m4a\"\n",
    "        },\n",
    "        \"科学火箭叔\": {\n",
    "            \"update_size\": 15,\n",
    "            \"id\": \"UC8dD8v_uIA7aRzpqaCoIHKg\",\n",
    "            \"title\": \"科学火箭叔\",\n",
    "            \"quality\": \"1080\",\n",
    "            \"last_size\": 20,\n",
    "            \"media\": \"mp4\"\n",
    "        }\n",
    "    }\n",
    "#如何自动生成为：\n",
    "{\"UCBR8-60-B28hp2BmDPdntcQ\": \"YouTube\",\"UC8dD8v_uIA7aRzpqaCoIHKg\": \"科学火箭叔\"}"
   ]
  },
  {
   "cell_type": "code",
   "execution_count": 8,
   "metadata": {},
   "outputs": [
    {
     "name": "stdout",
     "output_type": "stream",
     "text": [
      "[youtube] Extracting URL: https://www.youtube.com/watch?v=HcMr1gG0iho\n",
      "[youtube] HcMr1gG0iho: Downloading webpage\n"
     ]
    },
    {
     "name": "stdout",
     "output_type": "stream",
     "text": [
      "[youtube] HcMr1gG0iho: Downloading ios player API JSON\n",
      "[youtube] HcMr1gG0iho: Downloading android player API JSON\n",
      "[youtube] HcMr1gG0iho: Downloading m3u8 information\n",
      "432\n"
     ]
    }
   ],
   "source": [
    "import yt_dlp\n",
    "\n",
    "def video_duration(video_url):\n",
    "    try:\n",
    "        # 创建yt-dlp实例\n",
    "        ydl = yt_dlp.YoutubeDL({'ignoreerrors': True})\n",
    "        if info_dict := ydl.extract_info(\n",
    "            f\"https://www.youtube.com/watch?v={video_url}\", download=False\n",
    "        ):\n",
    "            # 获取视频时长并回显\n",
    "            return info_dict.get('duration')\n",
    "    except Exception as e:\n",
    "        print((f\"{video_url}下载失败，错误信息：{str(e)}\").replace(\"ERROR: \", \"\").replace(f\"{video_url}: \", \"\"))\n",
    "\n",
    "print(video_duration(\"HcMr1gG0iho\"))"
   ]
  },
  {
   "cell_type": "code",
   "execution_count": 9,
   "metadata": {},
   "outputs": [
    {
     "name": "stdout",
     "output_type": "stream",
     "text": [
      "Duration: 432.262676 seconds\n",
      "432\n"
     ]
    }
   ],
   "source": [
    "import subprocess\n",
    "import re\n",
    "\n",
    "def get_duration_ffprobe(file_path):\n",
    "    try:\n",
    "        command = [\n",
    "            \"ffprobe\",\n",
    "            \"-i\", file_path,\n",
    "            \"-show_entries\", \"format=duration\",\n",
    "            \"-v\", \"error\",\n",
    "            \"-of\", \"default=noprint_wrappers=1:nokey=1\"\n",
    "        ]\n",
    "        output = subprocess.check_output(command, stderr=subprocess.STDOUT).decode(\"utf-8\")\n",
    "        return float(output)\n",
    "    except subprocess.CalledProcessError as e:\n",
    "        print(f\"Error: {e.output}\")\n",
    "        return None\n",
    "\n",
    "file_path = \"UCghLs6s95LrBWOdlZUCH4qw/HcMr1gG0iho.m4a\"  # 替换为您的文件路径\n",
    "duration = get_duration_ffprobe(file_path)\n",
    "if duration is not None:\n",
    "    print(f\"Duration: {duration} seconds\")\n",
    "    \n",
    "print(round(get_duration_ffprobe(\"UCghLs6s95LrBWOdlZUCH4qw/HcMr1gG0iho.m4a\")))\n"
   ]
  },
  {
   "cell_type": "code",
   "execution_count": 15,
   "metadata": {},
   "outputs": [
    {
     "name": "stdout",
     "output_type": "stream",
     "text": [
      "(1, 2)\n"
     ]
    }
   ],
   "source": [
    "def c():\n",
    "    a = 1\n",
    "    b = 2\n",
    "    return a,b\n",
    "print(c())"
   ]
  },
  {
   "cell_type": "code",
   "execution_count": 4,
   "metadata": {},
   "outputs": [
    {
     "ename": "ModuleNotFoundError",
     "evalue": "No module named 'pytube'",
     "output_type": "error",
     "traceback": [
      "\u001b[0;31m---------------------------------------------------------------------------\u001b[0m",
      "\u001b[0;31mModuleNotFoundError\u001b[0m                       Traceback (most recent call last)",
      "Cell \u001b[0;32mIn[4], line 1\u001b[0m\n\u001b[0;32m----> 1\u001b[0m \u001b[39mfrom\u001b[39;00m \u001b[39mpytube\u001b[39;00m \u001b[39mimport\u001b[39;00m YouTube\n\u001b[1;32m      3\u001b[0m \u001b[39mtry\u001b[39;00m:\n\u001b[1;32m      4\u001b[0m     yt \u001b[39m=\u001b[39m YouTube(\u001b[39mf\u001b[39m\u001b[39m\"\u001b[39m\u001b[39mhttps://www.youtube.com/watch?v=YKJQc_Nf3QQ\u001b[39m\u001b[39m\"\u001b[39m)    \n",
      "\u001b[0;31mModuleNotFoundError\u001b[0m: No module named 'pytube'"
     ]
    }
   ],
   "source": [
    "from pytube import YouTube\n",
    "\n",
    "try:\n",
    "    yt = YouTube(f\"https://www.youtube.com/watch?v=YKJQc_Nf3QQ\")    \n",
    "    # 检查视频信息是否成功获取\n",
    "    if yt.vid_info:\n",
    "        # 获取视频时长（以秒为单位）\n",
    "        duration = yt.length\n",
    "        # 打印结果\n",
    "        print(f\"视频时长: {duration} 秒\")\n",
    "except Exception as e:\n",
    "    print(\"发生其他错误:\", e)"
   ]
  },
  {
   "cell_type": "code",
   "execution_count": 26,
   "metadata": {},
   "outputs": [
    {
     "ename": "VideoPrivate",
     "evalue": "lq6ZIbZ1Xrg is a private video",
     "output_type": "error",
     "traceback": [
      "\u001b[0;31m---------------------------------------------------------------------------\u001b[0m",
      "\u001b[0;31mKeyError\u001b[0m                                  Traceback (most recent call last)",
      "File \u001b[0;32m/usr/local/python/3.10.8/lib/python3.10/site-packages/pytube/__main__.py:341\u001b[0m, in \u001b[0;36mYouTube.title\u001b[0;34m(self)\u001b[0m\n\u001b[1;32m    340\u001b[0m \u001b[39mtry\u001b[39;00m:\n\u001b[0;32m--> 341\u001b[0m     \u001b[39mself\u001b[39m\u001b[39m.\u001b[39m_title \u001b[39m=\u001b[39m \u001b[39mself\u001b[39;49m\u001b[39m.\u001b[39;49mvid_info[\u001b[39m'\u001b[39;49m\u001b[39mvideoDetails\u001b[39;49m\u001b[39m'\u001b[39;49m][\u001b[39m'\u001b[39m\u001b[39mtitle\u001b[39m\u001b[39m'\u001b[39m]\n\u001b[1;32m    342\u001b[0m \u001b[39mexcept\u001b[39;00m \u001b[39mKeyError\u001b[39;00m:\n\u001b[1;32m    343\u001b[0m     \u001b[39m# Check_availability will raise the correct exception in most cases\u001b[39;00m\n\u001b[1;32m    344\u001b[0m     \u001b[39m#  if it doesn't, ask for a report.\u001b[39;00m\n",
      "\u001b[0;31mKeyError\u001b[0m: 'videoDetails'",
      "\nDuring handling of the above exception, another exception occurred:\n",
      "\u001b[0;31mVideoPrivate\u001b[0m                              Traceback (most recent call last)",
      "Cell \u001b[0;32mIn[26], line 9\u001b[0m\n\u001b[1;32m      6\u001b[0m yt \u001b[39m=\u001b[39m YouTube(video_url)\n\u001b[1;32m      8\u001b[0m \u001b[39m# 获取视频标题\u001b[39;00m\n\u001b[0;32m----> 9\u001b[0m title \u001b[39m=\u001b[39m yt\u001b[39m.\u001b[39;49mtitle\n\u001b[1;32m     11\u001b[0m \u001b[39m# 获取视频时长（以秒为单位）\u001b[39;00m\n\u001b[1;32m     12\u001b[0m duration \u001b[39m=\u001b[39m yt\u001b[39m.\u001b[39mlength\n",
      "File \u001b[0;32m/usr/local/python/3.10.8/lib/python3.10/site-packages/pytube/__main__.py:345\u001b[0m, in \u001b[0;36mYouTube.title\u001b[0;34m(self)\u001b[0m\n\u001b[1;32m    341\u001b[0m     \u001b[39mself\u001b[39m\u001b[39m.\u001b[39m_title \u001b[39m=\u001b[39m \u001b[39mself\u001b[39m\u001b[39m.\u001b[39mvid_info[\u001b[39m'\u001b[39m\u001b[39mvideoDetails\u001b[39m\u001b[39m'\u001b[39m][\u001b[39m'\u001b[39m\u001b[39mtitle\u001b[39m\u001b[39m'\u001b[39m]\n\u001b[1;32m    342\u001b[0m \u001b[39mexcept\u001b[39;00m \u001b[39mKeyError\u001b[39;00m:\n\u001b[1;32m    343\u001b[0m     \u001b[39m# Check_availability will raise the correct exception in most cases\u001b[39;00m\n\u001b[1;32m    344\u001b[0m     \u001b[39m#  if it doesn't, ask for a report.\u001b[39;00m\n\u001b[0;32m--> 345\u001b[0m     \u001b[39mself\u001b[39;49m\u001b[39m.\u001b[39;49mcheck_availability()\n\u001b[1;32m    346\u001b[0m     \u001b[39mraise\u001b[39;00m exceptions\u001b[39m.\u001b[39mPytubeError(\n\u001b[1;32m    347\u001b[0m         (\n\u001b[1;32m    348\u001b[0m             \u001b[39mf\u001b[39m\u001b[39m'\u001b[39m\u001b[39mException while accessing title of \u001b[39m\u001b[39m{\u001b[39;00m\u001b[39mself\u001b[39m\u001b[39m.\u001b[39mwatch_url\u001b[39m}\u001b[39;00m\u001b[39m. \u001b[39m\u001b[39m'\u001b[39m\n\u001b[1;32m    349\u001b[0m             \u001b[39m'\u001b[39m\u001b[39mPlease file a bug report at https://github.com/pytube/pytube\u001b[39m\u001b[39m'\u001b[39m\n\u001b[1;32m    350\u001b[0m         )\n\u001b[1;32m    351\u001b[0m     )\n\u001b[1;32m    353\u001b[0m \u001b[39mreturn\u001b[39;00m \u001b[39mself\u001b[39m\u001b[39m.\u001b[39m_title\n",
      "File \u001b[0;32m/usr/local/python/3.10.8/lib/python3.10/site-packages/pytube/__main__.py:228\u001b[0m, in \u001b[0;36mYouTube.check_availability\u001b[0;34m(self)\u001b[0m\n\u001b[1;32m    223\u001b[0m \u001b[39melif\u001b[39;00m status \u001b[39m==\u001b[39m \u001b[39m'\u001b[39m\u001b[39mLOGIN_REQUIRED\u001b[39m\u001b[39m'\u001b[39m:\n\u001b[1;32m    224\u001b[0m     \u001b[39mif\u001b[39;00m reason \u001b[39m==\u001b[39m (\n\u001b[1;32m    225\u001b[0m         \u001b[39m'\u001b[39m\u001b[39mThis is a private video. \u001b[39m\u001b[39m'\u001b[39m\n\u001b[1;32m    226\u001b[0m         \u001b[39m'\u001b[39m\u001b[39mPlease sign in to verify that you may see it.\u001b[39m\u001b[39m'\u001b[39m\n\u001b[1;32m    227\u001b[0m     ):\n\u001b[0;32m--> 228\u001b[0m         \u001b[39mraise\u001b[39;00m exceptions\u001b[39m.\u001b[39mVideoPrivate(video_id\u001b[39m=\u001b[39m\u001b[39mself\u001b[39m\u001b[39m.\u001b[39mvideo_id)\n\u001b[1;32m    229\u001b[0m \u001b[39melif\u001b[39;00m status \u001b[39m==\u001b[39m \u001b[39m'\u001b[39m\u001b[39mERROR\u001b[39m\u001b[39m'\u001b[39m:\n\u001b[1;32m    230\u001b[0m     \u001b[39mif\u001b[39;00m reason \u001b[39m==\u001b[39m \u001b[39m'\u001b[39m\u001b[39mVideo unavailable\u001b[39m\u001b[39m'\u001b[39m:\n",
      "\u001b[0;31mVideoPrivate\u001b[0m: lq6ZIbZ1Xrg is a private video"
     ]
    }
   ],
   "source": [
    "from pytube import YouTube\n",
    "\n",
    "video_url = \"https://www.youtube.com/watch?v=lq6ZIbZ1Xrg\"\n",
    "\n",
    "# 创建YouTube对象\n",
    "yt = YouTube(video_url)\n",
    "\n",
    "# 获取视频标题\n",
    "title = yt.title\n",
    "\n",
    "# 获取视频时长（以秒为单位）\n",
    "duration = yt.length\n",
    "\n",
    "# 获取视频作者\n",
    "author = yt.author\n",
    "\n",
    "# 获取视频描述\n",
    "description = yt.description\n",
    "\n",
    "# 获取视频发布日期\n",
    "publish_date = yt.publish_date\n",
    "\n",
    "# 打印结果\n",
    "print(f\"视频标题: {title}\")\n",
    "print(f\"视频时长: {duration} 秒\")\n",
    "print(f\"视频作者: {author}\")\n",
    "print(f\"视频描述: {description}\")\n",
    "print(f\"视频发布日期: {publish_date}\")"
   ]
  },
  {
   "cell_type": "code",
   "execution_count": 25,
   "metadata": {},
   "outputs": [
    {
     "ename": "TypeError",
     "evalue": "int() argument must be a string, a bytes-like object or a real number, not 'NoneType'",
     "output_type": "error",
     "traceback": [
      "\u001b[0;31m---------------------------------------------------------------------------\u001b[0m",
      "\u001b[0;31mTypeError\u001b[0m                                 Traceback (most recent call last)",
      "Cell \u001b[0;32mIn[25], line 1\u001b[0m\n\u001b[0;32m----> 1\u001b[0m \u001b[39mprint\u001b[39m(YouTube(video_url)\u001b[39m.\u001b[39;49mlength)\n",
      "File \u001b[0;32m/usr/local/python/3.10.8/lib/python3.10/site-packages/pytube/__main__.py:383\u001b[0m, in \u001b[0;36mYouTube.length\u001b[0;34m(self)\u001b[0m\n\u001b[1;32m    377\u001b[0m \u001b[39m@property\u001b[39m\n\u001b[1;32m    378\u001b[0m \u001b[39mdef\u001b[39;00m \u001b[39mlength\u001b[39m(\u001b[39mself\u001b[39m) \u001b[39m-\u001b[39m\u001b[39m>\u001b[39m \u001b[39mint\u001b[39m:\n\u001b[1;32m    379\u001b[0m \u001b[39m    \u001b[39m\u001b[39m\"\"\"Get the video length in seconds.\u001b[39;00m\n\u001b[1;32m    380\u001b[0m \n\u001b[1;32m    381\u001b[0m \u001b[39m    :rtype: int\u001b[39;00m\n\u001b[1;32m    382\u001b[0m \u001b[39m    \"\"\"\u001b[39;00m\n\u001b[0;32m--> 383\u001b[0m     \u001b[39mreturn\u001b[39;00m \u001b[39mint\u001b[39;49m(\u001b[39mself\u001b[39;49m\u001b[39m.\u001b[39;49mvid_info\u001b[39m.\u001b[39;49mget(\u001b[39m'\u001b[39;49m\u001b[39mvideoDetails\u001b[39;49m\u001b[39m'\u001b[39;49m, {})\u001b[39m.\u001b[39;49mget(\u001b[39m'\u001b[39;49m\u001b[39mlengthSeconds\u001b[39;49m\u001b[39m'\u001b[39;49m))\n",
      "\u001b[0;31mTypeError\u001b[0m: int() argument must be a string, a bytes-like object or a real number, not 'NoneType'"
     ]
    }
   ],
   "source": [
    "print(YouTube(video_url).length)"
   ]
  },
  {
   "cell_type": "code",
   "execution_count": 1,
   "metadata": {},
   "outputs": [
    {
     "name": "stdout",
     "output_type": "stream",
     "text": [
      "{'YouTube': {'update_size': 15, 'id': 'UCBR8-60-B28hp2BmDPdntcQ', 'title': 'YouTube', 'quality': '1080', 'last_size': 30, 'media': 'm4a'}, '科学火箭叔': {'update_size': 15, 'id': 'UC8dD8v_uIA7aRzpqaCoIHKg', 'title': '科学火箭叔', 'quality': '1080', 'last_size': 30, 'media': 'm4a'}, 'stone pistol': {'update_size': 15, 'id': 'UCmOVUFkam162EJ48KfQaIyg', 'title': 'stone pistol', 'quality': '1080', 'last_size': 30, 'media': 'm4a'}, '奇异博士说': {'update_size': 15, 'id': 'UCVaMMNaYvjmskreBR4dM7rg', 'title': '奇异博士说', 'quality': '1080', 'last_size': 30, 'media': 'm4a'}, '科技美学': {'update_size': 15, 'id': 'UCAC204niCVvtDRDFYSiK7Cg', 'title': '科技美学', 'quality': '1080', 'last_size': 30, 'media': 'm4a'}, 'stone记': {'update_size': 15, 'id': 'UCghLs6s95LrBWOdlZUCH4qw', 'title': 'stone记', 'quality': '1080', 'last_size': 30, 'media': 'm4a'}, 'Linvo說宇宙': {'update_size': 15, 'id': 'UCjHCBI7CNqQwzuaiDtCAQmA', 'title': 'Linvo說宇宙', 'quality': '1080', 'last_size': 30, 'media': 'm4a'}, '四季妈妈—小龙': {'update_size': 15, 'id': 'UC3elWG-AxVvIF2_xPQb1rkQ', 'title': '四季妈妈—小龙', 'quality': '1080', 'last_size': 30, 'media': 'm4a'}, 'Discovery With Andy': {'update_size': 15, 'id': 'UC6lYCOXS4Rxo9xpKS1My32A', 'title': 'Discovery With Andy', 'quality': '1080', 'last_size': 30, 'media': 'm4a'}, '冲浪普拉斯': {'update_size': 15, 'id': 'UCZNxe_9FQAK2Z3suwaZlwpQ', 'title': '冲浪普拉斯', 'quality': '1080', 'last_size': 30, 'media': 'm4a'}, '老高與小茉 Mr & Mrs Gao': {'update_size': 15, 'id': 'UCMUnInmOkrWN4gof9KlhNmQ', 'title': '老高與小茉 Mr & Mrs Gao', 'quality': '1080', 'last_size': 30, 'media': 'm4a'}, '脑洞乌托邦': {'update_size': 15, 'id': 'UC2tQpW0dPiyWPebwBSksJ_g', 'title': '脑洞乌托邦', 'quality': '1080', 'last_size': 30, 'media': 'm4a'}, '啾啾鞋': {'update_size': 15, 'id': 'UCIF_gt4BfsWyM_2GOcKXyEQ', 'title': '啾啾鞋', 'quality': '1080', 'last_size': 30, 'media': 'm4a'}, '幻海航行--science fiction': {'update_size': 15, 'id': 'UCp1nO1bgVwks9b5EhKQGVag', 'title': '幻海航行--science fiction', 'quality': '1080', 'last_size': 30, 'media': 'm4a'}, '红酒汤姆一世': {'update_size': 15, 'id': 'UCJT6M5j-HT-76ts0eTzZtJw', 'title': '红酒汤姆一世', 'quality': '1080', 'last_size': 30, 'media': 'm4a'}, 'X調查': {'update_size': 15, 'id': 'UCOyshL6rKK1GqwoEfy_ehBg', 'title': 'X調查', 'quality': '1080', 'last_size': 30, 'media': 'm4a'}, '海伦子Hellen': {'update_size': 15, 'id': 'UCneG8p_dRmZZ_xFFCv7jfJw', 'title': '海伦子Hellen', 'quality': '1080', 'last_size': 30, 'media': 'm4a'}, '你可敢信': {'update_size': 15, 'id': 'UC2lbb8vjQR64C6gHqD0_4OA', 'title': '你可敢信', 'quality': '1080', 'last_size': 30, 'media': 'm4a'}, '曉涵哥來了': {'update_size': 15, 'id': 'UCvoBl4rnVsetDKA_Tdk-jeA', 'title': '曉涵哥來了', 'quality': '1080', 'last_size': 30, 'media': 'm4a'}, '自说自话的总裁': {'update_size': 15, 'id': 'UCgo_-fjJxnLwwwq5dSY72rg', 'title': '自说自话的总裁', 'quality': '1080', 'last_size': 30, 'media': 'm4a'}, '林亦LYi': {'update_size': 15, 'id': 'UC4dtpugIYK56S_7btf5a-iQ', 'title': '林亦LYi', 'quality': '1080', 'last_size': 30, 'media': 'm4a'}, '小乌副频道': {'update_size': 15, 'id': 'UCQvvVtUqtGxqSLixdeG75Uw', 'title': '小乌副频道', 'quality': '1080', 'last_size': 30, 'media': 'm4a'}}\n"
     ]
    }
   ],
   "source": [
    "channel_list = {\n",
    "    \"科学火箭叔\": \"UC8dD8v_uIA7aRzpqaCoIHKg\",\n",
    "    \"stone pistol\": \"UCmOVUFkam162EJ48KfQaIyg\",\n",
    "    \"奇异博士说\": \"UCVaMMNaYvjmskreBR4dM7rg\",\n",
    "    \"科技美学\": \"UCAC204niCVvtDRDFYSiK7Cg\",\n",
    "    \"stone记\": \"UCghLs6s95LrBWOdlZUCH4qw\",\n",
    "    \"Linvo說宇宙\": \"UCjHCBI7CNqQwzuaiDtCAQmA\",\n",
    "    \"四季妈妈—小龙\": \"UC3elWG-AxVvIF2_xPQb1rkQ\",\n",
    "    \"Discovery With Andy\": \"UC6lYCOXS4Rxo9xpKS1My32A\",\n",
    "    \"冲浪普拉斯\": \"UCZNxe_9FQAK2Z3suwaZlwpQ\",\n",
    "    \"老高與小茉 Mr & Mrs Gao\": \"UCMUnInmOkrWN4gof9KlhNmQ\",\n",
    "    \"脑洞乌托邦\": \"UC2tQpW0dPiyWPebwBSksJ_g\",\n",
    "    \"啾啾鞋\": \"UCIF_gt4BfsWyM_2GOcKXyEQ\",\n",
    "    \"幻海航行--science fiction\": \"UCp1nO1bgVwks9b5EhKQGVag\",\n",
    "    \"红酒汤姆一世\": \"UCJT6M5j-HT-76ts0eTzZtJw\",\n",
    "    \"X調查\": \"UCOyshL6rKK1GqwoEfy_ehBg\",\n",
    "    \"海伦子Hellen\": \"UCneG8p_dRmZZ_xFFCv7jfJw\",\n",
    "    \"你可敢信\": \"UC2lbb8vjQR64C6gHqD0_4OA\",\n",
    "    \"曉涵哥來了\": \"UCvoBl4rnVsetDKA_Tdk-jeA\",\n",
    "    \"自说自话的总裁\": \"UCgo_-fjJxnLwwwq5dSY72rg\",\n",
    "    \"林亦LYi\": \"UC4dtpugIYK56S_7btf5a-iQ\",\n",
    "    \"小乌副频道\": \"UCQvvVtUqtGxqSLixdeG75Uw\"\n",
    "}\n",
    "\n",
    "output = {\n",
    "    \"YouTube\": {\n",
    "        \"update_size\": 15,\n",
    "        \"id\": \"UCBR8-60-B28hp2BmDPdntcQ\",\n",
    "        \"title\": \"YouTube\",\n",
    "        \"quality\": \"1080\",\n",
    "        \"last_size\": 30,\n",
    "        \"media\": \"m4a\"\n",
    "    }\n",
    "}\n",
    "\n",
    "for channel, channelId in channel_list.items():\n",
    "    output[channel] = {\n",
    "        \"update_size\": 15,\n",
    "        \"id\": channelId,\n",
    "        \"title\": channel,\n",
    "        \"quality\": \"1080\",\n",
    "        \"last_size\": 30,\n",
    "        \"media\": \"m4a\"\n",
    "    }\n",
    "\n",
    "print(output)\n"
   ]
  },
  {
   "cell_type": "code",
   "execution_count": 5,
   "metadata": {},
   "outputs": [
    {
     "name": "stdout",
     "output_type": "stream",
     "text": [
      "{'key1': 'value2', 'key2': 'value3'}\n"
     ]
    }
   ],
   "source": [
    "my_dict = {'key1': 'value1', 'key1': 'value2', 'key2': 'value3'}\n",
    "\n"
   ]
  },
  {
   "cell_type": "code",
   "execution_count": 9,
   "metadata": {},
   "outputs": [
    {
     "name": "stdout",
     "output_type": "stream",
     "text": [
      "{'key1': 'value2', 'key2': 'value3'}\n"
     ]
    }
   ],
   "source": [
    "def dict_exclude_repeat(dict):\n",
    "    dict_new = {}\n",
    "    for key, value in dict.items():\n",
    "        if key not in dict_new:\n",
    "            dict_new[key] = value\n",
    "    return dict_new\n",
    "            \n",
    "print(dict_exclude_repeat(my_dict))"
   ]
  },
  {
   "cell_type": "code",
   "execution_count": 3,
   "metadata": {},
   "outputs": [
    {
     "name": "stdout",
     "output_type": "stream",
     "text": [
      "key1value1\n",
      "key2value4\n",
      "key3value5\n",
      "{'key1': 'value1', 'key2': 'value4', 'key3': 'value5'}\n",
      "{'key1': 'value1', 'key2': 'value4', 'key3': 'value5'}\n"
     ]
    }
   ],
   "source": [
    "def dict_exclude_repeat(my_dict):\n",
    "    dict_new = {}\n",
    "    for key, value in my_dict.items():\n",
    "        if key not in dict_new:\n",
    "            dict_new[key] = value\n",
    "        print(key+value)\n",
    "    return dict_new\n",
    "\n",
    "my_dict = {'key1': 'value1', 'key2': 'value2', 'key3': 'value3', 'key2': 'value4', 'key3': 'value5'}\n",
    "\n",
    "new_dict = dict_exclude_repeat(my_dict)\n",
    "print(new_dict)\n",
    "print(my_dict)"
   ]
  },
  {
   "cell_type": "code",
   "execution_count": 3,
   "metadata": {},
   "outputs": [
    {
     "name": "stdout",
     "output_type": "stream",
     "text": [
      "[youtube] Extracting URL: https://www.youtube.com/watch?v=HcMr1gG0iho\n",
      "[youtube] HcMr1gG0iho: Downloading webpage\n",
      "[youtube] HcMr1gG0iho: Downloading ios player API JSON\n",
      "[youtube] HcMr1gG0iho: Downloading android player API JSON\n",
      "[youtube] HcMr1gG0iho: Downloading m3u8 information\n",
      "True\n"
     ]
    }
   ],
   "source": [
    "import yt_dlp\n",
    "\n",
    "def video_duration(video_url):\n",
    "    try:\n",
    "        # 创建yt-dlp实例\n",
    "        ydl = yt_dlp.YoutubeDL({'ignoreerrors': True})\n",
    "        if info_dict := ydl.extract_info(\n",
    "            f\"https://www.youtube.com/watch?v={video_url}\", download=False\n",
    "        ):\n",
    "            # 获取视频时长并回显\n",
    "            return info_dict.get('duration')\n",
    "    except Exception as e:\n",
    "        print((f\"{video_url}下载失败，错误信息：{str(e)}\").replace(\"ERROR: \", \"\").replace(f\"{video_url}: \", \"\"))\n",
    "\n",
    "\n",
    "\n",
    "import subprocess\n",
    "import re\n",
    "\n",
    "def get_duration_ffprobe(file_path):\n",
    "    try:\n",
    "        command = [\n",
    "            \"ffprobe\",\n",
    "            \"-i\", file_path,\n",
    "            \"-show_entries\", \"format=duration\",\n",
    "            \"-v\", \"error\",\n",
    "            \"-of\", \"default=noprint_wrappers=1:nokey=1\"\n",
    "        ]\n",
    "        output = subprocess.check_output(command, stderr=subprocess.STDOUT).decode(\"utf-8\")\n",
    "        return round(float(output))\n",
    "    except subprocess.CalledProcessError as e:\n",
    "        print(f\"Error: {e.output}\")\n",
    "        return None\n",
    "\n",
    "\n",
    "if video_duration(\"HcMr1gG0iho\") == get_duration_ffprobe(\"UCghLs6s95LrBWOdlZUCH4qw/HcMr1gG0iho.m4a\"):\n",
    "    print(\"True\")\n",
    "\n"
   ]
  },
  {
   "cell_type": "code",
   "execution_count": 3,
   "metadata": {},
   "outputs": [],
   "source": [
    "a=0\n",
    "b=2\n",
    "d = None\n",
    "while a < b and d:\n",
    "    a =+ 1\n",
    "    print(a)"
   ]
  },
  {
   "cell_type": "code",
   "execution_count": 9,
   "metadata": {},
   "outputs": [],
   "source": [
    "import xml.etree.ElementTree as ET\n",
    "\n",
    "# 创建元素对象\n",
    "rss = ET.Element('rss')\n",
    "rss.set('version', '2.0')\n",
    "rss.set('xmlns:itunes', 'http://www.itunes.com/dtds/podcast-1.0.dtd')\n",
    "\n",
    "channel = ET.SubElement(rss, 'channel')\n",
    "\n",
    "title = ET.SubElement(channel, 'title')\n",
    "title.text = 'YouTube'\n",
    "\n",
    "link = ET.SubElement(channel, 'link')\n",
    "link.text = 'https://m.youtube.com'\n",
    "\n",
    "description = ET.SubElement(channel, 'description')\n",
    "description.text = '在YouTube 上畅享您喜爱的视频和音乐，上传原创内容并与亲朋好友和全世界观众分享您的视频。'\n",
    "\n",
    "category = ET.SubElement(channel, 'category')\n",
    "category.text = 'TV & Film'\n",
    "\n",
    "generator = ET.SubElement(channel, 'generator')\n",
    "generator.text = 'Podsync generator (support us at https://github.com/mxpv/podsync)'\n",
    "\n",
    "language = ET.SubElement(channel, 'language')\n",
    "language.text = 'en-us'\n",
    "\n",
    "lastBuildDate = ET.SubElement(channel, 'lastBuildDate')\n",
    "lastBuildDate.text = 'Wed, 30 Aug 2023 05:39:32 +0800'\n",
    "\n",
    "pubDate = ET.SubElement(channel, 'pubDate')\n",
    "pubDate.text = 'Sun, 24 Apr 2005 11:20:54 +0800'\n",
    "\n",
    "image = ET.SubElement(channel, 'image')\n",
    "image_url = ET.SubElement(image, 'url')\n",
    "image_url.text = 'https://static.vecteezy.com/system/resources/previews/003/399/771/original/youtube-icon-editorial-free-vector.jpg'\n",
    "image_title = ET.SubElement(image, 'title')\n",
    "image_title.text = 'YouTube'\n",
    "image_link = ET.SubElement(image, 'link')\n",
    "image_link.text = 'https://m.youtube.com'\n",
    "\n",
    "itunes_author = ET.SubElement(channel, 'itunes:author')\n",
    "itunes_author.text = 'YouTube'\n",
    "\n",
    "itunes_subtitle = ET.SubElement(channel, 'itunes:subtitle')\n",
    "itunes_subtitle.text = 'YouTube'\n",
    "\n",
    "itunes_summary = ET.SubElement(channel, 'itunes:summary')\n",
    "itunes_summary.text = '在YouTube 上畅享您喜爱的视频和音乐，上传原创内容并与亲朋好友和全世界观众分享您的视频。'\n",
    "\n",
    "itunes_image = ET.SubElement(channel, 'itunes:image')\n",
    "itunes_image.set('href', 'https://static.vecteezy.com/system/resources/previews/003/399/771/original/youtube-icon-editorial-free-vector.jpg')\n",
    "\n",
    "itunes_explicit = ET.SubElement(channel, 'itunes:explicit')\n",
    "itunes_explicit.text = 'no'\n",
    "\n",
    "itunes_category = ET.SubElement(channel, 'itunes:category')\n",
    "itunes_category.set('text', 'TV & Film')\n",
    "\n",
    "# 将XML写入文件或以其他方式使用\n",
    "tree = ET.ElementTree(rss)\n",
    "tree.write('example.xml', encoding='utf-8', xml_declaration=True)\n"
   ]
  },
  {
   "cell_type": "code",
   "execution_count": 11,
   "metadata": {},
   "outputs": [
    {
     "name": "stdout",
     "output_type": "stream",
     "text": [
      "<rss version=\"2.0\" xmlns:itunes=\"http://www.itunes.com/dtds/podcast-1.0.dtd\"><channel><title>YouTube</title><link>https://m.youtube.com</link><description>在YouTube 上畅享您喜爱的视频和音乐，上传原创内容并与亲朋好友和全世界观众分享您的视频。</description><category>TV &amp; Film</category><generator>Podsync generator (support us at https://github.com/mxpv/podsync)</generator><language>en-us</language><lastBuildDate>Wed, 30 Aug 2023 05:39:32 +0800</lastBuildDate><pubDate>Sun, 24 Apr 2005 11:20:54 +0800</pubDate><image><url>https://static.vecteezy.com/system/resources/previews/003/399/771/original/youtube-icon-editorial-free-vector.jpg</url><title>YouTube</title><link>https://m.youtube.com</link></image><itunes:author>YouTube</itunes:author><itunes:subtitle>YouTube</itunes:subtitle><itunes:summary>在YouTube 上畅享您喜爱的视频和音乐，上传原创内容并与亲朋好友和全世界观众分享您的视频。</itunes:summary><itunes:image href=\"https://static.vecteezy.com/system/resources/previews/003/399/771/original/youtube-icon-editorial-free-vector.jpg\" /><itunes:explicit>no</itunes:explicit><itunes:category text=\"TV &amp; Film\" /></channel></rss>\n"
     ]
    }
   ],
   "source": [
    "xml_string = ET.tostring(rss, encoding=\"utf-8\", method=\"xml\").decode()\n",
    "print(xml_string)"
   ]
  },
  {
   "cell_type": "code",
   "execution_count": 3,
   "metadata": {},
   "outputs": [
    {
     "name": "stdout",
     "output_type": "stream",
     "text": [
      "Fri, 01 Sep 2023 06:16:53 +0000\n"
     ]
    }
   ],
   "source": [
    "import time\n",
    "# 获取当前时间\n",
    "current_time_now = time.time()  # 获取当前时间的秒数\n",
    "# 获取当前时区和夏令时信息\n",
    "time_info_now = time.localtime(current_time_now)\n",
    "timezone_offset_now = time.timezone\n",
    "dst_offset_now = time.daylight\n",
    "# 计算时区偏移量\n",
    "total_offset_now = timezone_offset_now + dst_offset_now\n",
    "# 构造时间字符串\n",
    "formatted_time_now = time.strftime('%a, %d %b %Y %H:%M:%S %z', time_info_now)\n",
    "\n",
    "print(formatted_time_now)\n",
    "\n"
   ]
  },
  {
   "cell_type": "code",
   "execution_count": 7,
   "metadata": {},
   "outputs": [
    {
     "name": "stdout",
     "output_type": "stream",
     "text": [
      "https://i3.ytimg.com/vi/6hIWTOmbt8c/hqdefault.jpg\n"
     ]
    }
   ],
   "source": [
    "import re\n",
    "entry = ''' <entry>\n",
    "  <id>yt:video:6hIWTOmbt8c</id>\n",
    "  <yt:videoId>6hIWTOmbt8c</yt:videoId>\n",
    "  <yt:channelId>UC3elWG-AxVvIF2_xPQb1rkQ</yt:channelId>\n",
    "  <title>东北最宝贵的不是人参鹿茸和皮草，而是温暖的人情#爱吐槽的四季妈妈 #家庭吐槽大会</title>\n",
    "  <link rel=\"alternate\" href=\"https://www.youtube.com/watch?v=6hIWTOmbt8c\"/>\n",
    "  <author>\n",
    "   <name>四季妈妈—小龙</name>\n",
    "   <uri>https://www.youtube.com/channel/UC3elWG-AxVvIF2_xPQb1rkQ</uri>\n",
    "  </author>\n",
    "  <published>2023-09-03T02:06:11+00:00</published>\n",
    "  <updated>2023-09-03T08:16:57+00:00</updated>\n",
    "  <media:group>\n",
    "   <media:title>东北最宝贵的不是人参鹿茸和皮草，而是温暖的人情#爱吐槽的四季妈妈 #家庭吐槽大会</media:title>\n",
    "   <media:content url=\"https://www.youtube.com/v/6hIWTOmbt8c?version=3\" type=\"application/x-shockwave-flash\" width=\"640\" height=\"390\"/>\n",
    "   <media:thumbnail url=\"https://i3.ytimg.com/vi/6hIWTOmbt8c/hqdefault.jpg\" width=\"480\" height=\"360\"/>\n",
    "   <media:description>东北最宝贵的不是人参鹿茸和皮草，而是温暖的人情#爱吐槽的四季妈妈 #家庭吐槽大会</media:description>\n",
    "   <media:community>\n",
    "    <media:starRating count=\"6\" average=\"5.00\" min=\"1\" max=\"5\"/>\n",
    "    <media:statistics views=\"294\"/>\n",
    "   </media:community>\n",
    "  </media:group>\n",
    " </entry>'''\n",
    "\n",
    "print(re.search(r\"(?<=<media:thumbnail url=\\\").+(?=\\\" width=\\\")\", entry).group())"
   ]
  },
  {
   "cell_type": "code",
   "execution_count": 4,
   "metadata": {},
   "outputs": [
    {
     "name": "stdout",
     "output_type": "stream",
     "text": [
      "5\n"
     ]
    }
   ],
   "source": [
    "a = [1,2,3,4,5,6,7,8,9,10]\n",
    "b = 0\n",
    "while b < 5:\n",
    "    print(a[b])\n",
    "    b =+ 1"
   ]
  },
  {
   "cell_type": "code",
   "execution_count": 5,
   "metadata": {},
   "outputs": [],
   "source": [
    "import re\n",
    "import subprocess\n",
    "\n",
    "def library_install(package_name):\n",
    "    try:\n",
    "        print(re.search(r\"(?<=Version\\: ).+\", subprocess.run([\"pip\", \"show\", package_name], capture_output=True, text=True).stdout).group())\n",
    "        is_package_installed = True\n",
    "    except subprocess.CalledProcessError:\n",
    "        is_package_installed = False\n",
    "    if is_package_installed:\n",
    "        print(f\"Updating {package_name}\")\n",
    "        subprocess.run([\"pip\", \"install\", \"--upgrade\", package_name], capture_output=True, text=True)\n",
    "        print(f\"{package_name} 更新成功\")\n",
    "    else:\n",
    "        print(f\"Installing {package_name}\")\n",
    "        subprocess.run([\"pip\", \"install\", package_name], capture_output=True, text=True)\n",
    "        print(f\"{package_name} 安装成功\")"
   ]
  },
  {
   "cell_type": "code",
   "execution_count": 6,
   "metadata": {},
   "outputs": [
    {
     "ename": "NameError",
     "evalue": "name 'datetime' is not defined",
     "output_type": "error",
     "traceback": [
      "\u001b[0;31m---------------------------------------------------------------------------\u001b[0m",
      "\u001b[0;31mNameError\u001b[0m                                 Traceback (most recent call last)",
      "\u001b[1;32m/workspaces/podflow/Podflow-text.ipynb Cell 31\u001b[0m line \u001b[0;36m1\n\u001b[0;32m----> <a href='vscode-notebook-cell://codespaces%2Bcurly-robot-p79vrp6v5rrhrwxx/workspaces/podflow/Podflow-text.ipynb#X42sdnNjb2RlLXJlbW90ZQ%3D%3D?line=0'>1</a>\u001b[0m library_install(\u001b[39m\"\u001b[39;49m\u001b[39myt-dlp\u001b[39;49m\u001b[39m\"\u001b[39;49m)\n",
      "\u001b[1;32m/workspaces/podflow/Podflow-text.ipynb Cell 31\u001b[0m line \u001b[0;36m3\n\u001b[1;32m     <a href='vscode-notebook-cell://codespaces%2Bcurly-robot-p79vrp6v5rrhrwxx/workspaces/podflow/Podflow-text.ipynb#X42sdnNjb2RlLXJlbW90ZQ%3D%3D?line=28'>29</a>\u001b[0m \u001b[39mtry\u001b[39;00m:\n\u001b[1;32m     <a href='vscode-notebook-cell://codespaces%2Bcurly-robot-p79vrp6v5rrhrwxx/workspaces/podflow/Podflow-text.ipynb#X42sdnNjb2RlLXJlbW90ZQ%3D%3D?line=29'>30</a>\u001b[0m     pip_show \u001b[39m=\u001b[39m subprocess\u001b[39m.\u001b[39mrun([\u001b[39m\"\u001b[39m\u001b[39mpip\u001b[39m\u001b[39m\"\u001b[39m, \u001b[39m\"\u001b[39m\u001b[39mshow\u001b[39m\u001b[39m\"\u001b[39m, library], capture_output\u001b[39m=\u001b[39m\u001b[39mTrue\u001b[39;00m, text\u001b[39m=\u001b[39m\u001b[39mTrue\u001b[39;00m)\n\u001b[0;32m---> <a href='vscode-notebook-cell://codespaces%2Bcurly-robot-p79vrp6v5rrhrwxx/workspaces/podflow/Podflow-text.ipynb#X42sdnNjb2RlLXJlbW90ZQ%3D%3D?line=30'>31</a>\u001b[0m     write_log(\u001b[39mf\u001b[39;49m\u001b[39m\"\u001b[39;49m\u001b[39m{\u001b[39;49;00mlibrary\u001b[39m}\u001b[39;49;00m\u001b[39m已安装\u001b[39;49m\u001b[39m\"\u001b[39;49m)\n\u001b[1;32m     <a href='vscode-notebook-cell://codespaces%2Bcurly-robot-p79vrp6v5rrhrwxx/workspaces/podflow/Podflow-text.ipynb#X42sdnNjb2RlLXJlbW90ZQ%3D%3D?line=32'>33</a>\u001b[0m     \u001b[39mtry\u001b[39;00m:\n\u001b[1;32m     <a href='vscode-notebook-cell://codespaces%2Bcurly-robot-p79vrp6v5rrhrwxx/workspaces/podflow/Podflow-text.ipynb#X42sdnNjb2RlLXJlbW90ZQ%3D%3D?line=33'>34</a>\u001b[0m         subprocess\u001b[39m.\u001b[39mrun([\u001b[39m'\u001b[39m\u001b[39mpip\u001b[39m\u001b[39m'\u001b[39m, \u001b[39m'\u001b[39m\u001b[39minstall\u001b[39m\u001b[39m'\u001b[39m, \u001b[39m'\u001b[39m\u001b[39m--upgrade\u001b[39m\u001b[39m'\u001b[39m, library], capture_output\u001b[39m=\u001b[39m\u001b[39mTrue\u001b[39;00m, text\u001b[39m=\u001b[39m\u001b[39mTrue\u001b[39;00m)\n",
      "\u001b[1;32m/workspaces/podflow/Podflow-text.ipynb Cell 31\u001b[0m line \u001b[0;36m4\n\u001b[1;32m      <a href='vscode-notebook-cell://codespaces%2Bcurly-robot-p79vrp6v5rrhrwxx/workspaces/podflow/Podflow-text.ipynb#X42sdnNjb2RlLXJlbW90ZQ%3D%3D?line=1'>2</a>\u001b[0m \u001b[39mdef\u001b[39;00m \u001b[39mwrite_log\u001b[39m(log, suffix\u001b[39m=\u001b[39m\u001b[39mNone\u001b[39;00m):\n\u001b[1;32m      <a href='vscode-notebook-cell://codespaces%2Bcurly-robot-p79vrp6v5rrhrwxx/workspaces/podflow/Podflow-text.ipynb#X42sdnNjb2RlLXJlbW90ZQ%3D%3D?line=2'>3</a>\u001b[0m     \u001b[39m# 获取当前的具体时间\u001b[39;00m\n\u001b[0;32m----> <a href='vscode-notebook-cell://codespaces%2Bcurly-robot-p79vrp6v5rrhrwxx/workspaces/podflow/Podflow-text.ipynb#X42sdnNjb2RlLXJlbW90ZQ%3D%3D?line=3'>4</a>\u001b[0m     current_time \u001b[39m=\u001b[39m datetime\u001b[39m.\u001b[39mnow()\n\u001b[1;32m      <a href='vscode-notebook-cell://codespaces%2Bcurly-robot-p79vrp6v5rrhrwxx/workspaces/podflow/Podflow-text.ipynb#X42sdnNjb2RlLXJlbW90ZQ%3D%3D?line=4'>5</a>\u001b[0m     \u001b[39m# 格式化输出, 只保留年月日时分秒\u001b[39;00m\n\u001b[1;32m      <a href='vscode-notebook-cell://codespaces%2Bcurly-robot-p79vrp6v5rrhrwxx/workspaces/podflow/Podflow-text.ipynb#X42sdnNjb2RlLXJlbW90ZQ%3D%3D?line=5'>6</a>\u001b[0m     formatted_time \u001b[39m=\u001b[39m current_time\u001b[39m.\u001b[39mstrftime(\u001b[39m\"\u001b[39m\u001b[39m%\u001b[39m\u001b[39mY-\u001b[39m\u001b[39m%\u001b[39m\u001b[39mm-\u001b[39m\u001b[39m%d\u001b[39;00m\u001b[39m \u001b[39m\u001b[39m%\u001b[39m\u001b[39mH:\u001b[39m\u001b[39m%\u001b[39m\u001b[39mM:\u001b[39m\u001b[39m%\u001b[39m\u001b[39mS\u001b[39m\u001b[39m\"\u001b[39m)\n",
      "\u001b[0;31mNameError\u001b[0m: name 'datetime' is not defined"
     ]
    }
   ],
   "source": [
    "library_install(\"yt-dlp\")"
   ]
  },
  {
   "cell_type": "code",
   "execution_count": 2,
   "metadata": {},
   "outputs": [
    {
     "name": "stdout",
     "output_type": "stream",
     "text": [
      "2\n"
     ]
    }
   ],
   "source": [
    "f = \"\"\n",
    "if not f:\n",
    "    print(\"2\")"
   ]
  },
  {
   "cell_type": "code",
   "execution_count": 1,
   "metadata": {},
   "outputs": [],
   "source": [
    "import yt_dlp\n",
    "# 下载视频模块\n",
    "def download_video(video_url, output_dir, output_format, video_website, format_code=480, output_dir_name=\"\"):\n",
    "    if output_dir_name:\n",
    "        video_write_log = f\"{output_dir_name}|{video_url}\"\n",
    "    else:\n",
    "        video_write_log = video_url\n",
    "    if output_format == 'm4a':\n",
    "        format_out = \"bestaudio[ext=m4a]/best\"   # 音频编码\n",
    "    else:\n",
    "        format_out = f'bestvideo[ext=mp4][height<={format_code}]+bestaudio[ext=m4a]/best'  # 视频编码\n",
    "    ydl_opts = {\n",
    "        'outtmpl': f'{output_dir}/{video_url}.{output_format}',  # 输出文件路径和名称\n",
    "        'format': f'{format_out}',  # 指定下载的最佳音频和视频格式\n",
    "        \"quiet\": True,\n",
    "        \"no_warnings\": True,\n",
    "        \"noprogress\": True,\n",
    "        \"progress_hooks\": [show_progress],\n",
    "        \"postprocessor_hooks\": [format_processing],\n",
    "    }\n",
    "    try:\n",
    "        with yt_dlp.YoutubeDL(ydl_opts) as ydl:\n",
    "            ydl.download([f'{video_website}{video_url}'])  # 下载指定视频链接的视频\n",
    "        print(f\"{video_write_log}下载成功\")  # 写入下载成功的日志信息\n",
    "    except Exception as e:\n",
    "        print((f\"{video_write_log}下载失败, 错误信息：{str(e)}\").replace(\"ERROR: \", \"\").replace(f\"{video_url}: \", \"\"))  # 写入下载失败的日志信息\n",
    "        return video_url\n",
    "    \n",
    "\n",
    "\n",
    "def format_processing(process_stream):\n",
    "    if process_stream[\"status\"] == \"started\":\n",
    "        print(f'\\rProcessing', end=\"\")\n",
    "    elif process_stream[\"status\"] == \"finished\":\n",
    "        print(f'\\x1b[1K\\rProcessed')\n",
    "    return\n",
    "\n"
   ]
  },
  {
   "cell_type": "code",
   "execution_count": 3,
   "metadata": {},
   "outputs": [],
   "source": [
    "def show_progress(data_stream):\n",
    "    print(f\"\\r{data_stream}\", end=\"\")"
   ]
  },
  {
   "cell_type": "code",
   "execution_count": 3,
   "metadata": {},
   "outputs": [],
   "source": [
    "# 文本整形模块\n",
    "def shap(text, text_size):\n",
    "    if isinstance(text_size, int) and text_size> 0:\n",
    "        text = text.strip()\n",
    "        return text if len(text) > text_size else f\"{text:>{text_size}}\"\n",
    "    else:\n",
    "        text = text.strip()\n",
    "        text_size = text_size.strip()\n",
    "        bit = len(text_size)\n",
    "        if len(text) > bit:\n",
    "            return f\"{text}/{text_size}\"\n",
    "        else:\n",
    "            return f\"{text:>{bit}}/{text_size}\"\n",
    "\n",
    "# 下载显示模块\n",
    "def show_progress(data_stream):\n",
    "    percent_str = shap(data_stream['_percent_str'], 5)\n",
    "    if '_total_bytes_estimate_str' in data_stream:\n",
    "        if '_downloaded_bytes_str' in data_stream:\n",
    "            downloaded_bytes_str = shap(data_stream['_downloaded_bytes_str'], data_stream['_total_bytes_estimate_str'])\n",
    "        else:\n",
    "            downloaded_bytes_str = shap(data_stream['_total_bytes_estimate_str'], data_stream['_total_bytes_estimate_str'])\n",
    "    else:\n",
    "        downloaded_bytes_str = shap(data_stream['_total_bytes_str'], data_stream['_total_bytes_str'])\n",
    "    speed_str = data_stream['_speed_str'].strip()\n",
    "    if '_eta_str' in data_stream:\n",
    "        eta_str = shap(data_stream['_eta_str'].strip(), 5)\n",
    "        print((f\"\\r{f'{percent_str}|{downloaded_bytes_str}|{eta_str}|{speed_str}':<44}\")[:44],end=\"\")\n",
    "    else:\n",
    "        eta_str = data_stream['_elapsed_str'].strip()\n",
    "        if eta_str[:3] == \"00:\":\n",
    "            eta_str = eta_str[-5:]\n",
    "        print((f\"\\r{f'{percent_str}|{downloaded_bytes_str}|{eta_str}|{speed_str}':<44}\")[:44],end=\"\")\n",
    "        print(f\"\\r{data_stream}\",end=\"\")\n",
    "        print(\"\")\n",
    "    "
   ]
  },
  {
   "cell_type": "code",
   "execution_count": 4,
   "metadata": {},
   "outputs": [
    {
     "name": "stdout",
     "output_type": "stream",
     "text": [
      "{'downloaded_bytes': 46085613, 'total_bytes': 46085613, 'filename': 'channel_id/2sc5uUDzigA.f606.mp4', 'status': 'finished', 'elapsed': 6.138696908950806, 'ctx_id': None, 'max_progress': None, 'progress_idx': None, 'info_dict': {'id': '2sc5uUDzigA', 'title': '立法不可能特别具体，最高法院释宪也是按照意识形态瞎解释（20230909第6313期）', 'formats': [{'format_id': 'sb2', 'format_note': 'storyboard', 'ext': 'mhtml', 'protocol': 'mhtml', 'acodec': 'none', 'vcodec': 'none', 'url': 'https://i.ytimg.com/sb/2sc5uUDzigA/storyboard3_L0/default.jpg?sqp=-oaymwENSDfyq4qpAwVwAcABBqLzl_8DBgjK0vCnBg==&sigh=rs$AOn4CLDAQhIWhK8MoJN2NNkziN-ayYbs4g', 'width': 48, 'height': 27, 'fps': 0.06207324643078833, 'rows': 10, 'columns': 10, 'fragments': [{'url': 'https://i.ytimg.com/sb/2sc5uUDzigA/storyboard3_L0/default.jpg?sqp=-oaymwENSDfyq4qpAwVwAcABBqLzl_8DBgjK0vCnBg==&sigh=rs$AOn4CLDAQhIWhK8MoJN2NNkziN-ayYbs4g', 'duration': 1611.0}], 'resolution': '48x27', 'aspect_ratio': 1.78, 'http_headers': {'User-Agent': 'Mozilla/5.0 (Windows NT 10.0; Win64; x64) AppleWebKit/537.36 (KHTML, like Gecko) Chrome/93.0.4577.82 Safari/537.36', 'Accept': 'text/html,application/xhtml+xml,application/xml;q=0.9,*/*;q=0.8', 'Accept-Language': 'en-us,en;q=0.5', 'Sec-Fetch-Mode': 'navigate'}, 'audio_ext': 'none', 'video_ext': 'none', 'vbr': 0, 'abr': 0, 'tbr': None, 'format': 'sb2 - 48x27 (storyboard)'}, {'format_id': 'sb1', 'format_note': 'storyboard', 'ext': 'mhtml', 'protocol': 'mhtml', 'acodec': 'none', 'vcodec': 'none', 'url': 'https://i.ytimg.com/sb/2sc5uUDzigA/storyboard3_L1/M$M.jpg?sqp=-oaymwENSDfyq4qpAwVwAcABBqLzl_8DBgjK0vCnBg==&sigh=rs$AOn4CLDctQJ04wxWmljT74rwjkj4pDms8w', 'width': 80, 'height': 45, 'fps': 0.10117939168218498, 'rows': 10, 'columns': 10, 'fragments': [{'url': 'https://i.ytimg.com/sb/2sc5uUDzigA/storyboard3_L1/M0.jpg?sqp=-oaymwENSDfyq4qpAwVwAcABBqLzl_8DBgjK0vCnBg==&sigh=rs$AOn4CLDctQJ04wxWmljT74rwjkj4pDms8w', 'duration': 988.3435582822086}, {'url': 'https://i.ytimg.com/sb/2sc5uUDzigA/storyboard3_L1/M1.jpg?sqp=-oaymwENSDfyq4qpAwVwAcABBqLzl_8DBgjK0vCnBg==&sigh=rs$AOn4CLDctQJ04wxWmljT74rwjkj4pDms8w', 'duration': 622.6564417177914}], 'resolution': '80x45', 'aspect_ratio': 1.78, 'http_headers': {'User-Agent': 'Mozilla/5.0 (Windows NT 10.0; Win64; x64) AppleWebKit/537.36 (KHTML, like Gecko) Chrome/93.0.4577.82 Safari/537.36', 'Accept': 'text/html,application/xhtml+xml,application/xml;q=0.9,*/*;q=0.8', 'Accept-Language': 'en-us,en;q=0.5', 'Sec-Fetch-Mode': 'navigate'}, 'audio_ext': 'none', 'video_ext': 'none', 'vbr': 0, 'abr': 0, 'tbr': None, 'format': 'sb1 - 80x45 (storyboard)'}, {'format_id': 'sb0', 'format_note': 'storyboard', 'ext': 'mhtml', 'protocol': 'mhtml', 'acodec': 'none', 'vcodec': 'none', 'url': 'https://i.ytimg.com/sb/2sc5uUDzigA/storyboard3_L2/M$M.jpg?sqp=-oaymwENSDfyq4qpAwVwAcABBqLzl_8DBgjK0vCnBg==&sigh=rs$AOn4CLB5_onyvuX0NenWgtOn1B0P7i6xAw', 'width': 160, 'height': 90, 'fps': 0.10117939168218498, 'rows': 5, 'columns': 5, 'fragments': [{'url': 'https://i.ytimg.com/sb/2sc5uUDzigA/storyboard3_L2/M0.jpg?sqp=-oaymwENSDfyq4qpAwVwAcABBqLzl_8DBgjK0vCnBg==&sigh=rs$AOn4CLB5_onyvuX0NenWgtOn1B0P7i6xAw', 'duration': 247.08588957055215}, {'url': 'https://i.ytimg.com/sb/2sc5uUDzigA/storyboard3_L2/M1.jpg?sqp=-oaymwENSDfyq4qpAwVwAcABBqLzl_8DBgjK0vCnBg==&sigh=rs$AOn4CLB5_onyvuX0NenWgtOn1B0P7i6xAw', 'duration': 247.08588957055215}, {'url': 'https://i.ytimg.com/sb/2sc5uUDzigA/storyboard3_L2/M2.jpg?sqp=-oaymwENSDfyq4qpAwVwAcABBqLzl_8DBgjK0vCnBg==&sigh=rs$AOn4CLB5_onyvuX0NenWgtOn1B0P7i6xAw', 'duration': 247.08588957055215}, {'url': 'https://i.ytimg.com/sb/2sc5uUDzigA/storyboard3_L2/M3.jpg?sqp=-oaymwENSDfyq4qpAwVwAcABBqLzl_8DBgjK0vCnBg==&sigh=rs$AOn4CLB5_onyvuX0NenWgtOn1B0P7i6xAw', 'duration': 247.08588957055215}, {'url': 'https://i.ytimg.com/sb/2sc5uUDzigA/storyboard3_L2/M4.jpg?sqp=-oaymwENSDfyq4qpAwVwAcABBqLzl_8DBgjK0vCnBg==&sigh=rs$AOn4CLB5_onyvuX0NenWgtOn1B0P7i6xAw', 'duration': 247.08588957055215}, {'url': 'https://i.ytimg.com/sb/2sc5uUDzigA/storyboard3_L2/M5.jpg?sqp=-oaymwENSDfyq4qpAwVwAcABBqLzl_8DBgjK0vCnBg==&sigh=rs$AOn4CLB5_onyvuX0NenWgtOn1B0P7i6xAw', 'duration': 247.08588957055215}, {'url': 'https://i.ytimg.com/sb/2sc5uUDzigA/storyboard3_L2/M6.jpg?sqp=-oaymwENSDfyq4qpAwVwAcABBqLzl_8DBgjK0vCnBg==&sigh=rs$AOn4CLB5_onyvuX0NenWgtOn1B0P7i6xAw', 'duration': 128.48466257668701}], 'resolution': '160x90', 'aspect_ratio': 1.78, 'http_headers': {'User-Agent': 'Mozilla/5.0 (Windows NT 10.0; Win64; x64) AppleWebKit/537.36 (KHTML, like Gecko) Chrome/93.0.4577.82 Safari/537.36', 'Accept': 'text/html,application/xhtml+xml,application/xml;q=0.9,*/*;q=0.8', 'Accept-Language': 'en-us,en;q=0.5', 'Sec-Fetch-Mode': 'navigate'}, 'audio_ext': 'none', 'video_ext': 'none', 'vbr': 0, 'abr': 0, 'tbr': None, 'format': 'sb0 - 160x90 (storyboard)'}, {'format_id': '233', 'format_note': 'Default', 'format_index': None, 'url': 'https://manifest.googlevideo.com/api/manifest/hls_playlist/expire/1694786272/ei/gA4EZY3wHcHartoPz-yLyAE/ip/20.212.112.73/id/dac739b940f38a00/itag/233/source/youtube/requiressl/yes/ratebypass/yes/pfa/1/goi/133/sgoap/clen%3D9822146%3Bdur%3D1610.628%3Bgir%3Dyes%3Bitag%3D139%3Blmt%3D1694607334234091/hls_chunk_host/rr1---sn-npoe7nz7.googlevideo.com/mh/Z9/mm/31,29/mn/sn-npoe7nz7,sn-npoeened/ms/au,rdu/mv/m/mvi/1/pl/16/initcwndbps/1103750/vprv/1/playlist_type/DVR/dover/13/txp/4432434/mt/1694764169/fvip/4/short_key/1/keepalive/yes/fexp/24007246/sparams/expire,ei,ip,id,itag,source,requiressl,ratebypass,pfa,goi,sgoap,vprv,playlist_type/sig/AOq0QJ8wRQIhAK5hw81S_GzFtR0JRbEgaePqPvkDmkHIP8uK8ffW9ThEAiB6cSDHm78KoZ4OwC_zO-0m_7n4QtESXHGdLUAjJjk35A%3D%3D/lsparams/hls_chunk_host,mh,mm,mn,ms,mv,mvi,pl,initcwndbps/lsig/AG3C_xAwRQIgbx1Gfk4P-PEpvTCpesHteVVjxxXg159mR0HBfpMq1P0CIQCnNfBaJ1AYZsZSpxWRue9g4qOLhWs44vmkVwOxX2ZBwQ%3D%3D/playlist/index.m3u8', 'manifest_url': 'https://manifest.googlevideo.com/api/manifest/hls_variant/expire/1694786272/ei/gA4EZY3wHcHartoPz-yLyAE/ip/20.212.112.73/id/dac739b940f38a00/source/youtube/requiressl/yes/playback_host/rr1---sn-npoe7nz7.googlevideo.com/mh/Z9/mm/31%2C29/mn/sn-npoe7nz7%2Csn-npoeened/ms/au%2Crdu/mv/m/mvi/1/pl/16/hfr/1/demuxed/1/tts_caps/1/maudio/1/initcwndbps/1103750/vprv/1/go/1/mt/1694764169/fvip/4/nvgoi/1/short_key/1/ncsapi/1/keepalive/yes/fexp/24007246/dover/13/itag/0/playlist_type/DVR/sparams/expire%2Cei%2Cip%2Cid%2Csource%2Crequiressl%2Chfr%2Cdemuxed%2Ctts_caps%2Cmaudio%2Cvprv%2Cgo%2Citag%2Cplaylist_type/sig/AOq0QJ8wRAIgK7OOitr4NLG49nfZIb9HUYoA64I-ykeg2et4dZWkwPgCIALStm_cMpzbxhgnWCg-BkWGB51VzKn7b87kyCE-nV27/lsparams/playback_host%2Cmh%2Cmm%2Cmn%2Cms%2Cmv%2Cmvi%2Cpl%2Cinitcwndbps/lsig/AG3C_xAwRQIgZ16N34RwfohRQtI6aKFBYkq63kjihR97-36w2vhQFOYCIQDgaxRcx9fPsj49Iwq-fVBiqyClp8zH-8NpyCxrVdnwMA%3D%3D/file/index.m3u8', 'language': None, 'ext': 'mp4', 'protocol': 'm3u8_native', 'preference': None, 'quality': -1, 'has_drm': False, 'vcodec': 'none', 'source_preference': -1, 'resolution': 'audio only', 'aspect_ratio': None, 'http_headers': {'User-Agent': 'Mozilla/5.0 (Windows NT 10.0; Win64; x64) AppleWebKit/537.36 (KHTML, like Gecko) Chrome/93.0.4577.82 Safari/537.36', 'Accept': 'text/html,application/xhtml+xml,application/xml;q=0.9,*/*;q=0.8', 'Accept-Language': 'en-us,en;q=0.5', 'Sec-Fetch-Mode': 'navigate'}, 'audio_ext': 'mp4', 'video_ext': 'none', 'vbr': 0, 'abr': None, 'tbr': None, 'format': '233 - audio only (Default)'}, {'format_id': '234', 'format_note': 'Default', 'format_index': None, 'url': 'https://manifest.googlevideo.com/api/manifest/hls_playlist/expire/1694786272/ei/gA4EZY3wHcHartoPz-yLyAE/ip/20.212.112.73/id/dac739b940f38a00/itag/234/source/youtube/requiressl/yes/ratebypass/yes/pfa/1/goi/133/sgoap/clen%3D26065848%3Bdur%3D1610.559%3Bgir%3Dyes%3Bitag%3D140%3Blmt%3D1694607391242903/hls_chunk_host/rr1---sn-npoe7nz7.googlevideo.com/mh/Z9/mm/31,29/mn/sn-npoe7nz7,sn-npoeened/ms/au,rdu/mv/m/mvi/1/pl/16/initcwndbps/1103750/vprv/1/playlist_type/DVR/dover/13/txp/4432434/mt/1694764169/fvip/4/short_key/1/keepalive/yes/fexp/24007246/sparams/expire,ei,ip,id,itag,source,requiressl,ratebypass,pfa,goi,sgoap,vprv,playlist_type/sig/AOq0QJ8wRQIgO70Xu7Kw6-Z-ZulufJy1yQA0cPD7Qu6QZub5Ssv4wRQCIQCmDTga131g6nbJ5x20jdDNog0ZLK01qCexpykv1ZB8ZQ%3D%3D/lsparams/hls_chunk_host,mh,mm,mn,ms,mv,mvi,pl,initcwndbps/lsig/AG3C_xAwRQIhAPANqg5UD5jDBFxLk7xzh6H5OqH3sdWQuKz9pIl9aUUaAiBPxOFlmyqgtk2DF7cxaF35d_C3z4NvOQKYLww2vpcyQw%3D%3D/playlist/index.m3u8', 'manifest_url': 'https://manifest.googlevideo.com/api/manifest/hls_variant/expire/1694786272/ei/gA4EZY3wHcHartoPz-yLyAE/ip/20.212.112.73/id/dac739b940f38a00/source/youtube/requiressl/yes/playback_host/rr1---sn-npoe7nz7.googlevideo.com/mh/Z9/mm/31%2C29/mn/sn-npoe7nz7%2Csn-npoeened/ms/au%2Crdu/mv/m/mvi/1/pl/16/hfr/1/demuxed/1/tts_caps/1/maudio/1/initcwndbps/1103750/vprv/1/go/1/mt/1694764169/fvip/4/nvgoi/1/short_key/1/ncsapi/1/keepalive/yes/fexp/24007246/dover/13/itag/0/playlist_type/DVR/sparams/expire%2Cei%2Cip%2Cid%2Csource%2Crequiressl%2Chfr%2Cdemuxed%2Ctts_caps%2Cmaudio%2Cvprv%2Cgo%2Citag%2Cplaylist_type/sig/AOq0QJ8wRAIgK7OOitr4NLG49nfZIb9HUYoA64I-ykeg2et4dZWkwPgCIALStm_cMpzbxhgnWCg-BkWGB51VzKn7b87kyCE-nV27/lsparams/playback_host%2Cmh%2Cmm%2Cmn%2Cms%2Cmv%2Cmvi%2Cpl%2Cinitcwndbps/lsig/AG3C_xAwRQIgZ16N34RwfohRQtI6aKFBYkq63kjihR97-36w2vhQFOYCIQDgaxRcx9fPsj49Iwq-fVBiqyClp8zH-8NpyCxrVdnwMA%3D%3D/file/index.m3u8', 'language': None, 'ext': 'mp4', 'protocol': 'm3u8_native', 'preference': None, 'quality': -1, 'has_drm': False, 'vcodec': 'none', 'source_preference': -1, 'resolution': 'audio only', 'aspect_ratio': None, 'http_headers': {'User-Agent': 'Mozilla/5.0 (Windows NT 10.0; Win64; x64) AppleWebKit/537.36 (KHTML, like Gecko) Chrome/93.0.4577.82 Safari/537.36', 'Accept': 'text/html,application/xhtml+xml,application/xml;q=0.9,*/*;q=0.8', 'Accept-Language': 'en-us,en;q=0.5', 'Sec-Fetch-Mode': 'navigate'}, 'audio_ext': 'mp4', 'video_ext': 'none', 'vbr': 0, 'abr': None, 'tbr': None, 'format': '234 - audio only (Default)'}, {'asr': 22050, 'filesize': 6198446, 'format_id': '599', 'format_note': 'ultralow', 'source_preference': -1, 'fps': None, 'audio_channels': 2, 'height': None, 'quality': 1.0, 'has_drm': False, 'tbr': 30.787, 'url': 'https://rr4---sn-npoeened.googlevideo.com/videoplayback?expire=1694786272&ei=gA4EZdXMJIuwjuMPx-O94As&ip=20.212.112.73&id=o-ADMVGdiG6HdKd9m-nm7LGgqLsAe9W1-udsnl31OtdxVS&itag=599&source=youtube&requiressl=yes&mh=Z9&mm=31%2C29&mn=sn-npoeened%2Csn-npoe7nz7&ms=au%2Crdu&mv=m&mvi=4&pl=16&initcwndbps=1581250&spc=UWF9f-HzrqeTu_MrdVA10nynXimw5cA&vprv=1&svpuc=1&mime=audio%2Fmp4&gir=yes&clen=6198446&dur=1610.628&lmt=1694607176106074&mt=1694764169&fvip=1&keepalive=yes&fexp=24007246%2C24362685&c=ANDROID&txp=4432434&sparams=expire%2Cei%2Cip%2Cid%2Citag%2Csource%2Crequiressl%2Cspc%2Cvprv%2Csvpuc%2Cmime%2Cgir%2Cclen%2Cdur%2Clmt&sig=AOq0QJ8wRQIgBWhRUTQa85vX8eoyocGscOwdj0E5BP0e9zp19rekCWgCIQDkzHQNbEdW3RTigLl_EhZEAaSqzWUUlKX23hqQyKnCDg%3D%3D&lsparams=mh%2Cmm%2Cmn%2Cms%2Cmv%2Cmvi%2Cpl%2Cinitcwndbps&lsig=AG3C_xAwRgIhAPRX5ybN8thISVhAZHPLocEdl3d233TLuH9mdDh3bnk8AiEAhPiG4dSfOeuCqPGGZayv7lfm6w9ps32FpRkmeF3Zxbo%3D', 'width': None, 'language': None, 'language_preference': -1, 'preference': None, 'ext': 'm4a', 'vcodec': 'none', 'acodec': 'mp4a.40.5', 'dynamic_range': None, 'container': 'm4a_dash', 'downloader_options': {'http_chunk_size': 10485760}, 'protocol': 'https', 'resolution': 'audio only', 'aspect_ratio': None, 'http_headers': {'User-Agent': 'Mozilla/5.0 (Windows NT 10.0; Win64; x64) AppleWebKit/537.36 (KHTML, like Gecko) Chrome/93.0.4577.82 Safari/537.36', 'Accept': 'text/html,application/xhtml+xml,application/xml;q=0.9,*/*;q=0.8', 'Accept-Language': 'en-us,en;q=0.5', 'Sec-Fetch-Mode': 'navigate'}, 'audio_ext': 'm4a', 'video_ext': 'none', 'vbr': 0, 'abr': 30.787, 'format': '599 - audio only (ultralow)'}, {'asr': 48000, 'filesize': 6919146, 'format_id': '600', 'format_note': 'ultralow', 'source_preference': -1, 'fps': None, 'audio_channels': 2, 'height': None, 'quality': 1.0, 'has_drm': False, 'tbr': 34.369, 'url': 'https://rr4---sn-npoeened.googlevideo.com/videoplayback?expire=1694786272&ei=gA4EZdXMJIuwjuMPx-O94As&ip=20.212.112.73&id=o-ADMVGdiG6HdKd9m-nm7LGgqLsAe9W1-udsnl31OtdxVS&itag=600&source=youtube&requiressl=yes&mh=Z9&mm=31%2C29&mn=sn-npoeened%2Csn-npoe7nz7&ms=au%2Crdu&mv=m&mvi=4&pl=16&initcwndbps=1581250&spc=UWF9f-HzrqeTu_MrdVA10nynXimw5cA&vprv=1&svpuc=1&mime=audio%2Fwebm&gir=yes&clen=6919146&dur=1610.521&lmt=1694463554317204&mt=1694764169&fvip=1&keepalive=yes&fexp=24007246%2C24362685&c=ANDROID&txp=4432434&sparams=expire%2Cei%2Cip%2Cid%2Citag%2Csource%2Crequiressl%2Cspc%2Cvprv%2Csvpuc%2Cmime%2Cgir%2Cclen%2Cdur%2Clmt&sig=AOq0QJ8wRgIhAJg-TifHx4MP7K4nvv-FaW-WHVxmRQLz5FKJ5v8eKwXqAiEA_WINzn68eRPnLT14J3KWqIBDCmuRQpQsXdp9ykUSXvc%3D&lsparams=mh%2Cmm%2Cmn%2Cms%2Cmv%2Cmvi%2Cpl%2Cinitcwndbps&lsig=AG3C_xAwRgIhAPRX5ybN8thISVhAZHPLocEdl3d233TLuH9mdDh3bnk8AiEAhPiG4dSfOeuCqPGGZayv7lfm6w9ps32FpRkmeF3Zxbo%3D', 'width': None, 'language': None, 'language_preference': -1, 'preference': None, 'ext': 'webm', 'vcodec': 'none', 'acodec': 'opus', 'dynamic_range': None, 'container': 'webm_dash', 'downloader_options': {'http_chunk_size': 10485760}, 'protocol': 'https', 'resolution': 'audio only', 'aspect_ratio': None, 'http_headers': {'User-Agent': 'Mozilla/5.0 (Windows NT 10.0; Win64; x64) AppleWebKit/537.36 (KHTML, like Gecko) Chrome/93.0.4577.82 Safari/537.36', 'Accept': 'text/html,application/xhtml+xml,application/xml;q=0.9,*/*;q=0.8', 'Accept-Language': 'en-us,en;q=0.5', 'Sec-Fetch-Mode': 'navigate'}, 'audio_ext': 'webm', 'video_ext': 'none', 'vbr': 0, 'abr': 34.369, 'format': '600 - audio only (ultralow)'}, {'asr': 22050, 'filesize': 9822146, 'format_id': '139', 'format_note': 'low', 'source_preference': -1, 'fps': None, 'audio_channels': 2, 'height': None, 'quality': 2.0, 'has_drm': False, 'tbr': 48.786, 'url': 'https://rr1---sn-npoe7nz7.googlevideo.com/videoplayback?expire=1694786272&ei=gA4EZY3wHcHartoPz-yLyAE&ip=20.212.112.73&id=o-ACShWkNmBJlhKPX4vzkow_l6TCT12C-n11mPh7NKr9Sz&itag=139&source=youtube&requiressl=yes&mh=Z9&mm=31%2C29&mn=sn-npoe7nz7%2Csn-npoeened&ms=au%2Crdu&mv=m&mvi=1&pl=16&initcwndbps=1103750&vprv=1&svpuc=1&mime=audio%2Fmp4&gir=yes&clen=9822146&dur=1610.628&lmt=1694607334234091&mt=1694764169&fvip=4&keepalive=yes&fexp=24007246&c=IOS&txp=4432434&sparams=expire%2Cei%2Cip%2Cid%2Citag%2Csource%2Crequiressl%2Cvprv%2Csvpuc%2Cmime%2Cgir%2Cclen%2Cdur%2Clmt&sig=AOq0QJ8wRQIgdshIJE_olwLd-4eaWJFkrQtnaH3fBqp_AjcuFa8kIWgCIQCd-Qs97qKlmaeQ5f8mzFoiZg3lf9dY9MXuqOoVaBmo2A%3D%3D&lsparams=mh%2Cmm%2Cmn%2Cms%2Cmv%2Cmvi%2Cpl%2Cinitcwndbps&lsig=AG3C_xAwRgIhAIOs2_-bS64okoF2zxOBYpuoKOBpEYbtamz0MH88uul5AiEA5kyllkxNY05Um3npD7EVm_Jz-dBRU-lEIMmz0IoPH5U%3D', 'width': None, 'language': None, 'language_preference': -1, 'preference': None, 'ext': 'm4a', 'vcodec': 'none', 'acodec': 'mp4a.40.5', 'dynamic_range': None, 'container': 'm4a_dash', 'downloader_options': {'http_chunk_size': 10485760}, 'protocol': 'https', 'resolution': 'audio only', 'aspect_ratio': None, 'http_headers': {'User-Agent': 'Mozilla/5.0 (Windows NT 10.0; Win64; x64) AppleWebKit/537.36 (KHTML, like Gecko) Chrome/93.0.4577.82 Safari/537.36', 'Accept': 'text/html,application/xhtml+xml,application/xml;q=0.9,*/*;q=0.8', 'Accept-Language': 'en-us,en;q=0.5', 'Sec-Fetch-Mode': 'navigate'}, 'audio_ext': 'm4a', 'video_ext': 'none', 'vbr': 0, 'abr': 48.786, 'format': '139 - audio only (low)'}, {'asr': 48000, 'filesize': 10174573, 'format_id': '249', 'format_note': 'low', 'source_preference': -1, 'fps': None, 'audio_channels': 2, 'height': None, 'quality': 2.0, 'has_drm': False, 'tbr': 50.54, 'url': 'https://rr4---sn-npoeened.googlevideo.com/videoplayback?expire=1694786272&ei=gA4EZdXMJIuwjuMPx-O94As&ip=20.212.112.73&id=o-ADMVGdiG6HdKd9m-nm7LGgqLsAe9W1-udsnl31OtdxVS&itag=249&source=youtube&requiressl=yes&mh=Z9&mm=31%2C29&mn=sn-npoeened%2Csn-npoe7nz7&ms=au%2Crdu&mv=m&mvi=4&pl=16&initcwndbps=1581250&spc=UWF9f-HzrqeTu_MrdVA10nynXimw5cA&vprv=1&svpuc=1&mime=audio%2Fwebm&gir=yes&clen=10174573&dur=1610.521&lmt=1694463554315428&mt=1694764169&fvip=1&keepalive=yes&fexp=24007246%2C24362685&c=ANDROID&txp=4432434&sparams=expire%2Cei%2Cip%2Cid%2Citag%2Csource%2Crequiressl%2Cspc%2Cvprv%2Csvpuc%2Cmime%2Cgir%2Cclen%2Cdur%2Clmt&sig=AOq0QJ8wRQIgVOfr9BYiAk0G9EYh_lymIMlzmIMsaQBOqQ3yCw1E-FwCIQCfSOjO4j526xe-X12-r5FvPekgv13gFCUotzavAnCUDQ%3D%3D&lsparams=mh%2Cmm%2Cmn%2Cms%2Cmv%2Cmvi%2Cpl%2Cinitcwndbps&lsig=AG3C_xAwRgIhAPRX5ybN8thISVhAZHPLocEdl3d233TLuH9mdDh3bnk8AiEAhPiG4dSfOeuCqPGGZayv7lfm6w9ps32FpRkmeF3Zxbo%3D', 'width': None, 'language': None, 'language_preference': -1, 'preference': None, 'ext': 'webm', 'vcodec': 'none', 'acodec': 'opus', 'dynamic_range': None, 'container': 'webm_dash', 'downloader_options': {'http_chunk_size': 10485760}, 'protocol': 'https', 'resolution': 'audio only', 'aspect_ratio': None, 'http_headers': {'User-Agent': 'Mozilla/5.0 (Windows NT 10.0; Win64; x64) AppleWebKit/537.36 (KHTML, like Gecko) Chrome/93.0.4577.82 Safari/537.36', 'Accept': 'text/html,application/xhtml+xml,application/xml;q=0.9,*/*;q=0.8', 'Accept-Language': 'en-us,en;q=0.5', 'Sec-Fetch-Mode': 'navigate'}, 'audio_ext': 'webm', 'video_ext': 'none', 'vbr': 0, 'abr': 50.54, 'format': '249 - audio only (low)'}, {'asr': 48000, 'filesize': 11307650, 'format_id': '250', 'format_note': 'low', 'source_preference': -1, 'fps': None, 'audio_channels': 2, 'height': None, 'quality': 2.0, 'has_drm': False, 'tbr': 56.168, 'url': 'https://rr4---sn-npoeened.googlevideo.com/videoplayback?expire=1694786272&ei=gA4EZdXMJIuwjuMPx-O94As&ip=20.212.112.73&id=o-ADMVGdiG6HdKd9m-nm7LGgqLsAe9W1-udsnl31OtdxVS&itag=250&source=youtube&requiressl=yes&mh=Z9&mm=31%2C29&mn=sn-npoeened%2Csn-npoe7nz7&ms=au%2Crdu&mv=m&mvi=4&pl=16&initcwndbps=1581250&spc=UWF9f-HzrqeTu_MrdVA10nynXimw5cA&vprv=1&svpuc=1&mime=audio%2Fwebm&gir=yes&clen=11307650&dur=1610.521&lmt=1694463554333880&mt=1694764169&fvip=1&keepalive=yes&fexp=24007246%2C24362685&c=ANDROID&txp=4432434&sparams=expire%2Cei%2Cip%2Cid%2Citag%2Csource%2Crequiressl%2Cspc%2Cvprv%2Csvpuc%2Cmime%2Cgir%2Cclen%2Cdur%2Clmt&sig=AOq0QJ8wRAIgaHncHkjJ_E_lzDqDDI6yxrEoSZBjXfNKPAX0JwJpWfICIAFCHi6LMUujUtx-4sG8tKKj_CFFvf6Krph0OAvvXfM1&lsparams=mh%2Cmm%2Cmn%2Cms%2Cmv%2Cmvi%2Cpl%2Cinitcwndbps&lsig=AG3C_xAwRgIhAPRX5ybN8thISVhAZHPLocEdl3d233TLuH9mdDh3bnk8AiEAhPiG4dSfOeuCqPGGZayv7lfm6w9ps32FpRkmeF3Zxbo%3D', 'width': None, 'language': None, 'language_preference': -1, 'preference': None, 'ext': 'webm', 'vcodec': 'none', 'acodec': 'opus', 'dynamic_range': None, 'container': 'webm_dash', 'downloader_options': {'http_chunk_size': 10485760}, 'protocol': 'https', 'resolution': 'audio only', 'aspect_ratio': None, 'http_headers': {'User-Agent': 'Mozilla/5.0 (Windows NT 10.0; Win64; x64) AppleWebKit/537.36 (KHTML, like Gecko) Chrome/93.0.4577.82 Safari/537.36', 'Accept': 'text/html,application/xhtml+xml,application/xml;q=0.9,*/*;q=0.8', 'Accept-Language': 'en-us,en;q=0.5', 'Sec-Fetch-Mode': 'navigate'}, 'audio_ext': 'webm', 'video_ext': 'none', 'vbr': 0, 'abr': 56.168, 'format': '250 - audio only (low)'}, {'asr': 44100, 'filesize': 26065848, 'format_id': '140', 'format_note': 'medium', 'source_preference': -1, 'fps': None, 'audio_channels': 2, 'height': None, 'quality': 3.0, 'has_drm': False, 'tbr': 129.474, 'url': 'https://rr1---sn-npoe7nz7.googlevideo.com/videoplayback?expire=1694786272&ei=gA4EZY3wHcHartoPz-yLyAE&ip=20.212.112.73&id=o-ACShWkNmBJlhKPX4vzkow_l6TCT12C-n11mPh7NKr9Sz&itag=140&source=youtube&requiressl=yes&mh=Z9&mm=31%2C29&mn=sn-npoe7nz7%2Csn-npoeened&ms=au%2Crdu&mv=m&mvi=1&pl=16&initcwndbps=1103750&vprv=1&svpuc=1&mime=audio%2Fmp4&gir=yes&clen=26065848&dur=1610.559&lmt=1694607391242903&mt=1694764169&fvip=4&keepalive=yes&fexp=24007246&c=IOS&txp=4432434&sparams=expire%2Cei%2Cip%2Cid%2Citag%2Csource%2Crequiressl%2Cvprv%2Csvpuc%2Cmime%2Cgir%2Cclen%2Cdur%2Clmt&sig=AOq0QJ8wRQIgCLUPzb3mcueCDlFyoR_HYQgEWoUZNbcRZKTfFhOsdiICIQCkq4rYRrnLRk29NzHkGI9F5RxvnMxPsL2elRRBqDvOdw%3D%3D&lsparams=mh%2Cmm%2Cmn%2Cms%2Cmv%2Cmvi%2Cpl%2Cinitcwndbps&lsig=AG3C_xAwRgIhAIOs2_-bS64okoF2zxOBYpuoKOBpEYbtamz0MH88uul5AiEA5kyllkxNY05Um3npD7EVm_Jz-dBRU-lEIMmz0IoPH5U%3D', 'width': None, 'language': None, 'language_preference': -1, 'preference': None, 'ext': 'm4a', 'vcodec': 'none', 'acodec': 'mp4a.40.2', 'dynamic_range': None, 'container': 'm4a_dash', 'downloader_options': {'http_chunk_size': 10485760}, 'protocol': 'https', 'resolution': 'audio only', 'aspect_ratio': None, 'http_headers': {'User-Agent': 'Mozilla/5.0 (Windows NT 10.0; Win64; x64) AppleWebKit/537.36 (KHTML, like Gecko) Chrome/93.0.4577.82 Safari/537.36', 'Accept': 'text/html,application/xhtml+xml,application/xml;q=0.9,*/*;q=0.8', 'Accept-Language': 'en-us,en;q=0.5', 'Sec-Fetch-Mode': 'navigate'}, 'audio_ext': 'm4a', 'video_ext': 'none', 'vbr': 0, 'abr': 129.474, 'format': '140 - audio only (medium)'}, {'asr': 48000, 'filesize': 20636377, 'format_id': '251', 'format_note': 'medium', 'source_preference': -1, 'fps': None, 'audio_channels': 2, 'height': None, 'quality': 3.0, 'has_drm': False, 'tbr': 102.507, 'url': 'https://rr4---sn-npoeened.googlevideo.com/videoplayback?expire=1694786272&ei=gA4EZdXMJIuwjuMPx-O94As&ip=20.212.112.73&id=o-ADMVGdiG6HdKd9m-nm7LGgqLsAe9W1-udsnl31OtdxVS&itag=251&source=youtube&requiressl=yes&mh=Z9&mm=31%2C29&mn=sn-npoeened%2Csn-npoe7nz7&ms=au%2Crdu&mv=m&mvi=4&pl=16&initcwndbps=1581250&spc=UWF9f-HzrqeTu_MrdVA10nynXimw5cA&vprv=1&svpuc=1&mime=audio%2Fwebm&gir=yes&clen=20636377&dur=1610.521&lmt=1694463554220151&mt=1694764169&fvip=1&keepalive=yes&fexp=24007246%2C24362685&c=ANDROID&txp=4432434&sparams=expire%2Cei%2Cip%2Cid%2Citag%2Csource%2Crequiressl%2Cspc%2Cvprv%2Csvpuc%2Cmime%2Cgir%2Cclen%2Cdur%2Clmt&sig=AOq0QJ8wRgIhAMGwzxsf-dhCZT8dCpxjYijbL8tqEnY3A8bvepwFlrRnAiEAmABk3FGhw17XNsFTA36FWxEwl6QqP0pafBhLM-fomGE%3D&lsparams=mh%2Cmm%2Cmn%2Cms%2Cmv%2Cmvi%2Cpl%2Cinitcwndbps&lsig=AG3C_xAwRgIhAPRX5ybN8thISVhAZHPLocEdl3d233TLuH9mdDh3bnk8AiEAhPiG4dSfOeuCqPGGZayv7lfm6w9ps32FpRkmeF3Zxbo%3D', 'width': None, 'language': None, 'language_preference': -1, 'preference': None, 'ext': 'webm', 'vcodec': 'none', 'acodec': 'opus', 'dynamic_range': None, 'container': 'webm_dash', 'downloader_options': {'http_chunk_size': 10485760}, 'protocol': 'https', 'resolution': 'audio only', 'aspect_ratio': None, 'http_headers': {'User-Agent': 'Mozilla/5.0 (Windows NT 10.0; Win64; x64) AppleWebKit/537.36 (KHTML, like Gecko) Chrome/93.0.4577.82 Safari/537.36', 'Accept': 'text/html,application/xhtml+xml,application/xml;q=0.9,*/*;q=0.8', 'Accept-Language': 'en-us,en;q=0.5', 'Sec-Fetch-Mode': 'navigate'}, 'audio_ext': 'webm', 'video_ext': 'none', 'vbr': 0, 'abr': 102.507, 'format': '251 - audio only (medium)'}, {'asr': 22050, 'filesize': 15823053, 'format_id': '17', 'format_note': '144p', 'source_preference': -1, 'fps': 8, 'audio_channels': 1, 'height': 144, 'quality': 0.0, 'has_drm': False, 'tbr': 78.593, 'url': 'https://rr4---sn-npoeened.googlevideo.com/videoplayback?expire=1694786272&ei=gA4EZdXMJIuwjuMPx-O94As&ip=20.212.112.73&id=o-ADMVGdiG6HdKd9m-nm7LGgqLsAe9W1-udsnl31OtdxVS&itag=17&source=youtube&requiressl=yes&mh=Z9&mm=31%2C29&mn=sn-npoeened%2Csn-npoe7nz7&ms=au%2Crdu&mv=m&mvi=4&pl=16&initcwndbps=1581250&spc=UWF9f-HzrqeTu_MrdVA10nynXimw5cA&vprv=1&svpuc=1&mime=video%2F3gpp&gir=yes&clen=15823053&dur=1610.628&lmt=1694476294737754&mt=1694764169&fvip=1&fexp=24007246%2C24362685&c=ANDROID&txp=4432434&sparams=expire%2Cei%2Cip%2Cid%2Citag%2Csource%2Crequiressl%2Cspc%2Cvprv%2Csvpuc%2Cmime%2Cgir%2Cclen%2Cdur%2Clmt&sig=AOq0QJ8wRAIgC3YtouYPa2n89rod_Nc3Qkj7PWxh49kmktsyao8T7DoCIGwQIZ5QRV-wvyYwElt-hEktd3UayFRASIJcHZbHdd6z&lsparams=mh%2Cmm%2Cmn%2Cms%2Cmv%2Cmvi%2Cpl%2Cinitcwndbps&lsig=AG3C_xAwRgIhAPRX5ybN8thISVhAZHPLocEdl3d233TLuH9mdDh3bnk8AiEAhPiG4dSfOeuCqPGGZayv7lfm6w9ps32FpRkmeF3Zxbo%3D', 'width': 176, 'language': None, 'language_preference': -1, 'preference': -2, 'ext': '3gp', 'vcodec': 'mp4v.20.3', 'acodec': 'mp4a.40.2', 'dynamic_range': 'SDR', 'downloader_options': {'http_chunk_size': 10485760}, 'protocol': 'https', 'resolution': '176x144', 'aspect_ratio': 1.22, 'http_headers': {'User-Agent': 'Mozilla/5.0 (Windows NT 10.0; Win64; x64) AppleWebKit/537.36 (KHTML, like Gecko) Chrome/93.0.4577.82 Safari/537.36', 'Accept': 'text/html,application/xhtml+xml,application/xml;q=0.9,*/*;q=0.8', 'Accept-Language': 'en-us,en;q=0.5', 'Sec-Fetch-Mode': 'navigate'}, 'video_ext': '3gp', 'audio_ext': 'none', 'vbr': None, 'abr': None, 'format': '17 - 176x144 (144p)'}, {'asr': None, 'filesize': 6058809, 'format_id': '597', 'format_note': '144p', 'source_preference': -1, 'fps': 15, 'audio_channels': None, 'height': 144, 'quality': 0.0, 'has_drm': False, 'tbr': 30.097, 'url': 'https://rr4---sn-npoeened.googlevideo.com/videoplayback?expire=1694786272&ei=gA4EZdXMJIuwjuMPx-O94As&ip=20.212.112.73&id=o-ADMVGdiG6HdKd9m-nm7LGgqLsAe9W1-udsnl31OtdxVS&itag=597&source=youtube&requiressl=yes&mh=Z9&mm=31%2C29&mn=sn-npoeened%2Csn-npoe7nz7&ms=au%2Crdu&mv=m&mvi=4&pl=16&initcwndbps=1581250&spc=UWF9f-HzrqeTu_MrdVA10nynXimw5cA&vprv=1&svpuc=1&mime=video%2Fmp4&gir=yes&clen=6058809&dur=1610.475&lmt=1694616992139148&mt=1694764169&fvip=1&keepalive=yes&fexp=24007246%2C24362685&c=ANDROID&txp=4432434&sparams=expire%2Cei%2Cip%2Cid%2Citag%2Csource%2Crequiressl%2Cspc%2Cvprv%2Csvpuc%2Cmime%2Cgir%2Cclen%2Cdur%2Clmt&sig=AOq0QJ8wRQIgI5-0MOqt_CHKiYvGoUDVYl9YVkUkmvkH5jludzLGPn4CIQD5eKayQ0tp1OI7vupRQq5T-ZA5XeX1bKTtzutFxRIsSA%3D%3D&lsparams=mh%2Cmm%2Cmn%2Cms%2Cmv%2Cmvi%2Cpl%2Cinitcwndbps&lsig=AG3C_xAwRgIhAPRX5ybN8thISVhAZHPLocEdl3d233TLuH9mdDh3bnk8AiEAhPiG4dSfOeuCqPGGZayv7lfm6w9ps32FpRkmeF3Zxbo%3D', 'width': 256, 'language': None, 'language_preference': -1, 'preference': None, 'ext': 'mp4', 'vcodec': 'avc1.4d400b', 'acodec': 'none', 'dynamic_range': 'SDR', 'container': 'mp4_dash', 'downloader_options': {'http_chunk_size': 10485760}, 'protocol': 'https', 'resolution': '256x144', 'aspect_ratio': 1.78, 'http_headers': {'User-Agent': 'Mozilla/5.0 (Windows NT 10.0; Win64; x64) AppleWebKit/537.36 (KHTML, like Gecko) Chrome/93.0.4577.82 Safari/537.36', 'Accept': 'text/html,application/xhtml+xml,application/xml;q=0.9,*/*;q=0.8', 'Accept-Language': 'en-us,en;q=0.5', 'Sec-Fetch-Mode': 'navigate'}, 'video_ext': 'mp4', 'audio_ext': 'none', 'abr': 0, 'vbr': 30.097, 'format': '597 - 256x144 (144p)'}, {'format_id': '602', 'format_index': None, 'url': 'https://manifest.googlevideo.com/api/manifest/hls_playlist/expire/1694786272/ei/gA4EZY3wHcHartoPz-yLyAE/ip/20.212.112.73/id/dac739b940f38a00/itag/602/source/youtube/requiressl/yes/ratebypass/yes/pfa/1/wft/1/sgovp/clen%3D4262212%3Bdur%3D1610.508%3Bgir%3Dyes%3Bitag%3D598%3Blmt%3D1694476299062049/hls_chunk_host/rr1---sn-npoe7nz7.googlevideo.com/mh/Z9/mm/31,29/mn/sn-npoe7nz7,sn-npoeened/ms/au,rdu/mv/m/mvi/1/pl/16/initcwndbps/1103750/vprv/1/playlist_type/DVR/dover/13/txp/4432434/mt/1694764169/fvip/4/short_key/1/keepalive/yes/fexp/24007246/sparams/expire,ei,ip,id,itag,source,requiressl,ratebypass,pfa,wft,sgovp,vprv,playlist_type/sig/AOq0QJ8wRgIhAMqGU5WEvcUiQoiG1YwXcK4CKoXSm1jl2F72jQnlxf_-AiEAugiPgMRAvqpnFY9jE5Rjoz4hQSrECqc24Oi8baLXV7I%3D/lsparams/hls_chunk_host,mh,mm,mn,ms,mv,mvi,pl,initcwndbps/lsig/AG3C_xAwRQIhAJ__muVyvCCnb3jb-jfGvWQjxs2YltFXl4t4YuRWo_UkAiAoHcXQ8oQcUG9PXRdLQhzoxey5dJE35MBqC1FGkgmmHg%3D%3D/playlist/index.m3u8', 'manifest_url': 'https://manifest.googlevideo.com/api/manifest/hls_variant/expire/1694786272/ei/gA4EZY3wHcHartoPz-yLyAE/ip/20.212.112.73/id/dac739b940f38a00/source/youtube/requiressl/yes/playback_host/rr1---sn-npoe7nz7.googlevideo.com/mh/Z9/mm/31%2C29/mn/sn-npoe7nz7%2Csn-npoeened/ms/au%2Crdu/mv/m/mvi/1/pl/16/hfr/1/demuxed/1/tts_caps/1/maudio/1/initcwndbps/1103750/vprv/1/go/1/mt/1694764169/fvip/4/nvgoi/1/short_key/1/ncsapi/1/keepalive/yes/fexp/24007246/dover/13/itag/0/playlist_type/DVR/sparams/expire%2Cei%2Cip%2Cid%2Csource%2Crequiressl%2Chfr%2Cdemuxed%2Ctts_caps%2Cmaudio%2Cvprv%2Cgo%2Citag%2Cplaylist_type/sig/AOq0QJ8wRAIgK7OOitr4NLG49nfZIb9HUYoA64I-ykeg2et4dZWkwPgCIALStm_cMpzbxhgnWCg-BkWGB51VzKn7b87kyCE-nV27/lsparams/playback_host%2Cmh%2Cmm%2Cmn%2Cms%2Cmv%2Cmvi%2Cpl%2Cinitcwndbps/lsig/AG3C_xAwRQIgZ16N34RwfohRQtI6aKFBYkq63kjihR97-36w2vhQFOYCIQDgaxRcx9fPsj49Iwq-fVBiqyClp8zH-8NpyCxrVdnwMA%3D%3D/file/index.m3u8', 'tbr': 80.312, 'ext': 'mp4', 'fps': 15.0, 'protocol': 'm3u8_native', 'preference': None, 'quality': 0, 'has_drm': False, 'width': 256, 'height': 144, 'vcodec': 'vp09.00.10.08', 'acodec': 'none', 'dynamic_range': 'SDR', 'source_preference': -1, 'resolution': '256x144', 'aspect_ratio': 1.78, 'http_headers': {'User-Agent': 'Mozilla/5.0 (Windows NT 10.0; Win64; x64) AppleWebKit/537.36 (KHTML, like Gecko) Chrome/93.0.4577.82 Safari/537.36', 'Accept': 'text/html,application/xhtml+xml,application/xml;q=0.9,*/*;q=0.8', 'Accept-Language': 'en-us,en;q=0.5', 'Sec-Fetch-Mode': 'navigate'}, 'video_ext': 'mp4', 'audio_ext': 'none', 'abr': 0, 'vbr': 80.312, 'format': '602 - 256x144'}, {'asr': None, 'filesize': 4262212, 'format_id': '598', 'format_note': '144p', 'source_preference': -1, 'fps': 15, 'audio_channels': None, 'height': 144, 'quality': 0.0, 'has_drm': False, 'tbr': 21.172, 'url': 'https://rr4---sn-npoeened.googlevideo.com/videoplayback?expire=1694786272&ei=gA4EZdXMJIuwjuMPx-O94As&ip=20.212.112.73&id=o-ADMVGdiG6HdKd9m-nm7LGgqLsAe9W1-udsnl31OtdxVS&itag=598&source=youtube&requiressl=yes&mh=Z9&mm=31%2C29&mn=sn-npoeened%2Csn-npoe7nz7&ms=au%2Crdu&mv=m&mvi=4&pl=16&initcwndbps=1581250&spc=UWF9f-HzrqeTu_MrdVA10nynXimw5cA&vprv=1&svpuc=1&mime=video%2Fwebm&gir=yes&clen=4262212&dur=1610.508&lmt=1694476299062049&mt=1694764169&fvip=1&keepalive=yes&fexp=24007246%2C24362685&c=ANDROID&txp=4432434&sparams=expire%2Cei%2Cip%2Cid%2Citag%2Csource%2Crequiressl%2Cspc%2Cvprv%2Csvpuc%2Cmime%2Cgir%2Cclen%2Cdur%2Clmt&sig=AOq0QJ8wRQIgMLl3280_lKLA1N8-gOWkxp_hnsG7K7oD3ous1OlL8IYCIQCQVVRza4ON6hxQe7Pgqfrurok_RRU9IiddjgBUCQmZ4Q%3D%3D&lsparams=mh%2Cmm%2Cmn%2Cms%2Cmv%2Cmvi%2Cpl%2Cinitcwndbps&lsig=AG3C_xAwRgIhAPRX5ybN8thISVhAZHPLocEdl3d233TLuH9mdDh3bnk8AiEAhPiG4dSfOeuCqPGGZayv7lfm6w9ps32FpRkmeF3Zxbo%3D', 'width': 256, 'language': None, 'language_preference': -1, 'preference': None, 'ext': 'webm', 'vcodec': 'vp9', 'acodec': 'none', 'dynamic_range': 'SDR', 'container': 'webm_dash', 'downloader_options': {'http_chunk_size': 10485760}, 'protocol': 'https', 'resolution': '256x144', 'aspect_ratio': 1.78, 'http_headers': {'User-Agent': 'Mozilla/5.0 (Windows NT 10.0; Win64; x64) AppleWebKit/537.36 (KHTML, like Gecko) Chrome/93.0.4577.82 Safari/537.36', 'Accept': 'text/html,application/xhtml+xml,application/xml;q=0.9,*/*;q=0.8', 'Accept-Language': 'en-us,en;q=0.5', 'Sec-Fetch-Mode': 'navigate'}, 'video_ext': 'webm', 'audio_ext': 'none', 'abr': 0, 'vbr': 21.172, 'format': '598 - 256x144 (144p)'}, {'format_id': '269', 'format_index': None, 'url': 'https://manifest.googlevideo.com/api/manifest/hls_playlist/expire/1694786272/ei/gA4EZY3wHcHartoPz-yLyAE/ip/20.212.112.73/id/dac739b940f38a00/itag/269/source/youtube/requiressl/yes/ratebypass/yes/pfa/1/sgovp/clen%3D5161022%3Bdur%3D1610.510%3Bgir%3Dyes%3Bitag%3D160%3Blmt%3D1694617325565660/hls_chunk_host/rr1---sn-npoe7nz7.googlevideo.com/mh/Z9/mm/31,29/mn/sn-npoe7nz7,sn-npoeened/ms/au,rdu/mv/m/mvi/1/pl/16/initcwndbps/1103750/vprv/1/playlist_type/DVR/dover/13/txp/4432434/mt/1694764169/fvip/4/short_key/1/keepalive/yes/fexp/24007246/sparams/expire,ei,ip,id,itag,source,requiressl,ratebypass,pfa,sgovp,vprv,playlist_type/sig/AOq0QJ8wRQIgDtsaGv1BJ9BlRU6yWCZvRCl2owHbUXDDLx2kVBfi9CQCIQDIEOw465_kZr2jRRwf0dbV8E7nhyFi-2K2TGeDKT5qDw%3D%3D/lsparams/hls_chunk_host,mh,mm,mn,ms,mv,mvi,pl,initcwndbps/lsig/AG3C_xAwRAIgaUNtqNGO2eo9YKKUbLdMJbGFzjtUN2qRUbn6c8tmgioCID7981qnukdczdr4iNXLGewmQIVwlDgsVrTGiq944h1L/playlist/index.m3u8', 'manifest_url': 'https://manifest.googlevideo.com/api/manifest/hls_variant/expire/1694786272/ei/gA4EZY3wHcHartoPz-yLyAE/ip/20.212.112.73/id/dac739b940f38a00/source/youtube/requiressl/yes/playback_host/rr1---sn-npoe7nz7.googlevideo.com/mh/Z9/mm/31%2C29/mn/sn-npoe7nz7%2Csn-npoeened/ms/au%2Crdu/mv/m/mvi/1/pl/16/hfr/1/demuxed/1/tts_caps/1/maudio/1/initcwndbps/1103750/vprv/1/go/1/mt/1694764169/fvip/4/nvgoi/1/short_key/1/ncsapi/1/keepalive/yes/fexp/24007246/dover/13/itag/0/playlist_type/DVR/sparams/expire%2Cei%2Cip%2Cid%2Csource%2Crequiressl%2Chfr%2Cdemuxed%2Ctts_caps%2Cmaudio%2Cvprv%2Cgo%2Citag%2Cplaylist_type/sig/AOq0QJ8wRAIgK7OOitr4NLG49nfZIb9HUYoA64I-ykeg2et4dZWkwPgCIALStm_cMpzbxhgnWCg-BkWGB51VzKn7b87kyCE-nV27/lsparams/playback_host%2Cmh%2Cmm%2Cmn%2Cms%2Cmv%2Cmvi%2Cpl%2Cinitcwndbps/lsig/AG3C_xAwRQIgZ16N34RwfohRQtI6aKFBYkq63kjihR97-36w2vhQFOYCIQDgaxRcx9fPsj49Iwq-fVBiqyClp8zH-8NpyCxrVdnwMA%3D%3D/file/index.m3u8', 'tbr': 113.974, 'ext': 'mp4', 'fps': 30.0, 'protocol': 'm3u8_native', 'preference': None, 'quality': 0, 'has_drm': False, 'width': 256, 'height': 144, 'vcodec': 'avc1.4D400C', 'acodec': 'none', 'dynamic_range': 'SDR', 'source_preference': -1, 'resolution': '256x144', 'aspect_ratio': 1.78, 'http_headers': {'User-Agent': 'Mozilla/5.0 (Windows NT 10.0; Win64; x64) AppleWebKit/537.36 (KHTML, like Gecko) Chrome/93.0.4577.82 Safari/537.36', 'Accept': 'text/html,application/xhtml+xml,application/xml;q=0.9,*/*;q=0.8', 'Accept-Language': 'en-us,en;q=0.5', 'Sec-Fetch-Mode': 'navigate'}, 'video_ext': 'mp4', 'audio_ext': 'none', 'abr': 0, 'vbr': 113.974, 'format': '269 - 256x144'}, {'asr': None, 'filesize': 5161022, 'format_id': '160', 'format_note': '144p', 'source_preference': -1, 'fps': 30, 'audio_channels': None, 'height': 144, 'quality': 0.0, 'has_drm': False, 'tbr': 25.636, 'url': 'https://rr1---sn-npoe7nz7.googlevideo.com/videoplayback?expire=1694786272&ei=gA4EZY3wHcHartoPz-yLyAE&ip=20.212.112.73&id=o-ACShWkNmBJlhKPX4vzkow_l6TCT12C-n11mPh7NKr9Sz&itag=160&source=youtube&requiressl=yes&mh=Z9&mm=31%2C29&mn=sn-npoe7nz7%2Csn-npoeened&ms=au%2Crdu&mv=m&mvi=1&pl=16&initcwndbps=1103750&vprv=1&svpuc=1&mime=video%2Fmp4&gir=yes&clen=5161022&dur=1610.510&lmt=1694617325565660&mt=1694764169&fvip=4&keepalive=yes&fexp=24007246&c=IOS&txp=4432434&sparams=expire%2Cei%2Cip%2Cid%2Citag%2Csource%2Crequiressl%2Cvprv%2Csvpuc%2Cmime%2Cgir%2Cclen%2Cdur%2Clmt&sig=AOq0QJ8wRQIgdjePkWNgVWUySGx_IwOM8YqitXcmdFQ3OqFrfLMZzXECIQCI_enA8pbHiBDEXjVBJaEwbMNvnsqOoXzMnkGTGhW_QA%3D%3D&lsparams=mh%2Cmm%2Cmn%2Cms%2Cmv%2Cmvi%2Cpl%2Cinitcwndbps&lsig=AG3C_xAwRgIhAIOs2_-bS64okoF2zxOBYpuoKOBpEYbtamz0MH88uul5AiEA5kyllkxNY05Um3npD7EVm_Jz-dBRU-lEIMmz0IoPH5U%3D', 'width': 256, 'language': None, 'language_preference': -1, 'preference': None, 'ext': 'mp4', 'vcodec': 'avc1.4D400C', 'acodec': 'none', 'dynamic_range': 'SDR', 'container': 'mp4_dash', 'downloader_options': {'http_chunk_size': 10485760}, 'protocol': 'https', 'resolution': '256x144', 'aspect_ratio': 1.78, 'http_headers': {'User-Agent': 'Mozilla/5.0 (Windows NT 10.0; Win64; x64) AppleWebKit/537.36 (KHTML, like Gecko) Chrome/93.0.4577.82 Safari/537.36', 'Accept': 'text/html,application/xhtml+xml,application/xml;q=0.9,*/*;q=0.8', 'Accept-Language': 'en-us,en;q=0.5', 'Sec-Fetch-Mode': 'navigate'}, 'video_ext': 'mp4', 'audio_ext': 'none', 'abr': 0, 'vbr': 25.636, 'format': '160 - 256x144 (144p)'}, {'format_id': '603', 'format_index': None, 'url': 'https://manifest.googlevideo.com/api/manifest/hls_playlist/expire/1694786272/ei/gA4EZY3wHcHartoPz-yLyAE/ip/20.212.112.73/id/dac739b940f38a00/itag/603/source/youtube/requiressl/yes/ratebypass/yes/pfa/1/wft/1/sgovp/clen%3D12569732%3Bdur%3D1610.509%3Bgir%3Dyes%3Bitag%3D278%3Blmt%3D1694481190478670/hls_chunk_host/rr1---sn-npoe7nz7.googlevideo.com/mh/Z9/mm/31,29/mn/sn-npoe7nz7,sn-npoeened/ms/au,rdu/mv/m/mvi/1/pl/16/initcwndbps/1103750/vprv/1/playlist_type/DVR/dover/13/txp/4437434/mt/1694764169/fvip/4/short_key/1/keepalive/yes/fexp/24007246/sparams/expire,ei,ip,id,itag,source,requiressl,ratebypass,pfa,wft,sgovp,vprv,playlist_type/sig/AOq0QJ8wRQIhAObR0MhP25BhF9EI0q5iA9gUEvPuX7MWTaiLlUga4AUXAiATGlDopkFCpQwOK81yEH8Y-EK_25UguKH4-NReOoisRA%3D%3D/lsparams/hls_chunk_host,mh,mm,mn,ms,mv,mvi,pl,initcwndbps/lsig/AG3C_xAwRQIhAK2YSfRRpQ7LMiRY8NJM1dsV8iFcwpmehD2bWf7sFqzfAiBCqvf66PGdNVxdJUxwplPay-HYF-IvojfapmxnxxbzMg%3D%3D/playlist/index.m3u8', 'manifest_url': 'https://manifest.googlevideo.com/api/manifest/hls_variant/expire/1694786272/ei/gA4EZY3wHcHartoPz-yLyAE/ip/20.212.112.73/id/dac739b940f38a00/source/youtube/requiressl/yes/playback_host/rr1---sn-npoe7nz7.googlevideo.com/mh/Z9/mm/31%2C29/mn/sn-npoe7nz7%2Csn-npoeened/ms/au%2Crdu/mv/m/mvi/1/pl/16/hfr/1/demuxed/1/tts_caps/1/maudio/1/initcwndbps/1103750/vprv/1/go/1/mt/1694764169/fvip/4/nvgoi/1/short_key/1/ncsapi/1/keepalive/yes/fexp/24007246/dover/13/itag/0/playlist_type/DVR/sparams/expire%2Cei%2Cip%2Cid%2Csource%2Crequiressl%2Chfr%2Cdemuxed%2Ctts_caps%2Cmaudio%2Cvprv%2Cgo%2Citag%2Cplaylist_type/sig/AOq0QJ8wRAIgK7OOitr4NLG49nfZIb9HUYoA64I-ykeg2et4dZWkwPgCIALStm_cMpzbxhgnWCg-BkWGB51VzKn7b87kyCE-nV27/lsparams/playback_host%2Cmh%2Cmm%2Cmn%2Cms%2Cmv%2Cmvi%2Cpl%2Cinitcwndbps/lsig/AG3C_xAwRQIgZ16N34RwfohRQtI6aKFBYkq63kjihR97-36w2vhQFOYCIQDgaxRcx9fPsj49Iwq-fVBiqyClp8zH-8NpyCxrVdnwMA%3D%3D/file/index.m3u8', 'tbr': 150.121, 'ext': 'mp4', 'fps': 30.0, 'protocol': 'm3u8_native', 'preference': None, 'quality': 0, 'has_drm': False, 'width': 256, 'height': 144, 'vcodec': 'vp09.00.11.08', 'acodec': 'none', 'dynamic_range': 'SDR', 'source_preference': -1, 'resolution': '256x144', 'aspect_ratio': 1.78, 'http_headers': {'User-Agent': 'Mozilla/5.0 (Windows NT 10.0; Win64; x64) AppleWebKit/537.36 (KHTML, like Gecko) Chrome/93.0.4577.82 Safari/537.36', 'Accept': 'text/html,application/xhtml+xml,application/xml;q=0.9,*/*;q=0.8', 'Accept-Language': 'en-us,en;q=0.5', 'Sec-Fetch-Mode': 'navigate'}, 'video_ext': 'mp4', 'audio_ext': 'none', 'abr': 0, 'vbr': 150.121, 'format': '603 - 256x144'}, {'asr': None, 'filesize': 12569732, 'format_id': '278', 'format_note': '144p', 'source_preference': -1, 'fps': 30, 'audio_channels': None, 'height': 144, 'quality': 0.0, 'has_drm': False, 'tbr': 62.438, 'url': 'https://rr1---sn-npoe7nz7.googlevideo.com/videoplayback?expire=1694786272&ei=gA4EZY3wHcHartoPz-yLyAE&ip=20.212.112.73&id=o-ACShWkNmBJlhKPX4vzkow_l6TCT12C-n11mPh7NKr9Sz&itag=278&source=youtube&requiressl=yes&mh=Z9&mm=31%2C29&mn=sn-npoe7nz7%2Csn-npoeened&ms=au%2Crdu&mv=m&mvi=1&pl=16&initcwndbps=1103750&vprv=1&svpuc=1&mime=video%2Fwebm&gir=yes&clen=12569732&dur=1610.509&lmt=1694481190478670&mt=1694764169&fvip=4&keepalive=yes&fexp=24007246&c=IOS&txp=4437434&sparams=expire%2Cei%2Cip%2Cid%2Citag%2Csource%2Crequiressl%2Cvprv%2Csvpuc%2Cmime%2Cgir%2Cclen%2Cdur%2Clmt&sig=AOq0QJ8wRQIhAL1qIriRAAvpaVgbPyCWuxZEKJg1tA7qvNieJZ67aRauAiB84chzx7u-NhuaPQhlz7H-QDeaa80mDW9Kml7TGtxQrw%3D%3D&lsparams=mh%2Cmm%2Cmn%2Cms%2Cmv%2Cmvi%2Cpl%2Cinitcwndbps&lsig=AG3C_xAwRgIhAIOs2_-bS64okoF2zxOBYpuoKOBpEYbtamz0MH88uul5AiEA5kyllkxNY05Um3npD7EVm_Jz-dBRU-lEIMmz0IoPH5U%3D', 'width': 256, 'language': None, 'language_preference': -1, 'preference': None, 'ext': 'webm', 'vcodec': 'vp09.00.11.08', 'acodec': 'none', 'dynamic_range': 'SDR', 'container': 'webm_dash', 'downloader_options': {'http_chunk_size': 10485760}, 'protocol': 'https', 'resolution': '256x144', 'aspect_ratio': 1.78, 'http_headers': {'User-Agent': 'Mozilla/5.0 (Windows NT 10.0; Win64; x64) AppleWebKit/537.36 (KHTML, like Gecko) Chrome/93.0.4577.82 Safari/537.36', 'Accept': 'text/html,application/xhtml+xml,application/xml;q=0.9,*/*;q=0.8', 'Accept-Language': 'en-us,en;q=0.5', 'Sec-Fetch-Mode': 'navigate'}, 'video_ext': 'webm', 'audio_ext': 'none', 'abr': 0, 'vbr': 62.438, 'format': '278 - 256x144 (144p)'}, {'format_id': '229', 'format_index': None, 'url': 'https://manifest.googlevideo.com/api/manifest/hls_playlist/expire/1694786272/ei/gA4EZY3wHcHartoPz-yLyAE/ip/20.212.112.73/id/dac739b940f38a00/itag/229/source/youtube/requiressl/yes/ratebypass/yes/pfa/1/sgovp/clen%3D9398085%3Bdur%3D1610.510%3Bgir%3Dyes%3Bitag%3D133%3Blmt%3D1694617279014895/hls_chunk_host/rr1---sn-npoe7nz7.googlevideo.com/mh/Z9/mm/31,29/mn/sn-npoe7nz7,sn-npoeened/ms/au,rdu/mv/m/mvi/1/pl/16/initcwndbps/1103750/vprv/1/playlist_type/DVR/dover/13/txp/4432434/mt/1694764169/fvip/4/short_key/1/keepalive/yes/fexp/24007246/sparams/expire,ei,ip,id,itag,source,requiressl,ratebypass,pfa,sgovp,vprv,playlist_type/sig/AOq0QJ8wRQIgRUlPal4uRVmwOZTlChY_yMgm8pQfeetlSqB59PhXH6kCIQDssVyuwugUbFgI4z1GoXwtdKDEI2tbv7LK9Q4hulLEpA%3D%3D/lsparams/hls_chunk_host,mh,mm,mn,ms,mv,mvi,pl,initcwndbps/lsig/AG3C_xAwRQIhAK35ryrjjXAUzUzUj8gWklBBqW-MPg69eic1Sg1GuS4XAiAWyGdm61GJUQqdkRBgEb12OUmi8ZUVlTSYe360JTDa6Q%3D%3D/playlist/index.m3u8', 'manifest_url': 'https://manifest.googlevideo.com/api/manifest/hls_variant/expire/1694786272/ei/gA4EZY3wHcHartoPz-yLyAE/ip/20.212.112.73/id/dac739b940f38a00/source/youtube/requiressl/yes/playback_host/rr1---sn-npoe7nz7.googlevideo.com/mh/Z9/mm/31%2C29/mn/sn-npoe7nz7%2Csn-npoeened/ms/au%2Crdu/mv/m/mvi/1/pl/16/hfr/1/demuxed/1/tts_caps/1/maudio/1/initcwndbps/1103750/vprv/1/go/1/mt/1694764169/fvip/4/nvgoi/1/short_key/1/ncsapi/1/keepalive/yes/fexp/24007246/dover/13/itag/0/playlist_type/DVR/sparams/expire%2Cei%2Cip%2Cid%2Csource%2Crequiressl%2Chfr%2Cdemuxed%2Ctts_caps%2Cmaudio%2Cvprv%2Cgo%2Citag%2Cplaylist_type/sig/AOq0QJ8wRAIgK7OOitr4NLG49nfZIb9HUYoA64I-ykeg2et4dZWkwPgCIALStm_cMpzbxhgnWCg-BkWGB51VzKn7b87kyCE-nV27/lsparams/playback_host%2Cmh%2Cmm%2Cmn%2Cms%2Cmv%2Cmvi%2Cpl%2Cinitcwndbps/lsig/AG3C_xAwRQIgZ16N34RwfohRQtI6aKFBYkq63kjihR97-36w2vhQFOYCIQDgaxRcx9fPsj49Iwq-fVBiqyClp8zH-8NpyCxrVdnwMA%3D%3D/file/index.m3u8', 'tbr': 167.875, 'ext': 'mp4', 'fps': 30.0, 'protocol': 'm3u8_native', 'preference': None, 'quality': 5, 'has_drm': False, 'width': 426, 'height': 240, 'vcodec': 'avc1.4D4015', 'acodec': 'none', 'dynamic_range': 'SDR', 'source_preference': -1, 'resolution': '426x240', 'aspect_ratio': 1.77, 'http_headers': {'User-Agent': 'Mozilla/5.0 (Windows NT 10.0; Win64; x64) AppleWebKit/537.36 (KHTML, like Gecko) Chrome/93.0.4577.82 Safari/537.36', 'Accept': 'text/html,application/xhtml+xml,application/xml;q=0.9,*/*;q=0.8', 'Accept-Language': 'en-us,en;q=0.5', 'Sec-Fetch-Mode': 'navigate'}, 'video_ext': 'mp4', 'audio_ext': 'none', 'abr': 0, 'vbr': 167.875, 'format': '229 - 426x240'}, {'asr': None, 'filesize': 9398085, 'format_id': '133', 'format_note': '240p', 'source_preference': -1, 'fps': 30, 'audio_channels': None, 'height': 240, 'quality': 5.0, 'has_drm': False, 'tbr': 46.683, 'url': 'https://rr1---sn-npoe7nz7.googlevideo.com/videoplayback?expire=1694786272&ei=gA4EZY3wHcHartoPz-yLyAE&ip=20.212.112.73&id=o-ACShWkNmBJlhKPX4vzkow_l6TCT12C-n11mPh7NKr9Sz&itag=133&source=youtube&requiressl=yes&mh=Z9&mm=31%2C29&mn=sn-npoe7nz7%2Csn-npoeened&ms=au%2Crdu&mv=m&mvi=1&pl=16&initcwndbps=1103750&vprv=1&svpuc=1&mime=video%2Fmp4&gir=yes&clen=9398085&dur=1610.510&lmt=1694617279014895&mt=1694764169&fvip=4&keepalive=yes&fexp=24007246&c=IOS&txp=4432434&sparams=expire%2Cei%2Cip%2Cid%2Citag%2Csource%2Crequiressl%2Cvprv%2Csvpuc%2Cmime%2Cgir%2Cclen%2Cdur%2Clmt&sig=AOq0QJ8wRQIgJ-KISA5OOTQYRIJ99hETlkM0QZDq0mvH8OJV33U-8BoCIQDma6FJ7mR4GZiNxni_bM0x_CzQyG8lFPkFkckqOQEfrQ%3D%3D&lsparams=mh%2Cmm%2Cmn%2Cms%2Cmv%2Cmvi%2Cpl%2Cinitcwndbps&lsig=AG3C_xAwRgIhAIOs2_-bS64okoF2zxOBYpuoKOBpEYbtamz0MH88uul5AiEA5kyllkxNY05Um3npD7EVm_Jz-dBRU-lEIMmz0IoPH5U%3D', 'width': 426, 'language': None, 'language_preference': -1, 'preference': None, 'ext': 'mp4', 'vcodec': 'avc1.4D4015', 'acodec': 'none', 'dynamic_range': 'SDR', 'container': 'mp4_dash', 'downloader_options': {'http_chunk_size': 10485760}, 'protocol': 'https', 'resolution': '426x240', 'aspect_ratio': 1.77, 'http_headers': {'User-Agent': 'Mozilla/5.0 (Windows NT 10.0; Win64; x64) AppleWebKit/537.36 (KHTML, like Gecko) Chrome/93.0.4577.82 Safari/537.36', 'Accept': 'text/html,application/xhtml+xml,application/xml;q=0.9,*/*;q=0.8', 'Accept-Language': 'en-us,en;q=0.5', 'Sec-Fetch-Mode': 'navigate'}, 'video_ext': 'mp4', 'audio_ext': 'none', 'abr': 0, 'vbr': 46.683, 'format': '133 - 426x240 (240p)'}, {'format_id': '604', 'format_index': None, 'url': 'https://manifest.googlevideo.com/api/manifest/hls_playlist/expire/1694786272/ei/gA4EZY3wHcHartoPz-yLyAE/ip/20.212.112.73/id/dac739b940f38a00/itag/604/source/youtube/requiressl/yes/ratebypass/yes/pfa/1/wft/1/sgovp/clen%3D13655104%3Bdur%3D1610.509%3Bgir%3Dyes%3Bitag%3D242%3Blmt%3D1694480831053473/hls_chunk_host/rr1---sn-npoe7nz7.googlevideo.com/mh/Z9/mm/31,29/mn/sn-npoe7nz7,sn-npoeened/ms/au,rdu/mv/m/mvi/1/pl/16/initcwndbps/1103750/vprv/1/playlist_type/DVR/dover/13/txp/4437434/mt/1694764169/fvip/4/short_key/1/keepalive/yes/fexp/24007246/sparams/expire,ei,ip,id,itag,source,requiressl,ratebypass,pfa,wft,sgovp,vprv,playlist_type/sig/AOq0QJ8wRAIgWBOFl_wD-JrbRGDo3A5J23ptnVkgG2E36I1Flnz1hEUCIHz1PmUzdQRuSFArraKWXJp3ffeang6wlW12AVYmWrA6/lsparams/hls_chunk_host,mh,mm,mn,ms,mv,mvi,pl,initcwndbps/lsig/AG3C_xAwRQIhAI4ezZFT05-DLUQLefG_y_jvfgZtTat9TscJ2Ep3PqV0AiAzTVAfsUP5hOlxryrWyF1a0PVO6EkkTyZm0ZbC9pa_bw%3D%3D/playlist/index.m3u8', 'manifest_url': 'https://manifest.googlevideo.com/api/manifest/hls_variant/expire/1694786272/ei/gA4EZY3wHcHartoPz-yLyAE/ip/20.212.112.73/id/dac739b940f38a00/source/youtube/requiressl/yes/playback_host/rr1---sn-npoe7nz7.googlevideo.com/mh/Z9/mm/31%2C29/mn/sn-npoe7nz7%2Csn-npoeened/ms/au%2Crdu/mv/m/mvi/1/pl/16/hfr/1/demuxed/1/tts_caps/1/maudio/1/initcwndbps/1103750/vprv/1/go/1/mt/1694764169/fvip/4/nvgoi/1/short_key/1/ncsapi/1/keepalive/yes/fexp/24007246/dover/13/itag/0/playlist_type/DVR/sparams/expire%2Cei%2Cip%2Cid%2Csource%2Crequiressl%2Chfr%2Cdemuxed%2Ctts_caps%2Cmaudio%2Cvprv%2Cgo%2Citag%2Cplaylist_type/sig/AOq0QJ8wRAIgK7OOitr4NLG49nfZIb9HUYoA64I-ykeg2et4dZWkwPgCIALStm_cMpzbxhgnWCg-BkWGB51VzKn7b87kyCE-nV27/lsparams/playback_host%2Cmh%2Cmm%2Cmn%2Cms%2Cmv%2Cmvi%2Cpl%2Cinitcwndbps/lsig/AG3C_xAwRQIgZ16N34RwfohRQtI6aKFBYkq63kjihR97-36w2vhQFOYCIQDgaxRcx9fPsj49Iwq-fVBiqyClp8zH-8NpyCxrVdnwMA%3D%3D/file/index.m3u8', 'tbr': 218.097, 'ext': 'mp4', 'fps': 30.0, 'protocol': 'm3u8_native', 'preference': None, 'quality': 5, 'has_drm': False, 'width': 426, 'height': 240, 'vcodec': 'vp09.00.20.08', 'acodec': 'none', 'dynamic_range': 'SDR', 'source_preference': -1, 'resolution': '426x240', 'aspect_ratio': 1.77, 'http_headers': {'User-Agent': 'Mozilla/5.0 (Windows NT 10.0; Win64; x64) AppleWebKit/537.36 (KHTML, like Gecko) Chrome/93.0.4577.82 Safari/537.36', 'Accept': 'text/html,application/xhtml+xml,application/xml;q=0.9,*/*;q=0.8', 'Accept-Language': 'en-us,en;q=0.5', 'Sec-Fetch-Mode': 'navigate'}, 'video_ext': 'mp4', 'audio_ext': 'none', 'abr': 0, 'vbr': 218.097, 'format': '604 - 426x240'}, {'asr': None, 'filesize': 13655104, 'format_id': '242', 'format_note': '240p', 'source_preference': -1, 'fps': 30, 'audio_channels': None, 'height': 240, 'quality': 5.0, 'has_drm': False, 'tbr': 67.83, 'url': 'https://rr1---sn-npoe7nz7.googlevideo.com/videoplayback?expire=1694786272&ei=gA4EZY3wHcHartoPz-yLyAE&ip=20.212.112.73&id=o-ACShWkNmBJlhKPX4vzkow_l6TCT12C-n11mPh7NKr9Sz&itag=242&source=youtube&requiressl=yes&mh=Z9&mm=31%2C29&mn=sn-npoe7nz7%2Csn-npoeened&ms=au%2Crdu&mv=m&mvi=1&pl=16&initcwndbps=1103750&vprv=1&svpuc=1&mime=video%2Fwebm&gir=yes&clen=13655104&dur=1610.509&lmt=1694480831053473&mt=1694764169&fvip=4&keepalive=yes&fexp=24007246&c=IOS&txp=4437434&sparams=expire%2Cei%2Cip%2Cid%2Citag%2Csource%2Crequiressl%2Cvprv%2Csvpuc%2Cmime%2Cgir%2Cclen%2Cdur%2Clmt&sig=AOq0QJ8wRAIgdY9p2BaiEcJS3n9eTqHQlxu-nlIZP1uhMZsGBI6pUD0CIBue7oZpLkaL_pLyhqSbG9rce7Z4J4C2HcaoUopvKM7d&lsparams=mh%2Cmm%2Cmn%2Cms%2Cmv%2Cmvi%2Cpl%2Cinitcwndbps&lsig=AG3C_xAwRgIhAIOs2_-bS64okoF2zxOBYpuoKOBpEYbtamz0MH88uul5AiEA5kyllkxNY05Um3npD7EVm_Jz-dBRU-lEIMmz0IoPH5U%3D', 'width': 426, 'language': None, 'language_preference': -1, 'preference': None, 'ext': 'webm', 'vcodec': 'vp09.00.20.08', 'acodec': 'none', 'dynamic_range': 'SDR', 'container': 'webm_dash', 'downloader_options': {'http_chunk_size': 10485760}, 'protocol': 'https', 'resolution': '426x240', 'aspect_ratio': 1.77, 'http_headers': {'User-Agent': 'Mozilla/5.0 (Windows NT 10.0; Win64; x64) AppleWebKit/537.36 (KHTML, like Gecko) Chrome/93.0.4577.82 Safari/537.36', 'Accept': 'text/html,application/xhtml+xml,application/xml;q=0.9,*/*;q=0.8', 'Accept-Language': 'en-us,en;q=0.5', 'Sec-Fetch-Mode': 'navigate'}, 'video_ext': 'webm', 'audio_ext': 'none', 'abr': 0, 'vbr': 67.83, 'format': '242 - 426x240 (240p)'}, {'format_id': '230', 'format_index': None, 'url': 'https://manifest.googlevideo.com/api/manifest/hls_playlist/expire/1694786272/ei/gA4EZY3wHcHartoPz-yLyAE/ip/20.212.112.73/id/dac739b940f38a00/itag/230/source/youtube/requiressl/yes/ratebypass/yes/pfa/1/sgovp/clen%3D16798223%3Bdur%3D1610.510%3Bgir%3Dyes%3Bitag%3D134%3Blmt%3D1694617268284110/hls_chunk_host/rr1---sn-npoe7nz7.googlevideo.com/mh/Z9/mm/31,29/mn/sn-npoe7nz7,sn-npoeened/ms/au,rdu/mv/m/mvi/1/pl/16/initcwndbps/1103750/vprv/1/playlist_type/DVR/dover/13/txp/4432434/mt/1694764169/fvip/4/short_key/1/keepalive/yes/fexp/24007246/sparams/expire,ei,ip,id,itag,source,requiressl,ratebypass,pfa,sgovp,vprv,playlist_type/sig/AOq0QJ8wRQIhAKGB6xpPAkzbGEg6D-6wKkIae4X6OtmrLoXBKz1EMrduAiADLGDLsrYxVA6_l4w93V0C7YyW3XASsEGsVja_ouWJ5g%3D%3D/lsparams/hls_chunk_host,mh,mm,mn,ms,mv,mvi,pl,initcwndbps/lsig/AG3C_xAwRQIgMcTjkxjR50BjtNxCRwVwU78E14GVVzHk_FsvIhQborQCIQDxm5xmoxxXMMyOYIYBZtPyw9xZFLsNYSnR_jd8C1iDuA%3D%3D/playlist/index.m3u8', 'manifest_url': 'https://manifest.googlevideo.com/api/manifest/hls_variant/expire/1694786272/ei/gA4EZY3wHcHartoPz-yLyAE/ip/20.212.112.73/id/dac739b940f38a00/source/youtube/requiressl/yes/playback_host/rr1---sn-npoe7nz7.googlevideo.com/mh/Z9/mm/31%2C29/mn/sn-npoe7nz7%2Csn-npoeened/ms/au%2Crdu/mv/m/mvi/1/pl/16/hfr/1/demuxed/1/tts_caps/1/maudio/1/initcwndbps/1103750/vprv/1/go/1/mt/1694764169/fvip/4/nvgoi/1/short_key/1/ncsapi/1/keepalive/yes/fexp/24007246/dover/13/itag/0/playlist_type/DVR/sparams/expire%2Cei%2Cip%2Cid%2Csource%2Crequiressl%2Chfr%2Cdemuxed%2Ctts_caps%2Cmaudio%2Cvprv%2Cgo%2Citag%2Cplaylist_type/sig/AOq0QJ8wRAIgK7OOitr4NLG49nfZIb9HUYoA64I-ykeg2et4dZWkwPgCIALStm_cMpzbxhgnWCg-BkWGB51VzKn7b87kyCE-nV27/lsparams/playback_host%2Cmh%2Cmm%2Cmn%2Cms%2Cmv%2Cmvi%2Cpl%2Cinitcwndbps/lsig/AG3C_xAwRQIgZ16N34RwfohRQtI6aKFBYkq63kjihR97-36w2vhQFOYCIQDgaxRcx9fPsj49Iwq-fVBiqyClp8zH-8NpyCxrVdnwMA%3D%3D/file/index.m3u8', 'tbr': 341.093, 'ext': 'mp4', 'fps': 30.0, 'protocol': 'm3u8_native', 'preference': None, 'quality': 6, 'has_drm': False, 'width': 640, 'height': 360, 'vcodec': 'avc1.4D401E', 'acodec': 'none', 'dynamic_range': 'SDR', 'source_preference': -1, 'resolution': '640x360', 'aspect_ratio': 1.78, 'http_headers': {'User-Agent': 'Mozilla/5.0 (Windows NT 10.0; Win64; x64) AppleWebKit/537.36 (KHTML, like Gecko) Chrome/93.0.4577.82 Safari/537.36', 'Accept': 'text/html,application/xhtml+xml,application/xml;q=0.9,*/*;q=0.8', 'Accept-Language': 'en-us,en;q=0.5', 'Sec-Fetch-Mode': 'navigate'}, 'video_ext': 'mp4', 'audio_ext': 'none', 'abr': 0, 'vbr': 341.093, 'format': '230 - 640x360'}, {'asr': None, 'filesize': 16798223, 'format_id': '134', 'format_note': '360p', 'source_preference': -1, 'fps': 30, 'audio_channels': None, 'height': 360, 'quality': 6.0, 'has_drm': False, 'tbr': 83.442, 'url': 'https://rr1---sn-npoe7nz7.googlevideo.com/videoplayback?expire=1694786272&ei=gA4EZY3wHcHartoPz-yLyAE&ip=20.212.112.73&id=o-ACShWkNmBJlhKPX4vzkow_l6TCT12C-n11mPh7NKr9Sz&itag=134&source=youtube&requiressl=yes&mh=Z9&mm=31%2C29&mn=sn-npoe7nz7%2Csn-npoeened&ms=au%2Crdu&mv=m&mvi=1&pl=16&initcwndbps=1103750&vprv=1&svpuc=1&mime=video%2Fmp4&gir=yes&clen=16798223&dur=1610.510&lmt=1694617268284110&mt=1694764169&fvip=4&keepalive=yes&fexp=24007246&c=IOS&txp=4432434&sparams=expire%2Cei%2Cip%2Cid%2Citag%2Csource%2Crequiressl%2Cvprv%2Csvpuc%2Cmime%2Cgir%2Cclen%2Cdur%2Clmt&sig=AOq0QJ8wRQIhALhKr-hzP1RDDczOfbJZUFQvn9z4rVFTR1q7PxL_aFGoAiAEdUkgdnxAEXSFGHjaTubSSUZCzYAuF6ni3I2HvAlOvA%3D%3D&lsparams=mh%2Cmm%2Cmn%2Cms%2Cmv%2Cmvi%2Cpl%2Cinitcwndbps&lsig=AG3C_xAwRgIhAIOs2_-bS64okoF2zxOBYpuoKOBpEYbtamz0MH88uul5AiEA5kyllkxNY05Um3npD7EVm_Jz-dBRU-lEIMmz0IoPH5U%3D', 'width': 640, 'language': None, 'language_preference': -1, 'preference': None, 'ext': 'mp4', 'vcodec': 'avc1.4D401E', 'acodec': 'none', 'dynamic_range': 'SDR', 'container': 'mp4_dash', 'downloader_options': {'http_chunk_size': 10485760}, 'protocol': 'https', 'resolution': '640x360', 'aspect_ratio': 1.78, 'http_headers': {'User-Agent': 'Mozilla/5.0 (Windows NT 10.0; Win64; x64) AppleWebKit/537.36 (KHTML, like Gecko) Chrome/93.0.4577.82 Safari/537.36', 'Accept': 'text/html,application/xhtml+xml,application/xml;q=0.9,*/*;q=0.8', 'Accept-Language': 'en-us,en;q=0.5', 'Sec-Fetch-Mode': 'navigate'}, 'video_ext': 'mp4', 'audio_ext': 'none', 'abr': 0, 'vbr': 83.442, 'format': '134 - 640x360 (360p)'}, {'asr': 44100, 'filesize': 72424246, 'format_id': '18', 'format_note': '360p', 'source_preference': -1, 'fps': 30, 'audio_channels': 2, 'height': 360, 'quality': 6.0, 'has_drm': False, 'tbr': 359.747, 'url': 'https://rr4---sn-npoeened.googlevideo.com/videoplayback?expire=1694786272&ei=gA4EZdXMJIuwjuMPx-O94As&ip=20.212.112.73&id=o-ADMVGdiG6HdKd9m-nm7LGgqLsAe9W1-udsnl31OtdxVS&itag=18&source=youtube&requiressl=yes&mh=Z9&mm=31%2C29&mn=sn-npoeened%2Csn-npoe7nz7&ms=au%2Crdu&mv=m&mvi=4&pl=16&initcwndbps=1581250&spc=UWF9f-HzrqeTu_MrdVA10nynXimw5cA&vprv=1&svpuc=1&mime=video%2Fmp4&gir=yes&clen=72424246&ratebypass=yes&dur=1610.559&lmt=1694617015639701&mt=1694764169&fvip=1&fexp=24007246%2C24362685&c=ANDROID&txp=4438434&sparams=expire%2Cei%2Cip%2Cid%2Citag%2Csource%2Crequiressl%2Cspc%2Cvprv%2Csvpuc%2Cmime%2Cgir%2Cclen%2Cratebypass%2Cdur%2Clmt&sig=AOq0QJ8wRQIgGsZxqzhqGeAaXWUKuEPS-JX65y3TRZ3sEaklotnXE3QCIQDuYnGWRqKYvQ1Hn7Q-gbkgihNjiqKTzyO19YMxQd-f-w%3D%3D&lsparams=mh%2Cmm%2Cmn%2Cms%2Cmv%2Cmvi%2Cpl%2Cinitcwndbps&lsig=AG3C_xAwRgIhAPRX5ybN8thISVhAZHPLocEdl3d233TLuH9mdDh3bnk8AiEAhPiG4dSfOeuCqPGGZayv7lfm6w9ps32FpRkmeF3Zxbo%3D', 'width': 640, 'language': None, 'language_preference': -1, 'preference': None, 'ext': 'mp4', 'vcodec': 'avc1.42001E', 'acodec': 'mp4a.40.2', 'dynamic_range': 'SDR', 'downloader_options': {'http_chunk_size': 10485760}, 'protocol': 'https', 'resolution': '640x360', 'aspect_ratio': 1.78, 'http_headers': {'User-Agent': 'Mozilla/5.0 (Windows NT 10.0; Win64; x64) AppleWebKit/537.36 (KHTML, like Gecko) Chrome/93.0.4577.82 Safari/537.36', 'Accept': 'text/html,application/xhtml+xml,application/xml;q=0.9,*/*;q=0.8', 'Accept-Language': 'en-us,en;q=0.5', 'Sec-Fetch-Mode': 'navigate'}, 'video_ext': 'mp4', 'audio_ext': 'none', 'vbr': None, 'abr': None, 'format': '18 - 640x360 (360p)'}, {'format_id': '605', 'format_index': None, 'url': 'https://manifest.googlevideo.com/api/manifest/hls_playlist/expire/1694786272/ei/gA4EZY3wHcHartoPz-yLyAE/ip/20.212.112.73/id/dac739b940f38a00/itag/605/source/youtube/requiressl/yes/ratebypass/yes/pfa/1/wft/1/sgovp/clen%3D28700617%3Bdur%3D1610.509%3Bgir%3Dyes%3Bitag%3D243%3Blmt%3D1694481418177330/hls_chunk_host/rr1---sn-npoe7nz7.googlevideo.com/mh/Z9/mm/31,29/mn/sn-npoe7nz7,sn-npoeened/ms/au,rdu/mv/m/mvi/1/pl/16/initcwndbps/1103750/vprv/1/playlist_type/DVR/dover/13/txp/4437434/mt/1694764169/fvip/4/short_key/1/keepalive/yes/fexp/24007246/sparams/expire,ei,ip,id,itag,source,requiressl,ratebypass,pfa,wft,sgovp,vprv,playlist_type/sig/AOq0QJ8wRQIhAKr9XKR53PDpBZudIFa2xtokZgcj5-bWcCGD2dq7M062AiA3exYwWW7nQaqavQZOBmUxqCyoAQZpNr8d6tTN2AL9cg%3D%3D/lsparams/hls_chunk_host,mh,mm,mn,ms,mv,mvi,pl,initcwndbps/lsig/AG3C_xAwRQIhAPV7_zHquJcNdk3NZUovUH_XhL13Ifq1delO_RTjULr8AiAk687eyu7wxYHdcbiyGbtaHVhVpmwPxLc_t1aMw4vZhw%3D%3D/playlist/index.m3u8', 'manifest_url': 'https://manifest.googlevideo.com/api/manifest/hls_variant/expire/1694786272/ei/gA4EZY3wHcHartoPz-yLyAE/ip/20.212.112.73/id/dac739b940f38a00/source/youtube/requiressl/yes/playback_host/rr1---sn-npoe7nz7.googlevideo.com/mh/Z9/mm/31%2C29/mn/sn-npoe7nz7%2Csn-npoeened/ms/au%2Crdu/mv/m/mvi/1/pl/16/hfr/1/demuxed/1/tts_caps/1/maudio/1/initcwndbps/1103750/vprv/1/go/1/mt/1694764169/fvip/4/nvgoi/1/short_key/1/ncsapi/1/keepalive/yes/fexp/24007246/dover/13/itag/0/playlist_type/DVR/sparams/expire%2Cei%2Cip%2Cid%2Csource%2Crequiressl%2Chfr%2Cdemuxed%2Ctts_caps%2Cmaudio%2Cvprv%2Cgo%2Citag%2Cplaylist_type/sig/AOq0QJ8wRAIgK7OOitr4NLG49nfZIb9HUYoA64I-ykeg2et4dZWkwPgCIALStm_cMpzbxhgnWCg-BkWGB51VzKn7b87kyCE-nV27/lsparams/playback_host%2Cmh%2Cmm%2Cmn%2Cms%2Cmv%2Cmvi%2Cpl%2Cinitcwndbps/lsig/AG3C_xAwRQIgZ16N34RwfohRQtI6aKFBYkq63kjihR97-36w2vhQFOYCIQDgaxRcx9fPsj49Iwq-fVBiqyClp8zH-8NpyCxrVdnwMA%3D%3D/file/index.m3u8', 'tbr': 453.046, 'ext': 'mp4', 'fps': 30.0, 'protocol': 'm3u8_native', 'preference': None, 'quality': 6, 'has_drm': False, 'width': 640, 'height': 360, 'vcodec': 'vp09.00.21.08', 'acodec': 'none', 'dynamic_range': 'SDR', 'source_preference': -1, 'resolution': '640x360', 'aspect_ratio': 1.78, 'http_headers': {'User-Agent': 'Mozilla/5.0 (Windows NT 10.0; Win64; x64) AppleWebKit/537.36 (KHTML, like Gecko) Chrome/93.0.4577.82 Safari/537.36', 'Accept': 'text/html,application/xhtml+xml,application/xml;q=0.9,*/*;q=0.8', 'Accept-Language': 'en-us,en;q=0.5', 'Sec-Fetch-Mode': 'navigate'}, 'video_ext': 'mp4', 'audio_ext': 'none', 'abr': 0, 'vbr': 453.046, 'format': '605 - 640x360'}, {'asr': None, 'filesize': 28700617, 'format_id': '243', 'format_note': '360p', 'source_preference': -1, 'fps': 30, 'audio_channels': None, 'height': 360, 'quality': 6.0, 'has_drm': False, 'tbr': 142.566, 'url': 'https://rr1---sn-npoe7nz7.googlevideo.com/videoplayback?expire=1694786272&ei=gA4EZY3wHcHartoPz-yLyAE&ip=20.212.112.73&id=o-ACShWkNmBJlhKPX4vzkow_l6TCT12C-n11mPh7NKr9Sz&itag=243&source=youtube&requiressl=yes&mh=Z9&mm=31%2C29&mn=sn-npoe7nz7%2Csn-npoeened&ms=au%2Crdu&mv=m&mvi=1&pl=16&initcwndbps=1103750&vprv=1&svpuc=1&mime=video%2Fwebm&gir=yes&clen=28700617&dur=1610.509&lmt=1694481418177330&mt=1694764169&fvip=4&keepalive=yes&fexp=24007246&c=IOS&txp=4437434&sparams=expire%2Cei%2Cip%2Cid%2Citag%2Csource%2Crequiressl%2Cvprv%2Csvpuc%2Cmime%2Cgir%2Cclen%2Cdur%2Clmt&sig=AOq0QJ8wRQIhALOjjgtadwa_XcdjMFl0wXa83tee3nKp-RT3oeDzjgEuAiAXJPsxcxnOA46Z7JQvbontv2Jy5BWJhUHJ5c4EkVEINw%3D%3D&lsparams=mh%2Cmm%2Cmn%2Cms%2Cmv%2Cmvi%2Cpl%2Cinitcwndbps&lsig=AG3C_xAwRgIhAIOs2_-bS64okoF2zxOBYpuoKOBpEYbtamz0MH88uul5AiEA5kyllkxNY05Um3npD7EVm_Jz-dBRU-lEIMmz0IoPH5U%3D', 'width': 640, 'language': None, 'language_preference': -1, 'preference': None, 'ext': 'webm', 'vcodec': 'vp09.00.21.08', 'acodec': 'none', 'dynamic_range': 'SDR', 'container': 'webm_dash', 'downloader_options': {'http_chunk_size': 10485760}, 'protocol': 'https', 'resolution': '640x360', 'aspect_ratio': 1.78, 'http_headers': {'User-Agent': 'Mozilla/5.0 (Windows NT 10.0; Win64; x64) AppleWebKit/537.36 (KHTML, like Gecko) Chrome/93.0.4577.82 Safari/537.36', 'Accept': 'text/html,application/xhtml+xml,application/xml;q=0.9,*/*;q=0.8', 'Accept-Language': 'en-us,en;q=0.5', 'Sec-Fetch-Mode': 'navigate'}, 'video_ext': 'webm', 'audio_ext': 'none', 'abr': 0, 'vbr': 142.566, 'format': '243 - 640x360 (360p)'}, {'format_id': '231', 'format_index': None, 'url': 'https://manifest.googlevideo.com/api/manifest/hls_playlist/expire/1694786272/ei/gA4EZY3wHcHartoPz-yLyAE/ip/20.212.112.73/id/dac739b940f38a00/itag/231/source/youtube/requiressl/yes/ratebypass/yes/pfa/1/sgovp/clen%3D24841802%3Bdur%3D1610.510%3Bgir%3Dyes%3Bitag%3D135%3Blmt%3D1694617305305585/hls_chunk_host/rr1---sn-npoe7nz7.googlevideo.com/mh/Z9/mm/31,29/mn/sn-npoe7nz7,sn-npoeened/ms/au,rdu/mv/m/mvi/1/pl/16/initcwndbps/1103750/vprv/1/playlist_type/DVR/dover/13/txp/4432434/mt/1694764169/fvip/4/short_key/1/keepalive/yes/fexp/24007246/sparams/expire,ei,ip,id,itag,source,requiressl,ratebypass,pfa,sgovp,vprv,playlist_type/sig/AOq0QJ8wRgIhAMzovFkn9NKePqa1BlDtpwk7dtk_wXZwHnR6oUIlj0OLAiEA8oIWZ4GPjIf8AlB71toIAvx3qC7zq9qnurho5j9PiIY%3D/lsparams/hls_chunk_host,mh,mm,mn,ms,mv,mvi,pl,initcwndbps/lsig/AG3C_xAwRQIhAO6ziRYmUfV04_D0XrFxVCMeZ-u8taqUaJ8N6fQ5f44uAiBFeAmuB8Y7-yShB8BvLvhKvr-b2Wh-KjgEgrZ961ZMYQ%3D%3D/playlist/index.m3u8', 'manifest_url': 'https://manifest.googlevideo.com/api/manifest/hls_variant/expire/1694786272/ei/gA4EZY3wHcHartoPz-yLyAE/ip/20.212.112.73/id/dac739b940f38a00/source/youtube/requiressl/yes/playback_host/rr1---sn-npoe7nz7.googlevideo.com/mh/Z9/mm/31%2C29/mn/sn-npoe7nz7%2Csn-npoeened/ms/au%2Crdu/mv/m/mvi/1/pl/16/hfr/1/demuxed/1/tts_caps/1/maudio/1/initcwndbps/1103750/vprv/1/go/1/mt/1694764169/fvip/4/nvgoi/1/short_key/1/ncsapi/1/keepalive/yes/fexp/24007246/dover/13/itag/0/playlist_type/DVR/sparams/expire%2Cei%2Cip%2Cid%2Csource%2Crequiressl%2Chfr%2Cdemuxed%2Ctts_caps%2Cmaudio%2Cvprv%2Cgo%2Citag%2Cplaylist_type/sig/AOq0QJ8wRAIgK7OOitr4NLG49nfZIb9HUYoA64I-ykeg2et4dZWkwPgCIALStm_cMpzbxhgnWCg-BkWGB51VzKn7b87kyCE-nV27/lsparams/playback_host%2Cmh%2Cmm%2Cmn%2Cms%2Cmv%2Cmvi%2Cpl%2Cinitcwndbps/lsig/AG3C_xAwRQIgZ16N34RwfohRQtI6aKFBYkq63kjihR97-36w2vhQFOYCIQDgaxRcx9fPsj49Iwq-fVBiqyClp8zH-8NpyCxrVdnwMA%3D%3D/file/index.m3u8', 'tbr': 440.057, 'ext': 'mp4', 'fps': 30.0, 'protocol': 'm3u8_native', 'preference': None, 'quality': 7, 'has_drm': False, 'width': 854, 'height': 480, 'vcodec': 'avc1.4D401F', 'acodec': 'none', 'dynamic_range': 'SDR', 'source_preference': -1, 'resolution': '854x480', 'aspect_ratio': 1.78, 'http_headers': {'User-Agent': 'Mozilla/5.0 (Windows NT 10.0; Win64; x64) AppleWebKit/537.36 (KHTML, like Gecko) Chrome/93.0.4577.82 Safari/537.36', 'Accept': 'text/html,application/xhtml+xml,application/xml;q=0.9,*/*;q=0.8', 'Accept-Language': 'en-us,en;q=0.5', 'Sec-Fetch-Mode': 'navigate'}, 'video_ext': 'mp4', 'audio_ext': 'none', 'abr': 0, 'vbr': 440.057, 'format': '231 - 854x480'}, {'asr': None, 'filesize': 24841802, 'format_id': '135', 'format_note': '480p', 'source_preference': -1, 'fps': 30, 'audio_channels': None, 'height': 480, 'quality': 7.0, 'has_drm': False, 'tbr': 123.398, 'url': 'https://rr1---sn-npoe7nz7.googlevideo.com/videoplayback?expire=1694786272&ei=gA4EZY3wHcHartoPz-yLyAE&ip=20.212.112.73&id=o-ACShWkNmBJlhKPX4vzkow_l6TCT12C-n11mPh7NKr9Sz&itag=135&source=youtube&requiressl=yes&mh=Z9&mm=31%2C29&mn=sn-npoe7nz7%2Csn-npoeened&ms=au%2Crdu&mv=m&mvi=1&pl=16&initcwndbps=1103750&vprv=1&svpuc=1&mime=video%2Fmp4&gir=yes&clen=24841802&dur=1610.510&lmt=1694617305305585&mt=1694764169&fvip=4&keepalive=yes&fexp=24007246&c=IOS&txp=4432434&sparams=expire%2Cei%2Cip%2Cid%2Citag%2Csource%2Crequiressl%2Cvprv%2Csvpuc%2Cmime%2Cgir%2Cclen%2Cdur%2Clmt&sig=AOq0QJ8wRgIhAJp1oIUEnKs18put3Dw4rtNlbldd2CaEgcG2cSnnHwOrAiEA9QNFJSmnWmHOTKfQe_WVDroYeaE_mlExZDUrD3DscBU%3D&lsparams=mh%2Cmm%2Cmn%2Cms%2Cmv%2Cmvi%2Cpl%2Cinitcwndbps&lsig=AG3C_xAwRgIhAIOs2_-bS64okoF2zxOBYpuoKOBpEYbtamz0MH88uul5AiEA5kyllkxNY05Um3npD7EVm_Jz-dBRU-lEIMmz0IoPH5U%3D', 'width': 854, 'language': None, 'language_preference': -1, 'preference': None, 'ext': 'mp4', 'vcodec': 'avc1.4D401F', 'acodec': 'none', 'dynamic_range': 'SDR', 'container': 'mp4_dash', 'downloader_options': {'http_chunk_size': 10485760}, 'protocol': 'https', 'resolution': '854x480', 'aspect_ratio': 1.78, 'http_headers': {'User-Agent': 'Mozilla/5.0 (Windows NT 10.0; Win64; x64) AppleWebKit/537.36 (KHTML, like Gecko) Chrome/93.0.4577.82 Safari/537.36', 'Accept': 'text/html,application/xhtml+xml,application/xml;q=0.9,*/*;q=0.8', 'Accept-Language': 'en-us,en;q=0.5', 'Sec-Fetch-Mode': 'navigate'}, 'video_ext': 'mp4', 'audio_ext': 'none', 'abr': 0, 'vbr': 123.398, 'format': '135 - 854x480 (480p)'}, {'format_id': '606', 'format_index': None, 'url': 'https://manifest.googlevideo.com/api/manifest/hls_playlist/expire/1694786272/ei/gA4EZY3wHcHartoPz-yLyAE/ip/20.212.112.73/id/dac739b940f38a00/itag/606/source/youtube/requiressl/yes/ratebypass/yes/pfa/1/wft/1/sgovp/clen%3D45818884%3Bdur%3D1610.509%3Bgir%3Dyes%3Bitag%3D244%3Blmt%3D1694483812212522/hls_chunk_host/rr1---sn-npoe7nz7.googlevideo.com/mh/Z9/mm/31,29/mn/sn-npoe7nz7,sn-npoeened/ms/au,rdu/mv/m/mvi/1/pl/16/initcwndbps/1103750/vprv/1/playlist_type/DVR/dover/13/txp/4437434/mt/1694764169/fvip/4/short_key/1/keepalive/yes/fexp/24007246/sparams/expire,ei,ip,id,itag,source,requiressl,ratebypass,pfa,wft,sgovp,vprv,playlist_type/sig/AOq0QJ8wRQIhAK1JYqpnC2FWymLFqX4IZcej4A_46dKETzAWOteZxTYlAiAcF6az1ppJFOkBIT_BsryYDNKsevKfHoA7skoojm1IVA%3D%3D/lsparams/hls_chunk_host,mh,mm,mn,ms,mv,mvi,pl,initcwndbps/lsig/AG3C_xAwRAIgIl2o89T8uzZZaxFPcn9al1Bnxypd28HBQF0Bynze0lECIC0aiW_FYPEYwnwi6iZavO7dmU0XCUaVRoMJHfchkNYs/playlist/index.m3u8', 'manifest_url': 'https://manifest.googlevideo.com/api/manifest/hls_variant/expire/1694786272/ei/gA4EZY3wHcHartoPz-yLyAE/ip/20.212.112.73/id/dac739b940f38a00/source/youtube/requiressl/yes/playback_host/rr1---sn-npoe7nz7.googlevideo.com/mh/Z9/mm/31%2C29/mn/sn-npoe7nz7%2Csn-npoeened/ms/au%2Crdu/mv/m/mvi/1/pl/16/hfr/1/demuxed/1/tts_caps/1/maudio/1/initcwndbps/1103750/vprv/1/go/1/mt/1694764169/fvip/4/nvgoi/1/short_key/1/ncsapi/1/keepalive/yes/fexp/24007246/dover/13/itag/0/playlist_type/DVR/sparams/expire%2Cei%2Cip%2Cid%2Csource%2Crequiressl%2Chfr%2Cdemuxed%2Ctts_caps%2Cmaudio%2Cvprv%2Cgo%2Citag%2Cplaylist_type/sig/AOq0QJ8wRAIgK7OOitr4NLG49nfZIb9HUYoA64I-ykeg2et4dZWkwPgCIALStm_cMpzbxhgnWCg-BkWGB51VzKn7b87kyCE-nV27/lsparams/playback_host%2Cmh%2Cmm%2Cmn%2Cms%2Cmv%2Cmvi%2Cpl%2Cinitcwndbps/lsig/AG3C_xAwRQIgZ16N34RwfohRQtI6aKFBYkq63kjihR97-36w2vhQFOYCIQDgaxRcx9fPsj49Iwq-fVBiqyClp8zH-8NpyCxrVdnwMA%3D%3D/file/index.m3u8', 'tbr': 648.597, 'ext': 'mp4', 'fps': 30.0, 'protocol': 'm3u8_native', 'preference': None, 'quality': 7, 'has_drm': False, 'width': 854, 'height': 480, 'vcodec': 'vp09.00.30.08', 'acodec': 'none', 'dynamic_range': 'SDR', 'source_preference': -1, 'resolution': '854x480', 'aspect_ratio': 1.78, 'http_headers': {'User-Agent': 'Mozilla/5.0 (Windows NT 10.0; Win64; x64) AppleWebKit/537.36 (KHTML, like Gecko) Chrome/93.0.4577.82 Safari/537.36', 'Accept': 'text/html,application/xhtml+xml,application/xml;q=0.9,*/*;q=0.8', 'Accept-Language': 'en-us,en;q=0.5', 'Sec-Fetch-Mode': 'navigate'}, 'video_ext': 'mp4', 'audio_ext': 'none', 'abr': 0, 'vbr': 648.597, 'format': '606 - 854x480'}, {'asr': None, 'filesize': 45818884, 'format_id': '244', 'format_note': '480p', 'source_preference': -1, 'fps': 30, 'audio_channels': None, 'height': 480, 'quality': 7.0, 'has_drm': False, 'tbr': 227.599, 'url': 'https://rr1---sn-npoe7nz7.googlevideo.com/videoplayback?expire=1694786272&ei=gA4EZY3wHcHartoPz-yLyAE&ip=20.212.112.73&id=o-ACShWkNmBJlhKPX4vzkow_l6TCT12C-n11mPh7NKr9Sz&itag=244&source=youtube&requiressl=yes&mh=Z9&mm=31%2C29&mn=sn-npoe7nz7%2Csn-npoeened&ms=au%2Crdu&mv=m&mvi=1&pl=16&initcwndbps=1103750&vprv=1&svpuc=1&mime=video%2Fwebm&gir=yes&clen=45818884&dur=1610.509&lmt=1694483812212522&mt=1694764169&fvip=4&keepalive=yes&fexp=24007246&c=IOS&txp=4437434&sparams=expire%2Cei%2Cip%2Cid%2Citag%2Csource%2Crequiressl%2Cvprv%2Csvpuc%2Cmime%2Cgir%2Cclen%2Cdur%2Clmt&sig=AOq0QJ8wRAIgNHDj9LH9IHTH9rS6ISuTs5Fwio4TT-AnXZzwtvYTnL4CIFqgQypE4t9yLECT2ql7rIgQKPZWS1X16RU-hg4GtMdF&lsparams=mh%2Cmm%2Cmn%2Cms%2Cmv%2Cmvi%2Cpl%2Cinitcwndbps&lsig=AG3C_xAwRgIhAIOs2_-bS64okoF2zxOBYpuoKOBpEYbtamz0MH88uul5AiEA5kyllkxNY05Um3npD7EVm_Jz-dBRU-lEIMmz0IoPH5U%3D', 'width': 854, 'language': None, 'language_preference': -1, 'preference': None, 'ext': 'webm', 'vcodec': 'vp09.00.30.08', 'acodec': 'none', 'dynamic_range': 'SDR', 'container': 'webm_dash', 'downloader_options': {'http_chunk_size': 10485760}, 'protocol': 'https', 'resolution': '854x480', 'aspect_ratio': 1.78, 'http_headers': {'User-Agent': 'Mozilla/5.0 (Windows NT 10.0; Win64; x64) AppleWebKit/537.36 (KHTML, like Gecko) Chrome/93.0.4577.82 Safari/537.36', 'Accept': 'text/html,application/xhtml+xml,application/xml;q=0.9,*/*;q=0.8', 'Accept-Language': 'en-us,en;q=0.5', 'Sec-Fetch-Mode': 'navigate'}, 'video_ext': 'webm', 'audio_ext': 'none', 'abr': 0, 'vbr': 227.599, 'format': '244 - 854x480 (480p)'}, {'asr': 44100, 'filesize': None, 'format_id': '22', 'format_note': '720p', 'source_preference': -5, 'fps': 30, 'audio_channels': 2, 'height': 720, 'quality': 8.0, 'has_drm': False, 'tbr': 518.48, 'url': 'https://rr4---sn-npoeened.googlevideo.com/videoplayback?expire=1694786272&ei=gA4EZdXMJIuwjuMPx-O94As&ip=20.212.112.73&id=o-ADMVGdiG6HdKd9m-nm7LGgqLsAe9W1-udsnl31OtdxVS&itag=22&source=youtube&requiressl=yes&mh=Z9&mm=31%2C29&mn=sn-npoeened%2Csn-npoe7nz7&ms=au%2Crdu&mv=m&mvi=4&pl=16&initcwndbps=1581250&spc=UWF9f-HzrqeTu_MrdVA10nynXimw5cA&vprv=1&svpuc=1&mime=video%2Fmp4&cnr=14&ratebypass=yes&dur=1610.559&lmt=1694617398119992&mt=1694764169&fvip=1&fexp=24007246%2C24362685&c=ANDROID&txp=4432434&sparams=expire%2Cei%2Cip%2Cid%2Citag%2Csource%2Crequiressl%2Cspc%2Cvprv%2Csvpuc%2Cmime%2Ccnr%2Cratebypass%2Cdur%2Clmt&sig=AOq0QJ8wRQIhAK--wFk3CIvEuHkKko9c0dtO1ertod60MINVSk0l6x2OAiAV4l5MuUowQ6IrcU1A6B1rFvL4kb2FgLJONd80_7_PUg%3D%3D&lsparams=mh%2Cmm%2Cmn%2Cms%2Cmv%2Cmvi%2Cpl%2Cinitcwndbps&lsig=AG3C_xAwRgIhAPRX5ybN8thISVhAZHPLocEdl3d233TLuH9mdDh3bnk8AiEAhPiG4dSfOeuCqPGGZayv7lfm6w9ps32FpRkmeF3Zxbo%3D', 'width': 1280, 'language': None, 'language_preference': -1, 'preference': None, 'ext': 'mp4', 'vcodec': 'avc1.64001F', 'acodec': 'mp4a.40.2', 'dynamic_range': 'SDR', 'downloader_options': {'http_chunk_size': 10485760}, 'protocol': 'https', 'resolution': '1280x720', 'aspect_ratio': 1.78, 'filesize_approx': 106914723, 'http_headers': {'User-Agent': 'Mozilla/5.0 (Windows NT 10.0; Win64; x64) AppleWebKit/537.36 (KHTML, like Gecko) Chrome/93.0.4577.82 Safari/537.36', 'Accept': 'text/html,application/xhtml+xml,application/xml;q=0.9,*/*;q=0.8', 'Accept-Language': 'en-us,en;q=0.5', 'Sec-Fetch-Mode': 'navigate'}, 'video_ext': 'mp4', 'audio_ext': 'none', 'vbr': None, 'abr': None, 'format': '22 - 1280x720 (720p)'}, {'asr': None, 'filesize': 78423708, 'format_id': '136', 'format_note': '720p', 'source_preference': -1, 'fps': 30, 'audio_channels': None, 'height': 720, 'quality': 8.0, 'has_drm': False, 'tbr': 389.559, 'url': 'https://rr1---sn-npoe7nz7.googlevideo.com/videoplayback?expire=1694786272&ei=fw4EZcLlPIaMz7sPlNOo-AU&ip=20.212.112.73&id=o-AEDJ8ny9bkPb6eH9LzUne0qI9DlKOFkz0_jms32P0UY4&itag=136&aitags=133%2C134%2C135%2C136%2C160%2C242%2C243%2C244%2C247%2C278%2C298%2C299%2C302%2C303&source=youtube&requiressl=yes&mh=Z9&mm=31%2C29&mn=sn-npoe7nz7%2Csn-npoeened&ms=au%2Crdu&mv=m&mvi=1&pl=16&initcwndbps=1103750&spc=UWF9fwNUOEeKPXZKy_sy9NW3K4F7HQLIzex0JnWuBA&vprv=1&svpuc=1&mime=video%2Fmp4&ns=LkhVqiE593rCi62hh075Lb4P&gir=yes&clen=78423708&dur=1610.510&lmt=1694617350723422&mt=1694764169&fvip=4&keepalive=yes&fexp=24007246&c=WEB&txp=4432434&n=HWSE8Ht9afpv7Q&sparams=expire%2Cei%2Cip%2Cid%2Caitags%2Csource%2Crequiressl%2Cspc%2Cvprv%2Csvpuc%2Cmime%2Cns%2Cgir%2Cclen%2Cdur%2Clmt&sig=AOq0QJ8wRQIgSmuo8aBcdnnaa4xuPxUNqNvDTneGvVkILBFqwRe6v80CIQClPSj6S5qNX2wASlPhAk3zLgHJW5y78c8jbSdHJVmv2A%3D%3D&lsparams=mh%2Cmm%2Cmn%2Cms%2Cmv%2Cmvi%2Cpl%2Cinitcwndbps&lsig=AG3C_xAwRAIgANjHj9G1XSNDFkbTLcz846VPQ_pGilxMNpfp4dqywd8CIFdbhZwO5eNsEb8CiUDOIKMzNJI0BcP17kEOWAKS5dCP', 'width': 1280, 'language': None, 'language_preference': -1, 'preference': None, 'ext': 'mp4', 'vcodec': 'avc1.4d401f', 'acodec': 'none', 'dynamic_range': 'SDR', 'container': 'mp4_dash', 'downloader_options': {'http_chunk_size': 10485760}, 'protocol': 'https', 'resolution': '1280x720', 'aspect_ratio': 1.78, 'http_headers': {'User-Agent': 'Mozilla/5.0 (Windows NT 10.0; Win64; x64) AppleWebKit/537.36 (KHTML, like Gecko) Chrome/93.0.4577.82 Safari/537.36', 'Accept': 'text/html,application/xhtml+xml,application/xml;q=0.9,*/*;q=0.8', 'Accept-Language': 'en-us,en;q=0.5', 'Sec-Fetch-Mode': 'navigate'}, 'video_ext': 'mp4', 'audio_ext': 'none', 'abr': 0, 'vbr': 389.559, 'format': '136 - 1280x720 (720p)'}, {'asr': None, 'filesize': 73318994, 'format_id': '247', 'format_note': '720p', 'source_preference': -1, 'fps': 30, 'audio_channels': None, 'height': 720, 'quality': 8.0, 'has_drm': False, 'tbr': 364.202, 'url': 'https://rr1---sn-npoe7nz7.googlevideo.com/videoplayback?expire=1694786272&ei=fw4EZcLlPIaMz7sPlNOo-AU&ip=20.212.112.73&id=o-AEDJ8ny9bkPb6eH9LzUne0qI9DlKOFkz0_jms32P0UY4&itag=247&aitags=133%2C134%2C135%2C136%2C160%2C242%2C243%2C244%2C247%2C278%2C298%2C299%2C302%2C303&source=youtube&requiressl=yes&mh=Z9&mm=31%2C29&mn=sn-npoe7nz7%2Csn-npoeened&ms=au%2Crdu&mv=m&mvi=1&pl=16&initcwndbps=1103750&spc=UWF9fwNUOEeKPXZKy_sy9NW3K4F7HQLIzex0JnWuBA&vprv=1&svpuc=1&mime=video%2Fwebm&ns=LkhVqiE593rCi62hh075Lb4P&gir=yes&clen=73318994&dur=1610.509&lmt=1694480770974903&mt=1694764169&fvip=4&keepalive=yes&fexp=24007246&c=WEB&txp=4437434&n=HWSE8Ht9afpv7Q&sparams=expire%2Cei%2Cip%2Cid%2Caitags%2Csource%2Crequiressl%2Cspc%2Cvprv%2Csvpuc%2Cmime%2Cns%2Cgir%2Cclen%2Cdur%2Clmt&sig=AOq0QJ8wRgIhAOXTs5hs96SAj7k2kwSOvTFgcOthxlifoyR7VjJA0e2kAiEA-bu1cuuSVf-6f5Q9Shmia9eB1WS7o_rfqVAGaYPtgFc%3D&lsparams=mh%2Cmm%2Cmn%2Cms%2Cmv%2Cmvi%2Cpl%2Cinitcwndbps&lsig=AG3C_xAwRAIgANjHj9G1XSNDFkbTLcz846VPQ_pGilxMNpfp4dqywd8CIFdbhZwO5eNsEb8CiUDOIKMzNJI0BcP17kEOWAKS5dCP', 'width': 1280, 'language': None, 'language_preference': -1, 'preference': None, 'ext': 'webm', 'vcodec': 'vp9', 'acodec': 'none', 'dynamic_range': 'SDR', 'container': 'webm_dash', 'downloader_options': {'http_chunk_size': 10485760}, 'protocol': 'https', 'resolution': '1280x720', 'aspect_ratio': 1.78, 'http_headers': {'User-Agent': 'Mozilla/5.0 (Windows NT 10.0; Win64; x64) AppleWebKit/537.36 (KHTML, like Gecko) Chrome/93.0.4577.82 Safari/537.36', 'Accept': 'text/html,application/xhtml+xml,application/xml;q=0.9,*/*;q=0.8', 'Accept-Language': 'en-us,en;q=0.5', 'Sec-Fetch-Mode': 'navigate'}, 'video_ext': 'webm', 'audio_ext': 'none', 'abr': 0, 'vbr': 364.202, 'format': '247 - 1280x720 (720p)'}, {'format_id': '311', 'format_index': None, 'url': 'https://manifest.googlevideo.com/api/manifest/hls_playlist/expire/1694786272/ei/gA4EZY3wHcHartoPz-yLyAE/ip/20.212.112.73/id/dac739b940f38a00/itag/311/source/youtube/requiressl/yes/ratebypass/yes/pfa/1/sgovp/clen%3D135328630%3Bdur%3D1610.508%3Bgir%3Dyes%3Bitag%3D298%3Blmt%3D1694617209480965/hls_chunk_host/rr1---sn-npoe7nz7.googlevideo.com/mh/Z9/mm/31,29/mn/sn-npoe7nz7,sn-npoeened/ms/au,rdu/mv/m/mvi/1/pl/16/initcwndbps/1103750/vprv/1/playlist_type/DVR/dover/13/txp/4432434/mt/1694764169/fvip/4/short_key/1/keepalive/yes/fexp/24007246/sparams/expire,ei,ip,id,itag,source,requiressl,ratebypass,pfa,sgovp,vprv,playlist_type/sig/AOq0QJ8wRQIgOJz5QEjYzNPKyxlrF30DyUac-dha37Mfmwcr3fYdQvECIQD158s7f-j4KjGvHqpmEWqmTM0qu9ZezXD0skF4W7RL1Q%3D%3D/lsparams/hls_chunk_host,mh,mm,mn,ms,mv,mvi,pl,initcwndbps/lsig/AG3C_xAwRAIgJVm34UdWO8qs2oW9gZvoEAw2O1P5w2QyWaof9OZutXACIFe6gXwCzgHS6CH2NhZg1xairbpTyMx6PY5-SlZMTCtw/playlist/index.m3u8', 'manifest_url': 'https://manifest.googlevideo.com/api/manifest/hls_variant/expire/1694786272/ei/gA4EZY3wHcHartoPz-yLyAE/ip/20.212.112.73/id/dac739b940f38a00/source/youtube/requiressl/yes/playback_host/rr1---sn-npoe7nz7.googlevideo.com/mh/Z9/mm/31%2C29/mn/sn-npoe7nz7%2Csn-npoeened/ms/au%2Crdu/mv/m/mvi/1/pl/16/hfr/1/demuxed/1/tts_caps/1/maudio/1/initcwndbps/1103750/vprv/1/go/1/mt/1694764169/fvip/4/nvgoi/1/short_key/1/ncsapi/1/keepalive/yes/fexp/24007246/dover/13/itag/0/playlist_type/DVR/sparams/expire%2Cei%2Cip%2Cid%2Csource%2Crequiressl%2Chfr%2Cdemuxed%2Ctts_caps%2Cmaudio%2Cvprv%2Cgo%2Citag%2Cplaylist_type/sig/AOq0QJ8wRAIgK7OOitr4NLG49nfZIb9HUYoA64I-ykeg2et4dZWkwPgCIALStm_cMpzbxhgnWCg-BkWGB51VzKn7b87kyCE-nV27/lsparams/playback_host%2Cmh%2Cmm%2Cmn%2Cms%2Cmv%2Cmvi%2Cpl%2Cinitcwndbps/lsig/AG3C_xAwRQIgZ16N34RwfohRQtI6aKFBYkq63kjihR97-36w2vhQFOYCIQDgaxRcx9fPsj49Iwq-fVBiqyClp8zH-8NpyCxrVdnwMA%3D%3D/file/index.m3u8', 'tbr': 1619.248, 'ext': 'mp4', 'fps': 60.0, 'protocol': 'm3u8_native', 'preference': None, 'quality': 8, 'has_drm': False, 'width': 1280, 'height': 720, 'vcodec': 'avc1.4D4020', 'acodec': 'none', 'dynamic_range': 'SDR', 'source_preference': -1, 'resolution': '1280x720', 'aspect_ratio': 1.78, 'http_headers': {'User-Agent': 'Mozilla/5.0 (Windows NT 10.0; Win64; x64) AppleWebKit/537.36 (KHTML, like Gecko) Chrome/93.0.4577.82 Safari/537.36', 'Accept': 'text/html,application/xhtml+xml,application/xml;q=0.9,*/*;q=0.8', 'Accept-Language': 'en-us,en;q=0.5', 'Sec-Fetch-Mode': 'navigate'}, 'video_ext': 'mp4', 'audio_ext': 'none', 'abr': 0, 'vbr': 1619.248, 'format': '311 - 1280x720'}, {'asr': None, 'filesize': 135328630, 'format_id': '298', 'format_note': '720p60', 'source_preference': -1, 'fps': 60, 'audio_channels': None, 'height': 720, 'quality': 8.0, 'has_drm': False, 'tbr': 672.228, 'url': 'https://rr1---sn-npoe7nz7.googlevideo.com/videoplayback?expire=1694786272&ei=gA4EZY3wHcHartoPz-yLyAE&ip=20.212.112.73&id=o-ACShWkNmBJlhKPX4vzkow_l6TCT12C-n11mPh7NKr9Sz&itag=298&source=youtube&requiressl=yes&mh=Z9&mm=31%2C29&mn=sn-npoe7nz7%2Csn-npoeened&ms=au%2Crdu&mv=m&mvi=1&pl=16&initcwndbps=1103750&vprv=1&svpuc=1&mime=video%2Fmp4&gir=yes&clen=135328630&dur=1610.508&lmt=1694617209480965&mt=1694764169&fvip=4&keepalive=yes&fexp=24007246&c=IOS&txp=4432434&sparams=expire%2Cei%2Cip%2Cid%2Citag%2Csource%2Crequiressl%2Cvprv%2Csvpuc%2Cmime%2Cgir%2Cclen%2Cdur%2Clmt&sig=AOq0QJ8wRQIgENGxvjfkcEtbzRf5V70shZh9kX3miJu6mw8HxcM_3JMCIQCV6pDPwLzvxIQun-MIw3gio7ClJoP-bnPgPeXCrE2SHg%3D%3D&lsparams=mh%2Cmm%2Cmn%2Cms%2Cmv%2Cmvi%2Cpl%2Cinitcwndbps&lsig=AG3C_xAwRgIhAIOs2_-bS64okoF2zxOBYpuoKOBpEYbtamz0MH88uul5AiEA5kyllkxNY05Um3npD7EVm_Jz-dBRU-lEIMmz0IoPH5U%3D', 'width': 1280, 'language': None, 'language_preference': -1, 'preference': None, 'ext': 'mp4', 'vcodec': 'avc1.4D4020', 'acodec': 'none', 'dynamic_range': 'SDR', 'container': 'mp4_dash', 'downloader_options': {'http_chunk_size': 10485760}, 'protocol': 'https', 'resolution': '1280x720', 'aspect_ratio': 1.78, 'http_headers': {'User-Agent': 'Mozilla/5.0 (Windows NT 10.0; Win64; x64) AppleWebKit/537.36 (KHTML, like Gecko) Chrome/93.0.4577.82 Safari/537.36', 'Accept': 'text/html,application/xhtml+xml,application/xml;q=0.9,*/*;q=0.8', 'Accept-Language': 'en-us,en;q=0.5', 'Sec-Fetch-Mode': 'navigate'}, 'video_ext': 'mp4', 'audio_ext': 'none', 'abr': 0, 'vbr': 672.228, 'format': '298 - 1280x720 (720p60)'}, {'format_id': '612', 'format_index': None, 'url': 'https://manifest.googlevideo.com/api/manifest/hls_playlist/expire/1694786272/ei/gA4EZY3wHcHartoPz-yLyAE/ip/20.212.112.73/id/dac739b940f38a00/itag/612/source/youtube/requiressl/yes/ratebypass/yes/pfa/1/wft/1/sgovp/clen%3D107988082%3Bdur%3D1610.508%3Bgir%3Dyes%3Bitag%3D302%3Blmt%3D1694476522577252/hls_chunk_host/rr1---sn-npoe7nz7.googlevideo.com/mh/Z9/mm/31,29/mn/sn-npoe7nz7,sn-npoeened/ms/au,rdu/mv/m/mvi/1/pl/16/initcwndbps/1103750/vprv/1/playlist_type/DVR/dover/13/txp/4437434/mt/1694764169/fvip/4/short_key/1/keepalive/yes/fexp/24007246/sparams/expire,ei,ip,id,itag,source,requiressl,ratebypass,pfa,wft,sgovp,vprv,playlist_type/sig/AOq0QJ8wRQIgI8_nrilBeWXii7S21KeMRFrMqbkwM4UF5jSZeqT4UWECIQCH6Zp2yLiiRKnJs98g7shOPGQ5j1yhh97d0P8-KEBDIA%3D%3D/lsparams/hls_chunk_host,mh,mm,mn,ms,mv,mvi,pl,initcwndbps/lsig/AG3C_xAwRAIgSFr3XfjJKuMw-l6MVCmGyAd-3iq7yi25zAH89SA-en4CIBjbsvqWeCis3K0yVR6c9aZqvak_HcvhsRvh_ftNqIS4/playlist/index.m3u8', 'manifest_url': 'https://manifest.googlevideo.com/api/manifest/hls_variant/expire/1694786272/ei/gA4EZY3wHcHartoPz-yLyAE/ip/20.212.112.73/id/dac739b940f38a00/source/youtube/requiressl/yes/playback_host/rr1---sn-npoe7nz7.googlevideo.com/mh/Z9/mm/31%2C29/mn/sn-npoe7nz7%2Csn-npoeened/ms/au%2Crdu/mv/m/mvi/1/pl/16/hfr/1/demuxed/1/tts_caps/1/maudio/1/initcwndbps/1103750/vprv/1/go/1/mt/1694764169/fvip/4/nvgoi/1/short_key/1/ncsapi/1/keepalive/yes/fexp/24007246/dover/13/itag/0/playlist_type/DVR/sparams/expire%2Cei%2Cip%2Cid%2Csource%2Crequiressl%2Chfr%2Cdemuxed%2Ctts_caps%2Cmaudio%2Cvprv%2Cgo%2Citag%2Cplaylist_type/sig/AOq0QJ8wRAIgK7OOitr4NLG49nfZIb9HUYoA64I-ykeg2et4dZWkwPgCIALStm_cMpzbxhgnWCg-BkWGB51VzKn7b87kyCE-nV27/lsparams/playback_host%2Cmh%2Cmm%2Cmn%2Cms%2Cmv%2Cmvi%2Cpl%2Cinitcwndbps/lsig/AG3C_xAwRQIgZ16N34RwfohRQtI6aKFBYkq63kjihR97-36w2vhQFOYCIQDgaxRcx9fPsj49Iwq-fVBiqyClp8zH-8NpyCxrVdnwMA%3D%3D/file/index.m3u8', 'tbr': 1286.727, 'ext': 'mp4', 'fps': 60.0, 'protocol': 'm3u8_native', 'preference': None, 'quality': 8, 'has_drm': False, 'width': 1280, 'height': 720, 'vcodec': 'vp09.00.40.08', 'acodec': 'none', 'dynamic_range': 'SDR', 'source_preference': -1, 'resolution': '1280x720', 'aspect_ratio': 1.78, 'http_headers': {'User-Agent': 'Mozilla/5.0 (Windows NT 10.0; Win64; x64) AppleWebKit/537.36 (KHTML, like Gecko) Chrome/93.0.4577.82 Safari/537.36', 'Accept': 'text/html,application/xhtml+xml,application/xml;q=0.9,*/*;q=0.8', 'Accept-Language': 'en-us,en;q=0.5', 'Sec-Fetch-Mode': 'navigate'}, 'video_ext': 'mp4', 'audio_ext': 'none', 'abr': 0, 'vbr': 1286.727, 'format': '612 - 1280x720'}, {'asr': None, 'filesize': 107988082, 'format_id': '302', 'format_note': '720p60', 'source_preference': -1, 'fps': 60, 'audio_channels': None, 'height': 720, 'quality': 8.0, 'has_drm': False, 'tbr': 536.417, 'url': 'https://rr1---sn-npoe7nz7.googlevideo.com/videoplayback?expire=1694786272&ei=gA4EZY3wHcHartoPz-yLyAE&ip=20.212.112.73&id=o-ACShWkNmBJlhKPX4vzkow_l6TCT12C-n11mPh7NKr9Sz&itag=302&source=youtube&requiressl=yes&mh=Z9&mm=31%2C29&mn=sn-npoe7nz7%2Csn-npoeened&ms=au%2Crdu&mv=m&mvi=1&pl=16&initcwndbps=1103750&vprv=1&svpuc=1&mime=video%2Fwebm&gir=yes&clen=107988082&dur=1610.508&lmt=1694476522577252&mt=1694764169&fvip=4&keepalive=yes&fexp=24007246&c=IOS&txp=4437434&sparams=expire%2Cei%2Cip%2Cid%2Citag%2Csource%2Crequiressl%2Cvprv%2Csvpuc%2Cmime%2Cgir%2Cclen%2Cdur%2Clmt&sig=AOq0QJ8wRQIgN0Ocjy8l7OfyPMIVGOJrevUdBCSLetNQgILTYN4d-AcCIQDQZ9Bamh4Y0R8udZG3cpdAHbsZEXTpPOV6HhecrvKVXw%3D%3D&lsparams=mh%2Cmm%2Cmn%2Cms%2Cmv%2Cmvi%2Cpl%2Cinitcwndbps&lsig=AG3C_xAwRgIhAIOs2_-bS64okoF2zxOBYpuoKOBpEYbtamz0MH88uul5AiEA5kyllkxNY05Um3npD7EVm_Jz-dBRU-lEIMmz0IoPH5U%3D', 'width': 1280, 'language': None, 'language_preference': -1, 'preference': None, 'ext': 'webm', 'vcodec': 'vp09.00.40.08', 'acodec': 'none', 'dynamic_range': 'SDR', 'container': 'webm_dash', 'downloader_options': {'http_chunk_size': 10485760}, 'protocol': 'https', 'resolution': '1280x720', 'aspect_ratio': 1.78, 'http_headers': {'User-Agent': 'Mozilla/5.0 (Windows NT 10.0; Win64; x64) AppleWebKit/537.36 (KHTML, like Gecko) Chrome/93.0.4577.82 Safari/537.36', 'Accept': 'text/html,application/xhtml+xml,application/xml;q=0.9,*/*;q=0.8', 'Accept-Language': 'en-us,en;q=0.5', 'Sec-Fetch-Mode': 'navigate'}, 'video_ext': 'webm', 'audio_ext': 'none', 'abr': 0, 'vbr': 536.417, 'format': '302 - 1280x720 (720p60)'}, {'format_id': '312', 'format_index': None, 'url': 'https://manifest.googlevideo.com/api/manifest/hls_playlist/expire/1694786272/ei/gA4EZY3wHcHartoPz-yLyAE/ip/20.212.112.73/id/dac739b940f38a00/itag/312/source/youtube/requiressl/yes/ratebypass/yes/pfa/1/sgovp/clen%3D322515157%3Bdur%3D1610.508%3Bgir%3Dyes%3Bitag%3D299%3Blmt%3D1694617602405606/hls_chunk_host/rr1---sn-npoe7nz7.googlevideo.com/mh/Z9/mm/31,29/mn/sn-npoe7nz7,sn-npoeened/ms/au,rdu/mv/m/mvi/1/pl/16/initcwndbps/1103750/vprv/1/playlist_type/DVR/dover/13/txp/4432434/mt/1694764169/fvip/4/short_key/1/keepalive/yes/fexp/24007246/sparams/expire,ei,ip,id,itag,source,requiressl,ratebypass,pfa,sgovp,vprv,playlist_type/sig/AOq0QJ8wRQIhAIosoc-H3OuBCsTMqCQb910ePwgbIG9tw5sXkU6C2Vh7AiBS3AocDlLiWk8UsCmhzWd_TUtW5G0EkgITPg3dqPIssA%3D%3D/lsparams/hls_chunk_host,mh,mm,mn,ms,mv,mvi,pl,initcwndbps/lsig/AG3C_xAwRQIhAOnpPSRV3ONO3KaRLfcJgS68B0sSrJsA-mlXQM_TAWKqAiBSmug8ncXepN5Z9N56YeC9T3OnPbJlZrJuMDAt0qNE3w%3D%3D/playlist/index.m3u8', 'manifest_url': 'https://manifest.googlevideo.com/api/manifest/hls_variant/expire/1694786272/ei/gA4EZY3wHcHartoPz-yLyAE/ip/20.212.112.73/id/dac739b940f38a00/source/youtube/requiressl/yes/playback_host/rr1---sn-npoe7nz7.googlevideo.com/mh/Z9/mm/31%2C29/mn/sn-npoe7nz7%2Csn-npoeened/ms/au%2Crdu/mv/m/mvi/1/pl/16/hfr/1/demuxed/1/tts_caps/1/maudio/1/initcwndbps/1103750/vprv/1/go/1/mt/1694764169/fvip/4/nvgoi/1/short_key/1/ncsapi/1/keepalive/yes/fexp/24007246/dover/13/itag/0/playlist_type/DVR/sparams/expire%2Cei%2Cip%2Cid%2Csource%2Crequiressl%2Chfr%2Cdemuxed%2Ctts_caps%2Cmaudio%2Cvprv%2Cgo%2Citag%2Cplaylist_type/sig/AOq0QJ8wRAIgK7OOitr4NLG49nfZIb9HUYoA64I-ykeg2et4dZWkwPgCIALStm_cMpzbxhgnWCg-BkWGB51VzKn7b87kyCE-nV27/lsparams/playback_host%2Cmh%2Cmm%2Cmn%2Cms%2Cmv%2Cmvi%2Cpl%2Cinitcwndbps/lsig/AG3C_xAwRQIgZ16N34RwfohRQtI6aKFBYkq63kjihR97-36w2vhQFOYCIQDgaxRcx9fPsj49Iwq-fVBiqyClp8zH-8NpyCxrVdnwMA%3D%3D/file/index.m3u8', 'tbr': 3126.134, 'ext': 'mp4', 'fps': 60.0, 'protocol': 'm3u8_native', 'preference': None, 'quality': 9, 'has_drm': False, 'width': 1920, 'height': 1080, 'vcodec': 'avc1.64002A', 'acodec': 'none', 'dynamic_range': 'SDR', 'source_preference': -1, 'resolution': '1920x1080', 'aspect_ratio': 1.78, 'http_headers': {'User-Agent': 'Mozilla/5.0 (Windows NT 10.0; Win64; x64) AppleWebKit/537.36 (KHTML, like Gecko) Chrome/93.0.4577.82 Safari/537.36', 'Accept': 'text/html,application/xhtml+xml,application/xml;q=0.9,*/*;q=0.8', 'Accept-Language': 'en-us,en;q=0.5', 'Sec-Fetch-Mode': 'navigate'}, 'video_ext': 'mp4', 'audio_ext': 'none', 'abr': 0, 'vbr': 3126.134, 'format': '312 - 1920x1080'}, {'asr': None, 'filesize': 322515157, 'format_id': '299', 'format_note': '1080p60', 'source_preference': -1, 'fps': 60, 'audio_channels': None, 'height': 1080, 'quality': 9.0, 'has_drm': False, 'tbr': 1602.054, 'url': 'https://rr1---sn-npoe7nz7.googlevideo.com/videoplayback?expire=1694786272&ei=gA4EZY3wHcHartoPz-yLyAE&ip=20.212.112.73&id=o-ACShWkNmBJlhKPX4vzkow_l6TCT12C-n11mPh7NKr9Sz&itag=299&source=youtube&requiressl=yes&mh=Z9&mm=31%2C29&mn=sn-npoe7nz7%2Csn-npoeened&ms=au%2Crdu&mv=m&mvi=1&pl=16&initcwndbps=1103750&vprv=1&svpuc=1&mime=video%2Fmp4&gir=yes&clen=322515157&dur=1610.508&lmt=1694617602405606&mt=1694764169&fvip=4&keepalive=yes&fexp=24007246&c=IOS&txp=4432434&sparams=expire%2Cei%2Cip%2Cid%2Citag%2Csource%2Crequiressl%2Cvprv%2Csvpuc%2Cmime%2Cgir%2Cclen%2Cdur%2Clmt&sig=AOq0QJ8wRQIgLs2LF--bV2GhZLKCa3cQUyUSgZZ7QQFc5Mayx4ZCe0UCIQDnraZ74iFfBcSFD47EyR27CyKPR5UZgKUdjI67phZCUQ%3D%3D&lsparams=mh%2Cmm%2Cmn%2Cms%2Cmv%2Cmvi%2Cpl%2Cinitcwndbps&lsig=AG3C_xAwRgIhAIOs2_-bS64okoF2zxOBYpuoKOBpEYbtamz0MH88uul5AiEA5kyllkxNY05Um3npD7EVm_Jz-dBRU-lEIMmz0IoPH5U%3D', 'width': 1920, 'language': None, 'language_preference': -1, 'preference': None, 'ext': 'mp4', 'vcodec': 'avc1.64002A', 'acodec': 'none', 'dynamic_range': 'SDR', 'container': 'mp4_dash', 'downloader_options': {'http_chunk_size': 10485760}, 'protocol': 'https', 'resolution': '1920x1080', 'aspect_ratio': 1.78, 'http_headers': {'User-Agent': 'Mozilla/5.0 (Windows NT 10.0; Win64; x64) AppleWebKit/537.36 (KHTML, like Gecko) Chrome/93.0.4577.82 Safari/537.36', 'Accept': 'text/html,application/xhtml+xml,application/xml;q=0.9,*/*;q=0.8', 'Accept-Language': 'en-us,en;q=0.5', 'Sec-Fetch-Mode': 'navigate'}, 'video_ext': 'mp4', 'audio_ext': 'none', 'abr': 0, 'vbr': 1602.054, 'format': '299 - 1920x1080 (1080p60)'}, {'format_id': '617', 'format_index': None, 'url': 'https://manifest.googlevideo.com/api/manifest/hls_playlist/expire/1694786272/ei/gA4EZY3wHcHartoPz-yLyAE/ip/20.212.112.73/id/dac739b940f38a00/itag/617/source/youtube/requiressl/yes/ratebypass/yes/pfa/1/wft/1/sgovp/clen%3D192789803%3Bdur%3D1610.508%3Bgir%3Dyes%3Bitag%3D303%3Blmt%3D1694477153141276/hls_chunk_host/rr1---sn-npoe7nz7.googlevideo.com/mh/Z9/mm/31,29/mn/sn-npoe7nz7,sn-npoeened/ms/au,rdu/mv/m/mvi/1/pl/16/initcwndbps/1103750/vprv/1/playlist_type/DVR/dover/13/txp/4437434/mt/1694764169/fvip/4/short_key/1/keepalive/yes/fexp/24007246/sparams/expire,ei,ip,id,itag,source,requiressl,ratebypass,pfa,wft,sgovp,vprv,playlist_type/sig/AOq0QJ8wRgIhALwQnBnJRhwkg54zQ5ESmCapMptZANG5TvvBr5PCY4DhAiEAp0MpwFYR1MGpmw_vMwgo1ChxNBBHv9AvzDjtnZ16CXE%3D/lsparams/hls_chunk_host,mh,mm,mn,ms,mv,mvi,pl,initcwndbps/lsig/AG3C_xAwRAIgJoPnME4Er_jFq2w90pA6R3wZ-8ntwBqD2NQZOco5c3wCICYRuaazyi2xEgxLN6O_RlUIdsAWb9Ud41oSAAOFghmt/playlist/index.m3u8', 'manifest_url': 'https://manifest.googlevideo.com/api/manifest/hls_variant/expire/1694786272/ei/gA4EZY3wHcHartoPz-yLyAE/ip/20.212.112.73/id/dac739b940f38a00/source/youtube/requiressl/yes/playback_host/rr1---sn-npoe7nz7.googlevideo.com/mh/Z9/mm/31%2C29/mn/sn-npoe7nz7%2Csn-npoeened/ms/au%2Crdu/mv/m/mvi/1/pl/16/hfr/1/demuxed/1/tts_caps/1/maudio/1/initcwndbps/1103750/vprv/1/go/1/mt/1694764169/fvip/4/nvgoi/1/short_key/1/ncsapi/1/keepalive/yes/fexp/24007246/dover/13/itag/0/playlist_type/DVR/sparams/expire%2Cei%2Cip%2Cid%2Csource%2Crequiressl%2Chfr%2Cdemuxed%2Ctts_caps%2Cmaudio%2Cvprv%2Cgo%2Citag%2Cplaylist_type/sig/AOq0QJ8wRAIgK7OOitr4NLG49nfZIb9HUYoA64I-ykeg2et4dZWkwPgCIALStm_cMpzbxhgnWCg-BkWGB51VzKn7b87kyCE-nV27/lsparams/playback_host%2Cmh%2Cmm%2Cmn%2Cms%2Cmv%2Cmvi%2Cpl%2Cinitcwndbps/lsig/AG3C_xAwRQIgZ16N34RwfohRQtI6aKFBYkq63kjihR97-36w2vhQFOYCIQDgaxRcx9fPsj49Iwq-fVBiqyClp8zH-8NpyCxrVdnwMA%3D%3D/file/index.m3u8', 'tbr': 2088.35, 'ext': 'mp4', 'fps': 60.0, 'protocol': 'm3u8_native', 'preference': None, 'quality': 9, 'has_drm': False, 'width': 1920, 'height': 1080, 'vcodec': 'vp09.00.41.08', 'acodec': 'none', 'dynamic_range': 'SDR', 'source_preference': -1, 'resolution': '1920x1080', 'aspect_ratio': 1.78, 'http_headers': {'User-Agent': 'Mozilla/5.0 (Windows NT 10.0; Win64; x64) AppleWebKit/537.36 (KHTML, like Gecko) Chrome/93.0.4577.82 Safari/537.36', 'Accept': 'text/html,application/xhtml+xml,application/xml;q=0.9,*/*;q=0.8', 'Accept-Language': 'en-us,en;q=0.5', 'Sec-Fetch-Mode': 'navigate'}, 'video_ext': 'mp4', 'audio_ext': 'none', 'abr': 0, 'vbr': 2088.35, 'format': '617 - 1920x1080'}, {'asr': None, 'filesize': 192789803, 'format_id': '303', 'format_note': '1080p60', 'source_preference': -1, 'fps': 60, 'audio_channels': None, 'height': 1080, 'quality': 9.0, 'has_drm': False, 'tbr': 957.659, 'url': 'https://rr1---sn-npoe7nz7.googlevideo.com/videoplayback?expire=1694786272&ei=gA4EZY3wHcHartoPz-yLyAE&ip=20.212.112.73&id=o-ACShWkNmBJlhKPX4vzkow_l6TCT12C-n11mPh7NKr9Sz&itag=303&source=youtube&requiressl=yes&mh=Z9&mm=31%2C29&mn=sn-npoe7nz7%2Csn-npoeened&ms=au%2Crdu&mv=m&mvi=1&pl=16&initcwndbps=1103750&vprv=1&svpuc=1&mime=video%2Fwebm&gir=yes&clen=192789803&dur=1610.508&lmt=1694477153141276&mt=1694764169&fvip=4&keepalive=yes&fexp=24007246&c=IOS&txp=4437434&sparams=expire%2Cei%2Cip%2Cid%2Citag%2Csource%2Crequiressl%2Cvprv%2Csvpuc%2Cmime%2Cgir%2Cclen%2Cdur%2Clmt&sig=AOq0QJ8wRgIhALDSkw_mb7PD9lqSE4TWQ2SmFoZIXQ1kkmjqVCjBkNkjAiEAm8lkigh7p478TfrqQp5ap2bqcmkcP1RNHr77PTxGmd0%3D&lsparams=mh%2Cmm%2Cmn%2Cms%2Cmv%2Cmvi%2Cpl%2Cinitcwndbps&lsig=AG3C_xAwRgIhAIOs2_-bS64okoF2zxOBYpuoKOBpEYbtamz0MH88uul5AiEA5kyllkxNY05Um3npD7EVm_Jz-dBRU-lEIMmz0IoPH5U%3D', 'width': 1920, 'language': None, 'language_preference': -1, 'preference': None, 'ext': 'webm', 'vcodec': 'vp09.00.41.08', 'acodec': 'none', 'dynamic_range': 'SDR', 'container': 'webm_dash', 'downloader_options': {'http_chunk_size': 10485760}, 'protocol': 'https', 'resolution': '1920x1080', 'aspect_ratio': 1.78, 'http_headers': {'User-Agent': 'Mozilla/5.0 (Windows NT 10.0; Win64; x64) AppleWebKit/537.36 (KHTML, like Gecko) Chrome/93.0.4577.82 Safari/537.36', 'Accept': 'text/html,application/xhtml+xml,application/xml;q=0.9,*/*;q=0.8', 'Accept-Language': 'en-us,en;q=0.5', 'Sec-Fetch-Mode': 'navigate'}, 'video_ext': 'webm', 'audio_ext': 'none', 'abr': 0, 'vbr': 957.659, 'format': '303 - 1920x1080 (1080p60)'}], 'thumbnails': [{'url': 'https://i.ytimg.com/vi/2sc5uUDzigA/3.jpg', 'preference': -37, 'id': '0'}, {'url': 'https://i.ytimg.com/vi_webp/2sc5uUDzigA/3.webp', 'preference': -36, 'id': '1'}, {'url': 'https://i.ytimg.com/vi/2sc5uUDzigA/2.jpg', 'preference': -35, 'id': '2'}, {'url': 'https://i.ytimg.com/vi_webp/2sc5uUDzigA/2.webp', 'preference': -34, 'id': '3'}, {'url': 'https://i.ytimg.com/vi/2sc5uUDzigA/1.jpg', 'preference': -33, 'id': '4'}, {'url': 'https://i.ytimg.com/vi_webp/2sc5uUDzigA/1.webp', 'preference': -32, 'id': '5'}, {'url': 'https://i.ytimg.com/vi/2sc5uUDzigA/mq3.jpg', 'preference': -31, 'id': '6'}, {'url': 'https://i.ytimg.com/vi_webp/2sc5uUDzigA/mq3.webp', 'preference': -30, 'id': '7'}, {'url': 'https://i.ytimg.com/vi/2sc5uUDzigA/mq2.jpg', 'preference': -29, 'id': '8'}, {'url': 'https://i.ytimg.com/vi_webp/2sc5uUDzigA/mq2.webp', 'preference': -28, 'id': '9'}, {'url': 'https://i.ytimg.com/vi/2sc5uUDzigA/mq1.jpg', 'preference': -27, 'id': '10'}, {'url': 'https://i.ytimg.com/vi_webp/2sc5uUDzigA/mq1.webp', 'preference': -26, 'id': '11'}, {'url': 'https://i.ytimg.com/vi/2sc5uUDzigA/hq3.jpg', 'preference': -25, 'id': '12'}, {'url': 'https://i.ytimg.com/vi_webp/2sc5uUDzigA/hq3.webp', 'preference': -24, 'id': '13'}, {'url': 'https://i.ytimg.com/vi/2sc5uUDzigA/hq2.jpg', 'preference': -23, 'id': '14'}, {'url': 'https://i.ytimg.com/vi_webp/2sc5uUDzigA/hq2.webp', 'preference': -22, 'id': '15'}, {'url': 'https://i.ytimg.com/vi/2sc5uUDzigA/hq1.jpg', 'preference': -21, 'id': '16'}, {'url': 'https://i.ytimg.com/vi_webp/2sc5uUDzigA/hq1.webp', 'preference': -20, 'id': '17'}, {'url': 'https://i.ytimg.com/vi/2sc5uUDzigA/sd3.jpg', 'preference': -19, 'id': '18'}, {'url': 'https://i.ytimg.com/vi_webp/2sc5uUDzigA/sd3.webp', 'preference': -18, 'id': '19'}, {'url': 'https://i.ytimg.com/vi/2sc5uUDzigA/sd2.jpg', 'preference': -17, 'id': '20'}, {'url': 'https://i.ytimg.com/vi_webp/2sc5uUDzigA/sd2.webp', 'preference': -16, 'id': '21'}, {'url': 'https://i.ytimg.com/vi/2sc5uUDzigA/sd1.jpg', 'preference': -15, 'id': '22'}, {'url': 'https://i.ytimg.com/vi_webp/2sc5uUDzigA/sd1.webp', 'preference': -14, 'id': '23'}, {'url': 'https://i.ytimg.com/vi/2sc5uUDzigA/default.jpg', 'height': 90, 'width': 120, 'preference': -13, 'id': '24', 'resolution': '120x90'}, {'url': 'https://i.ytimg.com/vi_webp/2sc5uUDzigA/default.webp', 'preference': -12, 'id': '25'}, {'url': 'https://i.ytimg.com/vi/2sc5uUDzigA/mqdefault.jpg', 'height': 180, 'width': 320, 'preference': -11, 'id': '26', 'resolution': '320x180'}, {'url': 'https://i.ytimg.com/vi_webp/2sc5uUDzigA/mqdefault.webp', 'preference': -10, 'id': '27'}, {'url': 'https://i.ytimg.com/vi/2sc5uUDzigA/0.jpg', 'preference': -9, 'id': '28'}, {'url': 'https://i.ytimg.com/vi_webp/2sc5uUDzigA/0.webp', 'preference': -8, 'id': '29'}, {'url': 'https://i.ytimg.com/vi/2sc5uUDzigA/hqdefault.jpg?sqp=-oaymwEbCKgBEF5IVfKriqkDDggBFQAAiEIYAXABwAEG&rs=AOn4CLAjojARoEdjrxIsLYf0Q5eFm4rASA', 'height': 94, 'width': 168, 'preference': -7, 'id': '30', 'resolution': '168x94'}, {'url': 'https://i.ytimg.com/vi/2sc5uUDzigA/hqdefault.jpg?sqp=-oaymwEbCMQBEG5IVfKriqkDDggBFQAAiEIYAXABwAEG&rs=AOn4CLCfEIr-mKbTqNJdnwn5k6mpO1Lt1w', 'height': 110, 'width': 196, 'preference': -7, 'id': '31', 'resolution': '196x110'}, {'url': 'https://i.ytimg.com/vi/2sc5uUDzigA/hqdefault.jpg?sqp=-oaymwEcCPYBEIoBSFXyq4qpAw4IARUAAIhCGAFwAcABBg==&rs=AOn4CLDLTbYeLmo6hHnFPR3lqZZ5Fn9MsQ', 'height': 138, 'width': 246, 'preference': -7, 'id': '32', 'resolution': '246x138'}, {'url': 'https://i.ytimg.com/vi/2sc5uUDzigA/hqdefault.jpg?sqp=-oaymwEcCNACELwBSFXyq4qpAw4IARUAAIhCGAFwAcABBg==&rs=AOn4CLA_Oo-8zWoxMkuL3u4rRUKuUlBD8Q', 'height': 188, 'width': 336, 'preference': -7, 'id': '33', 'resolution': '336x188'}, {'url': 'https://i.ytimg.com/vi/2sc5uUDzigA/hqdefault.jpg', 'height': 360, 'width': 480, 'preference': -7, 'id': '34', 'resolution': '480x360'}, {'url': 'https://i.ytimg.com/vi_webp/2sc5uUDzigA/hqdefault.webp', 'preference': -6, 'id': '35'}, {'url': 'https://i.ytimg.com/vi/2sc5uUDzigA/sddefault.jpg', 'height': 480, 'width': 640, 'preference': -5, 'id': '36', 'resolution': '640x480'}, {'url': 'https://i.ytimg.com/vi_webp/2sc5uUDzigA/sddefault.webp', 'preference': -4, 'id': '37'}, {'url': 'https://i.ytimg.com/vi/2sc5uUDzigA/hq720.jpg', 'preference': -3, 'id': '38'}, {'url': 'https://i.ytimg.com/vi_webp/2sc5uUDzigA/hq720.webp', 'preference': -2, 'id': '39'}, {'url': 'https://i.ytimg.com/vi/2sc5uUDzigA/maxresdefault.jpg', 'height': 1080, 'width': 1920, 'preference': -1, 'id': '40', 'resolution': '1920x1080'}, {'url': 'https://i.ytimg.com/vi_webp/2sc5uUDzigA/maxresdefault.webp', 'preference': 0, 'id': '41'}], 'thumbnail': 'https://i.ytimg.com/vi/2sc5uUDzigA/maxresdefault.jpg', 'description': '加入stone记会员链接\\nhttps://www.youtube.com/channel/UCghLs6s95LrBWOdlZUCH4qw/join\\n合作联系Twitter：stone记@stone62855987\\n我们现阶段录制视频使用的设备\\n主力相机Canon EOS R\\nhttps://amzn.to/2L2eHQG\\n主力镜头Canon RF 50mm f/1.2L USM Lens\\nhttps://amzn.to/2L3qWwt\\n主力无线麦克风Sennheiser AVX 配合MKE2\\nhttps://amzn.to/2ZliYnj\\n桌面三角架\\nhttps://amzn.to/321gZqc\\n将两个麦克风合一的Saramonic SR-AX100\\nhttps://amzn.to/2TWRofg\\n铁威马D8 332\\nhttps://amzn.to/3BqlGxT\\n\\n一些实用的附件推荐\\n相机背带Peak Design Slide Lite Camera Strap SLL-BK-3 (Black)\\nhttps://amzn.to/2QC0csh\\n相机腕带Peak Design Cuff Camera Wrist Strap\\nhttps://amzn.to/2S6Z4cZ\\n相机包Lowepro Adventura SH 160 II\\nhttps://amzn.to/2USOA2Q\\n三星T5 2TB移动硬盘\\nhttps://amzn.to/2rK72xf\\n佳能照片打印机Canon SELPHY CP1300\\nhttps://amzn.to/2EA2CBp\\nFlash Hot Shoe Mount Adapter热靴\\nhttps://amzn.to/2x9NPXU\\nLogitech BRIO\\nhttps://amzn.to/2Qp4Q9E\\nRode VideoMicro 手机麦克风\\nhttps://amzn.to/2CLwquJ\\nJOBY GorillaPod 3K Kit 八爪魚三腳架\\nhttps://amzn.to/2QqAofl\\nLogitech G903\\nhttps://amzn.to/2QocOzv\\nLogitech G Powerplay Wireless Charging System\\nhttps://amzn.to/2x29EIQ\\nBlue Yeti USB Microphone 桌面麦克风\\nhttps://amzn.to/2x52Eet\\nMarathon CL030060WH 显示温度和湿度的桌面时钟\\nhttps://amzn.to/2CLyfYB\\nMarathon CL030054WH 显示温度和湿度的床头时钟\\nhttps://amzn.to/2QkOS02\\n\\n介绍我们最近升级的新设备和心得（20181218第444期）\\nhttps://youtu.be/4G8yWQyBKak\\n介绍我们录制视频使用的全部设备（20180912第257期）\\nhttps://youtu.be/BbtTwsP_-zc', 'channel_id': 'UCghLs6s95LrBWOdlZUCH4qw', 'channel_url': 'https://www.youtube.com/channel/UCghLs6s95LrBWOdlZUCH4qw', 'duration': 1611, 'view_count': 48532, 'average_rating': None, 'age_limit': 0, 'webpage_url': 'https://www.youtube.com/watch?v=2sc5uUDzigA', 'categories': ['News & Politics'], 'tags': [], 'playable_in_embed': True, 'live_status': 'not_live', 'release_timestamp': None, '_format_sort_fields': ('quality', 'res', 'fps', 'hdr:12', 'source', 'vcodec:vp9.2', 'channels', 'acodec', 'lang', 'proto'), 'automatic_captions': {}, 'subtitles': {}, 'comment_count': None, 'chapters': None, 'heatmap': None, 'like_count': 220, 'channel': 'stone记', 'channel_follower_count': 437000, 'uploader': 'stone记', 'uploader_id': '@stone_ji', 'uploader_url': 'https://www.youtube.com/@stone_ji', 'upload_date': '20230909', 'availability': 'public', 'original_url': 'https://www.youtube.com/watch?v=2sc5uUDzigA', 'webpage_url_basename': 'watch', 'webpage_url_domain': 'youtube.com', 'extractor': 'youtube', 'extractor_key': 'Youtube', 'playlist': None, 'playlist_index': None, 'display_id': '2sc5uUDzigA', 'fulltitle': '立法不可能特别具体，最高法院释宪也是按照意识形态瞎解释（20230909第6313期）', 'duration_string': '26:51', 'is_live': False, 'was_live': False, 'requested_subtitles': None, '_has_drm': None, 'epoch': 1694764673, 'format': '606 - 854x480', 'format_id': '606', 'ext': 'mp4', 'protocol': 'm3u8_native', 'language': None, 'format_note': 'medium', 'filesize_approx': 26065848, 'tbr': 648.597, 'width': 854, 'height': 480, 'resolution': '854x480', 'fps': 30.0, 'dynamic_range': 'SDR', 'vcodec': 'vp09.00.30.08', 'vbr': 648.597, 'stretched_ratio': None, 'aspect_ratio': 1.78, 'acodec': 'none', 'abr': 0, 'asr': 44100, 'audio_channels': 2, '_filename': 'channel_id/2sc5uUDzigA.mp4', 'filename': 'channel_id/2sc5uUDzigA.mp4', '__real_download': False, 'format_index': None, 'url': 'https://manifest.googlevideo.com/api/manifest/hls_playlist/expire/1694786272/ei/gA4EZY3wHcHartoPz-yLyAE/ip/20.212.112.73/id/dac739b940f38a00/itag/606/source/youtube/requiressl/yes/ratebypass/yes/pfa/1/wft/1/sgovp/clen%3D45818884%3Bdur%3D1610.509%3Bgir%3Dyes%3Bitag%3D244%3Blmt%3D1694483812212522/hls_chunk_host/rr1---sn-npoe7nz7.googlevideo.com/mh/Z9/mm/31,29/mn/sn-npoe7nz7,sn-npoeened/ms/au,rdu/mv/m/mvi/1/pl/16/initcwndbps/1103750/vprv/1/playlist_type/DVR/dover/13/txp/4437434/mt/1694764169/fvip/4/short_key/1/keepalive/yes/fexp/24007246/sparams/expire,ei,ip,id,itag,source,requiressl,ratebypass,pfa,wft,sgovp,vprv,playlist_type/sig/AOq0QJ8wRQIhAK1JYqpnC2FWymLFqX4IZcej4A_46dKETzAWOteZxTYlAiAcF6az1ppJFOkBIT_BsryYDNKsevKfHoA7skoojm1IVA%3D%3D/lsparams/hls_chunk_host,mh,mm,mn,ms,mv,mvi,pl,initcwndbps/lsig/AG3C_xAwRAIgIl2o89T8uzZZaxFPcn9al1Bnxypd28HBQF0Bynze0lECIC0aiW_FYPEYwnwi6iZavO7dmU0XCUaVRoMJHfchkNYs/playlist/index.m3u8', 'manifest_url': 'https://manifest.googlevideo.com/api/manifest/hls_variant/expire/1694786272/ei/gA4EZY3wHcHartoPz-yLyAE/ip/20.212.112.73/id/dac739b940f38a00/source/youtube/requiressl/yes/playback_host/rr1---sn-npoe7nz7.googlevideo.com/mh/Z9/mm/31%2C29/mn/sn-npoe7nz7%2Csn-npoeened/ms/au%2Crdu/mv/m/mvi/1/pl/16/hfr/1/demuxed/1/tts_caps/1/maudio/1/initcwndbps/1103750/vprv/1/go/1/mt/1694764169/fvip/4/nvgoi/1/short_key/1/ncsapi/1/keepalive/yes/fexp/24007246/dover/13/itag/0/playlist_type/DVR/sparams/expire%2Cei%2Cip%2Cid%2Csource%2Crequiressl%2Chfr%2Cdemuxed%2Ctts_caps%2Cmaudio%2Cvprv%2Cgo%2Citag%2Cplaylist_type/sig/AOq0QJ8wRAIgK7OOitr4NLG49nfZIb9HUYoA64I-ykeg2et4dZWkwPgCIALStm_cMpzbxhgnWCg-BkWGB51VzKn7b87kyCE-nV27/lsparams/playback_host%2Cmh%2Cmm%2Cmn%2Cms%2Cmv%2Cmvi%2Cpl%2Cinitcwndbps/lsig/AG3C_xAwRQIgZ16N34RwfohRQtI6aKFBYkq63kjihR97-36w2vhQFOYCIQDgaxRcx9fPsj49Iwq-fVBiqyClp8zH-8NpyCxrVdnwMA%3D%3D/file/index.m3u8', 'preference': None, 'quality': 7, 'has_drm': False, 'source_preference': -1, 'http_headers': {'User-Agent': 'Mozilla/5.0 (Windows NT 10.0; Win64; x64) AppleWebKit/537.36 (KHTML, like Gecko) Chrome/93.0.4577.82 Safari/537.36', 'Accept': 'text/html,application/xhtml+xml,application/xml;q=0.9,*/*;q=0.8', 'Accept-Language': 'en-us,en;q=0.5', 'Sec-Fetch-Mode': 'navigate'}, 'video_ext': 'mp4', 'audio_ext': 'none'}, 'speed': 7507393.455572433, '_speed_str': '7.16MiB/s', '_total_bytes_str': '  43.95MiB', '_elapsed_str': '00:00:06', '_percent_str': '100.0%', '_default_template': '100% of   43.95MiB in 00:00:06 at 7.16MiB/s'}\n",
      "{'downloaded_bytes': 26065848, 'total_bytes': 26065848, 'filename': 'channel_id/2sc5uUDzigA.f140.m4a', 'status': 'finished', 'elapsed': 0.4864985942840576, 'ctx_id': None, 'info_dict': {'id': '2sc5uUDzigA', 'title': '立法不可能特别具体，最高法院释宪也是按照意识形态瞎解释（20230909第6313期）', 'formats': [{'format_id': 'sb2', 'format_note': 'storyboard', 'ext': 'mhtml', 'protocol': 'mhtml', 'acodec': 'none', 'vcodec': 'none', 'url': 'https://i.ytimg.com/sb/2sc5uUDzigA/storyboard3_L0/default.jpg?sqp=-oaymwENSDfyq4qpAwVwAcABBqLzl_8DBgjK0vCnBg==&sigh=rs$AOn4CLDAQhIWhK8MoJN2NNkziN-ayYbs4g', 'width': 48, 'height': 27, 'fps': 0.06207324643078833, 'rows': 10, 'columns': 10, 'fragments': [{'url': 'https://i.ytimg.com/sb/2sc5uUDzigA/storyboard3_L0/default.jpg?sqp=-oaymwENSDfyq4qpAwVwAcABBqLzl_8DBgjK0vCnBg==&sigh=rs$AOn4CLDAQhIWhK8MoJN2NNkziN-ayYbs4g', 'duration': 1611.0}], 'resolution': '48x27', 'aspect_ratio': 1.78, 'http_headers': {'User-Agent': 'Mozilla/5.0 (Windows NT 10.0; Win64; x64) AppleWebKit/537.36 (KHTML, like Gecko) Chrome/93.0.4577.82 Safari/537.36', 'Accept': 'text/html,application/xhtml+xml,application/xml;q=0.9,*/*;q=0.8', 'Accept-Language': 'en-us,en;q=0.5', 'Sec-Fetch-Mode': 'navigate'}, 'audio_ext': 'none', 'video_ext': 'none', 'vbr': 0, 'abr': 0, 'tbr': None, 'format': 'sb2 - 48x27 (storyboard)'}, {'format_id': 'sb1', 'format_note': 'storyboard', 'ext': 'mhtml', 'protocol': 'mhtml', 'acodec': 'none', 'vcodec': 'none', 'url': 'https://i.ytimg.com/sb/2sc5uUDzigA/storyboard3_L1/M$M.jpg?sqp=-oaymwENSDfyq4qpAwVwAcABBqLzl_8DBgjK0vCnBg==&sigh=rs$AOn4CLDctQJ04wxWmljT74rwjkj4pDms8w', 'width': 80, 'height': 45, 'fps': 0.10117939168218498, 'rows': 10, 'columns': 10, 'fragments': [{'url': 'https://i.ytimg.com/sb/2sc5uUDzigA/storyboard3_L1/M0.jpg?sqp=-oaymwENSDfyq4qpAwVwAcABBqLzl_8DBgjK0vCnBg==&sigh=rs$AOn4CLDctQJ04wxWmljT74rwjkj4pDms8w', 'duration': 988.3435582822086}, {'url': 'https://i.ytimg.com/sb/2sc5uUDzigA/storyboard3_L1/M1.jpg?sqp=-oaymwENSDfyq4qpAwVwAcABBqLzl_8DBgjK0vCnBg==&sigh=rs$AOn4CLDctQJ04wxWmljT74rwjkj4pDms8w', 'duration': 622.6564417177914}], 'resolution': '80x45', 'aspect_ratio': 1.78, 'http_headers': {'User-Agent': 'Mozilla/5.0 (Windows NT 10.0; Win64; x64) AppleWebKit/537.36 (KHTML, like Gecko) Chrome/93.0.4577.82 Safari/537.36', 'Accept': 'text/html,application/xhtml+xml,application/xml;q=0.9,*/*;q=0.8', 'Accept-Language': 'en-us,en;q=0.5', 'Sec-Fetch-Mode': 'navigate'}, 'audio_ext': 'none', 'video_ext': 'none', 'vbr': 0, 'abr': 0, 'tbr': None, 'format': 'sb1 - 80x45 (storyboard)'}, {'format_id': 'sb0', 'format_note': 'storyboard', 'ext': 'mhtml', 'protocol': 'mhtml', 'acodec': 'none', 'vcodec': 'none', 'url': 'https://i.ytimg.com/sb/2sc5uUDzigA/storyboard3_L2/M$M.jpg?sqp=-oaymwENSDfyq4qpAwVwAcABBqLzl_8DBgjK0vCnBg==&sigh=rs$AOn4CLB5_onyvuX0NenWgtOn1B0P7i6xAw', 'width': 160, 'height': 90, 'fps': 0.10117939168218498, 'rows': 5, 'columns': 5, 'fragments': [{'url': 'https://i.ytimg.com/sb/2sc5uUDzigA/storyboard3_L2/M0.jpg?sqp=-oaymwENSDfyq4qpAwVwAcABBqLzl_8DBgjK0vCnBg==&sigh=rs$AOn4CLB5_onyvuX0NenWgtOn1B0P7i6xAw', 'duration': 247.08588957055215}, {'url': 'https://i.ytimg.com/sb/2sc5uUDzigA/storyboard3_L2/M1.jpg?sqp=-oaymwENSDfyq4qpAwVwAcABBqLzl_8DBgjK0vCnBg==&sigh=rs$AOn4CLB5_onyvuX0NenWgtOn1B0P7i6xAw', 'duration': 247.08588957055215}, {'url': 'https://i.ytimg.com/sb/2sc5uUDzigA/storyboard3_L2/M2.jpg?sqp=-oaymwENSDfyq4qpAwVwAcABBqLzl_8DBgjK0vCnBg==&sigh=rs$AOn4CLB5_onyvuX0NenWgtOn1B0P7i6xAw', 'duration': 247.08588957055215}, {'url': 'https://i.ytimg.com/sb/2sc5uUDzigA/storyboard3_L2/M3.jpg?sqp=-oaymwENSDfyq4qpAwVwAcABBqLzl_8DBgjK0vCnBg==&sigh=rs$AOn4CLB5_onyvuX0NenWgtOn1B0P7i6xAw', 'duration': 247.08588957055215}, {'url': 'https://i.ytimg.com/sb/2sc5uUDzigA/storyboard3_L2/M4.jpg?sqp=-oaymwENSDfyq4qpAwVwAcABBqLzl_8DBgjK0vCnBg==&sigh=rs$AOn4CLB5_onyvuX0NenWgtOn1B0P7i6xAw', 'duration': 247.08588957055215}, {'url': 'https://i.ytimg.com/sb/2sc5uUDzigA/storyboard3_L2/M5.jpg?sqp=-oaymwENSDfyq4qpAwVwAcABBqLzl_8DBgjK0vCnBg==&sigh=rs$AOn4CLB5_onyvuX0NenWgtOn1B0P7i6xAw', 'duration': 247.08588957055215}, {'url': 'https://i.ytimg.com/sb/2sc5uUDzigA/storyboard3_L2/M6.jpg?sqp=-oaymwENSDfyq4qpAwVwAcABBqLzl_8DBgjK0vCnBg==&sigh=rs$AOn4CLB5_onyvuX0NenWgtOn1B0P7i6xAw', 'duration': 128.48466257668701}], 'resolution': '160x90', 'aspect_ratio': 1.78, 'http_headers': {'User-Agent': 'Mozilla/5.0 (Windows NT 10.0; Win64; x64) AppleWebKit/537.36 (KHTML, like Gecko) Chrome/93.0.4577.82 Safari/537.36', 'Accept': 'text/html,application/xhtml+xml,application/xml;q=0.9,*/*;q=0.8', 'Accept-Language': 'en-us,en;q=0.5', 'Sec-Fetch-Mode': 'navigate'}, 'audio_ext': 'none', 'video_ext': 'none', 'vbr': 0, 'abr': 0, 'tbr': None, 'format': 'sb0 - 160x90 (storyboard)'}, {'format_id': '233', 'format_note': 'Default', 'format_index': None, 'url': 'https://manifest.googlevideo.com/api/manifest/hls_playlist/expire/1694786272/ei/gA4EZY3wHcHartoPz-yLyAE/ip/20.212.112.73/id/dac739b940f38a00/itag/233/source/youtube/requiressl/yes/ratebypass/yes/pfa/1/goi/133/sgoap/clen%3D9822146%3Bdur%3D1610.628%3Bgir%3Dyes%3Bitag%3D139%3Blmt%3D1694607334234091/hls_chunk_host/rr1---sn-npoe7nz7.googlevideo.com/mh/Z9/mm/31,29/mn/sn-npoe7nz7,sn-npoeened/ms/au,rdu/mv/m/mvi/1/pl/16/initcwndbps/1103750/vprv/1/playlist_type/DVR/dover/13/txp/4432434/mt/1694764169/fvip/4/short_key/1/keepalive/yes/fexp/24007246/sparams/expire,ei,ip,id,itag,source,requiressl,ratebypass,pfa,goi,sgoap,vprv,playlist_type/sig/AOq0QJ8wRQIhAK5hw81S_GzFtR0JRbEgaePqPvkDmkHIP8uK8ffW9ThEAiB6cSDHm78KoZ4OwC_zO-0m_7n4QtESXHGdLUAjJjk35A%3D%3D/lsparams/hls_chunk_host,mh,mm,mn,ms,mv,mvi,pl,initcwndbps/lsig/AG3C_xAwRQIgbx1Gfk4P-PEpvTCpesHteVVjxxXg159mR0HBfpMq1P0CIQCnNfBaJ1AYZsZSpxWRue9g4qOLhWs44vmkVwOxX2ZBwQ%3D%3D/playlist/index.m3u8', 'manifest_url': 'https://manifest.googlevideo.com/api/manifest/hls_variant/expire/1694786272/ei/gA4EZY3wHcHartoPz-yLyAE/ip/20.212.112.73/id/dac739b940f38a00/source/youtube/requiressl/yes/playback_host/rr1---sn-npoe7nz7.googlevideo.com/mh/Z9/mm/31%2C29/mn/sn-npoe7nz7%2Csn-npoeened/ms/au%2Crdu/mv/m/mvi/1/pl/16/hfr/1/demuxed/1/tts_caps/1/maudio/1/initcwndbps/1103750/vprv/1/go/1/mt/1694764169/fvip/4/nvgoi/1/short_key/1/ncsapi/1/keepalive/yes/fexp/24007246/dover/13/itag/0/playlist_type/DVR/sparams/expire%2Cei%2Cip%2Cid%2Csource%2Crequiressl%2Chfr%2Cdemuxed%2Ctts_caps%2Cmaudio%2Cvprv%2Cgo%2Citag%2Cplaylist_type/sig/AOq0QJ8wRAIgK7OOitr4NLG49nfZIb9HUYoA64I-ykeg2et4dZWkwPgCIALStm_cMpzbxhgnWCg-BkWGB51VzKn7b87kyCE-nV27/lsparams/playback_host%2Cmh%2Cmm%2Cmn%2Cms%2Cmv%2Cmvi%2Cpl%2Cinitcwndbps/lsig/AG3C_xAwRQIgZ16N34RwfohRQtI6aKFBYkq63kjihR97-36w2vhQFOYCIQDgaxRcx9fPsj49Iwq-fVBiqyClp8zH-8NpyCxrVdnwMA%3D%3D/file/index.m3u8', 'language': None, 'ext': 'mp4', 'protocol': 'm3u8_native', 'preference': None, 'quality': -1, 'has_drm': False, 'vcodec': 'none', 'source_preference': -1, 'resolution': 'audio only', 'aspect_ratio': None, 'http_headers': {'User-Agent': 'Mozilla/5.0 (Windows NT 10.0; Win64; x64) AppleWebKit/537.36 (KHTML, like Gecko) Chrome/93.0.4577.82 Safari/537.36', 'Accept': 'text/html,application/xhtml+xml,application/xml;q=0.9,*/*;q=0.8', 'Accept-Language': 'en-us,en;q=0.5', 'Sec-Fetch-Mode': 'navigate'}, 'audio_ext': 'mp4', 'video_ext': 'none', 'vbr': 0, 'abr': None, 'tbr': None, 'format': '233 - audio only (Default)'}, {'format_id': '234', 'format_note': 'Default', 'format_index': None, 'url': 'https://manifest.googlevideo.com/api/manifest/hls_playlist/expire/1694786272/ei/gA4EZY3wHcHartoPz-yLyAE/ip/20.212.112.73/id/dac739b940f38a00/itag/234/source/youtube/requiressl/yes/ratebypass/yes/pfa/1/goi/133/sgoap/clen%3D26065848%3Bdur%3D1610.559%3Bgir%3Dyes%3Bitag%3D140%3Blmt%3D1694607391242903/hls_chunk_host/rr1---sn-npoe7nz7.googlevideo.com/mh/Z9/mm/31,29/mn/sn-npoe7nz7,sn-npoeened/ms/au,rdu/mv/m/mvi/1/pl/16/initcwndbps/1103750/vprv/1/playlist_type/DVR/dover/13/txp/4432434/mt/1694764169/fvip/4/short_key/1/keepalive/yes/fexp/24007246/sparams/expire,ei,ip,id,itag,source,requiressl,ratebypass,pfa,goi,sgoap,vprv,playlist_type/sig/AOq0QJ8wRQIgO70Xu7Kw6-Z-ZulufJy1yQA0cPD7Qu6QZub5Ssv4wRQCIQCmDTga131g6nbJ5x20jdDNog0ZLK01qCexpykv1ZB8ZQ%3D%3D/lsparams/hls_chunk_host,mh,mm,mn,ms,mv,mvi,pl,initcwndbps/lsig/AG3C_xAwRQIhAPANqg5UD5jDBFxLk7xzh6H5OqH3sdWQuKz9pIl9aUUaAiBPxOFlmyqgtk2DF7cxaF35d_C3z4NvOQKYLww2vpcyQw%3D%3D/playlist/index.m3u8', 'manifest_url': 'https://manifest.googlevideo.com/api/manifest/hls_variant/expire/1694786272/ei/gA4EZY3wHcHartoPz-yLyAE/ip/20.212.112.73/id/dac739b940f38a00/source/youtube/requiressl/yes/playback_host/rr1---sn-npoe7nz7.googlevideo.com/mh/Z9/mm/31%2C29/mn/sn-npoe7nz7%2Csn-npoeened/ms/au%2Crdu/mv/m/mvi/1/pl/16/hfr/1/demuxed/1/tts_caps/1/maudio/1/initcwndbps/1103750/vprv/1/go/1/mt/1694764169/fvip/4/nvgoi/1/short_key/1/ncsapi/1/keepalive/yes/fexp/24007246/dover/13/itag/0/playlist_type/DVR/sparams/expire%2Cei%2Cip%2Cid%2Csource%2Crequiressl%2Chfr%2Cdemuxed%2Ctts_caps%2Cmaudio%2Cvprv%2Cgo%2Citag%2Cplaylist_type/sig/AOq0QJ8wRAIgK7OOitr4NLG49nfZIb9HUYoA64I-ykeg2et4dZWkwPgCIALStm_cMpzbxhgnWCg-BkWGB51VzKn7b87kyCE-nV27/lsparams/playback_host%2Cmh%2Cmm%2Cmn%2Cms%2Cmv%2Cmvi%2Cpl%2Cinitcwndbps/lsig/AG3C_xAwRQIgZ16N34RwfohRQtI6aKFBYkq63kjihR97-36w2vhQFOYCIQDgaxRcx9fPsj49Iwq-fVBiqyClp8zH-8NpyCxrVdnwMA%3D%3D/file/index.m3u8', 'language': None, 'ext': 'mp4', 'protocol': 'm3u8_native', 'preference': None, 'quality': -1, 'has_drm': False, 'vcodec': 'none', 'source_preference': -1, 'resolution': 'audio only', 'aspect_ratio': None, 'http_headers': {'User-Agent': 'Mozilla/5.0 (Windows NT 10.0; Win64; x64) AppleWebKit/537.36 (KHTML, like Gecko) Chrome/93.0.4577.82 Safari/537.36', 'Accept': 'text/html,application/xhtml+xml,application/xml;q=0.9,*/*;q=0.8', 'Accept-Language': 'en-us,en;q=0.5', 'Sec-Fetch-Mode': 'navigate'}, 'audio_ext': 'mp4', 'video_ext': 'none', 'vbr': 0, 'abr': None, 'tbr': None, 'format': '234 - audio only (Default)'}, {'asr': 22050, 'filesize': 6198446, 'format_id': '599', 'format_note': 'ultralow', 'source_preference': -1, 'fps': None, 'audio_channels': 2, 'height': None, 'quality': 1.0, 'has_drm': False, 'tbr': 30.787, 'url': 'https://rr4---sn-npoeened.googlevideo.com/videoplayback?expire=1694786272&ei=gA4EZdXMJIuwjuMPx-O94As&ip=20.212.112.73&id=o-ADMVGdiG6HdKd9m-nm7LGgqLsAe9W1-udsnl31OtdxVS&itag=599&source=youtube&requiressl=yes&mh=Z9&mm=31%2C29&mn=sn-npoeened%2Csn-npoe7nz7&ms=au%2Crdu&mv=m&mvi=4&pl=16&initcwndbps=1581250&spc=UWF9f-HzrqeTu_MrdVA10nynXimw5cA&vprv=1&svpuc=1&mime=audio%2Fmp4&gir=yes&clen=6198446&dur=1610.628&lmt=1694607176106074&mt=1694764169&fvip=1&keepalive=yes&fexp=24007246%2C24362685&c=ANDROID&txp=4432434&sparams=expire%2Cei%2Cip%2Cid%2Citag%2Csource%2Crequiressl%2Cspc%2Cvprv%2Csvpuc%2Cmime%2Cgir%2Cclen%2Cdur%2Clmt&sig=AOq0QJ8wRQIgBWhRUTQa85vX8eoyocGscOwdj0E5BP0e9zp19rekCWgCIQDkzHQNbEdW3RTigLl_EhZEAaSqzWUUlKX23hqQyKnCDg%3D%3D&lsparams=mh%2Cmm%2Cmn%2Cms%2Cmv%2Cmvi%2Cpl%2Cinitcwndbps&lsig=AG3C_xAwRgIhAPRX5ybN8thISVhAZHPLocEdl3d233TLuH9mdDh3bnk8AiEAhPiG4dSfOeuCqPGGZayv7lfm6w9ps32FpRkmeF3Zxbo%3D', 'width': None, 'language': None, 'language_preference': -1, 'preference': None, 'ext': 'm4a', 'vcodec': 'none', 'acodec': 'mp4a.40.5', 'dynamic_range': None, 'container': 'm4a_dash', 'downloader_options': {'http_chunk_size': 10485760}, 'protocol': 'https', 'resolution': 'audio only', 'aspect_ratio': None, 'http_headers': {'User-Agent': 'Mozilla/5.0 (Windows NT 10.0; Win64; x64) AppleWebKit/537.36 (KHTML, like Gecko) Chrome/93.0.4577.82 Safari/537.36', 'Accept': 'text/html,application/xhtml+xml,application/xml;q=0.9,*/*;q=0.8', 'Accept-Language': 'en-us,en;q=0.5', 'Sec-Fetch-Mode': 'navigate'}, 'audio_ext': 'm4a', 'video_ext': 'none', 'vbr': 0, 'abr': 30.787, 'format': '599 - audio only (ultralow)'}, {'asr': 48000, 'filesize': 6919146, 'format_id': '600', 'format_note': 'ultralow', 'source_preference': -1, 'fps': None, 'audio_channels': 2, 'height': None, 'quality': 1.0, 'has_drm': False, 'tbr': 34.369, 'url': 'https://rr4---sn-npoeened.googlevideo.com/videoplayback?expire=1694786272&ei=gA4EZdXMJIuwjuMPx-O94As&ip=20.212.112.73&id=o-ADMVGdiG6HdKd9m-nm7LGgqLsAe9W1-udsnl31OtdxVS&itag=600&source=youtube&requiressl=yes&mh=Z9&mm=31%2C29&mn=sn-npoeened%2Csn-npoe7nz7&ms=au%2Crdu&mv=m&mvi=4&pl=16&initcwndbps=1581250&spc=UWF9f-HzrqeTu_MrdVA10nynXimw5cA&vprv=1&svpuc=1&mime=audio%2Fwebm&gir=yes&clen=6919146&dur=1610.521&lmt=1694463554317204&mt=1694764169&fvip=1&keepalive=yes&fexp=24007246%2C24362685&c=ANDROID&txp=4432434&sparams=expire%2Cei%2Cip%2Cid%2Citag%2Csource%2Crequiressl%2Cspc%2Cvprv%2Csvpuc%2Cmime%2Cgir%2Cclen%2Cdur%2Clmt&sig=AOq0QJ8wRgIhAJg-TifHx4MP7K4nvv-FaW-WHVxmRQLz5FKJ5v8eKwXqAiEA_WINzn68eRPnLT14J3KWqIBDCmuRQpQsXdp9ykUSXvc%3D&lsparams=mh%2Cmm%2Cmn%2Cms%2Cmv%2Cmvi%2Cpl%2Cinitcwndbps&lsig=AG3C_xAwRgIhAPRX5ybN8thISVhAZHPLocEdl3d233TLuH9mdDh3bnk8AiEAhPiG4dSfOeuCqPGGZayv7lfm6w9ps32FpRkmeF3Zxbo%3D', 'width': None, 'language': None, 'language_preference': -1, 'preference': None, 'ext': 'webm', 'vcodec': 'none', 'acodec': 'opus', 'dynamic_range': None, 'container': 'webm_dash', 'downloader_options': {'http_chunk_size': 10485760}, 'protocol': 'https', 'resolution': 'audio only', 'aspect_ratio': None, 'http_headers': {'User-Agent': 'Mozilla/5.0 (Windows NT 10.0; Win64; x64) AppleWebKit/537.36 (KHTML, like Gecko) Chrome/93.0.4577.82 Safari/537.36', 'Accept': 'text/html,application/xhtml+xml,application/xml;q=0.9,*/*;q=0.8', 'Accept-Language': 'en-us,en;q=0.5', 'Sec-Fetch-Mode': 'navigate'}, 'audio_ext': 'webm', 'video_ext': 'none', 'vbr': 0, 'abr': 34.369, 'format': '600 - audio only (ultralow)'}, {'asr': 22050, 'filesize': 9822146, 'format_id': '139', 'format_note': 'low', 'source_preference': -1, 'fps': None, 'audio_channels': 2, 'height': None, 'quality': 2.0, 'has_drm': False, 'tbr': 48.786, 'url': 'https://rr1---sn-npoe7nz7.googlevideo.com/videoplayback?expire=1694786272&ei=gA4EZY3wHcHartoPz-yLyAE&ip=20.212.112.73&id=o-ACShWkNmBJlhKPX4vzkow_l6TCT12C-n11mPh7NKr9Sz&itag=139&source=youtube&requiressl=yes&mh=Z9&mm=31%2C29&mn=sn-npoe7nz7%2Csn-npoeened&ms=au%2Crdu&mv=m&mvi=1&pl=16&initcwndbps=1103750&vprv=1&svpuc=1&mime=audio%2Fmp4&gir=yes&clen=9822146&dur=1610.628&lmt=1694607334234091&mt=1694764169&fvip=4&keepalive=yes&fexp=24007246&c=IOS&txp=4432434&sparams=expire%2Cei%2Cip%2Cid%2Citag%2Csource%2Crequiressl%2Cvprv%2Csvpuc%2Cmime%2Cgir%2Cclen%2Cdur%2Clmt&sig=AOq0QJ8wRQIgdshIJE_olwLd-4eaWJFkrQtnaH3fBqp_AjcuFa8kIWgCIQCd-Qs97qKlmaeQ5f8mzFoiZg3lf9dY9MXuqOoVaBmo2A%3D%3D&lsparams=mh%2Cmm%2Cmn%2Cms%2Cmv%2Cmvi%2Cpl%2Cinitcwndbps&lsig=AG3C_xAwRgIhAIOs2_-bS64okoF2zxOBYpuoKOBpEYbtamz0MH88uul5AiEA5kyllkxNY05Um3npD7EVm_Jz-dBRU-lEIMmz0IoPH5U%3D', 'width': None, 'language': None, 'language_preference': -1, 'preference': None, 'ext': 'm4a', 'vcodec': 'none', 'acodec': 'mp4a.40.5', 'dynamic_range': None, 'container': 'm4a_dash', 'downloader_options': {'http_chunk_size': 10485760}, 'protocol': 'https', 'resolution': 'audio only', 'aspect_ratio': None, 'http_headers': {'User-Agent': 'Mozilla/5.0 (Windows NT 10.0; Win64; x64) AppleWebKit/537.36 (KHTML, like Gecko) Chrome/93.0.4577.82 Safari/537.36', 'Accept': 'text/html,application/xhtml+xml,application/xml;q=0.9,*/*;q=0.8', 'Accept-Language': 'en-us,en;q=0.5', 'Sec-Fetch-Mode': 'navigate'}, 'audio_ext': 'm4a', 'video_ext': 'none', 'vbr': 0, 'abr': 48.786, 'format': '139 - audio only (low)'}, {'asr': 48000, 'filesize': 10174573, 'format_id': '249', 'format_note': 'low', 'source_preference': -1, 'fps': None, 'audio_channels': 2, 'height': None, 'quality': 2.0, 'has_drm': False, 'tbr': 50.54, 'url': 'https://rr4---sn-npoeened.googlevideo.com/videoplayback?expire=1694786272&ei=gA4EZdXMJIuwjuMPx-O94As&ip=20.212.112.73&id=o-ADMVGdiG6HdKd9m-nm7LGgqLsAe9W1-udsnl31OtdxVS&itag=249&source=youtube&requiressl=yes&mh=Z9&mm=31%2C29&mn=sn-npoeened%2Csn-npoe7nz7&ms=au%2Crdu&mv=m&mvi=4&pl=16&initcwndbps=1581250&spc=UWF9f-HzrqeTu_MrdVA10nynXimw5cA&vprv=1&svpuc=1&mime=audio%2Fwebm&gir=yes&clen=10174573&dur=1610.521&lmt=1694463554315428&mt=1694764169&fvip=1&keepalive=yes&fexp=24007246%2C24362685&c=ANDROID&txp=4432434&sparams=expire%2Cei%2Cip%2Cid%2Citag%2Csource%2Crequiressl%2Cspc%2Cvprv%2Csvpuc%2Cmime%2Cgir%2Cclen%2Cdur%2Clmt&sig=AOq0QJ8wRQIgVOfr9BYiAk0G9EYh_lymIMlzmIMsaQBOqQ3yCw1E-FwCIQCfSOjO4j526xe-X12-r5FvPekgv13gFCUotzavAnCUDQ%3D%3D&lsparams=mh%2Cmm%2Cmn%2Cms%2Cmv%2Cmvi%2Cpl%2Cinitcwndbps&lsig=AG3C_xAwRgIhAPRX5ybN8thISVhAZHPLocEdl3d233TLuH9mdDh3bnk8AiEAhPiG4dSfOeuCqPGGZayv7lfm6w9ps32FpRkmeF3Zxbo%3D', 'width': None, 'language': None, 'language_preference': -1, 'preference': None, 'ext': 'webm', 'vcodec': 'none', 'acodec': 'opus', 'dynamic_range': None, 'container': 'webm_dash', 'downloader_options': {'http_chunk_size': 10485760}, 'protocol': 'https', 'resolution': 'audio only', 'aspect_ratio': None, 'http_headers': {'User-Agent': 'Mozilla/5.0 (Windows NT 10.0; Win64; x64) AppleWebKit/537.36 (KHTML, like Gecko) Chrome/93.0.4577.82 Safari/537.36', 'Accept': 'text/html,application/xhtml+xml,application/xml;q=0.9,*/*;q=0.8', 'Accept-Language': 'en-us,en;q=0.5', 'Sec-Fetch-Mode': 'navigate'}, 'audio_ext': 'webm', 'video_ext': 'none', 'vbr': 0, 'abr': 50.54, 'format': '249 - audio only (low)'}, {'asr': 48000, 'filesize': 11307650, 'format_id': '250', 'format_note': 'low', 'source_preference': -1, 'fps': None, 'audio_channels': 2, 'height': None, 'quality': 2.0, 'has_drm': False, 'tbr': 56.168, 'url': 'https://rr4---sn-npoeened.googlevideo.com/videoplayback?expire=1694786272&ei=gA4EZdXMJIuwjuMPx-O94As&ip=20.212.112.73&id=o-ADMVGdiG6HdKd9m-nm7LGgqLsAe9W1-udsnl31OtdxVS&itag=250&source=youtube&requiressl=yes&mh=Z9&mm=31%2C29&mn=sn-npoeened%2Csn-npoe7nz7&ms=au%2Crdu&mv=m&mvi=4&pl=16&initcwndbps=1581250&spc=UWF9f-HzrqeTu_MrdVA10nynXimw5cA&vprv=1&svpuc=1&mime=audio%2Fwebm&gir=yes&clen=11307650&dur=1610.521&lmt=1694463554333880&mt=1694764169&fvip=1&keepalive=yes&fexp=24007246%2C24362685&c=ANDROID&txp=4432434&sparams=expire%2Cei%2Cip%2Cid%2Citag%2Csource%2Crequiressl%2Cspc%2Cvprv%2Csvpuc%2Cmime%2Cgir%2Cclen%2Cdur%2Clmt&sig=AOq0QJ8wRAIgaHncHkjJ_E_lzDqDDI6yxrEoSZBjXfNKPAX0JwJpWfICIAFCHi6LMUujUtx-4sG8tKKj_CFFvf6Krph0OAvvXfM1&lsparams=mh%2Cmm%2Cmn%2Cms%2Cmv%2Cmvi%2Cpl%2Cinitcwndbps&lsig=AG3C_xAwRgIhAPRX5ybN8thISVhAZHPLocEdl3d233TLuH9mdDh3bnk8AiEAhPiG4dSfOeuCqPGGZayv7lfm6w9ps32FpRkmeF3Zxbo%3D', 'width': None, 'language': None, 'language_preference': -1, 'preference': None, 'ext': 'webm', 'vcodec': 'none', 'acodec': 'opus', 'dynamic_range': None, 'container': 'webm_dash', 'downloader_options': {'http_chunk_size': 10485760}, 'protocol': 'https', 'resolution': 'audio only', 'aspect_ratio': None, 'http_headers': {'User-Agent': 'Mozilla/5.0 (Windows NT 10.0; Win64; x64) AppleWebKit/537.36 (KHTML, like Gecko) Chrome/93.0.4577.82 Safari/537.36', 'Accept': 'text/html,application/xhtml+xml,application/xml;q=0.9,*/*;q=0.8', 'Accept-Language': 'en-us,en;q=0.5', 'Sec-Fetch-Mode': 'navigate'}, 'audio_ext': 'webm', 'video_ext': 'none', 'vbr': 0, 'abr': 56.168, 'format': '250 - audio only (low)'}, {'asr': 44100, 'filesize': 26065848, 'format_id': '140', 'format_note': 'medium', 'source_preference': -1, 'fps': None, 'audio_channels': 2, 'height': None, 'quality': 3.0, 'has_drm': False, 'tbr': 129.474, 'url': 'https://rr1---sn-npoe7nz7.googlevideo.com/videoplayback?expire=1694786272&ei=gA4EZY3wHcHartoPz-yLyAE&ip=20.212.112.73&id=o-ACShWkNmBJlhKPX4vzkow_l6TCT12C-n11mPh7NKr9Sz&itag=140&source=youtube&requiressl=yes&mh=Z9&mm=31%2C29&mn=sn-npoe7nz7%2Csn-npoeened&ms=au%2Crdu&mv=m&mvi=1&pl=16&initcwndbps=1103750&vprv=1&svpuc=1&mime=audio%2Fmp4&gir=yes&clen=26065848&dur=1610.559&lmt=1694607391242903&mt=1694764169&fvip=4&keepalive=yes&fexp=24007246&c=IOS&txp=4432434&sparams=expire%2Cei%2Cip%2Cid%2Citag%2Csource%2Crequiressl%2Cvprv%2Csvpuc%2Cmime%2Cgir%2Cclen%2Cdur%2Clmt&sig=AOq0QJ8wRQIgCLUPzb3mcueCDlFyoR_HYQgEWoUZNbcRZKTfFhOsdiICIQCkq4rYRrnLRk29NzHkGI9F5RxvnMxPsL2elRRBqDvOdw%3D%3D&lsparams=mh%2Cmm%2Cmn%2Cms%2Cmv%2Cmvi%2Cpl%2Cinitcwndbps&lsig=AG3C_xAwRgIhAIOs2_-bS64okoF2zxOBYpuoKOBpEYbtamz0MH88uul5AiEA5kyllkxNY05Um3npD7EVm_Jz-dBRU-lEIMmz0IoPH5U%3D', 'width': None, 'language': None, 'language_preference': -1, 'preference': None, 'ext': 'm4a', 'vcodec': 'none', 'acodec': 'mp4a.40.2', 'dynamic_range': None, 'container': 'm4a_dash', 'downloader_options': {'http_chunk_size': 10485760}, 'protocol': 'https', 'resolution': 'audio only', 'aspect_ratio': None, 'http_headers': {'User-Agent': 'Mozilla/5.0 (Windows NT 10.0; Win64; x64) AppleWebKit/537.36 (KHTML, like Gecko) Chrome/93.0.4577.82 Safari/537.36', 'Accept': 'text/html,application/xhtml+xml,application/xml;q=0.9,*/*;q=0.8', 'Accept-Language': 'en-us,en;q=0.5', 'Sec-Fetch-Mode': 'navigate'}, 'audio_ext': 'm4a', 'video_ext': 'none', 'vbr': 0, 'abr': 129.474, 'format': '140 - audio only (medium)'}, {'asr': 48000, 'filesize': 20636377, 'format_id': '251', 'format_note': 'medium', 'source_preference': -1, 'fps': None, 'audio_channels': 2, 'height': None, 'quality': 3.0, 'has_drm': False, 'tbr': 102.507, 'url': 'https://rr4---sn-npoeened.googlevideo.com/videoplayback?expire=1694786272&ei=gA4EZdXMJIuwjuMPx-O94As&ip=20.212.112.73&id=o-ADMVGdiG6HdKd9m-nm7LGgqLsAe9W1-udsnl31OtdxVS&itag=251&source=youtube&requiressl=yes&mh=Z9&mm=31%2C29&mn=sn-npoeened%2Csn-npoe7nz7&ms=au%2Crdu&mv=m&mvi=4&pl=16&initcwndbps=1581250&spc=UWF9f-HzrqeTu_MrdVA10nynXimw5cA&vprv=1&svpuc=1&mime=audio%2Fwebm&gir=yes&clen=20636377&dur=1610.521&lmt=1694463554220151&mt=1694764169&fvip=1&keepalive=yes&fexp=24007246%2C24362685&c=ANDROID&txp=4432434&sparams=expire%2Cei%2Cip%2Cid%2Citag%2Csource%2Crequiressl%2Cspc%2Cvprv%2Csvpuc%2Cmime%2Cgir%2Cclen%2Cdur%2Clmt&sig=AOq0QJ8wRgIhAMGwzxsf-dhCZT8dCpxjYijbL8tqEnY3A8bvepwFlrRnAiEAmABk3FGhw17XNsFTA36FWxEwl6QqP0pafBhLM-fomGE%3D&lsparams=mh%2Cmm%2Cmn%2Cms%2Cmv%2Cmvi%2Cpl%2Cinitcwndbps&lsig=AG3C_xAwRgIhAPRX5ybN8thISVhAZHPLocEdl3d233TLuH9mdDh3bnk8AiEAhPiG4dSfOeuCqPGGZayv7lfm6w9ps32FpRkmeF3Zxbo%3D', 'width': None, 'language': None, 'language_preference': -1, 'preference': None, 'ext': 'webm', 'vcodec': 'none', 'acodec': 'opus', 'dynamic_range': None, 'container': 'webm_dash', 'downloader_options': {'http_chunk_size': 10485760}, 'protocol': 'https', 'resolution': 'audio only', 'aspect_ratio': None, 'http_headers': {'User-Agent': 'Mozilla/5.0 (Windows NT 10.0; Win64; x64) AppleWebKit/537.36 (KHTML, like Gecko) Chrome/93.0.4577.82 Safari/537.36', 'Accept': 'text/html,application/xhtml+xml,application/xml;q=0.9,*/*;q=0.8', 'Accept-Language': 'en-us,en;q=0.5', 'Sec-Fetch-Mode': 'navigate'}, 'audio_ext': 'webm', 'video_ext': 'none', 'vbr': 0, 'abr': 102.507, 'format': '251 - audio only (medium)'}, {'asr': 22050, 'filesize': 15823053, 'format_id': '17', 'format_note': '144p', 'source_preference': -1, 'fps': 8, 'audio_channels': 1, 'height': 144, 'quality': 0.0, 'has_drm': False, 'tbr': 78.593, 'url': 'https://rr4---sn-npoeened.googlevideo.com/videoplayback?expire=1694786272&ei=gA4EZdXMJIuwjuMPx-O94As&ip=20.212.112.73&id=o-ADMVGdiG6HdKd9m-nm7LGgqLsAe9W1-udsnl31OtdxVS&itag=17&source=youtube&requiressl=yes&mh=Z9&mm=31%2C29&mn=sn-npoeened%2Csn-npoe7nz7&ms=au%2Crdu&mv=m&mvi=4&pl=16&initcwndbps=1581250&spc=UWF9f-HzrqeTu_MrdVA10nynXimw5cA&vprv=1&svpuc=1&mime=video%2F3gpp&gir=yes&clen=15823053&dur=1610.628&lmt=1694476294737754&mt=1694764169&fvip=1&fexp=24007246%2C24362685&c=ANDROID&txp=4432434&sparams=expire%2Cei%2Cip%2Cid%2Citag%2Csource%2Crequiressl%2Cspc%2Cvprv%2Csvpuc%2Cmime%2Cgir%2Cclen%2Cdur%2Clmt&sig=AOq0QJ8wRAIgC3YtouYPa2n89rod_Nc3Qkj7PWxh49kmktsyao8T7DoCIGwQIZ5QRV-wvyYwElt-hEktd3UayFRASIJcHZbHdd6z&lsparams=mh%2Cmm%2Cmn%2Cms%2Cmv%2Cmvi%2Cpl%2Cinitcwndbps&lsig=AG3C_xAwRgIhAPRX5ybN8thISVhAZHPLocEdl3d233TLuH9mdDh3bnk8AiEAhPiG4dSfOeuCqPGGZayv7lfm6w9ps32FpRkmeF3Zxbo%3D', 'width': 176, 'language': None, 'language_preference': -1, 'preference': -2, 'ext': '3gp', 'vcodec': 'mp4v.20.3', 'acodec': 'mp4a.40.2', 'dynamic_range': 'SDR', 'downloader_options': {'http_chunk_size': 10485760}, 'protocol': 'https', 'resolution': '176x144', 'aspect_ratio': 1.22, 'http_headers': {'User-Agent': 'Mozilla/5.0 (Windows NT 10.0; Win64; x64) AppleWebKit/537.36 (KHTML, like Gecko) Chrome/93.0.4577.82 Safari/537.36', 'Accept': 'text/html,application/xhtml+xml,application/xml;q=0.9,*/*;q=0.8', 'Accept-Language': 'en-us,en;q=0.5', 'Sec-Fetch-Mode': 'navigate'}, 'video_ext': '3gp', 'audio_ext': 'none', 'vbr': None, 'abr': None, 'format': '17 - 176x144 (144p)'}, {'asr': None, 'filesize': 6058809, 'format_id': '597', 'format_note': '144p', 'source_preference': -1, 'fps': 15, 'audio_channels': None, 'height': 144, 'quality': 0.0, 'has_drm': False, 'tbr': 30.097, 'url': 'https://rr4---sn-npoeened.googlevideo.com/videoplayback?expire=1694786272&ei=gA4EZdXMJIuwjuMPx-O94As&ip=20.212.112.73&id=o-ADMVGdiG6HdKd9m-nm7LGgqLsAe9W1-udsnl31OtdxVS&itag=597&source=youtube&requiressl=yes&mh=Z9&mm=31%2C29&mn=sn-npoeened%2Csn-npoe7nz7&ms=au%2Crdu&mv=m&mvi=4&pl=16&initcwndbps=1581250&spc=UWF9f-HzrqeTu_MrdVA10nynXimw5cA&vprv=1&svpuc=1&mime=video%2Fmp4&gir=yes&clen=6058809&dur=1610.475&lmt=1694616992139148&mt=1694764169&fvip=1&keepalive=yes&fexp=24007246%2C24362685&c=ANDROID&txp=4432434&sparams=expire%2Cei%2Cip%2Cid%2Citag%2Csource%2Crequiressl%2Cspc%2Cvprv%2Csvpuc%2Cmime%2Cgir%2Cclen%2Cdur%2Clmt&sig=AOq0QJ8wRQIgI5-0MOqt_CHKiYvGoUDVYl9YVkUkmvkH5jludzLGPn4CIQD5eKayQ0tp1OI7vupRQq5T-ZA5XeX1bKTtzutFxRIsSA%3D%3D&lsparams=mh%2Cmm%2Cmn%2Cms%2Cmv%2Cmvi%2Cpl%2Cinitcwndbps&lsig=AG3C_xAwRgIhAPRX5ybN8thISVhAZHPLocEdl3d233TLuH9mdDh3bnk8AiEAhPiG4dSfOeuCqPGGZayv7lfm6w9ps32FpRkmeF3Zxbo%3D', 'width': 256, 'language': None, 'language_preference': -1, 'preference': None, 'ext': 'mp4', 'vcodec': 'avc1.4d400b', 'acodec': 'none', 'dynamic_range': 'SDR', 'container': 'mp4_dash', 'downloader_options': {'http_chunk_size': 10485760}, 'protocol': 'https', 'resolution': '256x144', 'aspect_ratio': 1.78, 'http_headers': {'User-Agent': 'Mozilla/5.0 (Windows NT 10.0; Win64; x64) AppleWebKit/537.36 (KHTML, like Gecko) Chrome/93.0.4577.82 Safari/537.36', 'Accept': 'text/html,application/xhtml+xml,application/xml;q=0.9,*/*;q=0.8', 'Accept-Language': 'en-us,en;q=0.5', 'Sec-Fetch-Mode': 'navigate'}, 'video_ext': 'mp4', 'audio_ext': 'none', 'abr': 0, 'vbr': 30.097, 'format': '597 - 256x144 (144p)'}, {'format_id': '602', 'format_index': None, 'url': 'https://manifest.googlevideo.com/api/manifest/hls_playlist/expire/1694786272/ei/gA4EZY3wHcHartoPz-yLyAE/ip/20.212.112.73/id/dac739b940f38a00/itag/602/source/youtube/requiressl/yes/ratebypass/yes/pfa/1/wft/1/sgovp/clen%3D4262212%3Bdur%3D1610.508%3Bgir%3Dyes%3Bitag%3D598%3Blmt%3D1694476299062049/hls_chunk_host/rr1---sn-npoe7nz7.googlevideo.com/mh/Z9/mm/31,29/mn/sn-npoe7nz7,sn-npoeened/ms/au,rdu/mv/m/mvi/1/pl/16/initcwndbps/1103750/vprv/1/playlist_type/DVR/dover/13/txp/4432434/mt/1694764169/fvip/4/short_key/1/keepalive/yes/fexp/24007246/sparams/expire,ei,ip,id,itag,source,requiressl,ratebypass,pfa,wft,sgovp,vprv,playlist_type/sig/AOq0QJ8wRgIhAMqGU5WEvcUiQoiG1YwXcK4CKoXSm1jl2F72jQnlxf_-AiEAugiPgMRAvqpnFY9jE5Rjoz4hQSrECqc24Oi8baLXV7I%3D/lsparams/hls_chunk_host,mh,mm,mn,ms,mv,mvi,pl,initcwndbps/lsig/AG3C_xAwRQIhAJ__muVyvCCnb3jb-jfGvWQjxs2YltFXl4t4YuRWo_UkAiAoHcXQ8oQcUG9PXRdLQhzoxey5dJE35MBqC1FGkgmmHg%3D%3D/playlist/index.m3u8', 'manifest_url': 'https://manifest.googlevideo.com/api/manifest/hls_variant/expire/1694786272/ei/gA4EZY3wHcHartoPz-yLyAE/ip/20.212.112.73/id/dac739b940f38a00/source/youtube/requiressl/yes/playback_host/rr1---sn-npoe7nz7.googlevideo.com/mh/Z9/mm/31%2C29/mn/sn-npoe7nz7%2Csn-npoeened/ms/au%2Crdu/mv/m/mvi/1/pl/16/hfr/1/demuxed/1/tts_caps/1/maudio/1/initcwndbps/1103750/vprv/1/go/1/mt/1694764169/fvip/4/nvgoi/1/short_key/1/ncsapi/1/keepalive/yes/fexp/24007246/dover/13/itag/0/playlist_type/DVR/sparams/expire%2Cei%2Cip%2Cid%2Csource%2Crequiressl%2Chfr%2Cdemuxed%2Ctts_caps%2Cmaudio%2Cvprv%2Cgo%2Citag%2Cplaylist_type/sig/AOq0QJ8wRAIgK7OOitr4NLG49nfZIb9HUYoA64I-ykeg2et4dZWkwPgCIALStm_cMpzbxhgnWCg-BkWGB51VzKn7b87kyCE-nV27/lsparams/playback_host%2Cmh%2Cmm%2Cmn%2Cms%2Cmv%2Cmvi%2Cpl%2Cinitcwndbps/lsig/AG3C_xAwRQIgZ16N34RwfohRQtI6aKFBYkq63kjihR97-36w2vhQFOYCIQDgaxRcx9fPsj49Iwq-fVBiqyClp8zH-8NpyCxrVdnwMA%3D%3D/file/index.m3u8', 'tbr': 80.312, 'ext': 'mp4', 'fps': 15.0, 'protocol': 'm3u8_native', 'preference': None, 'quality': 0, 'has_drm': False, 'width': 256, 'height': 144, 'vcodec': 'vp09.00.10.08', 'acodec': 'none', 'dynamic_range': 'SDR', 'source_preference': -1, 'resolution': '256x144', 'aspect_ratio': 1.78, 'http_headers': {'User-Agent': 'Mozilla/5.0 (Windows NT 10.0; Win64; x64) AppleWebKit/537.36 (KHTML, like Gecko) Chrome/93.0.4577.82 Safari/537.36', 'Accept': 'text/html,application/xhtml+xml,application/xml;q=0.9,*/*;q=0.8', 'Accept-Language': 'en-us,en;q=0.5', 'Sec-Fetch-Mode': 'navigate'}, 'video_ext': 'mp4', 'audio_ext': 'none', 'abr': 0, 'vbr': 80.312, 'format': '602 - 256x144'}, {'asr': None, 'filesize': 4262212, 'format_id': '598', 'format_note': '144p', 'source_preference': -1, 'fps': 15, 'audio_channels': None, 'height': 144, 'quality': 0.0, 'has_drm': False, 'tbr': 21.172, 'url': 'https://rr4---sn-npoeened.googlevideo.com/videoplayback?expire=1694786272&ei=gA4EZdXMJIuwjuMPx-O94As&ip=20.212.112.73&id=o-ADMVGdiG6HdKd9m-nm7LGgqLsAe9W1-udsnl31OtdxVS&itag=598&source=youtube&requiressl=yes&mh=Z9&mm=31%2C29&mn=sn-npoeened%2Csn-npoe7nz7&ms=au%2Crdu&mv=m&mvi=4&pl=16&initcwndbps=1581250&spc=UWF9f-HzrqeTu_MrdVA10nynXimw5cA&vprv=1&svpuc=1&mime=video%2Fwebm&gir=yes&clen=4262212&dur=1610.508&lmt=1694476299062049&mt=1694764169&fvip=1&keepalive=yes&fexp=24007246%2C24362685&c=ANDROID&txp=4432434&sparams=expire%2Cei%2Cip%2Cid%2Citag%2Csource%2Crequiressl%2Cspc%2Cvprv%2Csvpuc%2Cmime%2Cgir%2Cclen%2Cdur%2Clmt&sig=AOq0QJ8wRQIgMLl3280_lKLA1N8-gOWkxp_hnsG7K7oD3ous1OlL8IYCIQCQVVRza4ON6hxQe7Pgqfrurok_RRU9IiddjgBUCQmZ4Q%3D%3D&lsparams=mh%2Cmm%2Cmn%2Cms%2Cmv%2Cmvi%2Cpl%2Cinitcwndbps&lsig=AG3C_xAwRgIhAPRX5ybN8thISVhAZHPLocEdl3d233TLuH9mdDh3bnk8AiEAhPiG4dSfOeuCqPGGZayv7lfm6w9ps32FpRkmeF3Zxbo%3D', 'width': 256, 'language': None, 'language_preference': -1, 'preference': None, 'ext': 'webm', 'vcodec': 'vp9', 'acodec': 'none', 'dynamic_range': 'SDR', 'container': 'webm_dash', 'downloader_options': {'http_chunk_size': 10485760}, 'protocol': 'https', 'resolution': '256x144', 'aspect_ratio': 1.78, 'http_headers': {'User-Agent': 'Mozilla/5.0 (Windows NT 10.0; Win64; x64) AppleWebKit/537.36 (KHTML, like Gecko) Chrome/93.0.4577.82 Safari/537.36', 'Accept': 'text/html,application/xhtml+xml,application/xml;q=0.9,*/*;q=0.8', 'Accept-Language': 'en-us,en;q=0.5', 'Sec-Fetch-Mode': 'navigate'}, 'video_ext': 'webm', 'audio_ext': 'none', 'abr': 0, 'vbr': 21.172, 'format': '598 - 256x144 (144p)'}, {'format_id': '269', 'format_index': None, 'url': 'https://manifest.googlevideo.com/api/manifest/hls_playlist/expire/1694786272/ei/gA4EZY3wHcHartoPz-yLyAE/ip/20.212.112.73/id/dac739b940f38a00/itag/269/source/youtube/requiressl/yes/ratebypass/yes/pfa/1/sgovp/clen%3D5161022%3Bdur%3D1610.510%3Bgir%3Dyes%3Bitag%3D160%3Blmt%3D1694617325565660/hls_chunk_host/rr1---sn-npoe7nz7.googlevideo.com/mh/Z9/mm/31,29/mn/sn-npoe7nz7,sn-npoeened/ms/au,rdu/mv/m/mvi/1/pl/16/initcwndbps/1103750/vprv/1/playlist_type/DVR/dover/13/txp/4432434/mt/1694764169/fvip/4/short_key/1/keepalive/yes/fexp/24007246/sparams/expire,ei,ip,id,itag,source,requiressl,ratebypass,pfa,sgovp,vprv,playlist_type/sig/AOq0QJ8wRQIgDtsaGv1BJ9BlRU6yWCZvRCl2owHbUXDDLx2kVBfi9CQCIQDIEOw465_kZr2jRRwf0dbV8E7nhyFi-2K2TGeDKT5qDw%3D%3D/lsparams/hls_chunk_host,mh,mm,mn,ms,mv,mvi,pl,initcwndbps/lsig/AG3C_xAwRAIgaUNtqNGO2eo9YKKUbLdMJbGFzjtUN2qRUbn6c8tmgioCID7981qnukdczdr4iNXLGewmQIVwlDgsVrTGiq944h1L/playlist/index.m3u8', 'manifest_url': 'https://manifest.googlevideo.com/api/manifest/hls_variant/expire/1694786272/ei/gA4EZY3wHcHartoPz-yLyAE/ip/20.212.112.73/id/dac739b940f38a00/source/youtube/requiressl/yes/playback_host/rr1---sn-npoe7nz7.googlevideo.com/mh/Z9/mm/31%2C29/mn/sn-npoe7nz7%2Csn-npoeened/ms/au%2Crdu/mv/m/mvi/1/pl/16/hfr/1/demuxed/1/tts_caps/1/maudio/1/initcwndbps/1103750/vprv/1/go/1/mt/1694764169/fvip/4/nvgoi/1/short_key/1/ncsapi/1/keepalive/yes/fexp/24007246/dover/13/itag/0/playlist_type/DVR/sparams/expire%2Cei%2Cip%2Cid%2Csource%2Crequiressl%2Chfr%2Cdemuxed%2Ctts_caps%2Cmaudio%2Cvprv%2Cgo%2Citag%2Cplaylist_type/sig/AOq0QJ8wRAIgK7OOitr4NLG49nfZIb9HUYoA64I-ykeg2et4dZWkwPgCIALStm_cMpzbxhgnWCg-BkWGB51VzKn7b87kyCE-nV27/lsparams/playback_host%2Cmh%2Cmm%2Cmn%2Cms%2Cmv%2Cmvi%2Cpl%2Cinitcwndbps/lsig/AG3C_xAwRQIgZ16N34RwfohRQtI6aKFBYkq63kjihR97-36w2vhQFOYCIQDgaxRcx9fPsj49Iwq-fVBiqyClp8zH-8NpyCxrVdnwMA%3D%3D/file/index.m3u8', 'tbr': 113.974, 'ext': 'mp4', 'fps': 30.0, 'protocol': 'm3u8_native', 'preference': None, 'quality': 0, 'has_drm': False, 'width': 256, 'height': 144, 'vcodec': 'avc1.4D400C', 'acodec': 'none', 'dynamic_range': 'SDR', 'source_preference': -1, 'resolution': '256x144', 'aspect_ratio': 1.78, 'http_headers': {'User-Agent': 'Mozilla/5.0 (Windows NT 10.0; Win64; x64) AppleWebKit/537.36 (KHTML, like Gecko) Chrome/93.0.4577.82 Safari/537.36', 'Accept': 'text/html,application/xhtml+xml,application/xml;q=0.9,*/*;q=0.8', 'Accept-Language': 'en-us,en;q=0.5', 'Sec-Fetch-Mode': 'navigate'}, 'video_ext': 'mp4', 'audio_ext': 'none', 'abr': 0, 'vbr': 113.974, 'format': '269 - 256x144'}, {'asr': None, 'filesize': 5161022, 'format_id': '160', 'format_note': '144p', 'source_preference': -1, 'fps': 30, 'audio_channels': None, 'height': 144, 'quality': 0.0, 'has_drm': False, 'tbr': 25.636, 'url': 'https://rr1---sn-npoe7nz7.googlevideo.com/videoplayback?expire=1694786272&ei=gA4EZY3wHcHartoPz-yLyAE&ip=20.212.112.73&id=o-ACShWkNmBJlhKPX4vzkow_l6TCT12C-n11mPh7NKr9Sz&itag=160&source=youtube&requiressl=yes&mh=Z9&mm=31%2C29&mn=sn-npoe7nz7%2Csn-npoeened&ms=au%2Crdu&mv=m&mvi=1&pl=16&initcwndbps=1103750&vprv=1&svpuc=1&mime=video%2Fmp4&gir=yes&clen=5161022&dur=1610.510&lmt=1694617325565660&mt=1694764169&fvip=4&keepalive=yes&fexp=24007246&c=IOS&txp=4432434&sparams=expire%2Cei%2Cip%2Cid%2Citag%2Csource%2Crequiressl%2Cvprv%2Csvpuc%2Cmime%2Cgir%2Cclen%2Cdur%2Clmt&sig=AOq0QJ8wRQIgdjePkWNgVWUySGx_IwOM8YqitXcmdFQ3OqFrfLMZzXECIQCI_enA8pbHiBDEXjVBJaEwbMNvnsqOoXzMnkGTGhW_QA%3D%3D&lsparams=mh%2Cmm%2Cmn%2Cms%2Cmv%2Cmvi%2Cpl%2Cinitcwndbps&lsig=AG3C_xAwRgIhAIOs2_-bS64okoF2zxOBYpuoKOBpEYbtamz0MH88uul5AiEA5kyllkxNY05Um3npD7EVm_Jz-dBRU-lEIMmz0IoPH5U%3D', 'width': 256, 'language': None, 'language_preference': -1, 'preference': None, 'ext': 'mp4', 'vcodec': 'avc1.4D400C', 'acodec': 'none', 'dynamic_range': 'SDR', 'container': 'mp4_dash', 'downloader_options': {'http_chunk_size': 10485760}, 'protocol': 'https', 'resolution': '256x144', 'aspect_ratio': 1.78, 'http_headers': {'User-Agent': 'Mozilla/5.0 (Windows NT 10.0; Win64; x64) AppleWebKit/537.36 (KHTML, like Gecko) Chrome/93.0.4577.82 Safari/537.36', 'Accept': 'text/html,application/xhtml+xml,application/xml;q=0.9,*/*;q=0.8', 'Accept-Language': 'en-us,en;q=0.5', 'Sec-Fetch-Mode': 'navigate'}, 'video_ext': 'mp4', 'audio_ext': 'none', 'abr': 0, 'vbr': 25.636, 'format': '160 - 256x144 (144p)'}, {'format_id': '603', 'format_index': None, 'url': 'https://manifest.googlevideo.com/api/manifest/hls_playlist/expire/1694786272/ei/gA4EZY3wHcHartoPz-yLyAE/ip/20.212.112.73/id/dac739b940f38a00/itag/603/source/youtube/requiressl/yes/ratebypass/yes/pfa/1/wft/1/sgovp/clen%3D12569732%3Bdur%3D1610.509%3Bgir%3Dyes%3Bitag%3D278%3Blmt%3D1694481190478670/hls_chunk_host/rr1---sn-npoe7nz7.googlevideo.com/mh/Z9/mm/31,29/mn/sn-npoe7nz7,sn-npoeened/ms/au,rdu/mv/m/mvi/1/pl/16/initcwndbps/1103750/vprv/1/playlist_type/DVR/dover/13/txp/4437434/mt/1694764169/fvip/4/short_key/1/keepalive/yes/fexp/24007246/sparams/expire,ei,ip,id,itag,source,requiressl,ratebypass,pfa,wft,sgovp,vprv,playlist_type/sig/AOq0QJ8wRQIhAObR0MhP25BhF9EI0q5iA9gUEvPuX7MWTaiLlUga4AUXAiATGlDopkFCpQwOK81yEH8Y-EK_25UguKH4-NReOoisRA%3D%3D/lsparams/hls_chunk_host,mh,mm,mn,ms,mv,mvi,pl,initcwndbps/lsig/AG3C_xAwRQIhAK2YSfRRpQ7LMiRY8NJM1dsV8iFcwpmehD2bWf7sFqzfAiBCqvf66PGdNVxdJUxwplPay-HYF-IvojfapmxnxxbzMg%3D%3D/playlist/index.m3u8', 'manifest_url': 'https://manifest.googlevideo.com/api/manifest/hls_variant/expire/1694786272/ei/gA4EZY3wHcHartoPz-yLyAE/ip/20.212.112.73/id/dac739b940f38a00/source/youtube/requiressl/yes/playback_host/rr1---sn-npoe7nz7.googlevideo.com/mh/Z9/mm/31%2C29/mn/sn-npoe7nz7%2Csn-npoeened/ms/au%2Crdu/mv/m/mvi/1/pl/16/hfr/1/demuxed/1/tts_caps/1/maudio/1/initcwndbps/1103750/vprv/1/go/1/mt/1694764169/fvip/4/nvgoi/1/short_key/1/ncsapi/1/keepalive/yes/fexp/24007246/dover/13/itag/0/playlist_type/DVR/sparams/expire%2Cei%2Cip%2Cid%2Csource%2Crequiressl%2Chfr%2Cdemuxed%2Ctts_caps%2Cmaudio%2Cvprv%2Cgo%2Citag%2Cplaylist_type/sig/AOq0QJ8wRAIgK7OOitr4NLG49nfZIb9HUYoA64I-ykeg2et4dZWkwPgCIALStm_cMpzbxhgnWCg-BkWGB51VzKn7b87kyCE-nV27/lsparams/playback_host%2Cmh%2Cmm%2Cmn%2Cms%2Cmv%2Cmvi%2Cpl%2Cinitcwndbps/lsig/AG3C_xAwRQIgZ16N34RwfohRQtI6aKFBYkq63kjihR97-36w2vhQFOYCIQDgaxRcx9fPsj49Iwq-fVBiqyClp8zH-8NpyCxrVdnwMA%3D%3D/file/index.m3u8', 'tbr': 150.121, 'ext': 'mp4', 'fps': 30.0, 'protocol': 'm3u8_native', 'preference': None, 'quality': 0, 'has_drm': False, 'width': 256, 'height': 144, 'vcodec': 'vp09.00.11.08', 'acodec': 'none', 'dynamic_range': 'SDR', 'source_preference': -1, 'resolution': '256x144', 'aspect_ratio': 1.78, 'http_headers': {'User-Agent': 'Mozilla/5.0 (Windows NT 10.0; Win64; x64) AppleWebKit/537.36 (KHTML, like Gecko) Chrome/93.0.4577.82 Safari/537.36', 'Accept': 'text/html,application/xhtml+xml,application/xml;q=0.9,*/*;q=0.8', 'Accept-Language': 'en-us,en;q=0.5', 'Sec-Fetch-Mode': 'navigate'}, 'video_ext': 'mp4', 'audio_ext': 'none', 'abr': 0, 'vbr': 150.121, 'format': '603 - 256x144'}, {'asr': None, 'filesize': 12569732, 'format_id': '278', 'format_note': '144p', 'source_preference': -1, 'fps': 30, 'audio_channels': None, 'height': 144, 'quality': 0.0, 'has_drm': False, 'tbr': 62.438, 'url': 'https://rr1---sn-npoe7nz7.googlevideo.com/videoplayback?expire=1694786272&ei=gA4EZY3wHcHartoPz-yLyAE&ip=20.212.112.73&id=o-ACShWkNmBJlhKPX4vzkow_l6TCT12C-n11mPh7NKr9Sz&itag=278&source=youtube&requiressl=yes&mh=Z9&mm=31%2C29&mn=sn-npoe7nz7%2Csn-npoeened&ms=au%2Crdu&mv=m&mvi=1&pl=16&initcwndbps=1103750&vprv=1&svpuc=1&mime=video%2Fwebm&gir=yes&clen=12569732&dur=1610.509&lmt=1694481190478670&mt=1694764169&fvip=4&keepalive=yes&fexp=24007246&c=IOS&txp=4437434&sparams=expire%2Cei%2Cip%2Cid%2Citag%2Csource%2Crequiressl%2Cvprv%2Csvpuc%2Cmime%2Cgir%2Cclen%2Cdur%2Clmt&sig=AOq0QJ8wRQIhAL1qIriRAAvpaVgbPyCWuxZEKJg1tA7qvNieJZ67aRauAiB84chzx7u-NhuaPQhlz7H-QDeaa80mDW9Kml7TGtxQrw%3D%3D&lsparams=mh%2Cmm%2Cmn%2Cms%2Cmv%2Cmvi%2Cpl%2Cinitcwndbps&lsig=AG3C_xAwRgIhAIOs2_-bS64okoF2zxOBYpuoKOBpEYbtamz0MH88uul5AiEA5kyllkxNY05Um3npD7EVm_Jz-dBRU-lEIMmz0IoPH5U%3D', 'width': 256, 'language': None, 'language_preference': -1, 'preference': None, 'ext': 'webm', 'vcodec': 'vp09.00.11.08', 'acodec': 'none', 'dynamic_range': 'SDR', 'container': 'webm_dash', 'downloader_options': {'http_chunk_size': 10485760}, 'protocol': 'https', 'resolution': '256x144', 'aspect_ratio': 1.78, 'http_headers': {'User-Agent': 'Mozilla/5.0 (Windows NT 10.0; Win64; x64) AppleWebKit/537.36 (KHTML, like Gecko) Chrome/93.0.4577.82 Safari/537.36', 'Accept': 'text/html,application/xhtml+xml,application/xml;q=0.9,*/*;q=0.8', 'Accept-Language': 'en-us,en;q=0.5', 'Sec-Fetch-Mode': 'navigate'}, 'video_ext': 'webm', 'audio_ext': 'none', 'abr': 0, 'vbr': 62.438, 'format': '278 - 256x144 (144p)'}, {'format_id': '229', 'format_index': None, 'url': 'https://manifest.googlevideo.com/api/manifest/hls_playlist/expire/1694786272/ei/gA4EZY3wHcHartoPz-yLyAE/ip/20.212.112.73/id/dac739b940f38a00/itag/229/source/youtube/requiressl/yes/ratebypass/yes/pfa/1/sgovp/clen%3D9398085%3Bdur%3D1610.510%3Bgir%3Dyes%3Bitag%3D133%3Blmt%3D1694617279014895/hls_chunk_host/rr1---sn-npoe7nz7.googlevideo.com/mh/Z9/mm/31,29/mn/sn-npoe7nz7,sn-npoeened/ms/au,rdu/mv/m/mvi/1/pl/16/initcwndbps/1103750/vprv/1/playlist_type/DVR/dover/13/txp/4432434/mt/1694764169/fvip/4/short_key/1/keepalive/yes/fexp/24007246/sparams/expire,ei,ip,id,itag,source,requiressl,ratebypass,pfa,sgovp,vprv,playlist_type/sig/AOq0QJ8wRQIgRUlPal4uRVmwOZTlChY_yMgm8pQfeetlSqB59PhXH6kCIQDssVyuwugUbFgI4z1GoXwtdKDEI2tbv7LK9Q4hulLEpA%3D%3D/lsparams/hls_chunk_host,mh,mm,mn,ms,mv,mvi,pl,initcwndbps/lsig/AG3C_xAwRQIhAK35ryrjjXAUzUzUj8gWklBBqW-MPg69eic1Sg1GuS4XAiAWyGdm61GJUQqdkRBgEb12OUmi8ZUVlTSYe360JTDa6Q%3D%3D/playlist/index.m3u8', 'manifest_url': 'https://manifest.googlevideo.com/api/manifest/hls_variant/expire/1694786272/ei/gA4EZY3wHcHartoPz-yLyAE/ip/20.212.112.73/id/dac739b940f38a00/source/youtube/requiressl/yes/playback_host/rr1---sn-npoe7nz7.googlevideo.com/mh/Z9/mm/31%2C29/mn/sn-npoe7nz7%2Csn-npoeened/ms/au%2Crdu/mv/m/mvi/1/pl/16/hfr/1/demuxed/1/tts_caps/1/maudio/1/initcwndbps/1103750/vprv/1/go/1/mt/1694764169/fvip/4/nvgoi/1/short_key/1/ncsapi/1/keepalive/yes/fexp/24007246/dover/13/itag/0/playlist_type/DVR/sparams/expire%2Cei%2Cip%2Cid%2Csource%2Crequiressl%2Chfr%2Cdemuxed%2Ctts_caps%2Cmaudio%2Cvprv%2Cgo%2Citag%2Cplaylist_type/sig/AOq0QJ8wRAIgK7OOitr4NLG49nfZIb9HUYoA64I-ykeg2et4dZWkwPgCIALStm_cMpzbxhgnWCg-BkWGB51VzKn7b87kyCE-nV27/lsparams/playback_host%2Cmh%2Cmm%2Cmn%2Cms%2Cmv%2Cmvi%2Cpl%2Cinitcwndbps/lsig/AG3C_xAwRQIgZ16N34RwfohRQtI6aKFBYkq63kjihR97-36w2vhQFOYCIQDgaxRcx9fPsj49Iwq-fVBiqyClp8zH-8NpyCxrVdnwMA%3D%3D/file/index.m3u8', 'tbr': 167.875, 'ext': 'mp4', 'fps': 30.0, 'protocol': 'm3u8_native', 'preference': None, 'quality': 5, 'has_drm': False, 'width': 426, 'height': 240, 'vcodec': 'avc1.4D4015', 'acodec': 'none', 'dynamic_range': 'SDR', 'source_preference': -1, 'resolution': '426x240', 'aspect_ratio': 1.77, 'http_headers': {'User-Agent': 'Mozilla/5.0 (Windows NT 10.0; Win64; x64) AppleWebKit/537.36 (KHTML, like Gecko) Chrome/93.0.4577.82 Safari/537.36', 'Accept': 'text/html,application/xhtml+xml,application/xml;q=0.9,*/*;q=0.8', 'Accept-Language': 'en-us,en;q=0.5', 'Sec-Fetch-Mode': 'navigate'}, 'video_ext': 'mp4', 'audio_ext': 'none', 'abr': 0, 'vbr': 167.875, 'format': '229 - 426x240'}, {'asr': None, 'filesize': 9398085, 'format_id': '133', 'format_note': '240p', 'source_preference': -1, 'fps': 30, 'audio_channels': None, 'height': 240, 'quality': 5.0, 'has_drm': False, 'tbr': 46.683, 'url': 'https://rr1---sn-npoe7nz7.googlevideo.com/videoplayback?expire=1694786272&ei=gA4EZY3wHcHartoPz-yLyAE&ip=20.212.112.73&id=o-ACShWkNmBJlhKPX4vzkow_l6TCT12C-n11mPh7NKr9Sz&itag=133&source=youtube&requiressl=yes&mh=Z9&mm=31%2C29&mn=sn-npoe7nz7%2Csn-npoeened&ms=au%2Crdu&mv=m&mvi=1&pl=16&initcwndbps=1103750&vprv=1&svpuc=1&mime=video%2Fmp4&gir=yes&clen=9398085&dur=1610.510&lmt=1694617279014895&mt=1694764169&fvip=4&keepalive=yes&fexp=24007246&c=IOS&txp=4432434&sparams=expire%2Cei%2Cip%2Cid%2Citag%2Csource%2Crequiressl%2Cvprv%2Csvpuc%2Cmime%2Cgir%2Cclen%2Cdur%2Clmt&sig=AOq0QJ8wRQIgJ-KISA5OOTQYRIJ99hETlkM0QZDq0mvH8OJV33U-8BoCIQDma6FJ7mR4GZiNxni_bM0x_CzQyG8lFPkFkckqOQEfrQ%3D%3D&lsparams=mh%2Cmm%2Cmn%2Cms%2Cmv%2Cmvi%2Cpl%2Cinitcwndbps&lsig=AG3C_xAwRgIhAIOs2_-bS64okoF2zxOBYpuoKOBpEYbtamz0MH88uul5AiEA5kyllkxNY05Um3npD7EVm_Jz-dBRU-lEIMmz0IoPH5U%3D', 'width': 426, 'language': None, 'language_preference': -1, 'preference': None, 'ext': 'mp4', 'vcodec': 'avc1.4D4015', 'acodec': 'none', 'dynamic_range': 'SDR', 'container': 'mp4_dash', 'downloader_options': {'http_chunk_size': 10485760}, 'protocol': 'https', 'resolution': '426x240', 'aspect_ratio': 1.77, 'http_headers': {'User-Agent': 'Mozilla/5.0 (Windows NT 10.0; Win64; x64) AppleWebKit/537.36 (KHTML, like Gecko) Chrome/93.0.4577.82 Safari/537.36', 'Accept': 'text/html,application/xhtml+xml,application/xml;q=0.9,*/*;q=0.8', 'Accept-Language': 'en-us,en;q=0.5', 'Sec-Fetch-Mode': 'navigate'}, 'video_ext': 'mp4', 'audio_ext': 'none', 'abr': 0, 'vbr': 46.683, 'format': '133 - 426x240 (240p)'}, {'format_id': '604', 'format_index': None, 'url': 'https://manifest.googlevideo.com/api/manifest/hls_playlist/expire/1694786272/ei/gA4EZY3wHcHartoPz-yLyAE/ip/20.212.112.73/id/dac739b940f38a00/itag/604/source/youtube/requiressl/yes/ratebypass/yes/pfa/1/wft/1/sgovp/clen%3D13655104%3Bdur%3D1610.509%3Bgir%3Dyes%3Bitag%3D242%3Blmt%3D1694480831053473/hls_chunk_host/rr1---sn-npoe7nz7.googlevideo.com/mh/Z9/mm/31,29/mn/sn-npoe7nz7,sn-npoeened/ms/au,rdu/mv/m/mvi/1/pl/16/initcwndbps/1103750/vprv/1/playlist_type/DVR/dover/13/txp/4437434/mt/1694764169/fvip/4/short_key/1/keepalive/yes/fexp/24007246/sparams/expire,ei,ip,id,itag,source,requiressl,ratebypass,pfa,wft,sgovp,vprv,playlist_type/sig/AOq0QJ8wRAIgWBOFl_wD-JrbRGDo3A5J23ptnVkgG2E36I1Flnz1hEUCIHz1PmUzdQRuSFArraKWXJp3ffeang6wlW12AVYmWrA6/lsparams/hls_chunk_host,mh,mm,mn,ms,mv,mvi,pl,initcwndbps/lsig/AG3C_xAwRQIhAI4ezZFT05-DLUQLefG_y_jvfgZtTat9TscJ2Ep3PqV0AiAzTVAfsUP5hOlxryrWyF1a0PVO6EkkTyZm0ZbC9pa_bw%3D%3D/playlist/index.m3u8', 'manifest_url': 'https://manifest.googlevideo.com/api/manifest/hls_variant/expire/1694786272/ei/gA4EZY3wHcHartoPz-yLyAE/ip/20.212.112.73/id/dac739b940f38a00/source/youtube/requiressl/yes/playback_host/rr1---sn-npoe7nz7.googlevideo.com/mh/Z9/mm/31%2C29/mn/sn-npoe7nz7%2Csn-npoeened/ms/au%2Crdu/mv/m/mvi/1/pl/16/hfr/1/demuxed/1/tts_caps/1/maudio/1/initcwndbps/1103750/vprv/1/go/1/mt/1694764169/fvip/4/nvgoi/1/short_key/1/ncsapi/1/keepalive/yes/fexp/24007246/dover/13/itag/0/playlist_type/DVR/sparams/expire%2Cei%2Cip%2Cid%2Csource%2Crequiressl%2Chfr%2Cdemuxed%2Ctts_caps%2Cmaudio%2Cvprv%2Cgo%2Citag%2Cplaylist_type/sig/AOq0QJ8wRAIgK7OOitr4NLG49nfZIb9HUYoA64I-ykeg2et4dZWkwPgCIALStm_cMpzbxhgnWCg-BkWGB51VzKn7b87kyCE-nV27/lsparams/playback_host%2Cmh%2Cmm%2Cmn%2Cms%2Cmv%2Cmvi%2Cpl%2Cinitcwndbps/lsig/AG3C_xAwRQIgZ16N34RwfohRQtI6aKFBYkq63kjihR97-36w2vhQFOYCIQDgaxRcx9fPsj49Iwq-fVBiqyClp8zH-8NpyCxrVdnwMA%3D%3D/file/index.m3u8', 'tbr': 218.097, 'ext': 'mp4', 'fps': 30.0, 'protocol': 'm3u8_native', 'preference': None, 'quality': 5, 'has_drm': False, 'width': 426, 'height': 240, 'vcodec': 'vp09.00.20.08', 'acodec': 'none', 'dynamic_range': 'SDR', 'source_preference': -1, 'resolution': '426x240', 'aspect_ratio': 1.77, 'http_headers': {'User-Agent': 'Mozilla/5.0 (Windows NT 10.0; Win64; x64) AppleWebKit/537.36 (KHTML, like Gecko) Chrome/93.0.4577.82 Safari/537.36', 'Accept': 'text/html,application/xhtml+xml,application/xml;q=0.9,*/*;q=0.8', 'Accept-Language': 'en-us,en;q=0.5', 'Sec-Fetch-Mode': 'navigate'}, 'video_ext': 'mp4', 'audio_ext': 'none', 'abr': 0, 'vbr': 218.097, 'format': '604 - 426x240'}, {'asr': None, 'filesize': 13655104, 'format_id': '242', 'format_note': '240p', 'source_preference': -1, 'fps': 30, 'audio_channels': None, 'height': 240, 'quality': 5.0, 'has_drm': False, 'tbr': 67.83, 'url': 'https://rr1---sn-npoe7nz7.googlevideo.com/videoplayback?expire=1694786272&ei=gA4EZY3wHcHartoPz-yLyAE&ip=20.212.112.73&id=o-ACShWkNmBJlhKPX4vzkow_l6TCT12C-n11mPh7NKr9Sz&itag=242&source=youtube&requiressl=yes&mh=Z9&mm=31%2C29&mn=sn-npoe7nz7%2Csn-npoeened&ms=au%2Crdu&mv=m&mvi=1&pl=16&initcwndbps=1103750&vprv=1&svpuc=1&mime=video%2Fwebm&gir=yes&clen=13655104&dur=1610.509&lmt=1694480831053473&mt=1694764169&fvip=4&keepalive=yes&fexp=24007246&c=IOS&txp=4437434&sparams=expire%2Cei%2Cip%2Cid%2Citag%2Csource%2Crequiressl%2Cvprv%2Csvpuc%2Cmime%2Cgir%2Cclen%2Cdur%2Clmt&sig=AOq0QJ8wRAIgdY9p2BaiEcJS3n9eTqHQlxu-nlIZP1uhMZsGBI6pUD0CIBue7oZpLkaL_pLyhqSbG9rce7Z4J4C2HcaoUopvKM7d&lsparams=mh%2Cmm%2Cmn%2Cms%2Cmv%2Cmvi%2Cpl%2Cinitcwndbps&lsig=AG3C_xAwRgIhAIOs2_-bS64okoF2zxOBYpuoKOBpEYbtamz0MH88uul5AiEA5kyllkxNY05Um3npD7EVm_Jz-dBRU-lEIMmz0IoPH5U%3D', 'width': 426, 'language': None, 'language_preference': -1, 'preference': None, 'ext': 'webm', 'vcodec': 'vp09.00.20.08', 'acodec': 'none', 'dynamic_range': 'SDR', 'container': 'webm_dash', 'downloader_options': {'http_chunk_size': 10485760}, 'protocol': 'https', 'resolution': '426x240', 'aspect_ratio': 1.77, 'http_headers': {'User-Agent': 'Mozilla/5.0 (Windows NT 10.0; Win64; x64) AppleWebKit/537.36 (KHTML, like Gecko) Chrome/93.0.4577.82 Safari/537.36', 'Accept': 'text/html,application/xhtml+xml,application/xml;q=0.9,*/*;q=0.8', 'Accept-Language': 'en-us,en;q=0.5', 'Sec-Fetch-Mode': 'navigate'}, 'video_ext': 'webm', 'audio_ext': 'none', 'abr': 0, 'vbr': 67.83, 'format': '242 - 426x240 (240p)'}, {'format_id': '230', 'format_index': None, 'url': 'https://manifest.googlevideo.com/api/manifest/hls_playlist/expire/1694786272/ei/gA4EZY3wHcHartoPz-yLyAE/ip/20.212.112.73/id/dac739b940f38a00/itag/230/source/youtube/requiressl/yes/ratebypass/yes/pfa/1/sgovp/clen%3D16798223%3Bdur%3D1610.510%3Bgir%3Dyes%3Bitag%3D134%3Blmt%3D1694617268284110/hls_chunk_host/rr1---sn-npoe7nz7.googlevideo.com/mh/Z9/mm/31,29/mn/sn-npoe7nz7,sn-npoeened/ms/au,rdu/mv/m/mvi/1/pl/16/initcwndbps/1103750/vprv/1/playlist_type/DVR/dover/13/txp/4432434/mt/1694764169/fvip/4/short_key/1/keepalive/yes/fexp/24007246/sparams/expire,ei,ip,id,itag,source,requiressl,ratebypass,pfa,sgovp,vprv,playlist_type/sig/AOq0QJ8wRQIhAKGB6xpPAkzbGEg6D-6wKkIae4X6OtmrLoXBKz1EMrduAiADLGDLsrYxVA6_l4w93V0C7YyW3XASsEGsVja_ouWJ5g%3D%3D/lsparams/hls_chunk_host,mh,mm,mn,ms,mv,mvi,pl,initcwndbps/lsig/AG3C_xAwRQIgMcTjkxjR50BjtNxCRwVwU78E14GVVzHk_FsvIhQborQCIQDxm5xmoxxXMMyOYIYBZtPyw9xZFLsNYSnR_jd8C1iDuA%3D%3D/playlist/index.m3u8', 'manifest_url': 'https://manifest.googlevideo.com/api/manifest/hls_variant/expire/1694786272/ei/gA4EZY3wHcHartoPz-yLyAE/ip/20.212.112.73/id/dac739b940f38a00/source/youtube/requiressl/yes/playback_host/rr1---sn-npoe7nz7.googlevideo.com/mh/Z9/mm/31%2C29/mn/sn-npoe7nz7%2Csn-npoeened/ms/au%2Crdu/mv/m/mvi/1/pl/16/hfr/1/demuxed/1/tts_caps/1/maudio/1/initcwndbps/1103750/vprv/1/go/1/mt/1694764169/fvip/4/nvgoi/1/short_key/1/ncsapi/1/keepalive/yes/fexp/24007246/dover/13/itag/0/playlist_type/DVR/sparams/expire%2Cei%2Cip%2Cid%2Csource%2Crequiressl%2Chfr%2Cdemuxed%2Ctts_caps%2Cmaudio%2Cvprv%2Cgo%2Citag%2Cplaylist_type/sig/AOq0QJ8wRAIgK7OOitr4NLG49nfZIb9HUYoA64I-ykeg2et4dZWkwPgCIALStm_cMpzbxhgnWCg-BkWGB51VzKn7b87kyCE-nV27/lsparams/playback_host%2Cmh%2Cmm%2Cmn%2Cms%2Cmv%2Cmvi%2Cpl%2Cinitcwndbps/lsig/AG3C_xAwRQIgZ16N34RwfohRQtI6aKFBYkq63kjihR97-36w2vhQFOYCIQDgaxRcx9fPsj49Iwq-fVBiqyClp8zH-8NpyCxrVdnwMA%3D%3D/file/index.m3u8', 'tbr': 341.093, 'ext': 'mp4', 'fps': 30.0, 'protocol': 'm3u8_native', 'preference': None, 'quality': 6, 'has_drm': False, 'width': 640, 'height': 360, 'vcodec': 'avc1.4D401E', 'acodec': 'none', 'dynamic_range': 'SDR', 'source_preference': -1, 'resolution': '640x360', 'aspect_ratio': 1.78, 'http_headers': {'User-Agent': 'Mozilla/5.0 (Windows NT 10.0; Win64; x64) AppleWebKit/537.36 (KHTML, like Gecko) Chrome/93.0.4577.82 Safari/537.36', 'Accept': 'text/html,application/xhtml+xml,application/xml;q=0.9,*/*;q=0.8', 'Accept-Language': 'en-us,en;q=0.5', 'Sec-Fetch-Mode': 'navigate'}, 'video_ext': 'mp4', 'audio_ext': 'none', 'abr': 0, 'vbr': 341.093, 'format': '230 - 640x360'}, {'asr': None, 'filesize': 16798223, 'format_id': '134', 'format_note': '360p', 'source_preference': -1, 'fps': 30, 'audio_channels': None, 'height': 360, 'quality': 6.0, 'has_drm': False, 'tbr': 83.442, 'url': 'https://rr1---sn-npoe7nz7.googlevideo.com/videoplayback?expire=1694786272&ei=gA4EZY3wHcHartoPz-yLyAE&ip=20.212.112.73&id=o-ACShWkNmBJlhKPX4vzkow_l6TCT12C-n11mPh7NKr9Sz&itag=134&source=youtube&requiressl=yes&mh=Z9&mm=31%2C29&mn=sn-npoe7nz7%2Csn-npoeened&ms=au%2Crdu&mv=m&mvi=1&pl=16&initcwndbps=1103750&vprv=1&svpuc=1&mime=video%2Fmp4&gir=yes&clen=16798223&dur=1610.510&lmt=1694617268284110&mt=1694764169&fvip=4&keepalive=yes&fexp=24007246&c=IOS&txp=4432434&sparams=expire%2Cei%2Cip%2Cid%2Citag%2Csource%2Crequiressl%2Cvprv%2Csvpuc%2Cmime%2Cgir%2Cclen%2Cdur%2Clmt&sig=AOq0QJ8wRQIhALhKr-hzP1RDDczOfbJZUFQvn9z4rVFTR1q7PxL_aFGoAiAEdUkgdnxAEXSFGHjaTubSSUZCzYAuF6ni3I2HvAlOvA%3D%3D&lsparams=mh%2Cmm%2Cmn%2Cms%2Cmv%2Cmvi%2Cpl%2Cinitcwndbps&lsig=AG3C_xAwRgIhAIOs2_-bS64okoF2zxOBYpuoKOBpEYbtamz0MH88uul5AiEA5kyllkxNY05Um3npD7EVm_Jz-dBRU-lEIMmz0IoPH5U%3D', 'width': 640, 'language': None, 'language_preference': -1, 'preference': None, 'ext': 'mp4', 'vcodec': 'avc1.4D401E', 'acodec': 'none', 'dynamic_range': 'SDR', 'container': 'mp4_dash', 'downloader_options': {'http_chunk_size': 10485760}, 'protocol': 'https', 'resolution': '640x360', 'aspect_ratio': 1.78, 'http_headers': {'User-Agent': 'Mozilla/5.0 (Windows NT 10.0; Win64; x64) AppleWebKit/537.36 (KHTML, like Gecko) Chrome/93.0.4577.82 Safari/537.36', 'Accept': 'text/html,application/xhtml+xml,application/xml;q=0.9,*/*;q=0.8', 'Accept-Language': 'en-us,en;q=0.5', 'Sec-Fetch-Mode': 'navigate'}, 'video_ext': 'mp4', 'audio_ext': 'none', 'abr': 0, 'vbr': 83.442, 'format': '134 - 640x360 (360p)'}, {'asr': 44100, 'filesize': 72424246, 'format_id': '18', 'format_note': '360p', 'source_preference': -1, 'fps': 30, 'audio_channels': 2, 'height': 360, 'quality': 6.0, 'has_drm': False, 'tbr': 359.747, 'url': 'https://rr4---sn-npoeened.googlevideo.com/videoplayback?expire=1694786272&ei=gA4EZdXMJIuwjuMPx-O94As&ip=20.212.112.73&id=o-ADMVGdiG6HdKd9m-nm7LGgqLsAe9W1-udsnl31OtdxVS&itag=18&source=youtube&requiressl=yes&mh=Z9&mm=31%2C29&mn=sn-npoeened%2Csn-npoe7nz7&ms=au%2Crdu&mv=m&mvi=4&pl=16&initcwndbps=1581250&spc=UWF9f-HzrqeTu_MrdVA10nynXimw5cA&vprv=1&svpuc=1&mime=video%2Fmp4&gir=yes&clen=72424246&ratebypass=yes&dur=1610.559&lmt=1694617015639701&mt=1694764169&fvip=1&fexp=24007246%2C24362685&c=ANDROID&txp=4438434&sparams=expire%2Cei%2Cip%2Cid%2Citag%2Csource%2Crequiressl%2Cspc%2Cvprv%2Csvpuc%2Cmime%2Cgir%2Cclen%2Cratebypass%2Cdur%2Clmt&sig=AOq0QJ8wRQIgGsZxqzhqGeAaXWUKuEPS-JX65y3TRZ3sEaklotnXE3QCIQDuYnGWRqKYvQ1Hn7Q-gbkgihNjiqKTzyO19YMxQd-f-w%3D%3D&lsparams=mh%2Cmm%2Cmn%2Cms%2Cmv%2Cmvi%2Cpl%2Cinitcwndbps&lsig=AG3C_xAwRgIhAPRX5ybN8thISVhAZHPLocEdl3d233TLuH9mdDh3bnk8AiEAhPiG4dSfOeuCqPGGZayv7lfm6w9ps32FpRkmeF3Zxbo%3D', 'width': 640, 'language': None, 'language_preference': -1, 'preference': None, 'ext': 'mp4', 'vcodec': 'avc1.42001E', 'acodec': 'mp4a.40.2', 'dynamic_range': 'SDR', 'downloader_options': {'http_chunk_size': 10485760}, 'protocol': 'https', 'resolution': '640x360', 'aspect_ratio': 1.78, 'http_headers': {'User-Agent': 'Mozilla/5.0 (Windows NT 10.0; Win64; x64) AppleWebKit/537.36 (KHTML, like Gecko) Chrome/93.0.4577.82 Safari/537.36', 'Accept': 'text/html,application/xhtml+xml,application/xml;q=0.9,*/*;q=0.8', 'Accept-Language': 'en-us,en;q=0.5', 'Sec-Fetch-Mode': 'navigate'}, 'video_ext': 'mp4', 'audio_ext': 'none', 'vbr': None, 'abr': None, 'format': '18 - 640x360 (360p)'}, {'format_id': '605', 'format_index': None, 'url': 'https://manifest.googlevideo.com/api/manifest/hls_playlist/expire/1694786272/ei/gA4EZY3wHcHartoPz-yLyAE/ip/20.212.112.73/id/dac739b940f38a00/itag/605/source/youtube/requiressl/yes/ratebypass/yes/pfa/1/wft/1/sgovp/clen%3D28700617%3Bdur%3D1610.509%3Bgir%3Dyes%3Bitag%3D243%3Blmt%3D1694481418177330/hls_chunk_host/rr1---sn-npoe7nz7.googlevideo.com/mh/Z9/mm/31,29/mn/sn-npoe7nz7,sn-npoeened/ms/au,rdu/mv/m/mvi/1/pl/16/initcwndbps/1103750/vprv/1/playlist_type/DVR/dover/13/txp/4437434/mt/1694764169/fvip/4/short_key/1/keepalive/yes/fexp/24007246/sparams/expire,ei,ip,id,itag,source,requiressl,ratebypass,pfa,wft,sgovp,vprv,playlist_type/sig/AOq0QJ8wRQIhAKr9XKR53PDpBZudIFa2xtokZgcj5-bWcCGD2dq7M062AiA3exYwWW7nQaqavQZOBmUxqCyoAQZpNr8d6tTN2AL9cg%3D%3D/lsparams/hls_chunk_host,mh,mm,mn,ms,mv,mvi,pl,initcwndbps/lsig/AG3C_xAwRQIhAPV7_zHquJcNdk3NZUovUH_XhL13Ifq1delO_RTjULr8AiAk687eyu7wxYHdcbiyGbtaHVhVpmwPxLc_t1aMw4vZhw%3D%3D/playlist/index.m3u8', 'manifest_url': 'https://manifest.googlevideo.com/api/manifest/hls_variant/expire/1694786272/ei/gA4EZY3wHcHartoPz-yLyAE/ip/20.212.112.73/id/dac739b940f38a00/source/youtube/requiressl/yes/playback_host/rr1---sn-npoe7nz7.googlevideo.com/mh/Z9/mm/31%2C29/mn/sn-npoe7nz7%2Csn-npoeened/ms/au%2Crdu/mv/m/mvi/1/pl/16/hfr/1/demuxed/1/tts_caps/1/maudio/1/initcwndbps/1103750/vprv/1/go/1/mt/1694764169/fvip/4/nvgoi/1/short_key/1/ncsapi/1/keepalive/yes/fexp/24007246/dover/13/itag/0/playlist_type/DVR/sparams/expire%2Cei%2Cip%2Cid%2Csource%2Crequiressl%2Chfr%2Cdemuxed%2Ctts_caps%2Cmaudio%2Cvprv%2Cgo%2Citag%2Cplaylist_type/sig/AOq0QJ8wRAIgK7OOitr4NLG49nfZIb9HUYoA64I-ykeg2et4dZWkwPgCIALStm_cMpzbxhgnWCg-BkWGB51VzKn7b87kyCE-nV27/lsparams/playback_host%2Cmh%2Cmm%2Cmn%2Cms%2Cmv%2Cmvi%2Cpl%2Cinitcwndbps/lsig/AG3C_xAwRQIgZ16N34RwfohRQtI6aKFBYkq63kjihR97-36w2vhQFOYCIQDgaxRcx9fPsj49Iwq-fVBiqyClp8zH-8NpyCxrVdnwMA%3D%3D/file/index.m3u8', 'tbr': 453.046, 'ext': 'mp4', 'fps': 30.0, 'protocol': 'm3u8_native', 'preference': None, 'quality': 6, 'has_drm': False, 'width': 640, 'height': 360, 'vcodec': 'vp09.00.21.08', 'acodec': 'none', 'dynamic_range': 'SDR', 'source_preference': -1, 'resolution': '640x360', 'aspect_ratio': 1.78, 'http_headers': {'User-Agent': 'Mozilla/5.0 (Windows NT 10.0; Win64; x64) AppleWebKit/537.36 (KHTML, like Gecko) Chrome/93.0.4577.82 Safari/537.36', 'Accept': 'text/html,application/xhtml+xml,application/xml;q=0.9,*/*;q=0.8', 'Accept-Language': 'en-us,en;q=0.5', 'Sec-Fetch-Mode': 'navigate'}, 'video_ext': 'mp4', 'audio_ext': 'none', 'abr': 0, 'vbr': 453.046, 'format': '605 - 640x360'}, {'asr': None, 'filesize': 28700617, 'format_id': '243', 'format_note': '360p', 'source_preference': -1, 'fps': 30, 'audio_channels': None, 'height': 360, 'quality': 6.0, 'has_drm': False, 'tbr': 142.566, 'url': 'https://rr1---sn-npoe7nz7.googlevideo.com/videoplayback?expire=1694786272&ei=gA4EZY3wHcHartoPz-yLyAE&ip=20.212.112.73&id=o-ACShWkNmBJlhKPX4vzkow_l6TCT12C-n11mPh7NKr9Sz&itag=243&source=youtube&requiressl=yes&mh=Z9&mm=31%2C29&mn=sn-npoe7nz7%2Csn-npoeened&ms=au%2Crdu&mv=m&mvi=1&pl=16&initcwndbps=1103750&vprv=1&svpuc=1&mime=video%2Fwebm&gir=yes&clen=28700617&dur=1610.509&lmt=1694481418177330&mt=1694764169&fvip=4&keepalive=yes&fexp=24007246&c=IOS&txp=4437434&sparams=expire%2Cei%2Cip%2Cid%2Citag%2Csource%2Crequiressl%2Cvprv%2Csvpuc%2Cmime%2Cgir%2Cclen%2Cdur%2Clmt&sig=AOq0QJ8wRQIhALOjjgtadwa_XcdjMFl0wXa83tee3nKp-RT3oeDzjgEuAiAXJPsxcxnOA46Z7JQvbontv2Jy5BWJhUHJ5c4EkVEINw%3D%3D&lsparams=mh%2Cmm%2Cmn%2Cms%2Cmv%2Cmvi%2Cpl%2Cinitcwndbps&lsig=AG3C_xAwRgIhAIOs2_-bS64okoF2zxOBYpuoKOBpEYbtamz0MH88uul5AiEA5kyllkxNY05Um3npD7EVm_Jz-dBRU-lEIMmz0IoPH5U%3D', 'width': 640, 'language': None, 'language_preference': -1, 'preference': None, 'ext': 'webm', 'vcodec': 'vp09.00.21.08', 'acodec': 'none', 'dynamic_range': 'SDR', 'container': 'webm_dash', 'downloader_options': {'http_chunk_size': 10485760}, 'protocol': 'https', 'resolution': '640x360', 'aspect_ratio': 1.78, 'http_headers': {'User-Agent': 'Mozilla/5.0 (Windows NT 10.0; Win64; x64) AppleWebKit/537.36 (KHTML, like Gecko) Chrome/93.0.4577.82 Safari/537.36', 'Accept': 'text/html,application/xhtml+xml,application/xml;q=0.9,*/*;q=0.8', 'Accept-Language': 'en-us,en;q=0.5', 'Sec-Fetch-Mode': 'navigate'}, 'video_ext': 'webm', 'audio_ext': 'none', 'abr': 0, 'vbr': 142.566, 'format': '243 - 640x360 (360p)'}, {'format_id': '231', 'format_index': None, 'url': 'https://manifest.googlevideo.com/api/manifest/hls_playlist/expire/1694786272/ei/gA4EZY3wHcHartoPz-yLyAE/ip/20.212.112.73/id/dac739b940f38a00/itag/231/source/youtube/requiressl/yes/ratebypass/yes/pfa/1/sgovp/clen%3D24841802%3Bdur%3D1610.510%3Bgir%3Dyes%3Bitag%3D135%3Blmt%3D1694617305305585/hls_chunk_host/rr1---sn-npoe7nz7.googlevideo.com/mh/Z9/mm/31,29/mn/sn-npoe7nz7,sn-npoeened/ms/au,rdu/mv/m/mvi/1/pl/16/initcwndbps/1103750/vprv/1/playlist_type/DVR/dover/13/txp/4432434/mt/1694764169/fvip/4/short_key/1/keepalive/yes/fexp/24007246/sparams/expire,ei,ip,id,itag,source,requiressl,ratebypass,pfa,sgovp,vprv,playlist_type/sig/AOq0QJ8wRgIhAMzovFkn9NKePqa1BlDtpwk7dtk_wXZwHnR6oUIlj0OLAiEA8oIWZ4GPjIf8AlB71toIAvx3qC7zq9qnurho5j9PiIY%3D/lsparams/hls_chunk_host,mh,mm,mn,ms,mv,mvi,pl,initcwndbps/lsig/AG3C_xAwRQIhAO6ziRYmUfV04_D0XrFxVCMeZ-u8taqUaJ8N6fQ5f44uAiBFeAmuB8Y7-yShB8BvLvhKvr-b2Wh-KjgEgrZ961ZMYQ%3D%3D/playlist/index.m3u8', 'manifest_url': 'https://manifest.googlevideo.com/api/manifest/hls_variant/expire/1694786272/ei/gA4EZY3wHcHartoPz-yLyAE/ip/20.212.112.73/id/dac739b940f38a00/source/youtube/requiressl/yes/playback_host/rr1---sn-npoe7nz7.googlevideo.com/mh/Z9/mm/31%2C29/mn/sn-npoe7nz7%2Csn-npoeened/ms/au%2Crdu/mv/m/mvi/1/pl/16/hfr/1/demuxed/1/tts_caps/1/maudio/1/initcwndbps/1103750/vprv/1/go/1/mt/1694764169/fvip/4/nvgoi/1/short_key/1/ncsapi/1/keepalive/yes/fexp/24007246/dover/13/itag/0/playlist_type/DVR/sparams/expire%2Cei%2Cip%2Cid%2Csource%2Crequiressl%2Chfr%2Cdemuxed%2Ctts_caps%2Cmaudio%2Cvprv%2Cgo%2Citag%2Cplaylist_type/sig/AOq0QJ8wRAIgK7OOitr4NLG49nfZIb9HUYoA64I-ykeg2et4dZWkwPgCIALStm_cMpzbxhgnWCg-BkWGB51VzKn7b87kyCE-nV27/lsparams/playback_host%2Cmh%2Cmm%2Cmn%2Cms%2Cmv%2Cmvi%2Cpl%2Cinitcwndbps/lsig/AG3C_xAwRQIgZ16N34RwfohRQtI6aKFBYkq63kjihR97-36w2vhQFOYCIQDgaxRcx9fPsj49Iwq-fVBiqyClp8zH-8NpyCxrVdnwMA%3D%3D/file/index.m3u8', 'tbr': 440.057, 'ext': 'mp4', 'fps': 30.0, 'protocol': 'm3u8_native', 'preference': None, 'quality': 7, 'has_drm': False, 'width': 854, 'height': 480, 'vcodec': 'avc1.4D401F', 'acodec': 'none', 'dynamic_range': 'SDR', 'source_preference': -1, 'resolution': '854x480', 'aspect_ratio': 1.78, 'http_headers': {'User-Agent': 'Mozilla/5.0 (Windows NT 10.0; Win64; x64) AppleWebKit/537.36 (KHTML, like Gecko) Chrome/93.0.4577.82 Safari/537.36', 'Accept': 'text/html,application/xhtml+xml,application/xml;q=0.9,*/*;q=0.8', 'Accept-Language': 'en-us,en;q=0.5', 'Sec-Fetch-Mode': 'navigate'}, 'video_ext': 'mp4', 'audio_ext': 'none', 'abr': 0, 'vbr': 440.057, 'format': '231 - 854x480'}, {'asr': None, 'filesize': 24841802, 'format_id': '135', 'format_note': '480p', 'source_preference': -1, 'fps': 30, 'audio_channels': None, 'height': 480, 'quality': 7.0, 'has_drm': False, 'tbr': 123.398, 'url': 'https://rr1---sn-npoe7nz7.googlevideo.com/videoplayback?expire=1694786272&ei=gA4EZY3wHcHartoPz-yLyAE&ip=20.212.112.73&id=o-ACShWkNmBJlhKPX4vzkow_l6TCT12C-n11mPh7NKr9Sz&itag=135&source=youtube&requiressl=yes&mh=Z9&mm=31%2C29&mn=sn-npoe7nz7%2Csn-npoeened&ms=au%2Crdu&mv=m&mvi=1&pl=16&initcwndbps=1103750&vprv=1&svpuc=1&mime=video%2Fmp4&gir=yes&clen=24841802&dur=1610.510&lmt=1694617305305585&mt=1694764169&fvip=4&keepalive=yes&fexp=24007246&c=IOS&txp=4432434&sparams=expire%2Cei%2Cip%2Cid%2Citag%2Csource%2Crequiressl%2Cvprv%2Csvpuc%2Cmime%2Cgir%2Cclen%2Cdur%2Clmt&sig=AOq0QJ8wRgIhAJp1oIUEnKs18put3Dw4rtNlbldd2CaEgcG2cSnnHwOrAiEA9QNFJSmnWmHOTKfQe_WVDroYeaE_mlExZDUrD3DscBU%3D&lsparams=mh%2Cmm%2Cmn%2Cms%2Cmv%2Cmvi%2Cpl%2Cinitcwndbps&lsig=AG3C_xAwRgIhAIOs2_-bS64okoF2zxOBYpuoKOBpEYbtamz0MH88uul5AiEA5kyllkxNY05Um3npD7EVm_Jz-dBRU-lEIMmz0IoPH5U%3D', 'width': 854, 'language': None, 'language_preference': -1, 'preference': None, 'ext': 'mp4', 'vcodec': 'avc1.4D401F', 'acodec': 'none', 'dynamic_range': 'SDR', 'container': 'mp4_dash', 'downloader_options': {'http_chunk_size': 10485760}, 'protocol': 'https', 'resolution': '854x480', 'aspect_ratio': 1.78, 'http_headers': {'User-Agent': 'Mozilla/5.0 (Windows NT 10.0; Win64; x64) AppleWebKit/537.36 (KHTML, like Gecko) Chrome/93.0.4577.82 Safari/537.36', 'Accept': 'text/html,application/xhtml+xml,application/xml;q=0.9,*/*;q=0.8', 'Accept-Language': 'en-us,en;q=0.5', 'Sec-Fetch-Mode': 'navigate'}, 'video_ext': 'mp4', 'audio_ext': 'none', 'abr': 0, 'vbr': 123.398, 'format': '135 - 854x480 (480p)'}, {'format_id': '606', 'format_index': None, 'url': 'https://manifest.googlevideo.com/api/manifest/hls_playlist/expire/1694786272/ei/gA4EZY3wHcHartoPz-yLyAE/ip/20.212.112.73/id/dac739b940f38a00/itag/606/source/youtube/requiressl/yes/ratebypass/yes/pfa/1/wft/1/sgovp/clen%3D45818884%3Bdur%3D1610.509%3Bgir%3Dyes%3Bitag%3D244%3Blmt%3D1694483812212522/hls_chunk_host/rr1---sn-npoe7nz7.googlevideo.com/mh/Z9/mm/31,29/mn/sn-npoe7nz7,sn-npoeened/ms/au,rdu/mv/m/mvi/1/pl/16/initcwndbps/1103750/vprv/1/playlist_type/DVR/dover/13/txp/4437434/mt/1694764169/fvip/4/short_key/1/keepalive/yes/fexp/24007246/sparams/expire,ei,ip,id,itag,source,requiressl,ratebypass,pfa,wft,sgovp,vprv,playlist_type/sig/AOq0QJ8wRQIhAK1JYqpnC2FWymLFqX4IZcej4A_46dKETzAWOteZxTYlAiAcF6az1ppJFOkBIT_BsryYDNKsevKfHoA7skoojm1IVA%3D%3D/lsparams/hls_chunk_host,mh,mm,mn,ms,mv,mvi,pl,initcwndbps/lsig/AG3C_xAwRAIgIl2o89T8uzZZaxFPcn9al1Bnxypd28HBQF0Bynze0lECIC0aiW_FYPEYwnwi6iZavO7dmU0XCUaVRoMJHfchkNYs/playlist/index.m3u8', 'manifest_url': 'https://manifest.googlevideo.com/api/manifest/hls_variant/expire/1694786272/ei/gA4EZY3wHcHartoPz-yLyAE/ip/20.212.112.73/id/dac739b940f38a00/source/youtube/requiressl/yes/playback_host/rr1---sn-npoe7nz7.googlevideo.com/mh/Z9/mm/31%2C29/mn/sn-npoe7nz7%2Csn-npoeened/ms/au%2Crdu/mv/m/mvi/1/pl/16/hfr/1/demuxed/1/tts_caps/1/maudio/1/initcwndbps/1103750/vprv/1/go/1/mt/1694764169/fvip/4/nvgoi/1/short_key/1/ncsapi/1/keepalive/yes/fexp/24007246/dover/13/itag/0/playlist_type/DVR/sparams/expire%2Cei%2Cip%2Cid%2Csource%2Crequiressl%2Chfr%2Cdemuxed%2Ctts_caps%2Cmaudio%2Cvprv%2Cgo%2Citag%2Cplaylist_type/sig/AOq0QJ8wRAIgK7OOitr4NLG49nfZIb9HUYoA64I-ykeg2et4dZWkwPgCIALStm_cMpzbxhgnWCg-BkWGB51VzKn7b87kyCE-nV27/lsparams/playback_host%2Cmh%2Cmm%2Cmn%2Cms%2Cmv%2Cmvi%2Cpl%2Cinitcwndbps/lsig/AG3C_xAwRQIgZ16N34RwfohRQtI6aKFBYkq63kjihR97-36w2vhQFOYCIQDgaxRcx9fPsj49Iwq-fVBiqyClp8zH-8NpyCxrVdnwMA%3D%3D/file/index.m3u8', 'tbr': 648.597, 'ext': 'mp4', 'fps': 30.0, 'protocol': 'm3u8_native', 'preference': None, 'quality': 7, 'has_drm': False, 'width': 854, 'height': 480, 'vcodec': 'vp09.00.30.08', 'acodec': 'none', 'dynamic_range': 'SDR', 'source_preference': -1, 'resolution': '854x480', 'aspect_ratio': 1.78, 'http_headers': {'User-Agent': 'Mozilla/5.0 (Windows NT 10.0; Win64; x64) AppleWebKit/537.36 (KHTML, like Gecko) Chrome/93.0.4577.82 Safari/537.36', 'Accept': 'text/html,application/xhtml+xml,application/xml;q=0.9,*/*;q=0.8', 'Accept-Language': 'en-us,en;q=0.5', 'Sec-Fetch-Mode': 'navigate'}, 'video_ext': 'mp4', 'audio_ext': 'none', 'abr': 0, 'vbr': 648.597, 'format': '606 - 854x480'}, {'asr': None, 'filesize': 45818884, 'format_id': '244', 'format_note': '480p', 'source_preference': -1, 'fps': 30, 'audio_channels': None, 'height': 480, 'quality': 7.0, 'has_drm': False, 'tbr': 227.599, 'url': 'https://rr1---sn-npoe7nz7.googlevideo.com/videoplayback?expire=1694786272&ei=gA4EZY3wHcHartoPz-yLyAE&ip=20.212.112.73&id=o-ACShWkNmBJlhKPX4vzkow_l6TCT12C-n11mPh7NKr9Sz&itag=244&source=youtube&requiressl=yes&mh=Z9&mm=31%2C29&mn=sn-npoe7nz7%2Csn-npoeened&ms=au%2Crdu&mv=m&mvi=1&pl=16&initcwndbps=1103750&vprv=1&svpuc=1&mime=video%2Fwebm&gir=yes&clen=45818884&dur=1610.509&lmt=1694483812212522&mt=1694764169&fvip=4&keepalive=yes&fexp=24007246&c=IOS&txp=4437434&sparams=expire%2Cei%2Cip%2Cid%2Citag%2Csource%2Crequiressl%2Cvprv%2Csvpuc%2Cmime%2Cgir%2Cclen%2Cdur%2Clmt&sig=AOq0QJ8wRAIgNHDj9LH9IHTH9rS6ISuTs5Fwio4TT-AnXZzwtvYTnL4CIFqgQypE4t9yLECT2ql7rIgQKPZWS1X16RU-hg4GtMdF&lsparams=mh%2Cmm%2Cmn%2Cms%2Cmv%2Cmvi%2Cpl%2Cinitcwndbps&lsig=AG3C_xAwRgIhAIOs2_-bS64okoF2zxOBYpuoKOBpEYbtamz0MH88uul5AiEA5kyllkxNY05Um3npD7EVm_Jz-dBRU-lEIMmz0IoPH5U%3D', 'width': 854, 'language': None, 'language_preference': -1, 'preference': None, 'ext': 'webm', 'vcodec': 'vp09.00.30.08', 'acodec': 'none', 'dynamic_range': 'SDR', 'container': 'webm_dash', 'downloader_options': {'http_chunk_size': 10485760}, 'protocol': 'https', 'resolution': '854x480', 'aspect_ratio': 1.78, 'http_headers': {'User-Agent': 'Mozilla/5.0 (Windows NT 10.0; Win64; x64) AppleWebKit/537.36 (KHTML, like Gecko) Chrome/93.0.4577.82 Safari/537.36', 'Accept': 'text/html,application/xhtml+xml,application/xml;q=0.9,*/*;q=0.8', 'Accept-Language': 'en-us,en;q=0.5', 'Sec-Fetch-Mode': 'navigate'}, 'video_ext': 'webm', 'audio_ext': 'none', 'abr': 0, 'vbr': 227.599, 'format': '244 - 854x480 (480p)'}, {'asr': 44100, 'filesize': None, 'format_id': '22', 'format_note': '720p', 'source_preference': -5, 'fps': 30, 'audio_channels': 2, 'height': 720, 'quality': 8.0, 'has_drm': False, 'tbr': 518.48, 'url': 'https://rr4---sn-npoeened.googlevideo.com/videoplayback?expire=1694786272&ei=gA4EZdXMJIuwjuMPx-O94As&ip=20.212.112.73&id=o-ADMVGdiG6HdKd9m-nm7LGgqLsAe9W1-udsnl31OtdxVS&itag=22&source=youtube&requiressl=yes&mh=Z9&mm=31%2C29&mn=sn-npoeened%2Csn-npoe7nz7&ms=au%2Crdu&mv=m&mvi=4&pl=16&initcwndbps=1581250&spc=UWF9f-HzrqeTu_MrdVA10nynXimw5cA&vprv=1&svpuc=1&mime=video%2Fmp4&cnr=14&ratebypass=yes&dur=1610.559&lmt=1694617398119992&mt=1694764169&fvip=1&fexp=24007246%2C24362685&c=ANDROID&txp=4432434&sparams=expire%2Cei%2Cip%2Cid%2Citag%2Csource%2Crequiressl%2Cspc%2Cvprv%2Csvpuc%2Cmime%2Ccnr%2Cratebypass%2Cdur%2Clmt&sig=AOq0QJ8wRQIhAK--wFk3CIvEuHkKko9c0dtO1ertod60MINVSk0l6x2OAiAV4l5MuUowQ6IrcU1A6B1rFvL4kb2FgLJONd80_7_PUg%3D%3D&lsparams=mh%2Cmm%2Cmn%2Cms%2Cmv%2Cmvi%2Cpl%2Cinitcwndbps&lsig=AG3C_xAwRgIhAPRX5ybN8thISVhAZHPLocEdl3d233TLuH9mdDh3bnk8AiEAhPiG4dSfOeuCqPGGZayv7lfm6w9ps32FpRkmeF3Zxbo%3D', 'width': 1280, 'language': None, 'language_preference': -1, 'preference': None, 'ext': 'mp4', 'vcodec': 'avc1.64001F', 'acodec': 'mp4a.40.2', 'dynamic_range': 'SDR', 'downloader_options': {'http_chunk_size': 10485760}, 'protocol': 'https', 'resolution': '1280x720', 'aspect_ratio': 1.78, 'filesize_approx': 106914723, 'http_headers': {'User-Agent': 'Mozilla/5.0 (Windows NT 10.0; Win64; x64) AppleWebKit/537.36 (KHTML, like Gecko) Chrome/93.0.4577.82 Safari/537.36', 'Accept': 'text/html,application/xhtml+xml,application/xml;q=0.9,*/*;q=0.8', 'Accept-Language': 'en-us,en;q=0.5', 'Sec-Fetch-Mode': 'navigate'}, 'video_ext': 'mp4', 'audio_ext': 'none', 'vbr': None, 'abr': None, 'format': '22 - 1280x720 (720p)'}, {'asr': None, 'filesize': 78423708, 'format_id': '136', 'format_note': '720p', 'source_preference': -1, 'fps': 30, 'audio_channels': None, 'height': 720, 'quality': 8.0, 'has_drm': False, 'tbr': 389.559, 'url': 'https://rr1---sn-npoe7nz7.googlevideo.com/videoplayback?expire=1694786272&ei=fw4EZcLlPIaMz7sPlNOo-AU&ip=20.212.112.73&id=o-AEDJ8ny9bkPb6eH9LzUne0qI9DlKOFkz0_jms32P0UY4&itag=136&aitags=133%2C134%2C135%2C136%2C160%2C242%2C243%2C244%2C247%2C278%2C298%2C299%2C302%2C303&source=youtube&requiressl=yes&mh=Z9&mm=31%2C29&mn=sn-npoe7nz7%2Csn-npoeened&ms=au%2Crdu&mv=m&mvi=1&pl=16&initcwndbps=1103750&spc=UWF9fwNUOEeKPXZKy_sy9NW3K4F7HQLIzex0JnWuBA&vprv=1&svpuc=1&mime=video%2Fmp4&ns=LkhVqiE593rCi62hh075Lb4P&gir=yes&clen=78423708&dur=1610.510&lmt=1694617350723422&mt=1694764169&fvip=4&keepalive=yes&fexp=24007246&c=WEB&txp=4432434&n=HWSE8Ht9afpv7Q&sparams=expire%2Cei%2Cip%2Cid%2Caitags%2Csource%2Crequiressl%2Cspc%2Cvprv%2Csvpuc%2Cmime%2Cns%2Cgir%2Cclen%2Cdur%2Clmt&sig=AOq0QJ8wRQIgSmuo8aBcdnnaa4xuPxUNqNvDTneGvVkILBFqwRe6v80CIQClPSj6S5qNX2wASlPhAk3zLgHJW5y78c8jbSdHJVmv2A%3D%3D&lsparams=mh%2Cmm%2Cmn%2Cms%2Cmv%2Cmvi%2Cpl%2Cinitcwndbps&lsig=AG3C_xAwRAIgANjHj9G1XSNDFkbTLcz846VPQ_pGilxMNpfp4dqywd8CIFdbhZwO5eNsEb8CiUDOIKMzNJI0BcP17kEOWAKS5dCP', 'width': 1280, 'language': None, 'language_preference': -1, 'preference': None, 'ext': 'mp4', 'vcodec': 'avc1.4d401f', 'acodec': 'none', 'dynamic_range': 'SDR', 'container': 'mp4_dash', 'downloader_options': {'http_chunk_size': 10485760}, 'protocol': 'https', 'resolution': '1280x720', 'aspect_ratio': 1.78, 'http_headers': {'User-Agent': 'Mozilla/5.0 (Windows NT 10.0; Win64; x64) AppleWebKit/537.36 (KHTML, like Gecko) Chrome/93.0.4577.82 Safari/537.36', 'Accept': 'text/html,application/xhtml+xml,application/xml;q=0.9,*/*;q=0.8', 'Accept-Language': 'en-us,en;q=0.5', 'Sec-Fetch-Mode': 'navigate'}, 'video_ext': 'mp4', 'audio_ext': 'none', 'abr': 0, 'vbr': 389.559, 'format': '136 - 1280x720 (720p)'}, {'asr': None, 'filesize': 73318994, 'format_id': '247', 'format_note': '720p', 'source_preference': -1, 'fps': 30, 'audio_channels': None, 'height': 720, 'quality': 8.0, 'has_drm': False, 'tbr': 364.202, 'url': 'https://rr1---sn-npoe7nz7.googlevideo.com/videoplayback?expire=1694786272&ei=fw4EZcLlPIaMz7sPlNOo-AU&ip=20.212.112.73&id=o-AEDJ8ny9bkPb6eH9LzUne0qI9DlKOFkz0_jms32P0UY4&itag=247&aitags=133%2C134%2C135%2C136%2C160%2C242%2C243%2C244%2C247%2C278%2C298%2C299%2C302%2C303&source=youtube&requiressl=yes&mh=Z9&mm=31%2C29&mn=sn-npoe7nz7%2Csn-npoeened&ms=au%2Crdu&mv=m&mvi=1&pl=16&initcwndbps=1103750&spc=UWF9fwNUOEeKPXZKy_sy9NW3K4F7HQLIzex0JnWuBA&vprv=1&svpuc=1&mime=video%2Fwebm&ns=LkhVqiE593rCi62hh075Lb4P&gir=yes&clen=73318994&dur=1610.509&lmt=1694480770974903&mt=1694764169&fvip=4&keepalive=yes&fexp=24007246&c=WEB&txp=4437434&n=HWSE8Ht9afpv7Q&sparams=expire%2Cei%2Cip%2Cid%2Caitags%2Csource%2Crequiressl%2Cspc%2Cvprv%2Csvpuc%2Cmime%2Cns%2Cgir%2Cclen%2Cdur%2Clmt&sig=AOq0QJ8wRgIhAOXTs5hs96SAj7k2kwSOvTFgcOthxlifoyR7VjJA0e2kAiEA-bu1cuuSVf-6f5Q9Shmia9eB1WS7o_rfqVAGaYPtgFc%3D&lsparams=mh%2Cmm%2Cmn%2Cms%2Cmv%2Cmvi%2Cpl%2Cinitcwndbps&lsig=AG3C_xAwRAIgANjHj9G1XSNDFkbTLcz846VPQ_pGilxMNpfp4dqywd8CIFdbhZwO5eNsEb8CiUDOIKMzNJI0BcP17kEOWAKS5dCP', 'width': 1280, 'language': None, 'language_preference': -1, 'preference': None, 'ext': 'webm', 'vcodec': 'vp9', 'acodec': 'none', 'dynamic_range': 'SDR', 'container': 'webm_dash', 'downloader_options': {'http_chunk_size': 10485760}, 'protocol': 'https', 'resolution': '1280x720', 'aspect_ratio': 1.78, 'http_headers': {'User-Agent': 'Mozilla/5.0 (Windows NT 10.0; Win64; x64) AppleWebKit/537.36 (KHTML, like Gecko) Chrome/93.0.4577.82 Safari/537.36', 'Accept': 'text/html,application/xhtml+xml,application/xml;q=0.9,*/*;q=0.8', 'Accept-Language': 'en-us,en;q=0.5', 'Sec-Fetch-Mode': 'navigate'}, 'video_ext': 'webm', 'audio_ext': 'none', 'abr': 0, 'vbr': 364.202, 'format': '247 - 1280x720 (720p)'}, {'format_id': '311', 'format_index': None, 'url': 'https://manifest.googlevideo.com/api/manifest/hls_playlist/expire/1694786272/ei/gA4EZY3wHcHartoPz-yLyAE/ip/20.212.112.73/id/dac739b940f38a00/itag/311/source/youtube/requiressl/yes/ratebypass/yes/pfa/1/sgovp/clen%3D135328630%3Bdur%3D1610.508%3Bgir%3Dyes%3Bitag%3D298%3Blmt%3D1694617209480965/hls_chunk_host/rr1---sn-npoe7nz7.googlevideo.com/mh/Z9/mm/31,29/mn/sn-npoe7nz7,sn-npoeened/ms/au,rdu/mv/m/mvi/1/pl/16/initcwndbps/1103750/vprv/1/playlist_type/DVR/dover/13/txp/4432434/mt/1694764169/fvip/4/short_key/1/keepalive/yes/fexp/24007246/sparams/expire,ei,ip,id,itag,source,requiressl,ratebypass,pfa,sgovp,vprv,playlist_type/sig/AOq0QJ8wRQIgOJz5QEjYzNPKyxlrF30DyUac-dha37Mfmwcr3fYdQvECIQD158s7f-j4KjGvHqpmEWqmTM0qu9ZezXD0skF4W7RL1Q%3D%3D/lsparams/hls_chunk_host,mh,mm,mn,ms,mv,mvi,pl,initcwndbps/lsig/AG3C_xAwRAIgJVm34UdWO8qs2oW9gZvoEAw2O1P5w2QyWaof9OZutXACIFe6gXwCzgHS6CH2NhZg1xairbpTyMx6PY5-SlZMTCtw/playlist/index.m3u8', 'manifest_url': 'https://manifest.googlevideo.com/api/manifest/hls_variant/expire/1694786272/ei/gA4EZY3wHcHartoPz-yLyAE/ip/20.212.112.73/id/dac739b940f38a00/source/youtube/requiressl/yes/playback_host/rr1---sn-npoe7nz7.googlevideo.com/mh/Z9/mm/31%2C29/mn/sn-npoe7nz7%2Csn-npoeened/ms/au%2Crdu/mv/m/mvi/1/pl/16/hfr/1/demuxed/1/tts_caps/1/maudio/1/initcwndbps/1103750/vprv/1/go/1/mt/1694764169/fvip/4/nvgoi/1/short_key/1/ncsapi/1/keepalive/yes/fexp/24007246/dover/13/itag/0/playlist_type/DVR/sparams/expire%2Cei%2Cip%2Cid%2Csource%2Crequiressl%2Chfr%2Cdemuxed%2Ctts_caps%2Cmaudio%2Cvprv%2Cgo%2Citag%2Cplaylist_type/sig/AOq0QJ8wRAIgK7OOitr4NLG49nfZIb9HUYoA64I-ykeg2et4dZWkwPgCIALStm_cMpzbxhgnWCg-BkWGB51VzKn7b87kyCE-nV27/lsparams/playback_host%2Cmh%2Cmm%2Cmn%2Cms%2Cmv%2Cmvi%2Cpl%2Cinitcwndbps/lsig/AG3C_xAwRQIgZ16N34RwfohRQtI6aKFBYkq63kjihR97-36w2vhQFOYCIQDgaxRcx9fPsj49Iwq-fVBiqyClp8zH-8NpyCxrVdnwMA%3D%3D/file/index.m3u8', 'tbr': 1619.248, 'ext': 'mp4', 'fps': 60.0, 'protocol': 'm3u8_native', 'preference': None, 'quality': 8, 'has_drm': False, 'width': 1280, 'height': 720, 'vcodec': 'avc1.4D4020', 'acodec': 'none', 'dynamic_range': 'SDR', 'source_preference': -1, 'resolution': '1280x720', 'aspect_ratio': 1.78, 'http_headers': {'User-Agent': 'Mozilla/5.0 (Windows NT 10.0; Win64; x64) AppleWebKit/537.36 (KHTML, like Gecko) Chrome/93.0.4577.82 Safari/537.36', 'Accept': 'text/html,application/xhtml+xml,application/xml;q=0.9,*/*;q=0.8', 'Accept-Language': 'en-us,en;q=0.5', 'Sec-Fetch-Mode': 'navigate'}, 'video_ext': 'mp4', 'audio_ext': 'none', 'abr': 0, 'vbr': 1619.248, 'format': '311 - 1280x720'}, {'asr': None, 'filesize': 135328630, 'format_id': '298', 'format_note': '720p60', 'source_preference': -1, 'fps': 60, 'audio_channels': None, 'height': 720, 'quality': 8.0, 'has_drm': False, 'tbr': 672.228, 'url': 'https://rr1---sn-npoe7nz7.googlevideo.com/videoplayback?expire=1694786272&ei=gA4EZY3wHcHartoPz-yLyAE&ip=20.212.112.73&id=o-ACShWkNmBJlhKPX4vzkow_l6TCT12C-n11mPh7NKr9Sz&itag=298&source=youtube&requiressl=yes&mh=Z9&mm=31%2C29&mn=sn-npoe7nz7%2Csn-npoeened&ms=au%2Crdu&mv=m&mvi=1&pl=16&initcwndbps=1103750&vprv=1&svpuc=1&mime=video%2Fmp4&gir=yes&clen=135328630&dur=1610.508&lmt=1694617209480965&mt=1694764169&fvip=4&keepalive=yes&fexp=24007246&c=IOS&txp=4432434&sparams=expire%2Cei%2Cip%2Cid%2Citag%2Csource%2Crequiressl%2Cvprv%2Csvpuc%2Cmime%2Cgir%2Cclen%2Cdur%2Clmt&sig=AOq0QJ8wRQIgENGxvjfkcEtbzRf5V70shZh9kX3miJu6mw8HxcM_3JMCIQCV6pDPwLzvxIQun-MIw3gio7ClJoP-bnPgPeXCrE2SHg%3D%3D&lsparams=mh%2Cmm%2Cmn%2Cms%2Cmv%2Cmvi%2Cpl%2Cinitcwndbps&lsig=AG3C_xAwRgIhAIOs2_-bS64okoF2zxOBYpuoKOBpEYbtamz0MH88uul5AiEA5kyllkxNY05Um3npD7EVm_Jz-dBRU-lEIMmz0IoPH5U%3D', 'width': 1280, 'language': None, 'language_preference': -1, 'preference': None, 'ext': 'mp4', 'vcodec': 'avc1.4D4020', 'acodec': 'none', 'dynamic_range': 'SDR', 'container': 'mp4_dash', 'downloader_options': {'http_chunk_size': 10485760}, 'protocol': 'https', 'resolution': '1280x720', 'aspect_ratio': 1.78, 'http_headers': {'User-Agent': 'Mozilla/5.0 (Windows NT 10.0; Win64; x64) AppleWebKit/537.36 (KHTML, like Gecko) Chrome/93.0.4577.82 Safari/537.36', 'Accept': 'text/html,application/xhtml+xml,application/xml;q=0.9,*/*;q=0.8', 'Accept-Language': 'en-us,en;q=0.5', 'Sec-Fetch-Mode': 'navigate'}, 'video_ext': 'mp4', 'audio_ext': 'none', 'abr': 0, 'vbr': 672.228, 'format': '298 - 1280x720 (720p60)'}, {'format_id': '612', 'format_index': None, 'url': 'https://manifest.googlevideo.com/api/manifest/hls_playlist/expire/1694786272/ei/gA4EZY3wHcHartoPz-yLyAE/ip/20.212.112.73/id/dac739b940f38a00/itag/612/source/youtube/requiressl/yes/ratebypass/yes/pfa/1/wft/1/sgovp/clen%3D107988082%3Bdur%3D1610.508%3Bgir%3Dyes%3Bitag%3D302%3Blmt%3D1694476522577252/hls_chunk_host/rr1---sn-npoe7nz7.googlevideo.com/mh/Z9/mm/31,29/mn/sn-npoe7nz7,sn-npoeened/ms/au,rdu/mv/m/mvi/1/pl/16/initcwndbps/1103750/vprv/1/playlist_type/DVR/dover/13/txp/4437434/mt/1694764169/fvip/4/short_key/1/keepalive/yes/fexp/24007246/sparams/expire,ei,ip,id,itag,source,requiressl,ratebypass,pfa,wft,sgovp,vprv,playlist_type/sig/AOq0QJ8wRQIgI8_nrilBeWXii7S21KeMRFrMqbkwM4UF5jSZeqT4UWECIQCH6Zp2yLiiRKnJs98g7shOPGQ5j1yhh97d0P8-KEBDIA%3D%3D/lsparams/hls_chunk_host,mh,mm,mn,ms,mv,mvi,pl,initcwndbps/lsig/AG3C_xAwRAIgSFr3XfjJKuMw-l6MVCmGyAd-3iq7yi25zAH89SA-en4CIBjbsvqWeCis3K0yVR6c9aZqvak_HcvhsRvh_ftNqIS4/playlist/index.m3u8', 'manifest_url': 'https://manifest.googlevideo.com/api/manifest/hls_variant/expire/1694786272/ei/gA4EZY3wHcHartoPz-yLyAE/ip/20.212.112.73/id/dac739b940f38a00/source/youtube/requiressl/yes/playback_host/rr1---sn-npoe7nz7.googlevideo.com/mh/Z9/mm/31%2C29/mn/sn-npoe7nz7%2Csn-npoeened/ms/au%2Crdu/mv/m/mvi/1/pl/16/hfr/1/demuxed/1/tts_caps/1/maudio/1/initcwndbps/1103750/vprv/1/go/1/mt/1694764169/fvip/4/nvgoi/1/short_key/1/ncsapi/1/keepalive/yes/fexp/24007246/dover/13/itag/0/playlist_type/DVR/sparams/expire%2Cei%2Cip%2Cid%2Csource%2Crequiressl%2Chfr%2Cdemuxed%2Ctts_caps%2Cmaudio%2Cvprv%2Cgo%2Citag%2Cplaylist_type/sig/AOq0QJ8wRAIgK7OOitr4NLG49nfZIb9HUYoA64I-ykeg2et4dZWkwPgCIALStm_cMpzbxhgnWCg-BkWGB51VzKn7b87kyCE-nV27/lsparams/playback_host%2Cmh%2Cmm%2Cmn%2Cms%2Cmv%2Cmvi%2Cpl%2Cinitcwndbps/lsig/AG3C_xAwRQIgZ16N34RwfohRQtI6aKFBYkq63kjihR97-36w2vhQFOYCIQDgaxRcx9fPsj49Iwq-fVBiqyClp8zH-8NpyCxrVdnwMA%3D%3D/file/index.m3u8', 'tbr': 1286.727, 'ext': 'mp4', 'fps': 60.0, 'protocol': 'm3u8_native', 'preference': None, 'quality': 8, 'has_drm': False, 'width': 1280, 'height': 720, 'vcodec': 'vp09.00.40.08', 'acodec': 'none', 'dynamic_range': 'SDR', 'source_preference': -1, 'resolution': '1280x720', 'aspect_ratio': 1.78, 'http_headers': {'User-Agent': 'Mozilla/5.0 (Windows NT 10.0; Win64; x64) AppleWebKit/537.36 (KHTML, like Gecko) Chrome/93.0.4577.82 Safari/537.36', 'Accept': 'text/html,application/xhtml+xml,application/xml;q=0.9,*/*;q=0.8', 'Accept-Language': 'en-us,en;q=0.5', 'Sec-Fetch-Mode': 'navigate'}, 'video_ext': 'mp4', 'audio_ext': 'none', 'abr': 0, 'vbr': 1286.727, 'format': '612 - 1280x720'}, {'asr': None, 'filesize': 107988082, 'format_id': '302', 'format_note': '720p60', 'source_preference': -1, 'fps': 60, 'audio_channels': None, 'height': 720, 'quality': 8.0, 'has_drm': False, 'tbr': 536.417, 'url': 'https://rr1---sn-npoe7nz7.googlevideo.com/videoplayback?expire=1694786272&ei=gA4EZY3wHcHartoPz-yLyAE&ip=20.212.112.73&id=o-ACShWkNmBJlhKPX4vzkow_l6TCT12C-n11mPh7NKr9Sz&itag=302&source=youtube&requiressl=yes&mh=Z9&mm=31%2C29&mn=sn-npoe7nz7%2Csn-npoeened&ms=au%2Crdu&mv=m&mvi=1&pl=16&initcwndbps=1103750&vprv=1&svpuc=1&mime=video%2Fwebm&gir=yes&clen=107988082&dur=1610.508&lmt=1694476522577252&mt=1694764169&fvip=4&keepalive=yes&fexp=24007246&c=IOS&txp=4437434&sparams=expire%2Cei%2Cip%2Cid%2Citag%2Csource%2Crequiressl%2Cvprv%2Csvpuc%2Cmime%2Cgir%2Cclen%2Cdur%2Clmt&sig=AOq0QJ8wRQIgN0Ocjy8l7OfyPMIVGOJrevUdBCSLetNQgILTYN4d-AcCIQDQZ9Bamh4Y0R8udZG3cpdAHbsZEXTpPOV6HhecrvKVXw%3D%3D&lsparams=mh%2Cmm%2Cmn%2Cms%2Cmv%2Cmvi%2Cpl%2Cinitcwndbps&lsig=AG3C_xAwRgIhAIOs2_-bS64okoF2zxOBYpuoKOBpEYbtamz0MH88uul5AiEA5kyllkxNY05Um3npD7EVm_Jz-dBRU-lEIMmz0IoPH5U%3D', 'width': 1280, 'language': None, 'language_preference': -1, 'preference': None, 'ext': 'webm', 'vcodec': 'vp09.00.40.08', 'acodec': 'none', 'dynamic_range': 'SDR', 'container': 'webm_dash', 'downloader_options': {'http_chunk_size': 10485760}, 'protocol': 'https', 'resolution': '1280x720', 'aspect_ratio': 1.78, 'http_headers': {'User-Agent': 'Mozilla/5.0 (Windows NT 10.0; Win64; x64) AppleWebKit/537.36 (KHTML, like Gecko) Chrome/93.0.4577.82 Safari/537.36', 'Accept': 'text/html,application/xhtml+xml,application/xml;q=0.9,*/*;q=0.8', 'Accept-Language': 'en-us,en;q=0.5', 'Sec-Fetch-Mode': 'navigate'}, 'video_ext': 'webm', 'audio_ext': 'none', 'abr': 0, 'vbr': 536.417, 'format': '302 - 1280x720 (720p60)'}, {'format_id': '312', 'format_index': None, 'url': 'https://manifest.googlevideo.com/api/manifest/hls_playlist/expire/1694786272/ei/gA4EZY3wHcHartoPz-yLyAE/ip/20.212.112.73/id/dac739b940f38a00/itag/312/source/youtube/requiressl/yes/ratebypass/yes/pfa/1/sgovp/clen%3D322515157%3Bdur%3D1610.508%3Bgir%3Dyes%3Bitag%3D299%3Blmt%3D1694617602405606/hls_chunk_host/rr1---sn-npoe7nz7.googlevideo.com/mh/Z9/mm/31,29/mn/sn-npoe7nz7,sn-npoeened/ms/au,rdu/mv/m/mvi/1/pl/16/initcwndbps/1103750/vprv/1/playlist_type/DVR/dover/13/txp/4432434/mt/1694764169/fvip/4/short_key/1/keepalive/yes/fexp/24007246/sparams/expire,ei,ip,id,itag,source,requiressl,ratebypass,pfa,sgovp,vprv,playlist_type/sig/AOq0QJ8wRQIhAIosoc-H3OuBCsTMqCQb910ePwgbIG9tw5sXkU6C2Vh7AiBS3AocDlLiWk8UsCmhzWd_TUtW5G0EkgITPg3dqPIssA%3D%3D/lsparams/hls_chunk_host,mh,mm,mn,ms,mv,mvi,pl,initcwndbps/lsig/AG3C_xAwRQIhAOnpPSRV3ONO3KaRLfcJgS68B0sSrJsA-mlXQM_TAWKqAiBSmug8ncXepN5Z9N56YeC9T3OnPbJlZrJuMDAt0qNE3w%3D%3D/playlist/index.m3u8', 'manifest_url': 'https://manifest.googlevideo.com/api/manifest/hls_variant/expire/1694786272/ei/gA4EZY3wHcHartoPz-yLyAE/ip/20.212.112.73/id/dac739b940f38a00/source/youtube/requiressl/yes/playback_host/rr1---sn-npoe7nz7.googlevideo.com/mh/Z9/mm/31%2C29/mn/sn-npoe7nz7%2Csn-npoeened/ms/au%2Crdu/mv/m/mvi/1/pl/16/hfr/1/demuxed/1/tts_caps/1/maudio/1/initcwndbps/1103750/vprv/1/go/1/mt/1694764169/fvip/4/nvgoi/1/short_key/1/ncsapi/1/keepalive/yes/fexp/24007246/dover/13/itag/0/playlist_type/DVR/sparams/expire%2Cei%2Cip%2Cid%2Csource%2Crequiressl%2Chfr%2Cdemuxed%2Ctts_caps%2Cmaudio%2Cvprv%2Cgo%2Citag%2Cplaylist_type/sig/AOq0QJ8wRAIgK7OOitr4NLG49nfZIb9HUYoA64I-ykeg2et4dZWkwPgCIALStm_cMpzbxhgnWCg-BkWGB51VzKn7b87kyCE-nV27/lsparams/playback_host%2Cmh%2Cmm%2Cmn%2Cms%2Cmv%2Cmvi%2Cpl%2Cinitcwndbps/lsig/AG3C_xAwRQIgZ16N34RwfohRQtI6aKFBYkq63kjihR97-36w2vhQFOYCIQDgaxRcx9fPsj49Iwq-fVBiqyClp8zH-8NpyCxrVdnwMA%3D%3D/file/index.m3u8', 'tbr': 3126.134, 'ext': 'mp4', 'fps': 60.0, 'protocol': 'm3u8_native', 'preference': None, 'quality': 9, 'has_drm': False, 'width': 1920, 'height': 1080, 'vcodec': 'avc1.64002A', 'acodec': 'none', 'dynamic_range': 'SDR', 'source_preference': -1, 'resolution': '1920x1080', 'aspect_ratio': 1.78, 'http_headers': {'User-Agent': 'Mozilla/5.0 (Windows NT 10.0; Win64; x64) AppleWebKit/537.36 (KHTML, like Gecko) Chrome/93.0.4577.82 Safari/537.36', 'Accept': 'text/html,application/xhtml+xml,application/xml;q=0.9,*/*;q=0.8', 'Accept-Language': 'en-us,en;q=0.5', 'Sec-Fetch-Mode': 'navigate'}, 'video_ext': 'mp4', 'audio_ext': 'none', 'abr': 0, 'vbr': 3126.134, 'format': '312 - 1920x1080'}, {'asr': None, 'filesize': 322515157, 'format_id': '299', 'format_note': '1080p60', 'source_preference': -1, 'fps': 60, 'audio_channels': None, 'height': 1080, 'quality': 9.0, 'has_drm': False, 'tbr': 1602.054, 'url': 'https://rr1---sn-npoe7nz7.googlevideo.com/videoplayback?expire=1694786272&ei=gA4EZY3wHcHartoPz-yLyAE&ip=20.212.112.73&id=o-ACShWkNmBJlhKPX4vzkow_l6TCT12C-n11mPh7NKr9Sz&itag=299&source=youtube&requiressl=yes&mh=Z9&mm=31%2C29&mn=sn-npoe7nz7%2Csn-npoeened&ms=au%2Crdu&mv=m&mvi=1&pl=16&initcwndbps=1103750&vprv=1&svpuc=1&mime=video%2Fmp4&gir=yes&clen=322515157&dur=1610.508&lmt=1694617602405606&mt=1694764169&fvip=4&keepalive=yes&fexp=24007246&c=IOS&txp=4432434&sparams=expire%2Cei%2Cip%2Cid%2Citag%2Csource%2Crequiressl%2Cvprv%2Csvpuc%2Cmime%2Cgir%2Cclen%2Cdur%2Clmt&sig=AOq0QJ8wRQIgLs2LF--bV2GhZLKCa3cQUyUSgZZ7QQFc5Mayx4ZCe0UCIQDnraZ74iFfBcSFD47EyR27CyKPR5UZgKUdjI67phZCUQ%3D%3D&lsparams=mh%2Cmm%2Cmn%2Cms%2Cmv%2Cmvi%2Cpl%2Cinitcwndbps&lsig=AG3C_xAwRgIhAIOs2_-bS64okoF2zxOBYpuoKOBpEYbtamz0MH88uul5AiEA5kyllkxNY05Um3npD7EVm_Jz-dBRU-lEIMmz0IoPH5U%3D', 'width': 1920, 'language': None, 'language_preference': -1, 'preference': None, 'ext': 'mp4', 'vcodec': 'avc1.64002A', 'acodec': 'none', 'dynamic_range': 'SDR', 'container': 'mp4_dash', 'downloader_options': {'http_chunk_size': 10485760}, 'protocol': 'https', 'resolution': '1920x1080', 'aspect_ratio': 1.78, 'http_headers': {'User-Agent': 'Mozilla/5.0 (Windows NT 10.0; Win64; x64) AppleWebKit/537.36 (KHTML, like Gecko) Chrome/93.0.4577.82 Safari/537.36', 'Accept': 'text/html,application/xhtml+xml,application/xml;q=0.9,*/*;q=0.8', 'Accept-Language': 'en-us,en;q=0.5', 'Sec-Fetch-Mode': 'navigate'}, 'video_ext': 'mp4', 'audio_ext': 'none', 'abr': 0, 'vbr': 1602.054, 'format': '299 - 1920x1080 (1080p60)'}, {'format_id': '617', 'format_index': None, 'url': 'https://manifest.googlevideo.com/api/manifest/hls_playlist/expire/1694786272/ei/gA4EZY3wHcHartoPz-yLyAE/ip/20.212.112.73/id/dac739b940f38a00/itag/617/source/youtube/requiressl/yes/ratebypass/yes/pfa/1/wft/1/sgovp/clen%3D192789803%3Bdur%3D1610.508%3Bgir%3Dyes%3Bitag%3D303%3Blmt%3D1694477153141276/hls_chunk_host/rr1---sn-npoe7nz7.googlevideo.com/mh/Z9/mm/31,29/mn/sn-npoe7nz7,sn-npoeened/ms/au,rdu/mv/m/mvi/1/pl/16/initcwndbps/1103750/vprv/1/playlist_type/DVR/dover/13/txp/4437434/mt/1694764169/fvip/4/short_key/1/keepalive/yes/fexp/24007246/sparams/expire,ei,ip,id,itag,source,requiressl,ratebypass,pfa,wft,sgovp,vprv,playlist_type/sig/AOq0QJ8wRgIhALwQnBnJRhwkg54zQ5ESmCapMptZANG5TvvBr5PCY4DhAiEAp0MpwFYR1MGpmw_vMwgo1ChxNBBHv9AvzDjtnZ16CXE%3D/lsparams/hls_chunk_host,mh,mm,mn,ms,mv,mvi,pl,initcwndbps/lsig/AG3C_xAwRAIgJoPnME4Er_jFq2w90pA6R3wZ-8ntwBqD2NQZOco5c3wCICYRuaazyi2xEgxLN6O_RlUIdsAWb9Ud41oSAAOFghmt/playlist/index.m3u8', 'manifest_url': 'https://manifest.googlevideo.com/api/manifest/hls_variant/expire/1694786272/ei/gA4EZY3wHcHartoPz-yLyAE/ip/20.212.112.73/id/dac739b940f38a00/source/youtube/requiressl/yes/playback_host/rr1---sn-npoe7nz7.googlevideo.com/mh/Z9/mm/31%2C29/mn/sn-npoe7nz7%2Csn-npoeened/ms/au%2Crdu/mv/m/mvi/1/pl/16/hfr/1/demuxed/1/tts_caps/1/maudio/1/initcwndbps/1103750/vprv/1/go/1/mt/1694764169/fvip/4/nvgoi/1/short_key/1/ncsapi/1/keepalive/yes/fexp/24007246/dover/13/itag/0/playlist_type/DVR/sparams/expire%2Cei%2Cip%2Cid%2Csource%2Crequiressl%2Chfr%2Cdemuxed%2Ctts_caps%2Cmaudio%2Cvprv%2Cgo%2Citag%2Cplaylist_type/sig/AOq0QJ8wRAIgK7OOitr4NLG49nfZIb9HUYoA64I-ykeg2et4dZWkwPgCIALStm_cMpzbxhgnWCg-BkWGB51VzKn7b87kyCE-nV27/lsparams/playback_host%2Cmh%2Cmm%2Cmn%2Cms%2Cmv%2Cmvi%2Cpl%2Cinitcwndbps/lsig/AG3C_xAwRQIgZ16N34RwfohRQtI6aKFBYkq63kjihR97-36w2vhQFOYCIQDgaxRcx9fPsj49Iwq-fVBiqyClp8zH-8NpyCxrVdnwMA%3D%3D/file/index.m3u8', 'tbr': 2088.35, 'ext': 'mp4', 'fps': 60.0, 'protocol': 'm3u8_native', 'preference': None, 'quality': 9, 'has_drm': False, 'width': 1920, 'height': 1080, 'vcodec': 'vp09.00.41.08', 'acodec': 'none', 'dynamic_range': 'SDR', 'source_preference': -1, 'resolution': '1920x1080', 'aspect_ratio': 1.78, 'http_headers': {'User-Agent': 'Mozilla/5.0 (Windows NT 10.0; Win64; x64) AppleWebKit/537.36 (KHTML, like Gecko) Chrome/93.0.4577.82 Safari/537.36', 'Accept': 'text/html,application/xhtml+xml,application/xml;q=0.9,*/*;q=0.8', 'Accept-Language': 'en-us,en;q=0.5', 'Sec-Fetch-Mode': 'navigate'}, 'video_ext': 'mp4', 'audio_ext': 'none', 'abr': 0, 'vbr': 2088.35, 'format': '617 - 1920x1080'}, {'asr': None, 'filesize': 192789803, 'format_id': '303', 'format_note': '1080p60', 'source_preference': -1, 'fps': 60, 'audio_channels': None, 'height': 1080, 'quality': 9.0, 'has_drm': False, 'tbr': 957.659, 'url': 'https://rr1---sn-npoe7nz7.googlevideo.com/videoplayback?expire=1694786272&ei=gA4EZY3wHcHartoPz-yLyAE&ip=20.212.112.73&id=o-ACShWkNmBJlhKPX4vzkow_l6TCT12C-n11mPh7NKr9Sz&itag=303&source=youtube&requiressl=yes&mh=Z9&mm=31%2C29&mn=sn-npoe7nz7%2Csn-npoeened&ms=au%2Crdu&mv=m&mvi=1&pl=16&initcwndbps=1103750&vprv=1&svpuc=1&mime=video%2Fwebm&gir=yes&clen=192789803&dur=1610.508&lmt=1694477153141276&mt=1694764169&fvip=4&keepalive=yes&fexp=24007246&c=IOS&txp=4437434&sparams=expire%2Cei%2Cip%2Cid%2Citag%2Csource%2Crequiressl%2Cvprv%2Csvpuc%2Cmime%2Cgir%2Cclen%2Cdur%2Clmt&sig=AOq0QJ8wRgIhALDSkw_mb7PD9lqSE4TWQ2SmFoZIXQ1kkmjqVCjBkNkjAiEAm8lkigh7p478TfrqQp5ap2bqcmkcP1RNHr77PTxGmd0%3D&lsparams=mh%2Cmm%2Cmn%2Cms%2Cmv%2Cmvi%2Cpl%2Cinitcwndbps&lsig=AG3C_xAwRgIhAIOs2_-bS64okoF2zxOBYpuoKOBpEYbtamz0MH88uul5AiEA5kyllkxNY05Um3npD7EVm_Jz-dBRU-lEIMmz0IoPH5U%3D', 'width': 1920, 'language': None, 'language_preference': -1, 'preference': None, 'ext': 'webm', 'vcodec': 'vp09.00.41.08', 'acodec': 'none', 'dynamic_range': 'SDR', 'container': 'webm_dash', 'downloader_options': {'http_chunk_size': 10485760}, 'protocol': 'https', 'resolution': '1920x1080', 'aspect_ratio': 1.78, 'http_headers': {'User-Agent': 'Mozilla/5.0 (Windows NT 10.0; Win64; x64) AppleWebKit/537.36 (KHTML, like Gecko) Chrome/93.0.4577.82 Safari/537.36', 'Accept': 'text/html,application/xhtml+xml,application/xml;q=0.9,*/*;q=0.8', 'Accept-Language': 'en-us,en;q=0.5', 'Sec-Fetch-Mode': 'navigate'}, 'video_ext': 'webm', 'audio_ext': 'none', 'abr': 0, 'vbr': 957.659, 'format': '303 - 1920x1080 (1080p60)'}], 'thumbnails': [{'url': 'https://i.ytimg.com/vi/2sc5uUDzigA/3.jpg', 'preference': -37, 'id': '0'}, {'url': 'https://i.ytimg.com/vi_webp/2sc5uUDzigA/3.webp', 'preference': -36, 'id': '1'}, {'url': 'https://i.ytimg.com/vi/2sc5uUDzigA/2.jpg', 'preference': -35, 'id': '2'}, {'url': 'https://i.ytimg.com/vi_webp/2sc5uUDzigA/2.webp', 'preference': -34, 'id': '3'}, {'url': 'https://i.ytimg.com/vi/2sc5uUDzigA/1.jpg', 'preference': -33, 'id': '4'}, {'url': 'https://i.ytimg.com/vi_webp/2sc5uUDzigA/1.webp', 'preference': -32, 'id': '5'}, {'url': 'https://i.ytimg.com/vi/2sc5uUDzigA/mq3.jpg', 'preference': -31, 'id': '6'}, {'url': 'https://i.ytimg.com/vi_webp/2sc5uUDzigA/mq3.webp', 'preference': -30, 'id': '7'}, {'url': 'https://i.ytimg.com/vi/2sc5uUDzigA/mq2.jpg', 'preference': -29, 'id': '8'}, {'url': 'https://i.ytimg.com/vi_webp/2sc5uUDzigA/mq2.webp', 'preference': -28, 'id': '9'}, {'url': 'https://i.ytimg.com/vi/2sc5uUDzigA/mq1.jpg', 'preference': -27, 'id': '10'}, {'url': 'https://i.ytimg.com/vi_webp/2sc5uUDzigA/mq1.webp', 'preference': -26, 'id': '11'}, {'url': 'https://i.ytimg.com/vi/2sc5uUDzigA/hq3.jpg', 'preference': -25, 'id': '12'}, {'url': 'https://i.ytimg.com/vi_webp/2sc5uUDzigA/hq3.webp', 'preference': -24, 'id': '13'}, {'url': 'https://i.ytimg.com/vi/2sc5uUDzigA/hq2.jpg', 'preference': -23, 'id': '14'}, {'url': 'https://i.ytimg.com/vi_webp/2sc5uUDzigA/hq2.webp', 'preference': -22, 'id': '15'}, {'url': 'https://i.ytimg.com/vi/2sc5uUDzigA/hq1.jpg', 'preference': -21, 'id': '16'}, {'url': 'https://i.ytimg.com/vi_webp/2sc5uUDzigA/hq1.webp', 'preference': -20, 'id': '17'}, {'url': 'https://i.ytimg.com/vi/2sc5uUDzigA/sd3.jpg', 'preference': -19, 'id': '18'}, {'url': 'https://i.ytimg.com/vi_webp/2sc5uUDzigA/sd3.webp', 'preference': -18, 'id': '19'}, {'url': 'https://i.ytimg.com/vi/2sc5uUDzigA/sd2.jpg', 'preference': -17, 'id': '20'}, {'url': 'https://i.ytimg.com/vi_webp/2sc5uUDzigA/sd2.webp', 'preference': -16, 'id': '21'}, {'url': 'https://i.ytimg.com/vi/2sc5uUDzigA/sd1.jpg', 'preference': -15, 'id': '22'}, {'url': 'https://i.ytimg.com/vi_webp/2sc5uUDzigA/sd1.webp', 'preference': -14, 'id': '23'}, {'url': 'https://i.ytimg.com/vi/2sc5uUDzigA/default.jpg', 'height': 90, 'width': 120, 'preference': -13, 'id': '24', 'resolution': '120x90'}, {'url': 'https://i.ytimg.com/vi_webp/2sc5uUDzigA/default.webp', 'preference': -12, 'id': '25'}, {'url': 'https://i.ytimg.com/vi/2sc5uUDzigA/mqdefault.jpg', 'height': 180, 'width': 320, 'preference': -11, 'id': '26', 'resolution': '320x180'}, {'url': 'https://i.ytimg.com/vi_webp/2sc5uUDzigA/mqdefault.webp', 'preference': -10, 'id': '27'}, {'url': 'https://i.ytimg.com/vi/2sc5uUDzigA/0.jpg', 'preference': -9, 'id': '28'}, {'url': 'https://i.ytimg.com/vi_webp/2sc5uUDzigA/0.webp', 'preference': -8, 'id': '29'}, {'url': 'https://i.ytimg.com/vi/2sc5uUDzigA/hqdefault.jpg?sqp=-oaymwEbCKgBEF5IVfKriqkDDggBFQAAiEIYAXABwAEG&rs=AOn4CLAjojARoEdjrxIsLYf0Q5eFm4rASA', 'height': 94, 'width': 168, 'preference': -7, 'id': '30', 'resolution': '168x94'}, {'url': 'https://i.ytimg.com/vi/2sc5uUDzigA/hqdefault.jpg?sqp=-oaymwEbCMQBEG5IVfKriqkDDggBFQAAiEIYAXABwAEG&rs=AOn4CLCfEIr-mKbTqNJdnwn5k6mpO1Lt1w', 'height': 110, 'width': 196, 'preference': -7, 'id': '31', 'resolution': '196x110'}, {'url': 'https://i.ytimg.com/vi/2sc5uUDzigA/hqdefault.jpg?sqp=-oaymwEcCPYBEIoBSFXyq4qpAw4IARUAAIhCGAFwAcABBg==&rs=AOn4CLDLTbYeLmo6hHnFPR3lqZZ5Fn9MsQ', 'height': 138, 'width': 246, 'preference': -7, 'id': '32', 'resolution': '246x138'}, {'url': 'https://i.ytimg.com/vi/2sc5uUDzigA/hqdefault.jpg?sqp=-oaymwEcCNACELwBSFXyq4qpAw4IARUAAIhCGAFwAcABBg==&rs=AOn4CLA_Oo-8zWoxMkuL3u4rRUKuUlBD8Q', 'height': 188, 'width': 336, 'preference': -7, 'id': '33', 'resolution': '336x188'}, {'url': 'https://i.ytimg.com/vi/2sc5uUDzigA/hqdefault.jpg', 'height': 360, 'width': 480, 'preference': -7, 'id': '34', 'resolution': '480x360'}, {'url': 'https://i.ytimg.com/vi_webp/2sc5uUDzigA/hqdefault.webp', 'preference': -6, 'id': '35'}, {'url': 'https://i.ytimg.com/vi/2sc5uUDzigA/sddefault.jpg', 'height': 480, 'width': 640, 'preference': -5, 'id': '36', 'resolution': '640x480'}, {'url': 'https://i.ytimg.com/vi_webp/2sc5uUDzigA/sddefault.webp', 'preference': -4, 'id': '37'}, {'url': 'https://i.ytimg.com/vi/2sc5uUDzigA/hq720.jpg', 'preference': -3, 'id': '38'}, {'url': 'https://i.ytimg.com/vi_webp/2sc5uUDzigA/hq720.webp', 'preference': -2, 'id': '39'}, {'url': 'https://i.ytimg.com/vi/2sc5uUDzigA/maxresdefault.jpg', 'height': 1080, 'width': 1920, 'preference': -1, 'id': '40', 'resolution': '1920x1080'}, {'url': 'https://i.ytimg.com/vi_webp/2sc5uUDzigA/maxresdefault.webp', 'preference': 0, 'id': '41'}], 'thumbnail': 'https://i.ytimg.com/vi/2sc5uUDzigA/maxresdefault.jpg', 'description': '加入stone记会员链接\\nhttps://www.youtube.com/channel/UCghLs6s95LrBWOdlZUCH4qw/join\\n合作联系Twitter：stone记@stone62855987\\n我们现阶段录制视频使用的设备\\n主力相机Canon EOS R\\nhttps://amzn.to/2L2eHQG\\n主力镜头Canon RF 50mm f/1.2L USM Lens\\nhttps://amzn.to/2L3qWwt\\n主力无线麦克风Sennheiser AVX 配合MKE2\\nhttps://amzn.to/2ZliYnj\\n桌面三角架\\nhttps://amzn.to/321gZqc\\n将两个麦克风合一的Saramonic SR-AX100\\nhttps://amzn.to/2TWRofg\\n铁威马D8 332\\nhttps://amzn.to/3BqlGxT\\n\\n一些实用的附件推荐\\n相机背带Peak Design Slide Lite Camera Strap SLL-BK-3 (Black)\\nhttps://amzn.to/2QC0csh\\n相机腕带Peak Design Cuff Camera Wrist Strap\\nhttps://amzn.to/2S6Z4cZ\\n相机包Lowepro Adventura SH 160 II\\nhttps://amzn.to/2USOA2Q\\n三星T5 2TB移动硬盘\\nhttps://amzn.to/2rK72xf\\n佳能照片打印机Canon SELPHY CP1300\\nhttps://amzn.to/2EA2CBp\\nFlash Hot Shoe Mount Adapter热靴\\nhttps://amzn.to/2x9NPXU\\nLogitech BRIO\\nhttps://amzn.to/2Qp4Q9E\\nRode VideoMicro 手机麦克风\\nhttps://amzn.to/2CLwquJ\\nJOBY GorillaPod 3K Kit 八爪魚三腳架\\nhttps://amzn.to/2QqAofl\\nLogitech G903\\nhttps://amzn.to/2QocOzv\\nLogitech G Powerplay Wireless Charging System\\nhttps://amzn.to/2x29EIQ\\nBlue Yeti USB Microphone 桌面麦克风\\nhttps://amzn.to/2x52Eet\\nMarathon CL030060WH 显示温度和湿度的桌面时钟\\nhttps://amzn.to/2CLyfYB\\nMarathon CL030054WH 显示温度和湿度的床头时钟\\nhttps://amzn.to/2QkOS02\\n\\n介绍我们最近升级的新设备和心得（20181218第444期）\\nhttps://youtu.be/4G8yWQyBKak\\n介绍我们录制视频使用的全部设备（20180912第257期）\\nhttps://youtu.be/BbtTwsP_-zc', 'channel_id': 'UCghLs6s95LrBWOdlZUCH4qw', 'channel_url': 'https://www.youtube.com/channel/UCghLs6s95LrBWOdlZUCH4qw', 'duration': 1611, 'view_count': 48532, 'average_rating': None, 'age_limit': 0, 'webpage_url': 'https://www.youtube.com/watch?v=2sc5uUDzigA', 'categories': ['News & Politics'], 'tags': [], 'playable_in_embed': True, 'live_status': 'not_live', 'release_timestamp': None, '_format_sort_fields': ('quality', 'res', 'fps', 'hdr:12', 'source', 'vcodec:vp9.2', 'channels', 'acodec', 'lang', 'proto'), 'automatic_captions': {}, 'subtitles': {}, 'comment_count': None, 'chapters': None, 'heatmap': None, 'like_count': 220, 'channel': 'stone记', 'channel_follower_count': 437000, 'uploader': 'stone记', 'uploader_id': '@stone_ji', 'uploader_url': 'https://www.youtube.com/@stone_ji', 'upload_date': '20230909', 'availability': 'public', 'original_url': 'https://www.youtube.com/watch?v=2sc5uUDzigA', 'webpage_url_basename': 'watch', 'webpage_url_domain': 'youtube.com', 'extractor': 'youtube', 'extractor_key': 'Youtube', 'playlist': None, 'playlist_index': None, 'display_id': '2sc5uUDzigA', 'fulltitle': '立法不可能特别具体，最高法院释宪也是按照意识形态瞎解释（20230909第6313期）', 'duration_string': '26:51', 'is_live': False, 'was_live': False, 'requested_subtitles': None, '_has_drm': None, 'epoch': 1694764673, 'format': '140 - audio only (medium)', 'format_id': '140', 'ext': 'm4a', 'protocol': 'https', 'language': None, 'format_note': 'medium', 'filesize_approx': 26065848, 'tbr': 129.474, 'width': None, 'height': None, 'resolution': 'audio only', 'fps': None, 'dynamic_range': None, 'vcodec': 'none', 'vbr': 0, 'stretched_ratio': None, 'aspect_ratio': None, 'acodec': 'mp4a.40.2', 'abr': 129.474, 'asr': 44100, 'audio_channels': 2, '_filename': 'channel_id/2sc5uUDzigA.mp4', 'filename': 'channel_id/2sc5uUDzigA.mp4', '__real_download': True, 'filesize': 26065848, 'source_preference': -1, 'quality': 3.0, 'has_drm': False, 'url': 'https://rr1---sn-npoe7nz7.googlevideo.com/videoplayback?expire=1694786272&ei=gA4EZY3wHcHartoPz-yLyAE&ip=20.212.112.73&id=o-ACShWkNmBJlhKPX4vzkow_l6TCT12C-n11mPh7NKr9Sz&itag=140&source=youtube&requiressl=yes&mh=Z9&mm=31%2C29&mn=sn-npoe7nz7%2Csn-npoeened&ms=au%2Crdu&mv=m&mvi=1&pl=16&initcwndbps=1103750&vprv=1&svpuc=1&mime=audio%2Fmp4&gir=yes&clen=26065848&dur=1610.559&lmt=1694607391242903&mt=1694764169&fvip=4&keepalive=yes&fexp=24007246&c=IOS&txp=4432434&sparams=expire%2Cei%2Cip%2Cid%2Citag%2Csource%2Crequiressl%2Cvprv%2Csvpuc%2Cmime%2Cgir%2Cclen%2Cdur%2Clmt&sig=AOq0QJ8wRQIgCLUPzb3mcueCDlFyoR_HYQgEWoUZNbcRZKTfFhOsdiICIQCkq4rYRrnLRk29NzHkGI9F5RxvnMxPsL2elRRBqDvOdw%3D%3D&lsparams=mh%2Cmm%2Cmn%2Cms%2Cmv%2Cmvi%2Cpl%2Cinitcwndbps&lsig=AG3C_xAwRgIhAIOs2_-bS64okoF2zxOBYpuoKOBpEYbtamz0MH88uul5AiEA5kyllkxNY05Um3npD7EVm_Jz-dBRU-lEIMmz0IoPH5U%3D', 'language_preference': -1, 'preference': None, 'container': 'm4a_dash', 'downloader_options': {'http_chunk_size': 10485760}, 'http_headers': {'User-Agent': 'Mozilla/5.0 (Windows NT 10.0; Win64; x64) AppleWebKit/537.36 (KHTML, like Gecko) Chrome/93.0.4577.82 Safari/537.36', 'Accept': 'text/html,application/xhtml+xml,application/xml;q=0.9,*/*;q=0.8', 'Accept-Language': 'en-us,en;q=0.5', 'Sec-Fetch-Mode': 'navigate'}, 'audio_ext': 'm4a', 'video_ext': 'none', 'filetime': 1694607391}, 'speed': 53578465.19240019, '_speed_str': '51.10MiB/s', '_total_bytes_str': '  24.86MiB', '_elapsed_str': '00:00:00', '_percent_str': '100.0%', '_default_template': '100% of   24.86MiB in 00:00:00 at 51.10MiB/s'}\n",
      "Processedg\u001b[1K\n",
      "Processedg\u001b[1K\n",
      "2sc5uUDzigA下载成功\n"
     ]
    }
   ],
   "source": [
    "download_video(\"2sc5uUDzigA\", \"channel_id\", \"mp4\", \"https://www.youtube.com/watch?v=\", \"480\")"
   ]
  },
  {
   "cell_type": "code",
   "execution_count": 11,
   "metadata": {},
   "outputs": [],
   "source": [
    "# 文本整形模块\n",
    "def shap_file_size(text, text_size):\n",
    "    if isinstance(text_size, int) and text_size> 0:\n",
    "        text = text.strip()\n",
    "        return text if len(text) > text_size else f\"{text:>{text_size}}\"\n",
    "    else:\n",
    "        text = text.strip()\n",
    "        text_size = text_size.strip()\n",
    "        bit = len(text_size)\n",
    "        if len(text) > bit:\n",
    "            return f\"{text}/{text_size}\"\n",
    "        else:\n",
    "            return f\"{text:>{bit}}/{text_size}\""
   ]
  },
  {
   "cell_type": "code",
   "execution_count": 63,
   "metadata": {},
   "outputs": [
    {
     "name": "stdout",
     "output_type": "stream",
     "text": [
      "这不是一个大于零的自然数。\n"
     ]
    }
   ],
   "source": [
    "value = -1\n",
    "\n",
    "if isinstance(value, int) and value > 0:\n",
    "    print(\"这是一个大于零的自然数。\")\n",
    "else:\n",
    "    print(\"这不是一个大于零的自然数。\")\n"
   ]
  },
  {
   "cell_type": "code",
   "execution_count": 3,
   "metadata": {},
   "outputs": [
    {
     "name": "stdout",
     "output_type": "stream",
     "text": [
      "{'address': '123 Main St'}\n"
     ]
    }
   ],
   "source": [
    "my_var = {\"name\": \"John\", \"age\": 30}\n",
    "my_var = \"abc\"\n",
    "if type(my_var) is dict:\n",
    "    print(\"这是一个字典。\")\n",
    "else:\n",
    "    my_var = {\"address\": \"123 Main St\"}\n",
    "    print(my_var)"
   ]
  },
  {
   "cell_type": "code",
   "execution_count": 4,
   "metadata": {},
   "outputs": [
    {
     "name": "stdout",
     "output_type": "stream",
     "text": [
      "71.4%| 43.98MiB| 650.85KiB/s|00:19 \n"
     ]
    }
   ],
   "source": [
    "#  100% of   43.95MiB in 00:00:06 at 7.16MiB/s\n",
    "import re\n",
    "_default_template =\"71.4% of ~  43.98MiB at  650.85KiB/s ETA 00:19 (frag 206/290)\"\n",
    "pattern = r\"( of ~ )|( at )|( ETA )|( in )|( of )\"\n",
    "pattern_ = r\"\\(.+\\)\"\n",
    "print(f\"\\r{re.sub(pattern_, '', re.sub(pattern, '|', _default_template))}\")"
   ]
  }
 ],
 "metadata": {
  "kernelspec": {
   "display_name": "Python 3 (ipykernel)",
   "language": "python",
   "name": "python3"
  },
  "language_info": {
   "codemirror_mode": {
    "name": "ipython",
    "version": 3
   },
   "file_extension": ".py",
   "mimetype": "text/x-python",
   "name": "python",
   "nbconvert_exporter": "python",
   "pygments_lexer": "ipython3",
   "version": "3.10.8"
  }
 },
 "nbformat": 4,
 "nbformat_minor": 2
}
