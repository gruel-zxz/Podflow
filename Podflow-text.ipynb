{
 "cells": [
  {
   "cell_type": "code",
   "execution_count": 2,
   "metadata": {},
   "outputs": [
    {
     "name": "stdout",
     "output_type": "stream",
     "text": [
      "['hWSa8TIDGjg', '1k8mWhOmOTE', '9BaLhumFWeg', '0NVJHptGU30', 'Rb5stK4BazI', 'RLNVK0c7-lY', 'CRlQ52uPwpo', '8YMX8zWvBqY', 'ciaC36cwjPM', 'sVjuyUtUZpI', 'F5Q57AXr-C0', 'nVvasjcmtaU', 'aweXX90Mif8', 'x22AL6YCcIs', 'RHQrndotjW4']\n"
     ]
    }
   ],
   "source": [
    " # 导入re模块，用于正则表达式操作\n",
    "import re\n",
    "\n",
    "# 定义文件路径和打开文件\n",
    "channel_id = 'channel_id/UCghLs6s95LrBWOdlZUCH4qw.txt'\n",
    "with open(channel_id, 'r') as channel:\n",
    "    # 读取文件内容，并赋值给xml变量\n",
    "    xml = channel.read()\n",
    "\n",
    "# 定义正则表达式模式，用于匹配视频ID\n",
    "id_pattern = re.compile(r'(?<=<id>yt:video:)[A-Za-z0-9_-]{11}(?=</id>)')\n",
    "\n",
    "# 在xml内容中搜索视频ID，并赋值给video_ids变量\n",
    "video_ids = id_pattern.findall(xml)\n",
    "\n",
    "# 输出匹配到的视频ID\n",
    "print(video_ids)"
   ]
  },
  {
   "cell_type": "code",
   "execution_count": null,
   "metadata": {},
   "outputs": [],
   "source": [
    "import requests\n",
    "import xml.etree.ElementTree as ET\n",
    "import time\n",
    "\n",
    "# 根据需要修改以下变量\n",
    "url = \"https://www.youtube.com/feeds/videos.xml?channel_id=UCghLs6s95LrBWOdlZUCH4qw\"\n",
    "pushkey = \"PDU18136TvdVYY5K3UagCr7zYKZozIqT3C5VrCScs\"\n",
    "\n",
    "# 初始化变量\n",
    "last_updated = None\n",
    "update_interval = 5 * 60  # 更新间隔（单位：秒）\n",
    "\n",
    "while True:\n",
    "    # 检查更新\n",
    "    response = requests.get(url)\n",
    "    if response.status_code == 200:\n",
    "        content = response.content\n",
    "        tree = ET.fromstring(content)\n",
    "        pub_date = tree.find(\"./{http://www.w3.org/2005/Atom}entry/{http://www.w3.org/2005/Atom}published\").text\n",
    "        if pub_date != last_updated:\n",
    "            # 触发 API 通知\n",
    "            url_payload = f\"https://api2.pushdeer.com/message/push?pushkey={pushkey}&text=YouTube更新\"\n",
    "            response = requests.get(url_payload)\n",
    "            \n",
    "            # 更新上次更新时间\n",
    "            last_updated = pub_date\n",
    "            print(\"已检测到更新，已发送通知\")\n",
    "        else:\n",
    "            print(\"没有更新\")\n",
    "    else:\n",
    "        print(\"请求失败\")\n",
    "    \n",
    "    # 等待下次更新\n",
    "    time.sleep(update_interval)"
   ]
  },
  {
   "cell_type": "code",
   "execution_count": 7,
   "metadata": {},
   "outputs": [
    {
     "name": "stdout",
     "output_type": "stream",
     "text": [
      "2023-08-01 07:51:07 测试\n"
     ]
    }
   ],
   "source": [
    "import datetime\n",
    "\n",
    "log = \"测试\"\n",
    "\n",
    "# 获取当前的具体时间\n",
    "current_time = datetime.datetime.now()\n",
    "\n",
    "# 格式化输出，只保留年月日时分秒\n",
    "formatted_time = current_time.strftime(\"%Y-%m-%d %H:%M:%S\")\n",
    "\n",
    "# 打印当前的具体时间（精确到秒）\n",
    "print(formatted_time,log)\n",
    "\n",
    "try:\n",
    "    # 打开文件，在末尾追加内容\n",
    "    with open(\"log.txt\", \"a\") as file:\n",
    "        file.write(formatted_time + log + \"\\n\")\n",
    "\n",
    "except FileNotFoundError:\n",
    "    # 文件不存在的处理逻辑\n",
    "    with open(\"log.txt\", \"w\") as file:\n",
    "        file.write(formatted_time + log + \"\\n\")"
   ]
  },
  {
   "cell_type": "code",
   "execution_count": 9,
   "metadata": {},
   "outputs": [
    {
     "name": "stdout",
     "output_type": "stream",
     "text": [
      "2023-08-01 08:09:09 nihao\n"
     ]
    }
   ],
   "source": [
    "import datetime\n",
    "\n",
    "def write_log(log):\n",
    "    # 获取当前的具体时间\n",
    "    current_time = datetime.datetime.now()\n",
    "\n",
    "    # 格式化输出，只保留年月日时分秒\n",
    "    formatted_time = current_time.strftime(\"%Y-%m-%d %H:%M:%S\")\n",
    "\n",
    "    # 打印当前的具体时间（精确到秒）\n",
    "    print(formatted_time, log)\n",
    "\n",
    "    try:\n",
    "        # 打开文件，在末尾追加内容\n",
    "        with open(\"log.txt\", \"a\") as file:\n",
    "            file.write(formatted_time + \" \" + log + \"\\n\")\n",
    "\n",
    "    except FileNotFoundError:\n",
    "        # 文件不存在的处理逻辑\n",
    "        with open(\"log.txt\", \"w\") as file:\n",
    "            file.write(formatted_time + \" \" + log + \"\\n\")\n",
    "\n",
    "\n",
    "write_log(\"nihao\")"
   ]
  },
  {
   "cell_type": "code",
   "execution_count": 10,
   "metadata": {},
   "outputs": [
    {
     "name": "stdout",
     "output_type": "stream",
     "text": [
      "2023-08-01 08:09:37 ni hao\n"
     ]
    }
   ],
   "source": [
    "write_log(\"ni hao\")"
   ]
  },
  {
   "cell_type": "code",
   "execution_count": 1,
   "metadata": {},
   "outputs": [],
   "source": [
    "import datetime\n",
    "\n",
    "def write_log(log):\n",
    "    # 获取当前的具体时间\n",
    "    current_time = datetime.datetime.now()\n",
    "\n",
    "    # 格式化输出，只保留年月日时分秒\n",
    "    formatted_time = current_time.strftime(\"%Y-%m-%d %H:%M:%S\")\n",
    "\n",
    "    # 打开文件，并读取原有内容\n",
    "    try:\n",
    "        with open(\"log.txt\", \"r\") as file:\n",
    "            contents = file.read()\n",
    "    except FileNotFoundError:\n",
    "        contents = \"\"\n",
    "\n",
    "    # 将新的日志内容添加在原有内容之前\n",
    "    new_contents = formatted_time + \" \" + log + \"\\n\" + contents\n",
    "\n",
    "    # 将新的日志内容写入文件\n",
    "    with open(\"log.txt\", \"w\") as file:\n",
    "        file.write(new_contents)\n",
    "\n",
    "    # 打印当前的具体时间（精确到秒）\n",
    "    print(formatted_time, log)\n"
   ]
  },
  {
   "cell_type": "code",
   "execution_count": 4,
   "metadata": {},
   "outputs": [
    {
     "name": "stdout",
     "output_type": "stream",
     "text": [
      "2023-08-01 08:31:13 ni hao\n"
     ]
    }
   ],
   "source": [
    "write_log(\"ni hao\")"
   ]
  }
 ],
 "metadata": {
  "kernelspec": {
   "display_name": "Python 3 (ipykernel)",
   "language": "python",
   "name": "python3"
  },
  "language_info": {
   "codemirror_mode": {
    "name": "ipython",
    "version": 3
   },
   "file_extension": ".py",
   "mimetype": "text/x-python",
   "name": "python",
   "nbconvert_exporter": "python",
   "pygments_lexer": "ipython3",
   "version": "3.10.8"
  }
 },
 "nbformat": 4,
 "nbformat_minor": 2
}
