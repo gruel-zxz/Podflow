{
 "cells": [
  {
   "cell_type": "code",
   "execution_count": null,
   "metadata": {},
   "outputs": [],
   "source": [
    " # 导入re模块，用于正则表达式操作\n",
    "import re\n",
    "\n",
    "# 定义文件路径和打开文件\n",
    "channel_id = 'channel_id/UCghLs6s95LrBWOdlZUCH4qw.txt'\n",
    "with open(channel_id, 'r') as channel:\n",
    "    # 读取文件内容，并赋值给xml变量\n",
    "    xml = channel.read()\n",
    "\n",
    "# 定义正则表达式模式，用于匹配视频ID\n",
    "id_pattern = re.compile(r'(?<=<id>yt:video:)[A-Za-z0-9_-]{11}(?=</id>)')\n",
    "\n",
    "# 在xml内容中搜索视频ID，并赋值给video_ids变量\n",
    "video_ids = id_pattern.findall(xml)\n",
    "\n",
    "# 输出匹配到的视频ID\n",
    "print(video_ids)"
   ]
  },
  {
   "cell_type": "code",
   "execution_count": null,
   "metadata": {},
   "outputs": [],
   "source": [
    "import requests\n",
    "import xml.etree.ElementTree as ET\n",
    "import time\n",
    "\n",
    "# 根据需要修改以下变量\n",
    "url = \"https://www.youtube.com/feeds/videos.xml?channel_id=UCghLs6s95LrBWOdlZUCH4qw\"\n",
    "pushkey = \"PDU18136TvdVYY5K3UagCr7zYKZozIqT3C5VrCScs\"\n",
    "\n",
    "# 初始化变量\n",
    "last_updated = None\n",
    "update_interval = 5 * 60  # 更新间隔（单位：秒）\n",
    "\n",
    "while True:\n",
    "    # 检查更新\n",
    "    response = requests.get(url)\n",
    "    if response.status_code == 200:\n",
    "        content = response.content\n",
    "        tree = ET.fromstring(content)\n",
    "        pub_date = tree.find(\"./{http://www.w3.org/2005/Atom}entry/{http://www.w3.org/2005/Atom}published\").text\n",
    "        if pub_date != last_updated:\n",
    "            # 触发 API 通知\n",
    "            url_payload = f\"https://api2.pushdeer.com/message/push?pushkey={pushkey}&text=YouTube更新\"\n",
    "            response = requests.get(url_payload)\n",
    "            \n",
    "            # 更新上次更新时间\n",
    "            last_updated = pub_date\n",
    "            print(\"已检测到更新，已发送通知\")\n",
    "        else:\n",
    "            print(\"没有更新\")\n",
    "    else:\n",
    "        print(\"请求失败\")\n",
    "    \n",
    "    # 等待下次更新\n",
    "    time.sleep(update_interval)"
   ]
  },
  {
   "cell_type": "code",
   "execution_count": null,
   "metadata": {},
   "outputs": [],
   "source": [
    "import datetime\n",
    "\n",
    "log = \"测试\"\n",
    "\n",
    "# 获取当前的具体时间\n",
    "current_time = datetime.datetime.now()\n",
    "\n",
    "# 格式化输出，只保留年月日时分秒\n",
    "formatted_time = current_time.strftime(\"%Y-%m-%d %H:%M:%S\")\n",
    "\n",
    "# 打印当前的具体时间（精确到秒）\n",
    "print(formatted_time,log)\n",
    "\n",
    "try:\n",
    "    # 打开文件，在末尾追加内容\n",
    "    with open(\"log.txt\", \"a\") as file:\n",
    "        file.write(formatted_time + log + \"\\n\")\n",
    "\n",
    "except FileNotFoundError:\n",
    "    # 文件不存在的处理逻辑\n",
    "    with open(\"log.txt\", \"w\") as file:\n",
    "        file.write(formatted_time + log + \"\\n\")"
   ]
  },
  {
   "cell_type": "code",
   "execution_count": null,
   "metadata": {},
   "outputs": [],
   "source": [
    "import datetime\n",
    "\n",
    "def write_log(log):\n",
    "    # 获取当前的具体时间\n",
    "    current_time = datetime.datetime.now()\n",
    "\n",
    "    # 格式化输出，只保留年月日时分秒\n",
    "    formatted_time = current_time.strftime(\"%Y-%m-%d %H:%M:%S\")\n",
    "\n",
    "    # 打印当前的具体时间（精确到秒）\n",
    "    print(formatted_time, log)\n",
    "\n",
    "    try:\n",
    "        # 打开文件，在末尾追加内容\n",
    "        with open(\"log.txt\", \"a\") as file:\n",
    "            file.write(formatted_time + \" \" + log + \"\\n\")\n",
    "\n",
    "    except FileNotFoundError:\n",
    "        # 文件不存在的处理逻辑\n",
    "        with open(\"log.txt\", \"w\") as file:\n",
    "            file.write(formatted_time + \" \" + log + \"\\n\")\n",
    "\n",
    "\n",
    "write_log(\"nihao\")"
   ]
  },
  {
   "cell_type": "code",
   "execution_count": null,
   "metadata": {},
   "outputs": [],
   "source": [
    "write_log(\"ni hao\")"
   ]
  },
  {
   "cell_type": "code",
   "execution_count": null,
   "metadata": {},
   "outputs": [],
   "source": [
    "import datetime\n",
    "\n",
    "def write_log(log):\n",
    "    # 获取当前的具体时间\n",
    "    current_time = datetime.datetime.now()\n",
    "\n",
    "    # 格式化输出，只保留年月日时分秒\n",
    "    formatted_time = current_time.strftime(\"%Y-%m-%d %H:%M:%S\")\n",
    "\n",
    "    # 打开文件，并读取原有内容\n",
    "    try:\n",
    "        with open(\"log.txt\", \"r\") as file:\n",
    "            contents = file.read()\n",
    "    except FileNotFoundError:\n",
    "        contents = \"\"\n",
    "\n",
    "    # 将新的日志内容添加在原有内容之前\n",
    "    new_contents = formatted_time + \" \" + log + \"\\n\" + contents\n",
    "\n",
    "    # 将新的日志内容写入文件\n",
    "    with open(\"log.txt\", \"w\") as file:\n",
    "        file.write(new_contents)\n",
    "\n",
    "    # 打印当前的具体时间（精确到秒）\n",
    "    print(formatted_time, log)\n"
   ]
  },
  {
   "cell_type": "code",
   "execution_count": null,
   "metadata": {},
   "outputs": [],
   "source": [
    "write_log(\"ni hao\")"
   ]
  },
  {
   "cell_type": "code",
   "execution_count": null,
   "metadata": {},
   "outputs": [],
   "source": [
    "import subprocess\n",
    "\n",
    "library = \"rangehttpserver\"\n",
    "\n",
    "def is_library_installed():\n",
    "    try:\n",
    "        result = subprocess.run([library , '--version'], capture_output=True, text=True)\n",
    "        if result.returncode == 0:\n",
    "            return True\n",
    "        else:\n",
    "            return False\n",
    "    except FileNotFoundError:\n",
    "        return False\n",
    "\n",
    "def install_library():\n",
    "    try:\n",
    "        result = subprocess.run(['pip', 'install', library], capture_output=True, text=True)\n",
    "        if result.returncode == 0:\n",
    "            return True\n",
    "        else:\n",
    "            return False\n",
    "    except FileNotFoundError:\n",
    "        return False\n",
    "\n",
    "# 更新yt-dlp\n",
    "def update_library():\n",
    "    try:\n",
    "        result = subprocess.run(['pip', 'install', '--upgrade', library], capture_output=True, text=True)\n",
    "        if result.returncode == 0:\n",
    "            return True\n",
    "        else:\n",
    "            return False\n",
    "    except FileNotFoundError:\n",
    "        return False\n",
    "\n",
    "# 检查是否已安装yt-dlp\n",
    "if is_library_installed():\n",
    "    print(library + \"已安装\")\n",
    "else:\n",
    "    print(library + \"未安装\")\n",
    "\n",
    "# 安装或更新yt-dlp\n",
    "if is_library_installed():\n",
    "    if update_library():\n",
    "        print(library + \"更新成功\")\n",
    "    else:\n",
    "        print(library + \"更新失败\")\n",
    "else:\n",
    "    if install_library():\n",
    "        print(library + \"安装成功\")\n",
    "    else:\n",
    "        print(library + \"安装失败\")\n"
   ]
  },
  {
   "cell_type": "code",
   "execution_count": 3,
   "metadata": {},
   "outputs": [],
   "source": [
    "import subprocess\n",
    "# 安装库模块\n",
    "def library_install(library):\n",
    "    # 检查库是否已安装\n",
    "    def is_library_installed():\n",
    "        try:\n",
    "            result = subprocess.run([library , '--version'], capture_output=True, text=True)\n",
    "            if result.returncode == 0:\n",
    "                return True\n",
    "            else:\n",
    "                return False\n",
    "        except FileNotFoundError:\n",
    "            return False\n",
    "    # 如果库未安装，则尝试安装\n",
    "    def install_library():\n",
    "        try:\n",
    "            result = subprocess.run(['pip', 'install', library], capture_output=True, text=True)\n",
    "            if result.returncode == 0:\n",
    "                return True\n",
    "            else:\n",
    "                return False\n",
    "        except FileNotFoundError:\n",
    "            return False\n",
    "    # 如果库已安装，则尝试更新\n",
    "    def update_library():\n",
    "        try:\n",
    "            result = subprocess.run(['pip', 'install', '--upgrade', library], capture_output=True, text=True)\n",
    "            if result.returncode == 0:\n",
    "                return True\n",
    "            else:\n",
    "                return False\n",
    "        except FileNotFoundError:\n",
    "            return False\n",
    "    # 检查库是否已安装\n",
    "    if is_library_installed():\n",
    "        print(library + \"已安装\")\n",
    "    else:\n",
    "        print(library + \"未安装\")\n",
    "    # 如果库已安装，则尝试更新\n",
    "    if is_library_installed():\n",
    "        if update_library():\n",
    "            print(library + \"更新成功\")\n",
    "        else:\n",
    "            print(library + \"更新失败\")\n",
    "    else:  # 如果库未安装，则尝试安装\n",
    "        if install_library():\n",
    "            print(library + \"安装成功\")\n",
    "        else:\n",
    "            print(library + \"安装失败\")"
   ]
  },
  {
   "cell_type": "code",
   "execution_count": 4,
   "metadata": {},
   "outputs": [
    {
     "name": "stdout",
     "output_type": "stream",
     "text": [
      "yt-dlp已安装\n",
      "yt-dlp更新成功\n"
     ]
    }
   ],
   "source": [
    "library_install(\"yt-dlp\")"
   ]
  },
  {
   "cell_type": "code",
   "execution_count": 6,
   "metadata": {},
   "outputs": [
    {
     "name": "stdout",
     "output_type": "stream",
     "text": [
      "<!DOCTYPE html>\n",
      "<html lang=en>\n",
      "  <meta charset=utf-8>\n",
      "  <meta name=viewport content=\"initial-scale=1, minimum-scale=1, width=device-width\">\n",
      "  <title>Error 404 (Not Found)!!1</title>\n",
      "  <style>\n",
      "    *{margin:0;padding:0}html,code{font:15px/22px arial,sans-serif}html{background:#fff;color:#222;padding:15px}body{margin:7% auto 0;max-width:390px;min-height:180px;padding:30px 0 15px}* > body{background:url(//www.google.com/images/errors/robot.png) 100% 5px no-repeat;padding-right:205px}p{margin:11px 0 22px;overflow:hidden}ins{color:#777;text-decoration:none}a img{border:0}@media screen and (max-width:772px){body{background:none;margin-top:0;max-width:none;padding-right:0}}#logo{background:url(//www.google.com/images/branding/googlelogo/1x/googlelogo_color_150x54dp.png) no-repeat;margin-left:-5px}@media only screen and (min-resolution:192dpi){#logo{background:url(//www.google.com/images/branding/googlelogo/2x/googlelogo_color_150x54dp.png) no-repeat 0% 0%/100% 100%;-moz-border-image:url(//www.google.com/images/branding/googlelogo/2x/googlelogo_color_150x54dp.png) 0}}@media only screen and (-webkit-min-device-pixel-ratio:2){#logo{background:url(//www.google.com/images/branding/googlelogo/2x/googlelogo_color_150x54dp.png) no-repeat;-webkit-background-size:100% 100%}}#logo{display:inline-block;height:54px;width:150px}\n",
      "  </style>\n",
      "  <a href=//www.google.com/><span id=logo aria-label=Google></span></a>\n",
      "  <p><b>404.</b> <ins>That’s an error.</ins>\n",
      "  <p>The requested URL <code>/feeds/videos.xml?channel_id=UCBR8-60-B28hp2BmDPdntc</code> was not found on this server.  <ins>That’s all we know.</ins>\n",
      "\n",
      "不正确\n"
     ]
    }
   ],
   "source": [
    "import requests\n",
    "url = \"https://www.youtube.com/feeds/videos.xml?channel_id=UCBR8-60-B28hp2BmDPdntc\"\n",
    "response = requests.get(url)  # 发送GET请求获取网页内容\n",
    "content = response.text \n",
    "\n",
    "print (content)\n",
    "\n",
    "\n",
    "\n",
    "import re\n",
    "# 判断频道id是否正确\n",
    "pattern_youtube404 = r\"Error 404\"  # 设置要匹配的正则表达式模式\n",
    "if not re.search(pattern_youtube404, content):\n",
    "    print(\"文本中不包含 'Error 404 (Not Found)!!'\")\n",
    "else:\n",
    "    print(\"不正确\")\n"
   ]
  },
  {
   "cell_type": "code",
   "execution_count": null,
   "metadata": {},
   "outputs": [],
   "source": [
    "{\n",
    "        \"YouTube\": {\n",
    "            \"update_size\": 1,\n",
    "            \"id\": \"UCBR8-60-B28hp2BmDPdntcQ\",\n",
    "            \"title\": \"YouTube\",\n",
    "            \"quality\": \"720\",\n",
    "            \"last_size\": 1,\n",
    "            \"media\": \"m4a\"\n",
    "        },\n",
    "        \"科学火箭叔\": {\n",
    "            \"update_size\": 15,\n",
    "            \"id\": \"UC8dD8v_uIA7aRzpqaCoIHKg\",\n",
    "            \"title\": \"科学火箭叔\",\n",
    "            \"quality\": \"1080\",\n",
    "            \"last_size\": 20,\n",
    "            \"media\": \"mp4\"\n",
    "        }\n",
    "    }\n",
    "#如何自动生成为：\n",
    "{\"UCBR8-60-B28hp2BmDPdntcQ\": \"YouTube\",\"UC8dD8v_uIA7aRzpqaCoIHKg\": \"科学火箭叔\"}"
   ]
  },
  {
   "cell_type": "code",
   "execution_count": 5,
   "metadata": {},
   "outputs": [
    {
     "name": "stdout",
     "output_type": "stream",
     "text": [
      "[youtube] Extracting URL: https://www.youtube.com/watch?v=3nu4cvTZv0M\n",
      "[youtube] 3nu4cvTZv0M: Downloading webpage\n"
     ]
    },
    {
     "name": "stdout",
     "output_type": "stream",
     "text": [
      "[youtube] 3nu4cvTZv0M: Downloading ios player API JSON\n",
      "[youtube] 3nu4cvTZv0M: Downloading android player API JSON\n",
      "[youtube] 3nu4cvTZv0M: Downloading m3u8 information\n",
      "71\n"
     ]
    }
   ],
   "source": [
    "import yt_dlp\n",
    "\n",
    "def video_duration(video_url):\n",
    "    try:\n",
    "        # 创建yt-dlp实例\n",
    "        ydl = yt_dlp.YoutubeDL({'ignoreerrors': True})\n",
    "        if info_dict := ydl.extract_info(\n",
    "            f\"https://www.youtube.com/watch?v={video_url}\", download=False\n",
    "        ):\n",
    "            # 获取视频时长并回显\n",
    "            return info_dict.get('duration')\n",
    "    except Exception as e:\n",
    "        print((f\"{video_url}下载失败，错误信息：{str(e)}\").replace(\"ERROR: \", \"\").replace(f\"{video_url}: \", \"\"))\n",
    "\n",
    "print(video_duration(\"3nu4cvTZv0M\"))"
   ]
  },
  {
   "cell_type": "code",
   "execution_count": 4,
   "metadata": {},
   "outputs": [
    {
     "name": "stdout",
     "output_type": "stream",
     "text": [
      "Duration: 70.682 seconds\n"
     ]
    }
   ],
   "source": [
    "import subprocess\n",
    "import re\n",
    "\n",
    "def get_duration_ffprobe(file_path):\n",
    "    try:\n",
    "        command = [\n",
    "            \"ffprobe\",\n",
    "            \"-i\", file_path,\n",
    "            \"-show_entries\", \"format=duration\",\n",
    "            \"-v\", \"error\",\n",
    "            \"-of\", \"default=noprint_wrappers=1:nokey=1\"\n",
    "        ]\n",
    "        output = subprocess.check_output(command, stderr=subprocess.STDOUT).decode(\"utf-8\")\n",
    "        duration = float(output)\n",
    "        return duration\n",
    "    except subprocess.CalledProcessError as e:\n",
    "        print(f\"Error: {e.output}\")\n",
    "        return None\n",
    "\n",
    "file_path = \"UC3elWG-AxVvIF2_xPQb1rkQ/3nu4cvTZv0M.mp4\"  # 替换为您的文件路径\n",
    "duration = get_duration_ffprobe(file_path)\n",
    "if duration is not None:\n",
    "    print(f\"Duration: {duration} seconds\")\n",
    "    \n"
   ]
  },
  {
   "cell_type": "code",
   "execution_count": 15,
   "metadata": {},
   "outputs": [
    {
     "name": "stdout",
     "output_type": "stream",
     "text": [
      "(1, 2)\n"
     ]
    }
   ],
   "source": [
    "def c():\n",
    "    a = 1\n",
    "    b = 2\n",
    "    return a,b\n",
    "print(c())"
   ]
  },
  {
   "cell_type": "code",
   "execution_count": 4,
   "metadata": {},
   "outputs": [
    {
     "ename": "ModuleNotFoundError",
     "evalue": "No module named 'pytube'",
     "output_type": "error",
     "traceback": [
      "\u001b[0;31m---------------------------------------------------------------------------\u001b[0m",
      "\u001b[0;31mModuleNotFoundError\u001b[0m                       Traceback (most recent call last)",
      "Cell \u001b[0;32mIn[4], line 1\u001b[0m\n\u001b[0;32m----> 1\u001b[0m \u001b[39mfrom\u001b[39;00m \u001b[39mpytube\u001b[39;00m \u001b[39mimport\u001b[39;00m YouTube\n\u001b[1;32m      3\u001b[0m \u001b[39mtry\u001b[39;00m:\n\u001b[1;32m      4\u001b[0m     yt \u001b[39m=\u001b[39m YouTube(\u001b[39mf\u001b[39m\u001b[39m\"\u001b[39m\u001b[39mhttps://www.youtube.com/watch?v=YKJQc_Nf3QQ\u001b[39m\u001b[39m\"\u001b[39m)    \n",
      "\u001b[0;31mModuleNotFoundError\u001b[0m: No module named 'pytube'"
     ]
    }
   ],
   "source": [
    "from pytube import YouTube\n",
    "\n",
    "try:\n",
    "    yt = YouTube(f\"https://www.youtube.com/watch?v=YKJQc_Nf3QQ\")    \n",
    "    # 检查视频信息是否成功获取\n",
    "    if yt.vid_info:\n",
    "        # 获取视频时长（以秒为单位）\n",
    "        duration = yt.length\n",
    "        # 打印结果\n",
    "        print(f\"视频时长: {duration} 秒\")\n",
    "except Exception as e:\n",
    "    print(\"发生其他错误:\", e)"
   ]
  },
  {
   "cell_type": "code",
   "execution_count": 26,
   "metadata": {},
   "outputs": [
    {
     "ename": "VideoPrivate",
     "evalue": "lq6ZIbZ1Xrg is a private video",
     "output_type": "error",
     "traceback": [
      "\u001b[0;31m---------------------------------------------------------------------------\u001b[0m",
      "\u001b[0;31mKeyError\u001b[0m                                  Traceback (most recent call last)",
      "File \u001b[0;32m/usr/local/python/3.10.8/lib/python3.10/site-packages/pytube/__main__.py:341\u001b[0m, in \u001b[0;36mYouTube.title\u001b[0;34m(self)\u001b[0m\n\u001b[1;32m    340\u001b[0m \u001b[39mtry\u001b[39;00m:\n\u001b[0;32m--> 341\u001b[0m     \u001b[39mself\u001b[39m\u001b[39m.\u001b[39m_title \u001b[39m=\u001b[39m \u001b[39mself\u001b[39;49m\u001b[39m.\u001b[39;49mvid_info[\u001b[39m'\u001b[39;49m\u001b[39mvideoDetails\u001b[39;49m\u001b[39m'\u001b[39;49m][\u001b[39m'\u001b[39m\u001b[39mtitle\u001b[39m\u001b[39m'\u001b[39m]\n\u001b[1;32m    342\u001b[0m \u001b[39mexcept\u001b[39;00m \u001b[39mKeyError\u001b[39;00m:\n\u001b[1;32m    343\u001b[0m     \u001b[39m# Check_availability will raise the correct exception in most cases\u001b[39;00m\n\u001b[1;32m    344\u001b[0m     \u001b[39m#  if it doesn't, ask for a report.\u001b[39;00m\n",
      "\u001b[0;31mKeyError\u001b[0m: 'videoDetails'",
      "\nDuring handling of the above exception, another exception occurred:\n",
      "\u001b[0;31mVideoPrivate\u001b[0m                              Traceback (most recent call last)",
      "Cell \u001b[0;32mIn[26], line 9\u001b[0m\n\u001b[1;32m      6\u001b[0m yt \u001b[39m=\u001b[39m YouTube(video_url)\n\u001b[1;32m      8\u001b[0m \u001b[39m# 获取视频标题\u001b[39;00m\n\u001b[0;32m----> 9\u001b[0m title \u001b[39m=\u001b[39m yt\u001b[39m.\u001b[39;49mtitle\n\u001b[1;32m     11\u001b[0m \u001b[39m# 获取视频时长（以秒为单位）\u001b[39;00m\n\u001b[1;32m     12\u001b[0m duration \u001b[39m=\u001b[39m yt\u001b[39m.\u001b[39mlength\n",
      "File \u001b[0;32m/usr/local/python/3.10.8/lib/python3.10/site-packages/pytube/__main__.py:345\u001b[0m, in \u001b[0;36mYouTube.title\u001b[0;34m(self)\u001b[0m\n\u001b[1;32m    341\u001b[0m     \u001b[39mself\u001b[39m\u001b[39m.\u001b[39m_title \u001b[39m=\u001b[39m \u001b[39mself\u001b[39m\u001b[39m.\u001b[39mvid_info[\u001b[39m'\u001b[39m\u001b[39mvideoDetails\u001b[39m\u001b[39m'\u001b[39m][\u001b[39m'\u001b[39m\u001b[39mtitle\u001b[39m\u001b[39m'\u001b[39m]\n\u001b[1;32m    342\u001b[0m \u001b[39mexcept\u001b[39;00m \u001b[39mKeyError\u001b[39;00m:\n\u001b[1;32m    343\u001b[0m     \u001b[39m# Check_availability will raise the correct exception in most cases\u001b[39;00m\n\u001b[1;32m    344\u001b[0m     \u001b[39m#  if it doesn't, ask for a report.\u001b[39;00m\n\u001b[0;32m--> 345\u001b[0m     \u001b[39mself\u001b[39;49m\u001b[39m.\u001b[39;49mcheck_availability()\n\u001b[1;32m    346\u001b[0m     \u001b[39mraise\u001b[39;00m exceptions\u001b[39m.\u001b[39mPytubeError(\n\u001b[1;32m    347\u001b[0m         (\n\u001b[1;32m    348\u001b[0m             \u001b[39mf\u001b[39m\u001b[39m'\u001b[39m\u001b[39mException while accessing title of \u001b[39m\u001b[39m{\u001b[39;00m\u001b[39mself\u001b[39m\u001b[39m.\u001b[39mwatch_url\u001b[39m}\u001b[39;00m\u001b[39m. \u001b[39m\u001b[39m'\u001b[39m\n\u001b[1;32m    349\u001b[0m             \u001b[39m'\u001b[39m\u001b[39mPlease file a bug report at https://github.com/pytube/pytube\u001b[39m\u001b[39m'\u001b[39m\n\u001b[1;32m    350\u001b[0m         )\n\u001b[1;32m    351\u001b[0m     )\n\u001b[1;32m    353\u001b[0m \u001b[39mreturn\u001b[39;00m \u001b[39mself\u001b[39m\u001b[39m.\u001b[39m_title\n",
      "File \u001b[0;32m/usr/local/python/3.10.8/lib/python3.10/site-packages/pytube/__main__.py:228\u001b[0m, in \u001b[0;36mYouTube.check_availability\u001b[0;34m(self)\u001b[0m\n\u001b[1;32m    223\u001b[0m \u001b[39melif\u001b[39;00m status \u001b[39m==\u001b[39m \u001b[39m'\u001b[39m\u001b[39mLOGIN_REQUIRED\u001b[39m\u001b[39m'\u001b[39m:\n\u001b[1;32m    224\u001b[0m     \u001b[39mif\u001b[39;00m reason \u001b[39m==\u001b[39m (\n\u001b[1;32m    225\u001b[0m         \u001b[39m'\u001b[39m\u001b[39mThis is a private video. \u001b[39m\u001b[39m'\u001b[39m\n\u001b[1;32m    226\u001b[0m         \u001b[39m'\u001b[39m\u001b[39mPlease sign in to verify that you may see it.\u001b[39m\u001b[39m'\u001b[39m\n\u001b[1;32m    227\u001b[0m     ):\n\u001b[0;32m--> 228\u001b[0m         \u001b[39mraise\u001b[39;00m exceptions\u001b[39m.\u001b[39mVideoPrivate(video_id\u001b[39m=\u001b[39m\u001b[39mself\u001b[39m\u001b[39m.\u001b[39mvideo_id)\n\u001b[1;32m    229\u001b[0m \u001b[39melif\u001b[39;00m status \u001b[39m==\u001b[39m \u001b[39m'\u001b[39m\u001b[39mERROR\u001b[39m\u001b[39m'\u001b[39m:\n\u001b[1;32m    230\u001b[0m     \u001b[39mif\u001b[39;00m reason \u001b[39m==\u001b[39m \u001b[39m'\u001b[39m\u001b[39mVideo unavailable\u001b[39m\u001b[39m'\u001b[39m:\n",
      "\u001b[0;31mVideoPrivate\u001b[0m: lq6ZIbZ1Xrg is a private video"
     ]
    }
   ],
   "source": [
    "from pytube import YouTube\n",
    "\n",
    "video_url = \"https://www.youtube.com/watch?v=lq6ZIbZ1Xrg\"\n",
    "\n",
    "# 创建YouTube对象\n",
    "yt = YouTube(video_url)\n",
    "\n",
    "# 获取视频标题\n",
    "title = yt.title\n",
    "\n",
    "# 获取视频时长（以秒为单位）\n",
    "duration = yt.length\n",
    "\n",
    "# 获取视频作者\n",
    "author = yt.author\n",
    "\n",
    "# 获取视频描述\n",
    "description = yt.description\n",
    "\n",
    "# 获取视频发布日期\n",
    "publish_date = yt.publish_date\n",
    "\n",
    "# 打印结果\n",
    "print(f\"视频标题: {title}\")\n",
    "print(f\"视频时长: {duration} 秒\")\n",
    "print(f\"视频作者: {author}\")\n",
    "print(f\"视频描述: {description}\")\n",
    "print(f\"视频发布日期: {publish_date}\")"
   ]
  },
  {
   "cell_type": "code",
   "execution_count": 25,
   "metadata": {},
   "outputs": [
    {
     "ename": "TypeError",
     "evalue": "int() argument must be a string, a bytes-like object or a real number, not 'NoneType'",
     "output_type": "error",
     "traceback": [
      "\u001b[0;31m---------------------------------------------------------------------------\u001b[0m",
      "\u001b[0;31mTypeError\u001b[0m                                 Traceback (most recent call last)",
      "Cell \u001b[0;32mIn[25], line 1\u001b[0m\n\u001b[0;32m----> 1\u001b[0m \u001b[39mprint\u001b[39m(YouTube(video_url)\u001b[39m.\u001b[39;49mlength)\n",
      "File \u001b[0;32m/usr/local/python/3.10.8/lib/python3.10/site-packages/pytube/__main__.py:383\u001b[0m, in \u001b[0;36mYouTube.length\u001b[0;34m(self)\u001b[0m\n\u001b[1;32m    377\u001b[0m \u001b[39m@property\u001b[39m\n\u001b[1;32m    378\u001b[0m \u001b[39mdef\u001b[39;00m \u001b[39mlength\u001b[39m(\u001b[39mself\u001b[39m) \u001b[39m-\u001b[39m\u001b[39m>\u001b[39m \u001b[39mint\u001b[39m:\n\u001b[1;32m    379\u001b[0m \u001b[39m    \u001b[39m\u001b[39m\"\"\"Get the video length in seconds.\u001b[39;00m\n\u001b[1;32m    380\u001b[0m \n\u001b[1;32m    381\u001b[0m \u001b[39m    :rtype: int\u001b[39;00m\n\u001b[1;32m    382\u001b[0m \u001b[39m    \"\"\"\u001b[39;00m\n\u001b[0;32m--> 383\u001b[0m     \u001b[39mreturn\u001b[39;00m \u001b[39mint\u001b[39;49m(\u001b[39mself\u001b[39;49m\u001b[39m.\u001b[39;49mvid_info\u001b[39m.\u001b[39;49mget(\u001b[39m'\u001b[39;49m\u001b[39mvideoDetails\u001b[39;49m\u001b[39m'\u001b[39;49m, {})\u001b[39m.\u001b[39;49mget(\u001b[39m'\u001b[39;49m\u001b[39mlengthSeconds\u001b[39;49m\u001b[39m'\u001b[39;49m))\n",
      "\u001b[0;31mTypeError\u001b[0m: int() argument must be a string, a bytes-like object or a real number, not 'NoneType'"
     ]
    }
   ],
   "source": [
    "print(YouTube(video_url).length)"
   ]
  },
  {
   "cell_type": "code",
   "execution_count": 1,
   "metadata": {},
   "outputs": [
    {
     "name": "stdout",
     "output_type": "stream",
     "text": [
      "{'YouTube': {'update_size': 15, 'id': 'UCBR8-60-B28hp2BmDPdntcQ', 'title': 'YouTube', 'quality': '1080', 'last_size': 30, 'media': 'm4a'}, '科学火箭叔': {'update_size': 15, 'id': 'UC8dD8v_uIA7aRzpqaCoIHKg', 'title': '科学火箭叔', 'quality': '1080', 'last_size': 30, 'media': 'm4a'}, 'stone pistol': {'update_size': 15, 'id': 'UCmOVUFkam162EJ48KfQaIyg', 'title': 'stone pistol', 'quality': '1080', 'last_size': 30, 'media': 'm4a'}, '奇异博士说': {'update_size': 15, 'id': 'UCVaMMNaYvjmskreBR4dM7rg', 'title': '奇异博士说', 'quality': '1080', 'last_size': 30, 'media': 'm4a'}, '科技美学': {'update_size': 15, 'id': 'UCAC204niCVvtDRDFYSiK7Cg', 'title': '科技美学', 'quality': '1080', 'last_size': 30, 'media': 'm4a'}, 'stone记': {'update_size': 15, 'id': 'UCghLs6s95LrBWOdlZUCH4qw', 'title': 'stone记', 'quality': '1080', 'last_size': 30, 'media': 'm4a'}, 'Linvo說宇宙': {'update_size': 15, 'id': 'UCjHCBI7CNqQwzuaiDtCAQmA', 'title': 'Linvo說宇宙', 'quality': '1080', 'last_size': 30, 'media': 'm4a'}, '四季妈妈—小龙': {'update_size': 15, 'id': 'UC3elWG-AxVvIF2_xPQb1rkQ', 'title': '四季妈妈—小龙', 'quality': '1080', 'last_size': 30, 'media': 'm4a'}, 'Discovery With Andy': {'update_size': 15, 'id': 'UC6lYCOXS4Rxo9xpKS1My32A', 'title': 'Discovery With Andy', 'quality': '1080', 'last_size': 30, 'media': 'm4a'}, '冲浪普拉斯': {'update_size': 15, 'id': 'UCZNxe_9FQAK2Z3suwaZlwpQ', 'title': '冲浪普拉斯', 'quality': '1080', 'last_size': 30, 'media': 'm4a'}, '老高與小茉 Mr & Mrs Gao': {'update_size': 15, 'id': 'UCMUnInmOkrWN4gof9KlhNmQ', 'title': '老高與小茉 Mr & Mrs Gao', 'quality': '1080', 'last_size': 30, 'media': 'm4a'}, '脑洞乌托邦': {'update_size': 15, 'id': 'UC2tQpW0dPiyWPebwBSksJ_g', 'title': '脑洞乌托邦', 'quality': '1080', 'last_size': 30, 'media': 'm4a'}, '啾啾鞋': {'update_size': 15, 'id': 'UCIF_gt4BfsWyM_2GOcKXyEQ', 'title': '啾啾鞋', 'quality': '1080', 'last_size': 30, 'media': 'm4a'}, '幻海航行--science fiction': {'update_size': 15, 'id': 'UCp1nO1bgVwks9b5EhKQGVag', 'title': '幻海航行--science fiction', 'quality': '1080', 'last_size': 30, 'media': 'm4a'}, '红酒汤姆一世': {'update_size': 15, 'id': 'UCJT6M5j-HT-76ts0eTzZtJw', 'title': '红酒汤姆一世', 'quality': '1080', 'last_size': 30, 'media': 'm4a'}, 'X調查': {'update_size': 15, 'id': 'UCOyshL6rKK1GqwoEfy_ehBg', 'title': 'X調查', 'quality': '1080', 'last_size': 30, 'media': 'm4a'}, '海伦子Hellen': {'update_size': 15, 'id': 'UCneG8p_dRmZZ_xFFCv7jfJw', 'title': '海伦子Hellen', 'quality': '1080', 'last_size': 30, 'media': 'm4a'}, '你可敢信': {'update_size': 15, 'id': 'UC2lbb8vjQR64C6gHqD0_4OA', 'title': '你可敢信', 'quality': '1080', 'last_size': 30, 'media': 'm4a'}, '曉涵哥來了': {'update_size': 15, 'id': 'UCvoBl4rnVsetDKA_Tdk-jeA', 'title': '曉涵哥來了', 'quality': '1080', 'last_size': 30, 'media': 'm4a'}, '自说自话的总裁': {'update_size': 15, 'id': 'UCgo_-fjJxnLwwwq5dSY72rg', 'title': '自说自话的总裁', 'quality': '1080', 'last_size': 30, 'media': 'm4a'}, '林亦LYi': {'update_size': 15, 'id': 'UC4dtpugIYK56S_7btf5a-iQ', 'title': '林亦LYi', 'quality': '1080', 'last_size': 30, 'media': 'm4a'}, '小乌副频道': {'update_size': 15, 'id': 'UCQvvVtUqtGxqSLixdeG75Uw', 'title': '小乌副频道', 'quality': '1080', 'last_size': 30, 'media': 'm4a'}}\n"
     ]
    }
   ],
   "source": [
    "channel_list = {\n",
    "    \"科学火箭叔\": \"UC8dD8v_uIA7aRzpqaCoIHKg\",\n",
    "    \"stone pistol\": \"UCmOVUFkam162EJ48KfQaIyg\",\n",
    "    \"奇异博士说\": \"UCVaMMNaYvjmskreBR4dM7rg\",\n",
    "    \"科技美学\": \"UCAC204niCVvtDRDFYSiK7Cg\",\n",
    "    \"stone记\": \"UCghLs6s95LrBWOdlZUCH4qw\",\n",
    "    \"Linvo說宇宙\": \"UCjHCBI7CNqQwzuaiDtCAQmA\",\n",
    "    \"四季妈妈—小龙\": \"UC3elWG-AxVvIF2_xPQb1rkQ\",\n",
    "    \"Discovery With Andy\": \"UC6lYCOXS4Rxo9xpKS1My32A\",\n",
    "    \"冲浪普拉斯\": \"UCZNxe_9FQAK2Z3suwaZlwpQ\",\n",
    "    \"老高與小茉 Mr & Mrs Gao\": \"UCMUnInmOkrWN4gof9KlhNmQ\",\n",
    "    \"脑洞乌托邦\": \"UC2tQpW0dPiyWPebwBSksJ_g\",\n",
    "    \"啾啾鞋\": \"UCIF_gt4BfsWyM_2GOcKXyEQ\",\n",
    "    \"幻海航行--science fiction\": \"UCp1nO1bgVwks9b5EhKQGVag\",\n",
    "    \"红酒汤姆一世\": \"UCJT6M5j-HT-76ts0eTzZtJw\",\n",
    "    \"X調查\": \"UCOyshL6rKK1GqwoEfy_ehBg\",\n",
    "    \"海伦子Hellen\": \"UCneG8p_dRmZZ_xFFCv7jfJw\",\n",
    "    \"你可敢信\": \"UC2lbb8vjQR64C6gHqD0_4OA\",\n",
    "    \"曉涵哥來了\": \"UCvoBl4rnVsetDKA_Tdk-jeA\",\n",
    "    \"自说自话的总裁\": \"UCgo_-fjJxnLwwwq5dSY72rg\",\n",
    "    \"林亦LYi\": \"UC4dtpugIYK56S_7btf5a-iQ\",\n",
    "    \"小乌副频道\": \"UCQvvVtUqtGxqSLixdeG75Uw\"\n",
    "}\n",
    "\n",
    "output = {\n",
    "    \"YouTube\": {\n",
    "        \"update_size\": 15,\n",
    "        \"id\": \"UCBR8-60-B28hp2BmDPdntcQ\",\n",
    "        \"title\": \"YouTube\",\n",
    "        \"quality\": \"1080\",\n",
    "        \"last_size\": 30,\n",
    "        \"media\": \"m4a\"\n",
    "    }\n",
    "}\n",
    "\n",
    "for channel, channelId in channel_list.items():\n",
    "    output[channel] = {\n",
    "        \"update_size\": 15,\n",
    "        \"id\": channelId,\n",
    "        \"title\": channel,\n",
    "        \"quality\": \"1080\",\n",
    "        \"last_size\": 30,\n",
    "        \"media\": \"m4a\"\n",
    "    }\n",
    "\n",
    "print(output)\n"
   ]
  },
  {
   "cell_type": "code",
   "execution_count": 5,
   "metadata": {},
   "outputs": [
    {
     "name": "stdout",
     "output_type": "stream",
     "text": [
      "{'key1': 'value2', 'key2': 'value3'}\n"
     ]
    }
   ],
   "source": [
    "my_dict = {'key1': 'value1', 'key1': 'value2', 'key2': 'value3'}\n",
    "\n"
   ]
  },
  {
   "cell_type": "code",
   "execution_count": 9,
   "metadata": {},
   "outputs": [
    {
     "name": "stdout",
     "output_type": "stream",
     "text": [
      "{'key1': 'value2', 'key2': 'value3'}\n"
     ]
    }
   ],
   "source": [
    "def dict_exclude_repeat(dict):\n",
    "    dict_new = {}\n",
    "    for key, value in dict.items():\n",
    "        if key not in dict_new:\n",
    "            dict_new[key] = value\n",
    "    return dict_new\n",
    "            \n",
    "print(dict_exclude_repeat(my_dict))"
   ]
  },
  {
   "cell_type": "code",
   "execution_count": 3,
   "metadata": {},
   "outputs": [
    {
     "name": "stdout",
     "output_type": "stream",
     "text": [
      "key1value1\n",
      "key2value4\n",
      "key3value5\n",
      "{'key1': 'value1', 'key2': 'value4', 'key3': 'value5'}\n",
      "{'key1': 'value1', 'key2': 'value4', 'key3': 'value5'}\n"
     ]
    }
   ],
   "source": [
    "def dict_exclude_repeat(my_dict):\n",
    "    dict_new = {}\n",
    "    for key, value in my_dict.items():\n",
    "        if key not in dict_new:\n",
    "            dict_new[key] = value\n",
    "        print(key+value)\n",
    "    return dict_new\n",
    "\n",
    "my_dict = {'key1': 'value1', 'key2': 'value2', 'key3': 'value3', 'key2': 'value4', 'key3': 'value5'}\n",
    "\n",
    "new_dict = dict_exclude_repeat(my_dict)\n",
    "print(new_dict)\n",
    "print(my_dict)"
   ]
  }
 ],
 "metadata": {
  "kernelspec": {
   "display_name": "Python 3 (ipykernel)",
   "language": "python",
   "name": "python3"
  },
  "language_info": {
   "codemirror_mode": {
    "name": "ipython",
    "version": 3
   },
   "file_extension": ".py",
   "mimetype": "text/x-python",
   "name": "python",
   "nbconvert_exporter": "python",
   "pygments_lexer": "ipython3",
   "version": "3.10.8"
  }
 },
 "nbformat": 4,
 "nbformat_minor": 2
}
