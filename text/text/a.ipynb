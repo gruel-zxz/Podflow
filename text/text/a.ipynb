{
 "cells": [
  {
   "cell_type": "code",
   "execution_count": 32,
   "metadata": {},
   "outputs": [
    {
     "name": "stdout",
     "output_type": "stream",
     "text": [
      "['1201431620231205_A747.txt', 'a.txt', '120143161205_A747.txt']\n"
     ]
    }
   ],
   "source": [
    "import os\n",
    "\n",
    "def get_txt_files_in_current_directory():\n",
    "    current_directory = os.getcwd()  # 获取当前工作目录\n",
    "    txt_files = [f for f in os.listdir(current_directory) if f.endswith('.txt')]\n",
    "    return txt_files\n",
    "\n",
    "txt_files = get_txt_files_in_current_directory()\n",
    "#print(txt_files)"
   ]
  },
  {
   "cell_type": "code",
   "execution_count": 33,
   "metadata": {},
   "outputs": [
    {
     "name": "stdout",
     "output_type": "stream",
     "text": [
      "20231205\n"
     ]
    }
   ],
   "source": [
    "from datetime import datetime\n",
    "\n",
    "current_time = datetime.now()\n",
    "formatted_time = current_time.strftime(\"%Y%m%d\")\n",
    "\n",
    "#print(formatted_time)\n"
   ]
  },
  {
   "cell_type": "code",
   "execution_count": 34,
   "metadata": {},
   "outputs": [
    {
     "name": "stdout",
     "output_type": "stream",
     "text": [
      "['1201431620231205_A747.txt']\n"
     ]
    }
   ],
   "source": [
    "import re\n",
    "\n",
    "pattern = r'[0-9]{8}20231205_A747\\.txt'\n",
    "\n",
    "\n",
    "matched_files = [f for f in txt_files if re.search(pattern, f)]\n",
    "#print(matched_files)"
   ]
  },
  {
   "cell_type": "code",
   "execution_count": 35,
   "metadata": {},
   "outputs": [
    {
     "name": "stdout",
     "output_type": "stream",
     "text": [
      "序号|营业机构号|交易柜员|尾箱号/现金调拨编号|纸币/硬币标志(1-纸币,2-硬币)|券别|币种|金额|\n",
      "1|8913 |12014316|0001 |2|0.010000|01|0.030000| \n",
      "2|8913 |12014316|0001 |2|0.020000|01|0.080000| \n",
      "3|8913 |12014316|0001 |2|0.050000|01|0.050000| \n",
      "4|8913 |12014316|0001 |2|0.100000|01|76.300000| \n",
      "5|8913 |12014316|0001 |2|0.500000|01|825.000000| \n",
      "6|8913 |12014316|0001 |2|1.000000|01|10369.000000| \n",
      "7|8913 |12014316|0001 |1|2.000000|01|129.000000| \n",
      "8|8913 |12014316|0001 |1|5.000000|01|5947.500000| \n",
      "9|8913 |12014316|0001 |1|10.000000|01|121495.000000| \n",
      "10|8913 |12014316|0001 |1|20.000000|01|30040.000000| \n",
      "11|8913 |12014316|0001 |1|50.000000|01|12800.000000| \n",
      "12|8913 |12014316|0001 |1|100.000000|01|785800.000000|\n"
     ]
    }
   ],
   "source": [
    "if matched_files:\n",
    "    with open(matched_files[0], 'r') as file:\n",
    "        text = file.read()\n",
    "        #print(text)\n",
    "else:\n",
    "    print(\"文件不存在\")"
   ]
  },
  {
   "cell_type": "code",
   "execution_count": 36,
   "metadata": {},
   "outputs": [
    {
     "name": "stdout",
     "output_type": "stream",
     "text": [
      "[['序号', '营业机构号', '交易柜员', '尾箱号/现金调拨编号', '纸币/硬币标志(1-纸币,2-硬币)', '券别', '币种', '金额', ''], ['1', '8913 ', '12014316', '0001 ', '2', '0.010000', '01', '0.030000', ' '], ['2', '8913 ', '12014316', '0001 ', '2', '0.020000', '01', '0.080000', ' '], ['3', '8913 ', '12014316', '0001 ', '2', '0.050000', '01', '0.050000', ' '], ['4', '8913 ', '12014316', '0001 ', '2', '0.100000', '01', '76.300000', ' '], ['5', '8913 ', '12014316', '0001 ', '2', '0.500000', '01', '825.000000', ' '], ['6', '8913 ', '12014316', '0001 ', '2', '1.000000', '01', '10369.000000', ' '], ['7', '8913 ', '12014316', '0001 ', '1', '2.000000', '01', '129.000000', ' '], ['8', '8913 ', '12014316', '0001 ', '1', '5.000000', '01', '5947.500000', ' '], ['9', '8913 ', '12014316', '0001 ', '1', '10.000000', '01', '121495.000000', ' '], ['10', '8913 ', '12014316', '0001 ', '1', '20.000000', '01', '30040.000000', ' '], ['11', '8913 ', '12014316', '0001 ', '1', '50.000000', '01', '12800.000000', ' '], ['12', '8913 ', '12014316', '0001 ', '1', '100.000000', '01', '785800.000000', '']]\n"
     ]
    }
   ],
   "source": [
    "lines = text.strip().split('\\n')\n",
    "\n",
    "# 按|拆分每一行进入子列表\n",
    "data = [line.split('|') for line in lines]\n",
    "\n",
    "#print(data)"
   ]
  },
  {
   "cell_type": "code",
   "execution_count": 46,
   "metadata": {},
   "outputs": [
    {
     "name": "stdout",
     "output_type": "stream",
     "text": [
      "券别登记异常信息:\n",
      "工号：12014316，硬币1.00过多\n",
      "工号：12014316，纸币2.00不应存在\n",
      "工号：12014316，纸币10.00过多\n"
     ]
    }
   ],
   "source": [
    "text_fails = \"\"\n",
    "for row in data:\n",
    "    text_fail = \"\"\n",
    "    if row[4] == '2':\n",
    "        if (float(row[7]) * 100) / (float(row[5]) * 100) > 5000:\n",
    "            text_fail = f\"工号：{row[2]}，硬币{row[5][0:4]}过多\"\n",
    "    if row[4] == '1' and row[5] != '100.000000':\n",
    "        if row[5] in ['0.010000', '0.020000', '0.050000', '0.100000', '0.500000', '0.500000', '2.000000']:\n",
    "            text_fail = f\"工号：{row[2]}，纸币{row[5][0:4]}不应存在\"\n",
    "        else:\n",
    "            if (float(row[7]) * 100) / (float(row[5]) * 100) > 5000:\n",
    "                text_fail = f\"工号：{row[2]}，纸币{row[5][0:len(row[5]) - 4]}过多\"\n",
    "    if text_fail != \"\":\n",
    "        if text_fails == \"\":\n",
    "            text_fails = text_fails + text_fail\n",
    "        else:\n",
    "            text_fails = text_fails + \"\\n\" + text_fail\n",
    "if text_fails == \"\":\n",
    "    print(\"券别登记无异常\")\n",
    "else:\n",
    "    print(\"券别登记异常信息:\\n\" + text_fails)\n",
    "\n"
   ]
  },
  {
   "cell_type": "code",
   "execution_count": 49,
   "metadata": {},
   "outputs": [
    {
     "name": "stdout",
     "output_type": "stream",
     "text": [
      "券别登记异常信息:\n",
      "工号：12014316，硬币1.00过多\n",
      "工号：12014316，纸币2.00不应存在\n",
      "工号：12014316，纸币10.00过多\n"
     ]
    }
   ],
   "source": [
    "import re\n",
    "import os\n",
    "from datetime import datetime\n",
    "\n",
    "def get_txt_files_in_current_directory():\n",
    "    current_directory = os.getcwd()  # 获取当前工作目录\n",
    "    txt_files = [f for f in os.listdir(current_directory) if f.endswith('.txt')]\n",
    "    return txt_files\n",
    "\n",
    "txt_files = get_txt_files_in_current_directory()\n",
    "\n",
    "current_time = datetime.now()\n",
    "\n",
    "formatted_time = current_time.strftime(\"%Y%m%d\")\n",
    "\n",
    "pattern = r'[0-9]{8}20231205_A747\\.txt'\n",
    "\n",
    "matched_files = [f for f in txt_files if re.search(pattern, f)]\n",
    "\n",
    "if matched_files:\n",
    "    with open(matched_files[0], 'r') as file:\n",
    "        text = file.read()\n",
    "        #print(text)\n",
    "else:\n",
    "    print(\"文件不存在\")\n",
    "\n",
    "lines = text.strip().split('\\n')\n",
    "\n",
    "data = [line.split('|') for line in lines]\n",
    "\n",
    "text_fails = \"\"\n",
    "for row in data:\n",
    "    text_fail = \"\"\n",
    "    if row[4] == '1' and row[5] != '100.000000':\n",
    "        if row[5] in ['0.010000', '0.020000', '0.050000', '0.100000', '0.500000', '0.500000', '2.000000']:\n",
    "            text_fail = f\"工号：{row[2]}，纸币{row[5][0:4]}不应存在\"\n",
    "        else:\n",
    "            if (float(row[7]) * 100) / (float(row[5]) * 100) > 5000:\n",
    "                text_fail = f\"工号：{row[2]}，纸币{row[5][0:len(row[5]) - 4]}过多\"\n",
    "    if row[4] == '2':\n",
    "        if (float(row[7]) * 100) / (float(row[5]) * 100) > 3000:\n",
    "            text_fail = f\"工号：{row[2]}，硬币{row[5][0:4]}过多\"\n",
    "    if text_fail != \"\":\n",
    "        if text_fails == \"\":\n",
    "            text_fails = text_fails + text_fail\n",
    "        else:\n",
    "            text_fails = text_fails + \"\\n\" + text_fail\n",
    "if text_fails == \"\":\n",
    "    print(\"券别登记无异常\")\n",
    "else:\n",
    "    print(\"券别登记异常信息:\\n\" + text_fails)\n"
   ]
  }
 ],
 "metadata": {
  "kernelspec": {
   "display_name": "Python 3",
   "language": "python",
   "name": "python3"
  },
  "language_info": {
   "codemirror_mode": {
    "name": "ipython",
    "version": 3
   },
   "file_extension": ".py",
   "mimetype": "text/x-python",
   "name": "python",
   "nbconvert_exporter": "python",
   "pygments_lexer": "ipython3",
   "version": "3.10.8"
  }
 },
 "nbformat": 4,
 "nbformat_minor": 2
}
