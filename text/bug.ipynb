{
 "cells": [
  {
   "cell_type": "code",
   "execution_count": 39,
   "metadata": {},
   "outputs": [],
   "source": [
    "import subprocess\n",
    "\n",
    "def convert_video(input_file, output_file, codec='libx264', preset='slow', crf=18, threads='auto'):\n",
    "    cmd = [\n",
    "        'ffmpeg',                  # FFmpeg 命令\n",
    "        '-i', input_file,          # 输入文件\n",
    "        '-c:v', codec,             # 视频编码器\n",
    "        '-preset', preset,         # 编码预设\n",
    "        '-crf', str(crf),          # CRF 质量参数\n",
    "        output_file,               # 输出文件路径\n",
    "        '-threads', str(threads),  # 线程数\n",
    "        '-thread_type', 'auto'\n",
    "    ]\n",
    "    subprocess.run(cmd)\n",
    "\n"
   ]
  },
  {
   "cell_type": "code",
   "execution_count": 1,
   "metadata": {},
   "outputs": [
    {
     "data": {
      "text/plain": [
       "'\\n    ret = proc.wait()\\n    if ret == 0:\\n        print(\"Command executed successfully!\")\\n    else:\\n        print(f\"Command failed with return code {ret}\")'"
      ]
     },
     "execution_count": 1,
     "metadata": {},
     "output_type": "execute_result"
    }
   ],
   "source": [
    "import subprocess\n",
    "import re\n",
    "\n",
    "def convert_video(input_file, output_file, codec='libx264', preset='slow', crf=18, threads='auto'):\n",
    "    cmd = [\n",
    "        'ffmpeg',                  # FFmpeg 命令\n",
    "        '-i', input_file,          # 输入文件\n",
    "        '-c:v', codec,             # 视频编码器\n",
    "        '-preset', preset,         # 编码预设\n",
    "        '-crf', str(crf),          # CRF 质量参数\n",
    "        '-threads', str(threads),  # 线程数\n",
    "        output_file,               # 输出文件路径\n",
    "    ]\n",
    "\n",
    "    # 启动子进程，并捕获输出流\n",
    "    proc = subprocess.Popen(cmd, stdout=subprocess.PIPE, stderr=subprocess.STDOUT)\n",
    "\n",
    "    for line in proc.stdout:\n",
    "        print(line)\n",
    "'''\n",
    "    ret = proc.wait()\n",
    "    if ret == 0:\n",
    "        print(\"Command executed successfully!\")\n",
    "    else:\n",
    "        print(f\"Command failed with return code {ret}\")'''\n",
    " "
   ]
  },
  {
   "cell_type": "code",
   "execution_count": 2,
   "metadata": {},
   "outputs": [
    {
     "name": "stdout",
     "output_type": "stream",
     "text": [
      "b'ffmpeg version 4.2.7-0ubuntu0.1 Copyright (c) 2000-2022 the FFmpeg developers\\n'\n",
      "b'  built with gcc 9 (Ubuntu 9.4.0-1ubuntu1~20.04.1)\\n'\n",
      "b'  configuration: --prefix=/usr --extra-version=0ubuntu0.1 --toolchain=hardened --libdir=/usr/lib/x86_64-linux-gnu --incdir=/usr/include/x86_64-linux-gnu --arch=amd64 --enable-gpl --disable-stripping --enable-avresample --disable-filter=resample --enable-avisynth --enable-gnutls --enable-ladspa --enable-libaom --enable-libass --enable-libbluray --enable-libbs2b --enable-libcaca --enable-libcdio --enable-libcodec2 --enable-libflite --enable-libfontconfig --enable-libfreetype --enable-libfribidi --enable-libgme --enable-libgsm --enable-libjack --enable-libmp3lame --enable-libmysofa --enable-libopenjpeg --enable-libopenmpt --enable-libopus --enable-libpulse --enable-librsvg --enable-librubberband --enable-libshine --enable-libsnappy --enable-libsoxr --enable-libspeex --enable-libssh --enable-libtheora --enable-libtwolame --enable-libvidstab --enable-libvorbis --enable-libvpx --enable-libwavpack --enable-libwebp --enable-libx265 --enable-libxml2 --enable-libxvid --enable-libzmq --enable-libzvbi --enable-lv2 --enable-omx --enable-openal --enable-opencl --enable-opengl --enable-sdl2 --enable-libdc1394 --enable-libdrm --enable-libiec61883 --enable-nvenc --enable-chromaprint --enable-frei0r --enable-libx264 --enable-shared\\n'\n",
      "b'  libavutil      56. 31.100 / 56. 31.100\\n'\n",
      "b'  libavcodec     58. 54.100 / 58. 54.100\\n'\n",
      "b'  libavformat    58. 29.100 / 58. 29.100\\n'\n",
      "b'  libavdevice    58.  8.100 / 58.  8.100\\n'\n",
      "b'  libavfilter     7. 57.100 /  7. 57.100\\n'\n",
      "b'  libavresample   4.  0.  0 /  4.  0.  0\\n'\n",
      "b'  libswscale      5.  5.100 /  5.  5.100\\n'\n",
      "b'  libswresample   3.  5.100 /  3.  5.100\\n'\n",
      "b'  libpostproc    55.  5.100 / 55.  5.100\\n'\n",
      "b\"Input #0, matroska,webm, from 'HgIBGdBDeHs.webm':\\n\"\n",
      "b'  Metadata:\\n'\n",
      "b'    encoder         : google/video-file\\n'\n",
      "b'  Duration: 00:00:21.73, start: 0.000000, bitrate: 1843 kb/s\\n'\n",
      "b'    Stream #0:0(eng): Video: vp9 (Profile 0), yuv420p(tv, bt709), 1080x1920, SAR 1:1 DAR 9:16, 23.98 fps, 23.98 tbr, 1k tbn, 1k tbc (default)\\n'\n",
      "b'Stream mapping:\\n'\n",
      "b'  Stream #0:0 -> #0:0 (vp9 (native) -> h264 (libx264))\\n'\n",
      "b'Press [q] to stop, [?] for help\\n'\n",
      "b\"[AVFilterGraph @ 0x55df389efc80] [Eval @ 0x7ffca3f97dd0] Undefined constant or missing '(' in 'auto'\\n\"\n",
      "b'[AVFilterGraph @ 0x55df389efc80] Unable to parse option value \"auto\"\\n'\n",
      "b'[libx264 @ 0x55df3896f740] using SAR=1/1\\n'\n",
      "b'[libx264 @ 0x55df3896f740] using cpu capabilities: MMX2 SSE2Fast SSSE3 SSE4.2 AVX FMA3 BMI2 AVX2\\n'\n",
      "b'[libx264 @ 0x55df3896f740] profile High, level 5.0\\n'\n",
      "b'[libx264 @ 0x55df3896f740] 264 - core 155 r2917 0a84d98 - H.264/MPEG-4 AVC codec - Copyleft 2003-2018 - http://www.videolan.org/x264.html - options: cabac=1 ref=5 deblock=1:0:0 analyse=0x3:0x113 me=hex subme=8 psy=1 psy_rd=1.00:0.00 mixed_ref=1 me_range=16 chroma_me=1 trellis=2 8x8dct=1 cqm=0 deadzone=21,11 fast_pskip=1 chroma_qp_offset=-2 threads=3 lookahead_threads=1 sliced_threads=0 nr=0 decimate=1 interlaced=0 bluray_compat=0 constrained_intra=0 bframes=3 b_pyramid=2 b_adapt=1 b_bias=0 direct=3 weightb=1 open_gop=0 weightp=2 keyint=250 keyint_min=23 scenecut=40 intra_refresh=0 rc_lookahead=50 rc=crf mbtree=1 crf=18.0 qcomp=0.60 qpmin=0 qpmax=69 qpstep=4 ip_ratio=1.40 aq=1:1.00\\n'\n",
      "b\"Output #0, mp4, to 'HgIBGdBDeHs.mp4':\\n\"\n",
      "b'  Metadata:\\n'\n",
      "b'    encoder         : Lavf58.29.100\\n'\n",
      "b'    Stream #0:0(eng): Video: h264 (libx264) (avc1 / 0x31637661), yuv420p, 1080x1920 [SAR 1:1 DAR 9:16], q=-1--1, 23.98 fps, 24k tbn, 23.98 tbc (default)\\n'\n",
      "b'    Metadata:\\n'\n",
      "b'      encoder         : Lavc58.54.100 libx264\\n'\n",
      "b'    Side data:\\n'\n",
      "b'      cpb: bitrate max/min/avg: 0/0/0 buffer size: 0 vbv_delay: -1\\n'\n",
      "b'frame=   53 fps=0.0 q=0.0 size=       0kB time=00:00:00.00 bitrate=N/A speed=   0x    \\rframe=   57 fps= 55 q=0.0 size=       0kB time=00:00:00.00 bitrate=N/A speed=   0x    \\rframe=   60 fps= 38 q=23.0 size=       0kB time=00:00:00.00 bitrate=9142.9kbits/s speed=2.69e-05x    \\rframe=   63 fps= 30 q=23.0 size=     256kB time=00:00:00.12 bitrate=16757.9kbits/s speed=0.0602x    \\rframe=   67 fps= 25 q=23.0 size=     256kB time=00:00:00.29 bitrate=7183.3kbits/s speed=0.109x    \\rframe=   72 fps= 22 q=23.0 size=     512kB time=00:00:00.50 bitrate=8380.3kbits/s speed=0.155x    \\rframe=   74 fps= 19 q=23.0 size=     512kB time=00:00:00.58 bitrate=7183.2kbits/s speed=0.151x    \\rframe=   79 fps= 18 q=23.0 size=     768kB time=00:00:00.79 bitrate=7939.2kbits/s speed=0.178x    \\rframe=   85 fps= 17 q=23.0 size=     768kB time=00:00:01.04 bitrate=6033.9kbits/s speed=0.21x    \\rframe=   92 fps= 16 q=23.0 size=    1024kB time=00:00:01.33 bitrate=6285.3kbits/s speed=0.237x    \\rframe=   98 fps= 16 q=23.0 size=    1024kB time=00:00:01.58 bitrate=5292.9kbits/s speed=0.259x    \\rframe=  104 fps= 15 q=23.0 size=    1024kB time=00:00:01.83 bitrate=4571.1kbits/s speed=0.272x    \\rframe=  108 fps= 15 q=23.0 size=    1280kB time=00:00:02.00 bitrate=5237.7kbits/s speed=0.274x    \\rframe=  113 fps= 14 q=23.0 size=    1280kB time=00:00:02.21 bitrate=4743.6kbits/s speed=0.283x    \\rframe=  121 fps= 14 q=23.0 size=    1280kB time=00:00:02.54 bitrate=4121.5kbits/s speed= 0.3x    \\rframe=  128 fps= 14 q=23.0 size=    1280kB time=00:00:02.83 bitrate=3697.2kbits/s speed=0.308x    \\rframe=  132 fps= 13 q=23.0 size=    1792kB time=00:00:03.00 bitrate=4888.5kbits/s speed=0.306x    \\rframe=  137 fps= 13 q=23.0 size=    1792kB time=00:00:03.21 bitrate=4571.1kbits/s speed=0.311x    \\rframe=  145 fps= 13 q=23.0 size=    1792kB time=00:00:03.54 bitrate=4140.9kbits/s speed=0.321x    \\rframe=  153 fps= 13 q=23.0 size=    2048kB time=00:00:03.87 bitrate=4325.3kbits/s speed=0.332x    \\rframe=  160 fps= 13 q=23.0 size=    2304kB time=00:00:04.17 bitrate=4525.4kbits/s speed=0.335x    \\rframe=  165 fps= 13 q=23.0 size=    2304kB time=00:00:04.37 bitrate=4309.9kbits/s speed=0.334x    \\rframe=  169 fps= 12 q=23.0 size=    2560kB time=00:00:04.54 bitrate=4613.0kbits/s speed=0.332x    \\rframe=  173 fps= 12 q=23.0 size=    2560kB time=00:00:04.71 bitrate=4449.7kbits/s speed=0.33x    \\rframe=  177 fps= 12 q=23.0 size=    2816kB time=00:00:04.87 bitrate=4727.3kbits/s speed=0.325x    \\rframe=  183 fps= 12 q=23.0 size=    2816kB time=00:00:05.13 bitrate=4496.7kbits/s speed=0.329x    \\rframe=  189 fps= 12 q=23.0 size=    3072kB time=00:00:05.38 bitrate=4677.4kbits/s speed=0.332x    \\rframe=  195 fps= 12 q=23.0 size=    3072kB time=00:00:05.63 bitrate=4469.5kbits/s speed=0.336x    \\rframe=  201 fps= 11 q=23.0 size=    3072kB time=00:00:05.88 bitrate=4279.3kbits/s speed=0.336x    \\rframe=  207 fps= 11 q=23.0 size=    3072kB time=00:00:06.13 bitrate=4104.6kbits/s speed=0.339x    \\rframe=  213 fps= 11 q=23.0 size=    3328kB time=00:00:06.38 bitrate=4272.3kbits/s speed=0.341x    \\rframe=  220 fps= 11 q=23.0 size=    3328kB time=00:00:06.67 bitrate=4085.4kbits/s speed=0.337x    \\rframe=  225 fps= 11 q=23.0 size=    3584kB time=00:00:06.88 bitrate=4266.3kbits/s speed=0.338x    \\rframe=  230 fps= 11 q=23.0 size=    3840kB time=00:00:07.09 bitrate=4436.6kbits/s speed=0.338x    \\rframe=  234 fps= 11 q=23.0 size=    3840kB time=00:00:07.25 bitrate=4334.6kbits/s speed=0.337x    \\rframe=  241 fps= 11 q=23.0 size=    4096kB time=00:00:07.54 bitrate=4444.8kbits/s speed=0.342x    \\rframe=  246 fps= 11 q=23.0 size=    4096kB time=00:00:07.75 bitrate=4325.3kbits/s speed=0.337x    \\rframe=  250 fps= 11 q=23.0 size=    4352kB time=00:00:07.92 bitrate=4498.9kbits/s speed=0.336x    \\rframe=  255 fps= 11 q=23.0 size=    4352kB time=00:00:08.13 bitrate=4383.5kbits/s speed=0.337x    \\rframe=  261 fps= 11 q=23.0 size=    4608kB time=00:00:08.38 bitrate=4502.8kbits/s speed=0.339x    \\rframe=  265 fps= 10 q=23.0 size=    4608kB time=00:00:08.55 bitrate=4415.0kbits/s speed=0.339x    \\rframe=  269 fps= 10 q=23.0 size=    4608kB time=00:00:08.71 bitrate=4330.5kbits/s speed=0.336x    \\rframe=  274 fps= 10 q=23.0 size=    4864kB time=00:00:08.92 bitrate=4464.3kbits/s speed=0.336x    \\rframe=  278 fps= 10 q=23.0 size=    4864kB time=00:00:09.09 bitrate=4382.3kbits/s speed=0.334x    \\rframe=  283 fps= 10 q=23.0 size=    5120kB time=00:00:09.30 bitrate=4509.6kbits/s speed=0.335x    \\rframe=  287 fps= 10 q=23.0 size=    5376kB time=00:00:09.46 bitrate=4651.6kbits/s speed=0.333x    \\rframe=  292 fps= 10 q=23.0 size=    5376kB time=00:00:09.67 bitrate=4551.4kbits/s speed=0.333x    \\rframe=  294 fps=9.9 q=23.0 size=    5632kB time=00:00:09.75 bitrate=4727.3kbits/s speed=0.33x    \\rframe=  298 fps=9.8 q=23.0 size=    5632kB time=00:00:09.92 bitrate=4647.9kbits/s speed=0.326x    \\rframe=  302 fps=9.7 q=23.0 size=    5888kB time=00:00:10.09 bitrate=4778.8kbits/s speed=0.326x    \\rframe=  309 fps=9.8 q=23.0 size=    6144kB time=00:00:10.38 bitrate=4846.4kbits/s speed=0.33x    \\rframe=  314 fps=9.7 q=23.0 size=    6144kB time=00:00:10.59 bitrate=4751.0kbits/s speed=0.328x    \\rframe=  319 fps=9.7 q=23.0 size=    6144kB time=00:00:10.80 bitrate=4659.3kbits/s speed=0.329x    \\rframe=  326 fps=9.7 q=23.0 size=    6400kB time=00:00:11.09 bitrate=4725.7kbits/s speed=0.332x    \\rframe=  330 fps=9.7 q=23.0 size=    6400kB time=00:00:11.26 bitrate=4655.7kbits/s speed=0.33x    \\rframe=  335 fps=9.6 q=23.0 size=    6656kB time=00:00:11.46 bitrate=4753.9kbits/s speed=0.329x    \\rframe=  339 fps=9.6 q=23.0 size=    6656kB time=00:00:11.63 bitrate=4685.7kbits/s speed=0.328x    \\rframe=  343 fps=9.5 q=23.0 size=    6912kB time=00:00:11.80 bitrate=4797.2kbits/s speed=0.328x    \\rframe=  347 fps=9.5 q=23.0 size=    6912kB time=00:00:11.97 bitrate=4730.3kbits/s speed=0.326x    \\rframe=  352 fps=9.5 q=23.0 size=    7168kB time=00:00:12.17 bitrate=4821.5kbits/s speed=0.327x    \\rframe=  356 fps=9.4 q=23.0 size=    7168kB time=00:00:12.34 bitrate=4756.4kbits/s speed=0.327x    \\rframe=  359 fps=9.4 q=23.0 size=    7168kB time=00:00:12.47 bitrate=4708.6kbits/s speed=0.325x    \\rframe=  363 fps=9.3 q=23.0 size=    7680kB time=00:00:12.63 bitrate=4978.4kbits/s speed=0.324x    \\rframe=  371 fps=9.4 q=23.0 size=    7680kB time=00:00:12.97 bitrate=4850.3kbits/s speed=0.329x    \\rframe=  375 fps=9.4 q=23.0 size=    7680kB time=00:00:13.13 bitrate=4788.7kbits/s speed=0.328x    \\rframe=  382 fps=9.4 q=23.0 size=    7680kB time=00:00:13.43 bitrate=4684.6kbits/s speed=0.331x    \\rframe=  386 fps=9.4 q=23.0 size=    7936kB time=00:00:13.59 bitrate=4781.4kbits/s speed=0.331x    \\rframe=  392 fps=9.4 q=23.0 size=    7936kB time=00:00:13.84 bitrate=4695.0kbits/s speed=0.332x    \\rframe=  398 fps=9.4 q=23.0 size=    8192kB time=00:00:14.09 bitrate=4760.4kbits/s speed=0.334x    \\rframe=  403 fps=9.4 q=23.0 size=    8448kB time=00:00:14.30 bitrate=4837.6kbits/s speed=0.333x    \\rframe=  407 fps=9.4 q=23.0 size=    8448kB time=00:00:14.47 bitrate=4781.8kbits/s speed=0.333x    \\rframe=  411 fps=9.3 q=23.0 size=    8704kB time=00:00:14.63 bitrate=4870.6kbits/s speed=0.333x    \\rframe=  415 fps=9.3 q=23.0 size=    8704kB time=00:00:14.80 bitrate=4815.7kbits/s speed=0.332x    \\rframe=  419 fps=9.3 q=23.0 size=    8960kB time=00:00:14.97 bitrate=4902.1kbits/s speed=0.331x    \\rframe=  424 fps=9.2 q=23.0 size=    8960kB time=00:00:15.18 bitrate=4834.8kbits/s speed=0.33x    \\rframe=  428 fps=9.2 q=23.0 size=    9216kB time=00:00:15.34 bitrate=4918.8kbits/s speed=0.329x    \\rframe=  433 fps=9.2 q=23.0 size=    9216kB time=00:00:15.55 bitrate=4852.9kbits/s speed=0.33x    \\rframe=  436 fps=9.1 q=23.0 size=    9472kB time=00:00:15.68 bitrate=4947.9kbits/s speed=0.328x    \\rframe=  439 fps=9.1 q=23.0 size=    9472kB time=00:00:15.80 bitrate=4908.7kbits/s speed=0.327x    \\rframe=  444 fps=9.1 q=23.0 size=    9728kB time=00:00:16.01 bitrate=4975.8kbits/s speed=0.327x    \\rframe=  447 fps=9.0 q=23.0 size=    9728kB time=00:00:16.14 bitrate=4937.2kbits/s speed=0.325x    \\rframe=  453 fps=9.0 q=23.0 size=    9984kB time=00:00:16.39 bitrate=4989.8kbits/s speed=0.326x    \\rframe=  456 fps=9.0 q=23.0 size=    9984kB time=00:00:16.51 bitrate=4952.0kbits/s speed=0.324x    \\rframe=  461 fps=9.0 q=23.0 size=    9984kB time=00:00:16.72 bitrate=4890.2kbits/s speed=0.325x    \\rframe=  465 fps=8.9 q=23.0 size=   10240kB time=00:00:16.89 bitrate=4966.1kbits/s speed=0.325x    \\rframe=  471 fps=8.9 q=23.0 size=   10240kB time=00:00:17.14 bitrate=4893.6kbits/s speed=0.326x    \\rframe=  476 fps=8.9 q=23.0 size=   10240kB time=00:00:17.35 bitrate=4834.8kbits/s speed=0.325x    \\rframe=  479 fps=8.9 q=23.0 size=   10496kB time=00:00:17.47 bitrate=4920.1kbits/s speed=0.324x    \\rframe=  481 fps=8.8 q=23.0 size=   10496kB time=00:00:17.55 bitrate=4896.8kbits/s speed=0.322x    \\rframe=  485 fps=8.8 q=23.0 size=   10752kB time=00:00:17.72 bitrate=4969.0kbits/s speed=0.322x    \\rframe=  489 fps=8.8 q=23.0 size=   11008kB time=00:00:17.89 bitrate=5039.9kbits/s speed=0.321x    \\rframe=  493 fps=8.8 q=23.0 size=   11008kB time=00:00:18.05 bitrate=4993.3kbits/s speed=0.321x    \\rframe=  497 fps=8.7 q=23.0 size=   11264kB time=00:00:18.22 bitrate=5062.7kbits/s speed=0.32x    \\rframe=  499 fps=8.7 q=23.0 size=   11264kB time=00:00:18.31 bitrate=5039.6kbits/s speed=0.317x    \\rframe=  504 fps=8.6 q=23.0 size=   11520kB time=00:00:18.51 bitrate=5096.1kbits/s speed=0.318x    \\rframe=  508 fps=8.6 q=23.0 size=   11520kB time=00:00:18.68 bitrate=5050.6kbits/s speed=0.317x    \\rframe=  513 fps=8.6 q=23.0 size=   11776kB time=00:00:18.89 bitrate=5105.8kbits/s speed=0.318x    \\rframe=  516 fps=8.6 q=23.0 size=   11776kB time=00:00:19.01 bitrate=5072.3kbits/s speed=0.317x    \\rframe=  520 fps=8.6 q=23.0 size=   12032kB time=00:00:19.18 bitrate=5137.5kbits/s speed=0.316x    \\rframe=  521 fps=7.8 q=-1.0 Lsize=   13540kB time=00:00:21.60 bitrate=5134.0kbits/s speed=0.324x    \\n'\n",
      "b'video:13533kB audio:0kB subtitle:0kB other streams:0kB global headers:0kB muxing overhead: 0.051725%\\n'\n",
      "b'[libx264 @ 0x55df3896f740] frame I:12    Avg QP:13.18  size:184886\\n'\n",
      "b'[libx264 @ 0x55df3896f740] frame P:147   Avg QP:16.91  size: 46389\\n'\n",
      "b'[libx264 @ 0x55df3896f740] frame B:362   Avg QP:20.80  size: 13313\\n'\n",
      "b'[libx264 @ 0x55df3896f740] consecutive B-frames:  5.6%  3.5%  5.8% 85.2%\\n'\n",
      "b'[libx264 @ 0x55df3896f740] mb I  I16..4:  6.9% 76.9% 16.2%\\n'\n",
      "b'[libx264 @ 0x55df3896f740] mb P  I16..4:  4.4% 17.7%  1.9%  P16..4: 29.1% 12.2%  4.7%  0.0%  0.0%    skip:29.9%\\n'\n",
      "b'[libx264 @ 0x55df3896f740] mb B  I16..4:  0.9%  2.3%  0.2%  B16..8: 32.8%  5.3%  0.7%  direct: 3.7%  skip:54.1%  L0:48.3% L1:43.8% BI: 7.9%\\n'\n",
      "b'[libx264 @ 0x55df3896f740] 8x8 transform intra:73.1% inter:72.3%\\n'\n",
      "b'[libx264 @ 0x55df3896f740] direct mvs  spatial:99.4% temporal:0.6%\\n'\n",
      "b'[libx264 @ 0x55df3896f740] coded y,uvDC,uvAC intra: 58.9% 54.7% 23.4% inter: 12.1% 13.5% 0.5%\\n'\n",
      "b'[libx264 @ 0x55df3896f740] i16 v,h,dc,p: 19% 20%  6% 55%\\n'\n",
      "b'[libx264 @ 0x55df3896f740] i8 v,h,dc,ddl,ddr,vr,hd,vl,hu: 21% 17% 13%  5%  8% 10%  9%  8%  9%\\n'\n",
      "b'[libx264 @ 0x55df3896f740] i4 v,h,dc,ddl,ddr,vr,hd,vl,hu: 22% 15% 11%  6% 12% 11%  9%  7%  7%\\n'\n",
      "b'[libx264 @ 0x55df3896f740] i8c dc,h,v,p: 43% 25% 22% 11%\\n'\n",
      "b'[libx264 @ 0x55df3896f740] Weighted P-Frames: Y:0.0% UV:0.0%\\n'\n",
      "b'[libx264 @ 0x55df3896f740] ref P L0: 61.1% 12.0% 14.8%  6.9%  5.0%  0.1%\\n'\n",
      "b'[libx264 @ 0x55df3896f740] ref B L0: 85.3%  9.8%  3.9%  1.1%\\n'\n",
      "b'[libx264 @ 0x55df3896f740] ref B L1: 95.6%  4.4%\\n'\n",
      "b'[libx264 @ 0x55df3896f740] kb/s:5101.56\\n'\n"
     ]
    }
   ],
   "source": [
    "import os\n",
    "\n",
    "convert_video('HgIBGdBDeHs.webm', 'HgIBGdBDeHs.mp4')\n",
    "os.remove('HgIBGdBDeHs.mp4')\n"
   ]
  }
 ],
 "metadata": {
  "kernelspec": {
   "display_name": "Python 3",
   "language": "python",
   "name": "python3"
  },
  "language_info": {
   "codemirror_mode": {
    "name": "ipython",
    "version": 3
   },
   "file_extension": ".py",
   "mimetype": "text/x-python",
   "name": "python",
   "nbconvert_exporter": "python",
   "pygments_lexer": "ipython3",
   "version": "3.10.8"
  },
  "orig_nbformat": 4
 },
 "nbformat": 4,
 "nbformat_minor": 2
}
