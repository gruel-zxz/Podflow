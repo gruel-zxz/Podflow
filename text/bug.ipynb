{
 "cells": [
  {
   "cell_type": "code",
   "execution_count": null,
   "metadata": {},
   "outputs": [],
   "source": [
    "# 文本整形模块\n",
    "def shap(text, text_size):\n",
    "    if isinstance(text_size, int) and text_size> 0:\n",
    "        text = text.strip()\n",
    "        return text if len(text) > text_size else f\"{text:>{text_size}}\"\n",
    "    else:\n",
    "        text = text.strip()\n",
    "        text_size = text_size.strip()\n",
    "        bit = len(text_size)\n",
    "        if len(text) > bit:\n",
    "            return f\"{text}/{text_size}\"\n",
    "        else:\n",
    "            return f\"{text:>{bit}}/{text_size}\"\n",
    "\n",
    "# 下载显示模块\n",
    "def show_progress(data_stream):\n",
    "    percent_str = shap(data_stream['_percent_str'], 5)\n",
    "    if '_total_bytes_estimate_str' in data_stream:\n",
    "        if '_downloaded_bytes_str' in data_stream:\n",
    "            downloaded_bytes_str = shap(data_stream['_downloaded_bytes_str'], data_stream['_total_bytes_estimate_str'])\n",
    "        else:\n",
    "            downloaded_bytes_str = shap(data_stream['_total_bytes_estimate_str'], data_stream['_total_bytes_estimate_str'])\n",
    "    else:\n",
    "        downloaded_bytes_str = shap(data_stream['_total_bytes_str'], data_stream['_total_bytes_str'])\n",
    "    speed_str = data_stream['_speed_str'].strip()\n",
    "    if '_eta_str' in data_stream:\n",
    "        eta_str = shap(data_stream['_eta_str'].strip(), 5)\n",
    "        print((f\"\\r{f'{percent_str}|{downloaded_bytes_str}|{eta_str}|{speed_str}':<44}\")[:44],end=\"\")\n",
    "    else:\n",
    "        eta_str = data_stream['_elapsed_str'].strip()\n",
    "        if eta_str[:3] == \"00:\":\n",
    "            eta_str = eta_str[-5:]\n",
    "        print((f\"\\r{f'{percent_str}|{downloaded_bytes_str}|{eta_str}|{speed_str}':<44}\")[:44],end=\"\")\n",
    "        print(\"\")"
   ]
  },
  {
   "cell_type": "code",
   "execution_count": null,
   "metadata": {},
   "outputs": [],
   "source": []
  }
 ],
 "metadata": {
  "language_info": {
   "name": "python"
  },
  "orig_nbformat": 4
 },
 "nbformat": 4,
 "nbformat_minor": 2
}
