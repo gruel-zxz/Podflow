{
 "cells": [
  {
   "cell_type": "code",
   "execution_count": 9,
   "metadata": {},
   "outputs": [
    {
     "name": "stdout",
     "output_type": "stream",
     "text": [
      "现在是白天\n",
      "2023-10-15 13:15:28.480962+00:00 2023-10-15 02:11:21.356445+00:00\n"
     ]
    }
   ],
   "source": [
    "import requests\n",
    "from astral.sun import sun\n",
    "from astral import LocationInfo\n",
    "from datetime import datetime, timedelta, timezone\n",
    "\n",
    "\n",
    "# 获取公网IP地址\n",
    "response = requests.get('https://ipinfo.io')\n",
    "data = response.json()\n",
    "# 提取经度和纬度\n",
    "coordinates = data['loc'].split(',')\n",
    "latitude = coordinates[0]\n",
    "longitude = coordinates[1]\n",
    "# 创建一个 LocationInfo 对象，只提供经纬度信息\n",
    "location = LocationInfo(\"\", \"\", \"\", latitude=latitude, longitude=longitude)\n",
    "# 获取当前日期和时间，并为其添加时区信息\n",
    "now = datetime.now(timezone.utc)\n",
    "def sunrise_sunset(time):\n",
    "    # 创建一个 Sun 对象\n",
    "    sun_time = sun(location.observer, date=time)\n",
    "    # 计算日出和日落时间，以及日落前和日出后的一小时\n",
    "    sunrise = sun_time['sunrise']\n",
    "    sunset = sun_time['sunset']\n",
    "    sunrise_minus_one_hour = sunrise - timedelta(hours=1)\n",
    "    sunset_plus_one_hour = sunset + timedelta(hours=1)\n",
    "    return sunrise_minus_one_hour, sunset_plus_one_hour\n",
    "sunrise_now, sunset_now = sunrise_sunset(now)\n",
    "if sunrise_now < sunset_now:\n",
    "    if sunrise_now < now < sunset_now:\n",
    "        print(\"现在是白天\")\n",
    "    else:\n",
    "        print(\"现在是晚上\")\n",
    "else:\n",
    "    if sunrise_now < now < sunset_now:\n",
    "        print(\"现在是晚上\")\n",
    "    else:\n",
    "        print(\"现在是白天\")"
   ]
  },
  {
   "cell_type": "code",
   "execution_count": 4,
   "metadata": {},
   "outputs": [
    {
     "name": "stdout",
     "output_type": "stream",
     "text": [
      "现在是白天\n"
     ]
    }
   ],
   "source": [
    "import requests\n",
    "import datetime\n",
    "import math\n",
    "\n",
    "# 获取当前日期和时间\n",
    "now = datetime.datetime.now()\n",
    "# 获取当前日期是一年中的第几天\n",
    "day_of_year = now.timetuple().tm_yday\n",
    "# 获取公网IP地址\n",
    "response = requests.get('https://ipinfo.io')\n",
    "data = response.json()\n",
    "# 提取经度和纬度\n",
    "coordinates = data['loc'].split(',')\n",
    "latitude = float(coordinates[0])\n",
    "longitude = float(coordinates[1])\n",
    "# 计算太阳的高度角\n",
    "# 使用简化的算法，不考虑大气折射等因素\n",
    "solar_declination = -23.44 * math.cos(math.radians(360 * (day_of_year + 10) / 365))\n",
    "hour_angle = 15 * (now.hour - 12) + (now.minute / 4) + (longitude / 15)\n",
    "solar_altitude = math.degrees(math.asin(\n",
    "    math.sin(math.radians(latitude)) * math.sin(math.radians(solar_declination)) +\n",
    "    math.cos(math.radians(latitude)) * math.cos(math.radians(solar_declination)) * math.cos(math.radians(hour_angle)\n",
    ")))\n",
    "# 根据太阳的高度角判断是白天还是晚上\n",
    "if solar_altitude > 0:\n",
    "    print(\"现在是白天\")\n",
    "else:\n",
    "    print(\"现在是晚上\")\n"
   ]
  },
  {
   "cell_type": "code",
   "execution_count": 6,
   "metadata": {},
   "outputs": [
    {
     "name": "stdout",
     "output_type": "stream",
     "text": [
      "██████████████████████████████████████████████████████\n",
      "██              ██  ████    ██  ██████              ██\n",
      "██  ██████████  ████    ████  ████████  ██████████  ██\n",
      "██  ██      ██  ██████  ██    ██    ██  ██      ██  ██\n",
      "██  ██      ██  ██████████    ████████  ██      ██  ██\n",
      "██  ██      ██  ████  ██  ████  ██  ██  ██      ██  ██\n",
      "██  ██████████  ██████  ██  ██  ██████  ██████████  ██\n",
      "██              ██  ██  ██  ██  ██  ██              ██\n",
      "██████████████████  ██    ██  ████  ██████████████████\n",
      "██    ██    ██  ████      ████████  ██  ██████████  ██\n",
      "██      ██    ██  ██  ████        ██  ██          ████\n",
      "██        ██    ██  ██    ██  ██    ██    ██  ████  ██\n",
      "████    ████████  ██        ██████  ████  ██        ██\n",
      "████  ████  ██        ██    ████    ██  ██████████  ██\n",
      "██      ████  ████  ████████          ████  ████  ████\n",
      "██      ██████      ████    ████        ██          ██\n",
      "██  ██    ██  ██████  ██  ████████    ██  ██    ██  ██\n",
      "██  ██  ██  ██  ████  ██████  ████          ██    ████\n",
      "██████████████████  ████      ██    ██████  ██    ████\n",
      "██              ██████    ████████  ██  ██  ██████  ██\n",
      "██  ██████████  ████    ██    ██    ██████  ████  ████\n",
      "██  ██      ██  ██  ██  ██  ██              ████    ██\n",
      "██  ██      ██  ██      ████        ██  ████████    ██\n",
      "██  ██      ██  ████  ████  ████████  ████          ██\n",
      "██  ██████████  ██    ████████  ████████    ██      ██\n",
      "██              ██      ██      ██    ██████  ████  ██\n",
      "██████████████████████████████████████████████████████\n",
      "\n"
     ]
    }
   ],
   "source": [
    "import qrcode\n",
    "from PIL import Image\n",
    "\n",
    "# 创建一个QRCode对象\n",
    "qr = qrcode.QRCode(\n",
    "    version=1,\n",
    "    error_correction=qrcode.constants.ERROR_CORRECT_L,\n",
    "    box_size=1,\n",
    "    border=1,\n",
    ")\n",
    "\n",
    "# 设置二维码的数据\n",
    "data = \"https://www.example.com\"\n",
    "qr.add_data(data)\n",
    "\n",
    "# 创建二维码图像\n",
    "qr.make(fit=True)\n",
    "\n",
    "# 创建一个PIL图像对象\n",
    "img = qr.make_image(fill_color=\"black\", back_color=\"white\")\n",
    "\n",
    "# 获取图像的宽度和高度\n",
    "width, height = img.size\n",
    "\n",
    "# 转换图像为ASCII字符\n",
    "ascii_art = \"\"\n",
    "for y in range(height):\n",
    "    for x in range(width):\n",
    "        if img.getpixel((x, y)) == 0:\n",
    "            ascii_art += \"  \"  # 黑色像素使用空格表示\n",
    "        else:\n",
    "            ascii_art += \"██\"  # 白色像素使用██表示\n",
    "    ascii_art += \"\\n\"\n",
    "\n",
    "# 输出ASCII艺术\n",
    "print(ascii_art)\n",
    "\n"
   ]
  }
 ],
 "metadata": {
  "kernelspec": {
   "display_name": "Python 3",
   "language": "python",
   "name": "python3"
  },
  "language_info": {
   "codemirror_mode": {
    "name": "ipython",
    "version": 3
   },
   "file_extension": ".py",
   "mimetype": "text/x-python",
   "name": "python",
   "nbconvert_exporter": "python",
   "pygments_lexer": "ipython3",
   "version": "3.10.8"
  }
 },
 "nbformat": 4,
 "nbformat_minor": 2
}
