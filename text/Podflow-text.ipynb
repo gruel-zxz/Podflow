{
 "cells": [
  {
   "cell_type": "code",
   "execution_count": 9,
   "metadata": {},
   "outputs": [
    {
     "name": "stdout",
     "output_type": "stream",
     "text": [
      "现在是晚上\n"
     ]
    }
   ],
   "source": [
    "import requests\n",
    "from astral.sun import sun\n",
    "from astral import LocationInfo\n",
    "from datetime import datetime, timedelta, timezone\n",
    "\n",
    "\n",
    "# 获取公网IP地址\n",
    "response = requests.get('https://ipinfo.io')\n",
    "data = response.json()\n",
    "# 提取经度和纬度\n",
    "coordinates = data['loc'].split(',')\n",
    "latitude = coordinates[0]\n",
    "longitude = coordinates[1]\n",
    "# 创建一个 LocationInfo 对象，只提供经纬度信息\n",
    "location = LocationInfo(\"\", \"\", \"\", latitude=latitude, longitude=longitude)\n",
    "# 获取当前日期和时间，并为其添加时区信息\n",
    "now = datetime.now(timezone.utc)\n",
    "def sunrise_sunset(time):\n",
    "    # 创建一个 Sun 对象\n",
    "    sun_time = sun(location.observer, date=time)\n",
    "    # 计算日出和日落时间，以及日落前和日出后的一小时\n",
    "    sunrise = sun_time['sunrise']\n",
    "    sunset = sun_time['sunset']\n",
    "    sunrise_minus_one_hour = sunrise - timedelta(hours=1)\n",
    "    sunset_plus_one_hour = sunset + timedelta(hours=1)\n",
    "    return sunrise_minus_one_hour, sunset_plus_one_hour\n",
    "sunrise_now, sunset_now = sunrise_sunset(now)\n",
    "if sunrise_now < sunset_now:\n",
    "    if sunrise_now < now < sunset_now:\n",
    "        print(\"现在是白天\")\n",
    "    else:\n",
    "        print(\"现在是晚上\")\n",
    "else:\n",
    "    if sunset_now < now < sunrise_now:\n",
    "        print(\"现在是晚上\")\n",
    "    else:\n",
    "        print(\"现在是白天\")"
   ]
  },
  {
   "cell_type": "code",
   "execution_count": 6,
   "metadata": {},
   "outputs": [
    {
     "name": "stdout",
     "output_type": "stream",
     "text": [
      "现在是晚上\n"
     ]
    }
   ],
   "source": [
    "import requests\n",
    "import datetime\n",
    "import math\n",
    "\n",
    "# 获取当前日期和时间\n",
    "now = datetime.datetime.now()\n",
    "# 获取当前日期是一年中的第几天\n",
    "day_of_year = now.timetuple().tm_yday\n",
    "# 获取公网IP地址\n",
    "response = requests.get('https://ipinfo.io')\n",
    "data = response.json()\n",
    "# 提取经度和纬度\n",
    "coordinates = data['loc'].split(',')\n",
    "latitude = float(coordinates[0])\n",
    "longitude = float(coordinates[1])\n",
    "# 计算太阳的高度角\n",
    "# 使用简化的算法，不考虑大气折射等因素\n",
    "solar_declination = -23.44 * math.cos(math.radians(360 * (day_of_year + 10) / 365))\n",
    "hour_angle = 15 * (now.hour - 12) + (now.minute / 4) + (longitude / 15)\n",
    "solar_altitude = math.degrees(math.asin(math.sin(math.radians(latitude)) * math.sin(math.radians(solar_declination)) + math.cos(math.radians(latitude)) * math.cos(math.radians(solar_declination)) * math.cos(math.radians(hour_angle))))\n",
    "# 根据太阳的高度角判断是白天还是晚上\n",
    "if solar_altitude > 0:\n",
    "    print(\"现在是白天\")\n",
    "else:\n",
    "    print(\"现在是晚上\")\n"
   ]
  },
  {
   "cell_type": "code",
   "execution_count": 49,
   "metadata": {},
   "outputs": [
    {
     "name": "stdout",
     "output_type": "stream",
     "text": [
      "0\n",
      "1\n",
      "2\n",
      "3\n",
      "4\n",
      "5\n",
      "6\n",
      "7\n",
      "8\n",
      "9\n",
      "10\n",
      "11\n",
      "12\n",
      "13\n",
      "14\n",
      "15\n",
      "16\n",
      "17\n",
      "18\n",
      "19\n",
      "20\n",
      "21\n",
      "22\n",
      "23\n",
      "24\n",
      "█▀▀▀▀▀█ ▄▀█▀▄ █▄▀ █▀▀▀▀▀█\n",
      "█ ███ █ ▄▀▄ ▄▄█▀  █ ███ █\n",
      "█ ▀▀▀ █ ▄  ▀ ▄ ▄▀ █ ▀▀▀ █\n",
      "▀▀▀▀▀▀▀ ▀▄▀▄█ ▀▄█ ▀▀▀▀▀▀▀\n",
      "█▀▀█▀ ▀█▀ ▀▄ ▀█▀██ █ ▀ █ \n",
      "▀ █ ▀▄▀▀▀▄▄ ▄ ██▀ ▀██▀ ▀█\n",
      "▄▀▀▀█▀▀█ █ ▄▀▀█ ▄▀▀ ▀ ▀  \n",
      "█ ▀▄▀ ▀ █▄▄ ▀▀▄▀█▄███▀ ▀█\n",
      "▀ ▀▀▀▀▀▀▄ █▄▀▀▀██▀▀▀█▄▀ ▀\n",
      "█▀▀▀▀▀█ ▀ █ ▄ █ █ ▀ █▀  █\n",
      "█ ███ █ █ █▄▀▀█████▀█▄▀ ▀\n",
      "█ ▀▀▀ █ █▀▀ ▀▀ ▄██▄ ▄▄▀ █\n",
      "▀▀▀▀▀▀▀ ▀▀▀ ▀▀▀▀ ▀  ▀ ▀▀▀\n",
      "██████████████    ██████    ██  ██  ██████████████\n",
      "██          ██  ██  ██  ██  ████    ██          ██\n",
      "██  ██████  ██    ██        ████    ██  ██████  ██\n",
      "██  ██████  ██  ██  ██  ██████      ██  ██████  ██\n",
      "██  ██████  ██        ██        ██  ██  ██████  ██\n",
      "██          ██  ██        ██  ██    ██          ██\n",
      "██████████████  ██  ██  ██  ██  ██  ██████████████\n",
      "                  ██  ████    ████                \n",
      "██████████  ██████  ██    ██████████  ██  ██  ██  \n",
      "██    ██      ██      ██    ██  ████  ██      ██  \n",
      "██  ██  ██  ██████          ██████  ████████  ████\n",
      "    ██    ██      ████  ██  ████      ████      ██\n",
      "  ██████████████  ██    ██████    ████  ██  ██    \n",
      "██      ██    ██  ██  ██    ██  ██                \n",
      "██  ██  ██  ██  ██      ████  ████  ████████  ████\n",
      "██    ██        ██████      ██  ██████████      ██\n",
      "██  ████████████    ██  ██████████████████  ██  ██\n",
      "                ██  ████      ████      ████      \n",
      "██████████████  ██  ██      ██  ██  ██  ████    ██\n",
      "██          ██      ██  ██  ██  ██      ██      ██\n",
      "██  ██████  ██  ██  ██  ██████████████████  ██  ██\n",
      "██  ██████  ██  ██  ████    ██████████  ████      \n",
      "██  ██████  ██  ██████  ████    ████        ██  ██\n",
      "██          ██  ██            ████████  ████    ██\n",
      "██████████████  ██████  ████████  ██    ██  ██████\n",
      "\n"
     ]
    }
   ],
   "source": [
    "import qrcode\n",
    "import math\n",
    "#网址二维码模块\n",
    "def qr_code(data):\n",
    "    # 创建一个QRCode对象\n",
    "    qr = qrcode.QRCode(version=1,error_correction=qrcode.constants.ERROR_CORRECT_L, box_size=1, border=0,)\n",
    "    # 设置二维码的数据\n",
    "    qr.add_data(data)\n",
    "    # 创建二维码图像\n",
    "    qr.make(fit=True)\n",
    "    # 创建一个PIL图像对象\n",
    "    img = qr.make_image(fill_color=\"black\", back_color=\"white\")\n",
    "    # 获取图像的宽度和高度\n",
    "    width, height = img.size\n",
    "    height_double = math.ceil(height/2)\n",
    "    # 转换图像为ASCII字符\n",
    "    ascii_art = \"\"\n",
    "    for y in range(height_double):\n",
    "        if (y+1)*2-1 >= height:\n",
    "            for x in range(width):\n",
    "                if img.getpixel((x, (y+1)*2-2)) == 0:\n",
    "                    ascii_art += \"▀\"\n",
    "                else:\n",
    "                    ascii_art += \" \"\n",
    "        else:\n",
    "            for x in range(width):\n",
    "                if img.getpixel((x, (y+1)*2-2)) == 0 and img.getpixel((x, (y+1)*2-1)) == 0:\n",
    "                    ascii_art += \"█\"\n",
    "                elif img.getpixel((x, (y+1)*2-2)) == 0 and img.getpixel((x, (y+1)*2-1)) != 0:\n",
    "                    ascii_art += \"▀\"\n",
    "                elif img.getpixel((x, (y+1)*2-2)) != 0 and img.getpixel((x, (y+1)*2-1)) == 0:\n",
    "                    ascii_art += \"▄\"\n",
    "                else:\n",
    "                    ascii_art += \" \"\n",
    "        ascii_art += \"\\n\"\n",
    "    # 输出ASCII艺术\n",
    "    print(ascii_art)"
   ]
  },
  {
   "cell_type": "code",
   "execution_count": 25,
   "metadata": {},
   "outputs": [
    {
     "name": "stdout",
     "output_type": "stream",
     "text": [
      "█▀▀▀▀▀█ ███ ▀ ▀▀██▄▄▄ ▄▀▄ █▀▀▀▀▀█\n",
      "█ ███ █ █▄▀█ ▄█▀▀▀ ▄▄▀ ██ █ ███ █\n",
      "█ ▀▀▀ █ ▄  ▄▄█  ██▀▄▄█▄▀▄ █ ▀▀▀ █\n",
      "▀▀▀▀▀▀▀ ▀▄▀ █ █ ▀▄█▄▀▄█ █ ▀▀▀▀▀▀▀\n",
      "▀█▄▄▀█▀  ▄▄▀▄█ █ ▀   ▀██▀  █ ▀█▀▀\n",
      "▄█▄ ██▀▀█ ▄█▀ ▀▀▀█  ██▄▀█▀ ▄▀▀ ▀ \n",
      "▀▀▄█ ▀▀ █ ▀ ▀▄ █▄█▄ ██ █▀▄▀▄▀▀▄ ▀\n",
      "█▄▄██▄▀▄▄ ▄ ▄ ██▄▄█ ▄▄▄▀▀ ▀ ▄▄▀▀ \n",
      "██ █▄▀▀██▄▀▀▄▄▄█▄▀▄ ▀▀▀▄▀ ▀▄▀▀  ▀\n",
      "█ ▄█  ▀█▀█ █▀▀ █▄█▀ █▄▀▀ █ ▀ █▀▀ \n",
      "█▀ ▀█▄▀█▀██ ▀▄▄▄▄▀▄▀▀█▀▄ ▄▀ ▀▄ █ \n",
      "  ▀▀ ▀▀▀███ ▄ ██ ▄▀ █▄ ██ ▄ ▄▄▀▀ \n",
      "▀▀    ▀ ▄ ▀▀█ ██▄█▄▀ █▀ █▀▀▀█▄ █▀\n",
      "█▀▀▀▀▀█ ▄█▀█▄▀▀▀ █▀▄ █  █ ▀ █ ▀▄ \n",
      "█ ███ █ ▀▄██▀  █ █▄▀ █ ▄▀▀███▀▄▄█\n",
      "█ ▀▀▀ █ ▄ ███  ▀ ▄█▄█▄ ▀▄█▀ █▀▀▀ \n",
      "\n"
     ]
    }
   ],
   "source": [
    "print(ascii_art)\n"
   ]
  }
 ],
 "metadata": {
  "kernelspec": {
   "display_name": "Python 3",
   "language": "python",
   "name": "python3"
  },
  "language_info": {
   "codemirror_mode": {
    "name": "ipython",
    "version": 3
   },
   "file_extension": ".py",
   "mimetype": "text/x-python",
   "name": "python",
   "nbconvert_exporter": "python",
   "pygments_lexer": "ipython3",
   "version": "3.10.8"
  }
 },
 "nbformat": 4,
 "nbformat_minor": 2
}
