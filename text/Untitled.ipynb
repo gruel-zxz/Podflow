{
 "cells": [
  {
   "cell_type": "code",
   "execution_count": null,
   "metadata": {},
   "outputs": [],
   "source": [
    "import re\n",
    "import sys\n",
    "import yt_dlp\n"
   ]
  },
  {
   "cell_type": "code",
   "execution_count": null,
   "metadata": {},
   "outputs": [],
   "source": [
    "arg1 = sys.argv[1]\n",
    "print(arg1)\n",
    "video_url = arg1\n",
    "output_dir = \"video\"\n",
    "output_format = \"m4a\"\n",
    "video_website = \"https://www.youtube.com/watch?v=\""
   ]
  },
  {
   "cell_type": "code",
   "execution_count": null,
   "metadata": {},
   "outputs": [],
   "source": [
    "video_url = \"4uuy_DEZToo\""
   ]
  },
  {
   "cell_type": "code",
   "execution_count": null,
   "metadata": {},
   "outputs": [],
   "source": [
    "# 格式化时间\n",
    "def time_format(duration):\n",
    "    if duration is None:\n",
    "        duration = 0\n",
    "    duration = int(duration)\n",
    "    hours, remaining_seconds = divmod(duration, 3600)\n",
    "    minutes = remaining_seconds // 60\n",
    "    remaining_seconds = remaining_seconds % 60\n",
    "    if hours > 1:\n",
    "        return '{:02}:{:02}:{:02}'.format(hours, minutes, remaining_seconds)\n",
    "    else:\n",
    "        return '{:02}:{:02}'.format(minutes, remaining_seconds)"
   ]
  },
  {
   "cell_type": "code",
   "execution_count": null,
   "metadata": {},
   "outputs": [],
   "source": [
    "print(time_format(None))"
   ]
  },
  {
   "cell_type": "code",
   "execution_count": null,
   "metadata": {},
   "outputs": [],
   "source": [
    "def write_log(log, suffix=None):\n",
    "    if suffix:\n",
    "        __builtins__.print(f\"|{log}|{suffix}\")\n",
    "    else:\n",
    "        __builtins__.print(f\"|{log}\")"
   ]
  },
  {
   "cell_type": "code",
   "execution_count": null,
   "metadata": {},
   "outputs": [],
   "source": [
    "def convert_bytes(byte_size, units=None):\n",
    "    if units is None:\n",
    "        units = ['B', 'KB', 'MB', 'GB']\n",
    "    if byte_size is None:\n",
    "        byte_size = 0\n",
    "    # 初始单位是字节\n",
    "    unit_index = 0\n",
    "    # 将字节大小除以1024，直到小于1024为止\n",
    "    while byte_size > 1024 and unit_index < len(units) - 1:\n",
    "        byte_size /= 1024.0\n",
    "        unit_index += 1\n",
    "    # 格式化结果并返回\n",
    "    return f\"{byte_size:.2f}{units[unit_index]}\"\n",
    "\n",
    "# 下载显示模块\n",
    "def show_progress(stream):\n",
    "    downloaded_bytes = convert_bytes(stream['downloaded_bytes']).rjust(9)\n",
    "    total_bytes = convert_bytes(stream['total_bytes'])\n",
    "    speed = convert_bytes(stream['speed'], ['b', 'kb', 'mb', 'gb']).rjust(9)\n",
    "    if stream['status'] in [\"downloading\", \"error\"]:\n",
    "        bar = stream['downloaded_bytes'] / stream['total_bytes'] * 100\n",
    "        bar = f\"{bar:.1f}\" if bar == 100 else f\"{bar:.2f}\"\n",
    "        bar = bar.rjust(5)\n",
    "        eta = time_format(stream['eta']).ljust(8)\n",
    "        print((f\"\\r{bar}%|{downloaded_bytes}\\{total_bytes}|{speed}/s|{eta}\"),end=\"\")\n",
    "    if stream['status'] == \"finished\":\n",
    "        elapsed = time_format(stream['elapsed']).ljust(8)\n",
    "        print((f\"\\r100.0%|{downloaded_bytes}\\{total_bytes}|{speed}/s|{elapsed}\"),end=\"\")\n",
    "        print(\"\")"
   ]
  },
  {
   "cell_type": "code",
   "execution_count": null,
   "metadata": {},
   "outputs": [],
   "source": [
    "print(convert_bytes(0))"
   ]
  },
  {
   "cell_type": "code",
   "execution_count": null,
   "metadata": {},
   "outputs": [],
   "source": [
    "def download_video(video_url, output_dir, output_format, video_website, format_code=480, output_dir_name=\"\"):\n",
    "    def print(text):\n",
    "        __builtins__.print(re.sub(r'\\[.+?\\]', '', text))\n",
    "    print (\"[asddf]ssd]\")\n",
    "    print(\"1234567890\")\n",
    "    if output_dir_name:\n",
    "        video_write_log = f\"{output_dir_name}|{video_url}\"\n",
    "    else:\n",
    "        video_write_log = video_url\n",
    "    if output_format == 'm4a':\n",
    "        format_out = \"bestaudio[ext=m4a]/best\"   # 音频编码\n",
    "    else:\n",
    "        format_out = f'bestvideo[ext=mp4][height<={format_code}]+bestaudio[ext=m4a]/best'  # 视频编码\n",
    "    ydl_opts = {\n",
    "        'outtmpl': f'{output_dir}/{video_url}.{output_format}',  # 输出文件路径和名称\n",
    "        'format': f'{format_out}',  # 指定下载的最佳音频和视频格式\n",
    "        \"quiet\": True,\n",
    "        \"noprogress\": True,\n",
    "        \"progress_hooks\": [show_progress]\n",
    "    }\n",
    "    try:\n",
    "        with yt_dlp.YoutubeDL(ydl_opts) as ydl:\n",
    "            ydl.download([f'{video_website}{video_url}'])  # 下载指定视频链接的视频\n",
    "        write_log(f\"{video_write_log}下载成功\")  # 写入下载成功的日志信息\n",
    "    except Exception as e:\n",
    "        write_log((f\"{video_write_log}下载失败, 错误信息：{str(e)}\").replace(\"ERROR: \", \"\").replace(f\"{video_url}: \", \"\"))  # 写入下载失败的日志信息\n",
    "        return video_url"
   ]
  },
  {
   "cell_type": "code",
   "execution_count": null,
   "metadata": {},
   "outputs": [],
   "source": [
    "download_video(video_url, output_dir, output_format, video_website)"
   ]
  },
  {
   "cell_type": "code",
   "execution_count": 1,
   "metadata": {},
   "outputs": [],
   "source": [
    "import os\n",
    "import re\n",
    "\n",
    "try:\n",
    "    # Python3\n",
    "    from http.server import SimpleHTTPRequestHandler\n",
    "\n",
    "except ImportError:\n",
    "    # Python 2\n",
    "    from SimpleHTTPServer import SimpleHTTPRequestHandler\n",
    "\n",
    "\n",
    "def copy_byte_range(infile, outfile, start=None, stop=None, bufsize=16*1024):\n",
    "    \"\"\"Like shutil.copyfileobj, but only copy a range of the streams.\n",
    "\n",
    "    Both start and stop are inclusive.\n",
    "    \"\"\"\n",
    "    if start is not None: infile.seek(start)\n",
    "    while 1:\n",
    "        to_read = min(bufsize, stop + 1 - infile.tell() if stop else bufsize)\n",
    "        buf = infile.read(to_read)\n",
    "        if not buf:\n",
    "            break\n",
    "        outfile.write(buf)\n",
    "\n",
    "\n",
    "BYTE_RANGE_RE = re.compile(r'bytes=(\\d+)-(\\d+)?$')\n",
    "def parse_byte_range(byte_range):\n",
    "    \"\"\"Returns the two numbers in 'bytes=123-456' or throws ValueError.\n",
    "\n",
    "    The last number or both numbers may be None.\n",
    "    \"\"\"\n",
    "    if byte_range.strip() == '':\n",
    "        return None, None\n",
    "\n",
    "    m = BYTE_RANGE_RE.match(byte_range)\n",
    "    if not m:\n",
    "        raise ValueError('Invalid byte range %s' % byte_range)\n",
    "\n",
    "    first, last = [x and int(x) for x in m.groups()]\n",
    "    if last and last < first:\n",
    "        raise ValueError('Invalid byte range %s' % byte_range)\n",
    "    return first, last\n",
    "\n",
    "\n",
    "class RangeRequestHandler(SimpleHTTPRequestHandler):\n",
    "    \"\"\"Adds support for HTTP 'Range' requests to SimpleHTTPRequestHandler\n",
    "\n",
    "    The approach is to:\n",
    "    - Override send_head to look for 'Range' and respond appropriately.\n",
    "    - Override copyfile to only transmit a range when requested.\n",
    "    \"\"\"\n",
    "    def send_head(self):\n",
    "        if 'Range' not in self.headers:\n",
    "            self.range = None\n",
    "            return SimpleHTTPRequestHandler.send_head(self)\n",
    "        try:\n",
    "            self.range = parse_byte_range(self.headers['Range'])\n",
    "        except ValueError as e:\n",
    "            self.send_error(400, 'Invalid byte range')\n",
    "            return None\n",
    "        first, last = self.range\n",
    "\n",
    "        # Mirroring SimpleHTTPServer.py here\n",
    "        path = self.translate_path(self.path)\n",
    "        f = None\n",
    "        ctype = self.guess_type(path)\n",
    "        try:\n",
    "            f = open(path, 'rb')\n",
    "        except IOError:\n",
    "            self.send_error(404, 'File not found')\n",
    "            return None\n",
    "\n",
    "        fs = os.fstat(f.fileno())\n",
    "        file_len = fs[6]\n",
    "        if first >= file_len:\n",
    "            self.send_error(416, 'Requested Range Not Satisfiable')\n",
    "            return None\n",
    "\n",
    "        self.send_response(206)\n",
    "        self.send_header('Content-type', ctype)\n",
    "\n",
    "        if last is None or last >= file_len:\n",
    "            last = file_len - 1\n",
    "        response_length = last - first + 1\n",
    "\n",
    "        self.send_header('Content-Range',\n",
    "                         'bytes %s-%s/%s' % (first, last, file_len))\n",
    "        self.send_header('Content-Length', str(response_length))\n",
    "        self.send_header('Last-Modified', self.date_time_string(fs.st_mtime))\n",
    "        self.end_headers()\n",
    "        return f\n",
    "\n",
    "    def end_headers(self):\n",
    "        self.send_header('Accept-Ranges', 'bytes')\n",
    "        return SimpleHTTPRequestHandler.end_headers(self)\n",
    "\n",
    "    def copyfile(self, source, outputfile):\n",
    "        if not self.range:\n",
    "            return SimpleHTTPRequestHandler.copyfile(self, source, outputfile)\n",
    "\n",
    "        # SimpleHTTPRequestHandler uses shutil.copyfileobj, which doesn't let\n",
    "        # you stop the copying before the end of the file.\n",
    "        start, stop = self.range  # set in send_head()\n",
    "        copy_byte_range(source, outputfile, start, stop)\n",
    "\n",
    "\n",
    "def serve_directory(directory='.', port=8000):\n",
    "    \"\"\"Serves the contents of the specified directory over HTTP,\n",
    "    with support for 'Range:' headers to load portions of files.\n",
    "\n",
    "    Args:\n",
    "        directory (str): The path to the directory to serve (default: '.').\n",
    "        port (int): The port number to serve on (default: 8000).\n",
    "    \"\"\"\n",
    "    os.chdir(directory)\n",
    "    handler = RangeRequestHandler\n",
    "    httpd = SimpleHTTPRequestHandler((\"\", port), handler)\n",
    "    print(\"Serving directory '%s' on port %d.\" % (directory, port))\n",
    "    httpd.serve_forever()\n"
   ]
  },
  {
   "cell_type": "code",
   "execution_count": 4,
   "metadata": {},
   "outputs": [
    {
     "data": {
      "text/plain": [
       "<function __main__.serve_directory(directory='.', port=8000)>"
      ]
     },
     "execution_count": 4,
     "metadata": {},
     "output_type": "execute_result"
    }
   ],
   "source": [
    "serve_directory\n"
   ]
  }
 ],
 "metadata": {
  "kernelspec": {
   "display_name": "Python 3 (ipykernel)",
   "language": "python",
   "name": "python3"
  },
  "language_info": {
   "codemirror_mode": {
    "name": "ipython",
    "version": 3
   },
   "file_extension": ".py",
   "mimetype": "text/x-python",
   "name": "python",
   "nbconvert_exporter": "python",
   "pygments_lexer": "ipython3",
   "version": "3.10.8"
  }
 },
 "nbformat": 4,
 "nbformat_minor": 2
}
