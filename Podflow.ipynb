{
 "cells": [
  {
   "cell_type": "code",
   "execution_count": 19,
   "metadata": {},
   "outputs": [],
   "source": [
    "import os\n",
    "import json\n",
    "import requests\n",
    "import datetime\n",
    "import subprocess\n",
    "\n",
    "#默认参数\n",
    "default_config = {\n",
    "    \"channelid_youtube\": {\n",
    "        \"YouTube\": {\n",
    "            \"update_size\": 1,\n",
    "            \"id\": \"UCBR8-60-B28hp2BmDPdntcQ\",\n",
    "            \"title\": \"YouTube\",\n",
    "            \"quality\": \"720\",\n",
    "            \"last_size\": 1,\n",
    "            \"media\": \"m4a\"\n",
    "        },\n",
    "        \"科学火箭叔\": {\n",
    "            \"update_size\": 15,\n",
    "            \"id\": \"UC8dD8v_uIA7aRzpqaCoIHKg\",\n",
    "            \"title\": \"科学火箭叔\",\n",
    "            \"quality\": \"1080\",\n",
    "            \"last_size\": 20,\n",
    "            \"media\": \"mp4\"\n",
    "        }\n",
    "    }\n",
    "}\n",
    "expected_channelid = {\n",
    "    \"update_size\": 1,\n",
    "    \"id\": \"UCBR8-60-B28hp2BmDPdntcQ\",\n",
    "    \"title\": \"YouTube\",\n",
    "    \"quality\": \"720\",\n",
    "    \"last_size\": 1,\n",
    "    \"media\": \"m4a\"\n",
    "}"
   ]
  },
  {
   "cell_type": "code",
   "execution_count": 20,
   "metadata": {},
   "outputs": [],
   "source": [
    "#日志模块\n",
    "def write_log(log):\n",
    "    # 获取当前的具体时间\n",
    "    current_time = datetime.datetime.now()\n",
    "    # 格式化输出，只保留年月日时分秒\n",
    "    formatted_time = current_time.strftime(\"%Y-%m-%d %H:%M:%S\")\n",
    "    # 打开文件，并读取原有内容\n",
    "    try:\n",
    "        with open(\"log.txt\", \"r\") as file:\n",
    "            contents = file.read()\n",
    "    except FileNotFoundError:\n",
    "        contents = \"\"\n",
    "    # 将新的日志内容添加在原有内容之前\n",
    "    new_contents = formatted_time + \" \" + log + \"\\n\" + contents\n",
    "    # 将新的日志内容写入文件\n",
    "    with open(\"log.txt\", \"w\") as file:\n",
    "        file.write(new_contents)\n",
    "    # 打印当前的具体时间（精确到秒）\n",
    "    print(formatted_time, log)"
   ]
  },
  {
   "cell_type": "code",
   "execution_count": 21,
   "metadata": {},
   "outputs": [],
   "source": [
    "# 安装库模块\n",
    "def library_install(library):\n",
    "    # 检查库是否已安装\n",
    "    def is_library_installed():\n",
    "        try:\n",
    "            result = subprocess.run([library , '--version'], capture_output=True, text=True)\n",
    "            if result.returncode == 0:\n",
    "                return True\n",
    "            else:\n",
    "                return False\n",
    "        except FileNotFoundError:\n",
    "            return False\n",
    "    # 如果库未安装，则尝试安装\n",
    "    def install_library():\n",
    "        try:\n",
    "            result = subprocess.run(['pip', 'install', library], capture_output=True, text=True)\n",
    "            if result.returncode == 0:\n",
    "                return True\n",
    "            else:\n",
    "                return False\n",
    "        except FileNotFoundError:\n",
    "            return False\n",
    "    # 如果库已安装，则尝试更新\n",
    "    def update_library():\n",
    "        try:\n",
    "            result = subprocess.run(['pip', 'install', '--upgrade', library], capture_output=True, text=True)\n",
    "            if result.returncode == 0:\n",
    "                return True\n",
    "            else:\n",
    "                return False\n",
    "        except FileNotFoundError:\n",
    "            return False\n",
    "    # 检查库是否已安装\n",
    "    if is_library_installed():\n",
    "        write_log(library + \"已安装\")\n",
    "    else:\n",
    "        write_log(library + \"未安装\")\n",
    "    # 如果库已安装，则尝试更新\n",
    "    if is_library_installed():\n",
    "        if update_library():\n",
    "            write_log(library + \"更新成功\")\n",
    "        else:\n",
    "            write_log(library + \"更新失败\")\n",
    "    else:  # 如果库未安装，则尝试安装\n",
    "        if install_library():\n",
    "            write_log(library + \"安装成功\")\n",
    "        else:\n",
    "            write_log(library + \"安装失败\")"
   ]
  },
  {
   "cell_type": "code",
   "execution_count": 22,
   "metadata": {},
   "outputs": [
    {
     "name": "stdout",
     "output_type": "stream",
     "text": [
      "2023-08-04 08:09:15 yt-dlp已安装\n",
      "2023-08-04 08:09:17 yt-dlp更新成功\n"
     ]
    }
   ],
   "source": [
    "# 安装/更新yt-dlp\n",
    "library_install(\"yt-dlp\")\n",
    "import yt_dlp"
   ]
  },
  {
   "cell_type": "code",
   "execution_count": 23,
   "metadata": {},
   "outputs": [
    {
     "name": "stdout",
     "output_type": "stream",
     "text": [
      "2023-08-04 08:09:17 不存在配置文件，已新建，默认频道\n"
     ]
    }
   ],
   "source": [
    "# 检查当前文件夹中是否存在config.json文件\n",
    "if not os.path.exists('config.json'):\n",
    "    # 如果文件不存在，创建并写入默认字典\n",
    "    with open('config.json', 'w') as file:\n",
    "        json.dump(default_config, file, indent=4)\n",
    "    write_log(\"不存在配置文件，已新建，默认频道\")\n",
    "    config = default_config\n",
    "else:\n",
    "    # 如果文件存在，读取字典并保存到config变量中\n",
    "    with open('config.json', 'r') as file:\n",
    "        config = json.load(file)\n",
    "    write_log(\"已读取配置文件\")"
   ]
  },
  {
   "cell_type": "code",
   "execution_count": 24,
   "metadata": {},
   "outputs": [
    {
     "name": "stdout",
     "output_type": "stream",
     "text": [
      "2023-08-04 08:09:17 已读取youtube频道信息\n",
      "2023-08-04 08:09:17 bilibili频道信息不存在\n"
     ]
    }
   ],
   "source": [
    "# 从配置文件中获取YouTube的频道\n",
    "channelid_youtube = config.get(\"channelid_youtube\")\n",
    "if channelid_youtube is not None:\n",
    "    write_log(\"已读取youtube频道信息\")\n",
    "else:\n",
    "    write_log(\"youtube频道信息不存在\")\n",
    "# 从配置文件中获取bilibili的频道\n",
    "channelid_bilibili = config.get(\"channelid_bilibili\")\n",
    "if channelid_bilibili is not None:\n",
    "    write_log(\"已读取bilibili频道信息\")\n",
    "else:\n",
    "    write_log(\"bilibili频道信息不存在\")"
   ]
  },
  {
   "cell_type": "code",
   "execution_count": 25,
   "metadata": {},
   "outputs": [
    {
     "name": "stdout",
     "output_type": "stream",
     "text": [
      "2023-08-04 08:09:17 文件夹channel_id已存在\n"
     ]
    }
   ],
   "source": [
    "# 构建文件夹channel_id\n",
    "folder_path = os.path.join(os.getcwd(), \"channel_id\")\n",
    "if not os.path.exists(folder_path):  # 判断文件夹是否存在\n",
    "    os.makedirs(folder_path)  # 创建文件夹\n",
    "    write_log(f\"文件夹channel_id创建成功\")\n",
    "else:\n",
    "    write_log(f\"文件夹channel_id已存在\")"
   ]
  },
  {
   "cell_type": "code",
   "execution_count": 26,
   "metadata": {},
   "outputs": [
    {
     "name": "stdout",
     "output_type": "stream",
     "text": [
      "['UCBR8-60-B28hp2BmDPdntcQ', 'UC8dD8v_uIA7aRzpqaCoIHKg']\n"
     ]
    }
   ],
   "source": [
    "# 读取youtube频道的id\n",
    "if channelid_youtube is not None:\n",
    "    channelid_youtube_id = [channelid_youtube[key]['id'] for key in channelid_youtube]\n",
    "    print (channelid_youtube_id)\n",
    "# 读取bilibili频道的id\n",
    "if channelid_bilibili is not None:\n",
    "    channelid_bilibili_id = [channelid_bilibili[key]['id'] for key in channelid_bilibili]\n",
    "    print (channelid_bilibili_id)"
   ]
  },
  {
   "cell_type": "code",
   "execution_count": 27,
   "metadata": {},
   "outputs": [
    {
     "name": "stdout",
     "output_type": "stream",
     "text": [
      "2023-08-04 08:09:17 UCBR8-60-B28hp2BmDPdntcQ已更新\n"
     ]
    }
   ],
   "source": [
    "url = \"https://www.youtube.com/feeds/videos.xml?channel_id=UCBR8-60-B28hp2BmDPdntcQ\"\n",
    "response = requests.get(url)  # 发送GET请求获取网页内容\n",
    "content = response.text  # 获取响应文本内容\n",
    "\n",
    "file_path = os.path.join(folder_path, \"UCBR8-60-B28hp2BmDPdntcQ.txt\")  # 构建文件路径\n",
    "\n",
    "with open(file_path, \"w\", encoding=\"utf-8\") as file:\n",
    "    file.write(content)\n",
    "\n",
    "write_log(\"UCBR8-60-B28hp2BmDPdntcQ已更新\")"
   ]
  }
 ],
 "metadata": {
  "kernelspec": {
   "display_name": "Python 3 (ipykernel)",
   "language": "python",
   "name": "python3"
  },
  "language_info": {
   "codemirror_mode": {
    "name": "ipython",
    "version": 3
   },
   "file_extension": ".py",
   "mimetype": "text/x-python",
   "name": "python",
   "nbconvert_exporter": "python",
   "pygments_lexer": "ipython3",
   "version": "3.10.8"
  }
 },
 "nbformat": 4,
 "nbformat_minor": 2
}
