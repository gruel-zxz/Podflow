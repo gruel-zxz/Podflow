{
 "cells": [
  {
   "cell_type": "code",
   "execution_count": null,
   "metadata": {},
   "outputs": [],
   "source": [
    "import os\n",
    "import json\n",
    "\n",
    "default_config = {\"channelid\": {\"YouTube\": {\"update_size\": 1, \"id\": \"UCBR8-60-B28hp2BmDPdntcQ\", \"title\": \"YouTube\", \"quality\": \"720\", \"last_size\": 1, \"media\": \"m4a\"}}}\n",
    "expected_channelid = {\"update_size\": 1, \"id\": \"UCBR8-60-B28hp2BmDPdntcQ\", \"title\": \"YouTube\", \"quality\": \"720\", \"last_size\": 1, \"media\": \"m4a\"}\n",
    "\n",
    "# 检查当前文件夹中是否存在config.json文件\n",
    "if not os.path.exists('config.json'):\n",
    "    # 如果文件不存在，创建并写入默认字典\n",
    "    with open('config.json', 'w') as file:\n",
    "        json.dump(default_config, file)\n",
    "    print(\"不存在配置文件，已新建，添加频道\")\n",
    "else:\n",
    "    # 如果文件存在，读取字典并保存到config变量中\n",
    "    with open('config.json', 'r') as file:\n",
    "        config = json.load(file)\n",
    "    print(config)"
   ]
  },
  {
   "cell_type": "code",
   "execution_count": null,
   "metadata": {},
   "outputs": [],
   "source": [
    "channelid = config['channelid']\n",
    "print(channelid)"
   ]
  }
 ],
 "metadata": {
  "kernelspec": {
   "display_name": "Python 3 (ipykernel)",
   "language": "python",
   "name": "python3"
  }
 },
 "nbformat": 4,
 "nbformat_minor": 2
}
