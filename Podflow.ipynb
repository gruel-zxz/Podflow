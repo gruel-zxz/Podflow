{
 "cells": [
  {
   "cell_type": "code",
   "execution_count": 1,
   "metadata": {},
   "outputs": [],
   "source": [
    "import os\n",
    "import re\n",
    "import sys\n",
    "import json\n",
    "import requests\n",
    "import datetime\n",
    "import subprocess\n",
    "import xml.etree.ElementTree as ET\n",
    "\n",
    "#默认参数\n",
    "default_config = {\n",
    "    \"channelid_youtube\": {\n",
    "        \"YouTube\": {\n",
    "            \"update_size\": 1,\n",
    "            \"id\": \"UCBR8-60-B28hp2BmDPdntcQ\",\n",
    "            \"title\": \"YouTube\",\n",
    "            \"quality\": \"720\",\n",
    "            \"last_size\": 1,\n",
    "            \"media\": \"m4a\"\n",
    "        }\n",
    "    }\n",
    "}"
   ]
  },
  {
   "cell_type": "code",
   "execution_count": 2,
   "metadata": {},
   "outputs": [],
   "source": [
    "#日志模块\n",
    "def write_log(log):\n",
    "    # 获取当前的具体时间\n",
    "    current_time = datetime.datetime.now()\n",
    "    # 格式化输出，只保留年月日时分秒\n",
    "    formatted_time = current_time.strftime(\"%Y-%m-%d %H:%M:%S\")\n",
    "    # 打开文件，并读取原有内容\n",
    "    try:\n",
    "        with open(\"log.txt\", \"r\") as file:\n",
    "            contents = file.read()\n",
    "    except FileNotFoundError:\n",
    "        contents = \"\"\n",
    "    # 将新的日志内容添加在原有内容之前\n",
    "    new_contents = formatted_time + \" \" + log + \"\\n\" + contents\n",
    "    # 将新的日志内容写入文件\n",
    "    with open(\"log.txt\", \"w\") as file:\n",
    "        file.write(new_contents)\n",
    "    # 打印当前的具体时间（精确到秒）\n",
    "    print(formatted_time, log)"
   ]
  },
  {
   "cell_type": "code",
   "execution_count": 3,
   "metadata": {},
   "outputs": [],
   "source": [
    "# 安装库模块\n",
    "def library_install(library):\n",
    "    # 检查库是否已安装\n",
    "    def is_library_installed():\n",
    "        try:\n",
    "            result = subprocess.run([library , '--version'], capture_output=True, text=True)\n",
    "            if result.returncode == 0:\n",
    "                return True\n",
    "            else:\n",
    "                return False\n",
    "        except FileNotFoundError:\n",
    "            return False\n",
    "    # 如果库未安装，则尝试安装\n",
    "    def install_library():\n",
    "        try:\n",
    "            result = subprocess.run(['pip', 'install', library], capture_output=True, text=True)\n",
    "            if result.returncode == 0:\n",
    "                return True\n",
    "            else:\n",
    "                return False\n",
    "        except FileNotFoundError:\n",
    "            return False\n",
    "    # 如果库已安装，则尝试更新\n",
    "    def update_library():\n",
    "        try:\n",
    "            result = subprocess.run(['pip', 'install', '--upgrade', library], capture_output=True, text=True)\n",
    "            if result.returncode == 0:\n",
    "                return True\n",
    "            else:\n",
    "                return False\n",
    "        except FileNotFoundError:\n",
    "            return False\n",
    "    # 检查库是否已安装\n",
    "    if is_library_installed():\n",
    "        write_log(library + \"已安装\")\n",
    "    else:\n",
    "        write_log(library + \"未安装\")\n",
    "    # 如果库已安装，则尝试更新\n",
    "    if is_library_installed():\n",
    "        if update_library():\n",
    "            write_log(library + \"更新成功\")\n",
    "        else:\n",
    "            write_log(library + \"更新失败\")\n",
    "    else:  # 如果库未安装，则尝试安装\n",
    "        if install_library():\n",
    "            write_log(library + \"安装成功\")\n",
    "        else:\n",
    "            write_log(library + \"安装失败\")"
   ]
  },
  {
   "cell_type": "code",
   "execution_count": 4,
   "metadata": {},
   "outputs": [
    {
     "name": "stdout",
     "output_type": "stream",
     "text": [
      "2023-08-10 00:41:08 yt-dlp已安装\n",
      "2023-08-10 00:41:10 yt-dlp更新成功\n",
      "2023-08-10 00:41:10 pytube已安装\n",
      "2023-08-10 00:41:12 pytube更新成功\n"
     ]
    }
   ],
   "source": [
    "# 安装/更新yt-dlp\n",
    "library_install(\"yt-dlp\")\n",
    "# 安装/更新pytube\n",
    "library_install(\"pytube\")"
   ]
  },
  {
   "cell_type": "code",
   "execution_count": 5,
   "metadata": {},
   "outputs": [
    {
     "name": "stdout",
     "output_type": "stream",
     "text": [
      "2023-08-10 00:41:12 已读取配置文件\n"
     ]
    }
   ],
   "source": [
    "# 检查当前文件夹中是否存在config.json文件\n",
    "if not os.path.exists('config.json'):\n",
    "    # 如果文件不存在，创建并写入默认字典\n",
    "    with open('config.json', 'w') as file:\n",
    "        json.dump(default_config, file, indent=4)\n",
    "    write_log(\"不存在配置文件，已新建，默认频道\")\n",
    "    config = default_config\n",
    "else:\n",
    "    # 如果文件存在，读取字典并保存到config变量中\n",
    "    with open('config.json', 'r') as file:\n",
    "        config = json.load(file)\n",
    "    write_log(\"已读取配置文件\")"
   ]
  },
  {
   "cell_type": "code",
   "execution_count": 6,
   "metadata": {},
   "outputs": [
    {
     "name": "stdout",
     "output_type": "stream",
     "text": [
      "2023-08-10 00:41:12 已读取youtube频道信息\n",
      "2023-08-10 00:41:12 bilibili频道信息不存在\n"
     ]
    }
   ],
   "source": [
    "# 从配置文件中获取YouTube的频道\n",
    "channelid_youtube = config.get(\"channelid_youtube\")\n",
    "if channelid_youtube is not None:\n",
    "    write_log(\"已读取youtube频道信息\")\n",
    "else:\n",
    "    write_log(\"youtube频道信息不存在\")\n",
    "# 从配置文件中获取bilibili的频道\n",
    "channelid_bilibili = config.get(\"channelid_bilibili\")\n",
    "if channelid_bilibili is not None:\n",
    "    write_log(\"已读取bilibili频道信息\")\n",
    "else:\n",
    "    write_log(\"bilibili频道信息不存在\")"
   ]
  },
  {
   "cell_type": "code",
   "execution_count": 7,
   "metadata": {},
   "outputs": [],
   "source": [
    "# 构建文件夹channel_id\n",
    "folder_path_channel_ids = os.path.join(os.getcwd(), \"channel_id\")\n",
    "if not os.path.exists(folder_path_channel_ids):  # 判断文件夹是否存在\n",
    "    os.makedirs(folder_path_channel_ids)  # 创建文件夹\n",
    "    write_log(\"文件夹channel_id创建成功\")"
   ]
  },
  {
   "cell_type": "code",
   "execution_count": 8,
   "metadata": {},
   "outputs": [
    {
     "name": "stdout",
     "output_type": "stream",
     "text": [
      "2023-08-10 00:41:12 读取youtube频道的id成功\n"
     ]
    }
   ],
   "source": [
    "# 读取youtube频道的id\n",
    "if channelid_youtube is not None:\n",
    "    channelid_youtube_ids = dict({channel[\"id\"]: channel[\"title\"] for channel in channelid_youtube.values()})\n",
    "    write_log(\"读取youtube频道的id成功\")\n",
    "else:\n",
    "    channelid_youtube_ids = None\n",
    "# 读取bilibili频道的id\n",
    "if channelid_bilibili is not None:\n",
    "    channelid_bilibili_ids = [channelid_bilibili[key]['id'] for key in channelid_bilibili]\n",
    "    write_log(\"读取bilibili频道的id成功\")\n",
    "else:\n",
    "    channelid_bilibili_ids = None"
   ]
  },
  {
   "cell_type": "code",
   "execution_count": 15,
   "metadata": {},
   "outputs": [
    {
     "name": "stdout",
     "output_type": "stream",
     "text": [
      "2023-08-10 00:45:46 YouTube频道 YouTube 已更新\n",
      "2023-08-10 00:45:46 YouTube频道 科学火箭叔 已更新\n",
      "2023-08-10 00:45:47 YouTube频道 stone pistol 已更新\n",
      "2023-08-10 00:45:47 YouTube频道 奇异博士说 已更新\n",
      "2023-08-10 00:45:47 YouTube频道 科技美学 已更新\n",
      "2023-08-10 00:45:47 YouTube频道 stone记 已更新\n",
      "2023-08-10 00:45:47 YouTube频道 Linvo說宇宙 已更新\n",
      "2023-08-10 00:45:47 YouTube频道 四季妈妈—小龙 已更新\n",
      "2023-08-10 00:45:48 YouTube频道 Discovery With Andy 已更新\n",
      "2023-08-10 00:45:48 YouTube频道 冲浪普拉斯 已更新\n",
      "2023-08-10 00:45:48 YouTube频道 老高與小茉 Mr & Mrs Gao 已更新\n",
      "2023-08-10 00:45:48 YouTube频道 脑洞乌托邦 已更新\n",
      "2023-08-10 00:45:48 YouTube频道 啾啾鞋 已更新\n",
      "2023-08-10 00:45:49 YouTube频道 幻海航行--science fiction 已更新\n",
      "2023-08-10 00:45:49 YouTube频道 红酒汤姆一世 已更新\n",
      "2023-08-10 00:45:49 YouTube频道 X調查 已更新\n",
      "2023-08-10 00:45:49 YouTube频道 海伦子Hellen 已更新\n",
      "2023-08-10 00:45:49 YouTube频道 你可敢信 已更新\n",
      "2023-08-10 00:45:50 YouTube频道 曉涵哥來了 已更新\n",
      "2023-08-10 00:45:50 YouTube频道 自说自话的总裁 已更新\n",
      "2023-08-10 00:45:50 YouTube频道 林亦LYi 已更新\n",
      "2023-08-10 00:45:51 YouTube频道 小乌副频道 已更新\n"
     ]
    }
   ],
   "source": [
    "# 更新Youtube频道xml\n",
    "channelid_youtube_ids_update = {}  #创建需更新的变量\n",
    "for key, value in channelid_youtube_ids.items():\n",
    "    # 构建 URL\n",
    "    url = f\"https://www.youtube.com/feeds/videos.xml?channel_id={key}\"\n",
    "    # 发送请求并获取响应内容\n",
    "    response = requests.get(url)\n",
    "    content = response.text\n",
    "    # 判断频道id是否正确\n",
    "    pattern_youtube404 = r\"Error 404\"  # 设置要匹配的正则表达式模式\n",
    "    pattern_youtube_vary = r'([0-9]{4}-[0-9]{2}-[0-9]{2}T[0-2][0-9]:[0-6][0-9]:[0-6][0-9]\\+00:00)?(starRating count=\"[0-9]*\")?(statistics views=\"[0-9]*\")?(<id>yt:channel:(UC.{22})?</id>)?(<yt:channelId>(UC.{22})?</yt:channelId>)?'\n",
    "    if not re.search(pattern_youtube404, content):\n",
    "        content = re.sub(pattern_youtube_vary, '', content)\n",
    "        # 读取原Youtube频道xml文件并判断是否要更新\n",
    "        try:\n",
    "            with open(f\"channel_id/{key}.txt\", 'r', encoding='utf-8') as file:  # 打开文件进行读取\n",
    "                content_original = file.read()  # 读取文件内容\n",
    "            if content != content_original:  #判断是否要更新\n",
    "                channelid_youtube_ids_update[key] = value\n",
    "        except FileNotFoundError:  #文件不存在直接更新\n",
    "            channelid_youtube_ids_update[key] = value\n",
    "        # 构建文件路径\n",
    "        file_path = os.path.join(folder_path_channel_ids, f\"{key}.txt\")\n",
    "        # 构建文件路径\n",
    "        with open(file_path, \"w\", encoding=\"utf-8\") as file:\n",
    "            file.write(content)\n",
    "            write_log(f\"YouTube频道 {value} 已更新\")\n",
    "        # 构建频道文件夹\n",
    "        folder_path_channel_id = os.path.join(os.getcwd(), key)\n",
    "        if not os.path.exists(folder_path_channel_id):  # 判断文件夹是否存在\n",
    "            os.makedirs(folder_path_channel_id)  # 创建文件夹\n",
    "            write_log(f\"文件夹{key}创建成功\")\n",
    "    else:\n",
    "        write_log(f\"YouTube频道 {value} ID不正确无法获取\")\n",
    "        del channelid_youtube_ids[key]  # 删除错误ID"
   ]
  },
  {
   "cell_type": "code",
   "execution_count": null,
   "metadata": {},
   "outputs": [],
   "source": []
  },
  {
   "cell_type": "code",
   "execution_count": 16,
   "metadata": {},
   "outputs": [
    {
     "name": "stdout",
     "output_type": "stream",
     "text": [
      "需更新的YouTube频道:\n"
     ]
    }
   ],
   "source": [
    "print(f\"需更新的YouTube频道:{', '.join(channelid_youtube_ids_update.values())}\")"
   ]
  },
  {
   "cell_type": "code",
   "execution_count": 11,
   "metadata": {},
   "outputs": [],
   "source": [
    "def read_text_file(file_path):\n",
    "    try:\n",
    "        with open(file_path, 'r', encoding='utf-8') as file:\n",
    "            content = file.read()\n",
    "        return content\n",
    "    except FileNotFoundError:\n",
    "        print(f\"File '{file_path}' not found.\")\n",
    "        return None\n",
    "\n",
    "# 调用read_text_file函数来读取文件内容\n",
    "file_path = 'channel_id/UCghLs6s95LrBWOdlZUCH4qw.txt'\n",
    "text_content = read_text_file(file_path)\n",
    "\n",
    "if text_content:\n",
    "    print(text_content)"
   ]
  },
  {
   "cell_type": "code",
   "execution_count": 12,
   "metadata": {},
   "outputs": [
    {
     "ename": "TypeError",
     "evalue": "a bytes-like object is required, not '_io.TextIOWrapper'",
     "output_type": "error",
     "traceback": [
      "\u001b[0;31m---------------------------------------------------------------------------\u001b[0m",
      "\u001b[0;31mTypeError\u001b[0m                                 Traceback (most recent call last)",
      "Cell \u001b[0;32mIn[12], line 15\u001b[0m\n\u001b[1;32m     11\u001b[0m         \u001b[39mdel\u001b[39;00m channelid_youtube_ids[channelid_youtube_id]\n\u001b[1;32m     12\u001b[0m         write_log(\u001b[39mf\u001b[39m\u001b[39m\"\u001b[39m\u001b[39mYouTube频道 \u001b[39m\u001b[39m{\u001b[39;00mchannelid_youtube_name\u001b[39m}\u001b[39;00m\u001b[39m XML文件不存在\u001b[39m\u001b[39m\"\u001b[39m)\n\u001b[0;32m---> 15\u001b[0m youtube_element(\u001b[39m\"\u001b[39;49m\u001b[39mUCghLs6s95LrBWOdlZUCH4qw\u001b[39;49m\u001b[39m\"\u001b[39;49m,\u001b[39m\"\u001b[39;49m\u001b[39mstone记\u001b[39;49m\u001b[39m\"\u001b[39;49m)\n",
      "Cell \u001b[0;32mIn[12], line 5\u001b[0m, in \u001b[0;36myoutube_element\u001b[0;34m(channelid_youtube_id, channelid_youtube_name)\u001b[0m\n\u001b[1;32m      2\u001b[0m \u001b[39mif\u001b[39;00m os\u001b[39m.\u001b[39mpath\u001b[39m.\u001b[39mexists(\u001b[39mf\u001b[39m\u001b[39m\"\u001b[39m\u001b[39mchannel_id/\u001b[39m\u001b[39m{\u001b[39;00mchannelid_youtube_id\u001b[39m}\u001b[39;00m\u001b[39m.txt\u001b[39m\u001b[39m\"\u001b[39m):\n\u001b[1;32m      3\u001b[0m     \u001b[39m# 如果文件存在，读取字典并保存到channelid_youtube_xml变量中\u001b[39;00m\n\u001b[1;32m      4\u001b[0m     \u001b[39mwith\u001b[39;00m \u001b[39mopen\u001b[39m(\u001b[39mf\u001b[39m\u001b[39m\"\u001b[39m\u001b[39mchannel_id/\u001b[39m\u001b[39m{\u001b[39;00mchannelid_youtube_id\u001b[39m}\u001b[39;00m\u001b[39m.txt\u001b[39m\u001b[39m\"\u001b[39m, \u001b[39m'\u001b[39m\u001b[39mr\u001b[39m\u001b[39m'\u001b[39m) \u001b[39mas\u001b[39;00m file:\n\u001b[0;32m----> 5\u001b[0m         channelid_youtube_root \u001b[39m=\u001b[39m ET\u001b[39m.\u001b[39;49mfromstring(file)\n\u001b[1;32m      6\u001b[0m         \u001b[39mfor\u001b[39;00m entry \u001b[39min\u001b[39;00m channelid_youtube_root\u001b[39m.\u001b[39mfindall(\u001b[39m'\u001b[39m\u001b[39m.//\u001b[39m\u001b[39m{\u001b[39m\u001b[39mhttp://www.w3.org/2005/Atom}entry\u001b[39m\u001b[39m'\u001b[39m):\n\u001b[1;32m      7\u001b[0m             channelid_youtube_title \u001b[39m=\u001b[39m entry\u001b[39m.\u001b[39mfind(\u001b[39m'\u001b[39m\u001b[39m{\u001b[39m\u001b[39mhttp://search.yahoo.com/mrss/}group/\u001b[39m\u001b[39m{\u001b[39m\u001b[39mhttp://search.yahoo.com/mrss/}title\u001b[39m\u001b[39m'\u001b[39m)\u001b[39m.\u001b[39mtext\n",
      "File \u001b[0;32m~/.python/current/lib/python3.10/xml/etree/ElementTree.py:1342\u001b[0m, in \u001b[0;36mXML\u001b[0;34m(text, parser)\u001b[0m\n\u001b[1;32m   1340\u001b[0m \u001b[39mif\u001b[39;00m \u001b[39mnot\u001b[39;00m parser:\n\u001b[1;32m   1341\u001b[0m     parser \u001b[39m=\u001b[39m XMLParser(target\u001b[39m=\u001b[39mTreeBuilder())\n\u001b[0;32m-> 1342\u001b[0m parser\u001b[39m.\u001b[39;49mfeed(text)\n\u001b[1;32m   1343\u001b[0m \u001b[39mreturn\u001b[39;00m parser\u001b[39m.\u001b[39mclose()\n",
      "\u001b[0;31mTypeError\u001b[0m: a bytes-like object is required, not '_io.TextIOWrapper'"
     ]
    }
   ],
   "source": [
    "def youtube_element(channelid_youtube_id , channelid_youtube_name):\n",
    "    if os.path.exists(f\"channel_id/{channelid_youtube_id}.txt\"):\n",
    "        # 如果文件存在，读取字典并保存到channelid_youtube_xml变量中\n",
    "        with open(f\"channel_id/{channelid_youtube_id}.txt\", 'r') as file:\n",
    "            channelid_youtube_root = ET.fromstring(file)\n",
    "            for entry in channelid_youtube_root.findall('.//{http://www.w3.org/2005/Atom}entry'):\n",
    "                channelid_youtube_title = entry.find('{http://search.yahoo.com/mrss/}group/{http://search.yahoo.com/mrss/}title').text\n",
    "                print(f\"标题：{channelid_youtube_title}\")\n",
    "    else:\n",
    "        # 如果文件不存在，删除错误ID\n",
    "        del channelid_youtube_ids[channelid_youtube_id]\n",
    "        write_log(f\"YouTube频道 {channelid_youtube_name} XML文件不存在\")\n",
    "\n",
    "\n",
    "youtube_element(\"UCghLs6s95LrBWOdlZUCH4qw\",\"stone记\")\n"
   ]
  }
 ],
 "metadata": {
  "kernelspec": {
   "display_name": "Python 3 (ipykernel)",
   "language": "python",
   "name": "python3"
  },
  "language_info": {
   "codemirror_mode": {
    "name": "ipython",
    "version": 3
   },
   "file_extension": ".py",
   "mimetype": "text/x-python",
   "name": "python",
   "nbconvert_exporter": "python",
   "pygments_lexer": "ipython3",
   "version": "3.10.8"
  }
 },
 "nbformat": 4,
 "nbformat_minor": 2
}
