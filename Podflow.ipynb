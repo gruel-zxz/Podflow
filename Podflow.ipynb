{
 "cells": [
  {
   "cell_type": "code",
   "execution_count": 3,
   "metadata": {},
   "outputs": [],
   "source": [
    "import os\n",
    "import re\n",
    "import sys\n",
    "import json\n",
    "import requests\n",
    "import datetime\n",
    "import subprocess\n",
    "import xml.etree.ElementTree as ET\n",
    "\n",
    "#默认参数\n",
    "default_config = {\n",
    "    \"channelid_youtube\": {\n",
    "        \"youtube\": {\n",
    "            \"update_size\": 5,\n",
    "            \"id\": \"UCBR8-60-B28hp2BmDPdntcQ\",\n",
    "            \"title\": \"YouTube\",\n",
    "            \"quality\": \"480\",\n",
    "            \"last_size\": 20,\n",
    "            \"media\": \"m4a\"\n",
    "        }\n",
    "    }\n",
    "}"
   ]
  },
  {
   "cell_type": "code",
   "execution_count": 4,
   "metadata": {},
   "outputs": [],
   "source": [
    "#日志模块\n",
    "def write_log(log):\n",
    "    # 获取当前的具体时间\n",
    "    current_time = datetime.datetime.now()\n",
    "    # 格式化输出，只保留年月日时分秒\n",
    "    formatted_time = current_time.strftime(\"%Y-%m-%d %H:%M:%S\")\n",
    "    # 打开文件，并读取原有内容\n",
    "    try:\n",
    "        with open(\"log.txt\", \"r\") as file:\n",
    "            contents = file.read()\n",
    "    except FileNotFoundError:\n",
    "        contents = \"\"\n",
    "    # 将新的日志内容添加在原有内容之前\n",
    "    new_contents = f\"{formatted_time} {log}\\n{contents}\"\n",
    "    # 将新的日志内容写入文件\n",
    "    with open(\"log.txt\", \"w\") as file:\n",
    "        file.write(new_contents)\n",
    "    # 打印当前的具体时间（精确到秒）\n",
    "    print(formatted_time, log)"
   ]
  },
  {
   "cell_type": "code",
   "execution_count": 5,
   "metadata": {},
   "outputs": [],
   "source": [
    "# 安装库模块\n",
    "def library_install(library):\n",
    "    # 检查库是否已安装\n",
    "    def is_library_installed():\n",
    "        try:\n",
    "            result = subprocess.run([library , '--version'], capture_output=True, text=True)\n",
    "            if result.returncode == 0:\n",
    "                return True\n",
    "            else:\n",
    "                return False\n",
    "        except FileNotFoundError:\n",
    "            return False\n",
    "    # 如果库未安装，则尝试安装\n",
    "    def install_library():\n",
    "        try:\n",
    "            result = subprocess.run(['pip', 'install', library , '-U'], capture_output=True, text=True)\n",
    "            if result.returncode == 0:\n",
    "                return True\n",
    "            else:\n",
    "                return False\n",
    "        except FileNotFoundError:\n",
    "            return False\n",
    "    # 如果库已安装，则尝试更新\n",
    "    def update_library():\n",
    "        try:\n",
    "            result = subprocess.run(['pip', 'install', '--upgrade', library], capture_output=True, text=True)\n",
    "            if result.returncode == 0:\n",
    "                return True\n",
    "            else:\n",
    "                return False\n",
    "        except FileNotFoundError:\n",
    "            return False\n",
    "    # 检查库是否已安装\n",
    "    if is_library_installed():\n",
    "        write_log(library + \"已安装\")\n",
    "    else:\n",
    "        write_log(library + \"未安装\")\n",
    "    # 如果库已安装，则尝试更新\n",
    "    if is_library_installed():\n",
    "        if update_library():\n",
    "            write_log(library + \"更新成功\")\n",
    "        else:\n",
    "            write_log(library + \"更新失败\")\n",
    "    else:  # 如果库未安装，则尝试安装\n",
    "        if install_library():\n",
    "            write_log(library + \"安装成功\")\n",
    "        else:\n",
    "            write_log(library + \"安装失败\")"
   ]
  },
  {
   "cell_type": "code",
   "execution_count": 6,
   "metadata": {},
   "outputs": [
    {
     "name": "stdout",
     "output_type": "stream",
     "text": [
      "2023-08-16 13:18:45 yt-dlp已安装\n",
      "2023-08-16 13:18:49 yt-dlp更新成功\n",
      "2023-08-16 13:18:49 pytube已安装\n",
      "2023-08-16 13:18:51 pytube更新成功\n"
     ]
    }
   ],
   "source": [
    "# 安装/更新yt-dlp\n",
    "library_install(\"yt-dlp\")\n",
    "# 安装/更新pytube\n",
    "library_install(\"pytube\")"
   ]
  },
  {
   "cell_type": "code",
   "execution_count": 7,
   "metadata": {},
   "outputs": [],
   "source": [
    "import yt_dlp\n",
    "\n",
    "# 下载视频模块\n",
    "def download_video(video_url, output_dir, output_format, format_code = 480):\n",
    "    if output_format == 'm4a':\n",
    "        bestvideo = \"\"\n",
    "    else:\n",
    "        bestvideo = f'bestvideo[ext=mp4][height<={format_code}]/best+'\n",
    "    ydl_opts = {\n",
    "        'outtmpl': f'{output_dir}/{video_url}.{output_format}',\n",
    "        'format': f'{bestvideo}bestaudio[ext=m4a]/best'\n",
    "    }\n",
    "    with yt_dlp.YoutubeDL(ydl_opts) as ydl:\n",
    "        ydl.download(f'https://www.youtube.com/watch?v={video_url}')\n",
    "    write_log(f\"{video_url}下载成功\")"
   ]
  },
  {
   "cell_type": "code",
   "execution_count": 8,
   "metadata": {},
   "outputs": [
    {
     "name": "stdout",
     "output_type": "stream",
     "text": [
      "2023-08-16 13:18:51 已读取配置文件\n"
     ]
    }
   ],
   "source": [
    "# 检查当前文件夹中是否存在config.json文件\n",
    "if not os.path.exists('config.json'):\n",
    "    # 如果文件不存在，创建并写入默认字典\n",
    "    with open('config.json', 'w') as file:\n",
    "        json.dump(default_config, file, indent=4)\n",
    "    write_log(\"不存在配置文件，已新建，默认频道\")\n",
    "    config = default_config\n",
    "else:\n",
    "    # 如果文件存在，读取字典并保存到config变量中\n",
    "    with open('config.json', 'r') as file:\n",
    "        config = json.load(file)\n",
    "    write_log(\"已读取配置文件\")"
   ]
  },
  {
   "cell_type": "code",
   "execution_count": 9,
   "metadata": {},
   "outputs": [
    {
     "name": "stdout",
     "output_type": "stream",
     "text": [
      "2023-08-16 13:18:51 已读取youtube频道信息\n",
      "2023-08-16 13:18:51 bilibili频道信息不存在\n"
     ]
    }
   ],
   "source": [
    "# 从配置文件中获取YouTube的频道\n",
    "if 'channelid_youtube' in config:\n",
    "    channelid_youtube = config[\"channelid_youtube\"]\n",
    "    write_log(\"已读取youtube频道信息\")\n",
    "else:\n",
    "    channelid_youtube = None\n",
    "    write_log(\"youtube频道信息不存在\")\n",
    "# 从配置文件中获取bilibili的频道\n",
    "if 'channelid_bilibili' in config:\n",
    "    channelid_bilibili = config[\"channelid_bilibili\"]\n",
    "    write_log(\"已读取bilibili频道信息\")\n",
    "else:\n",
    "    channelid_bilibili = None\n",
    "    write_log(\"bilibili频道信息不存在\")"
   ]
  },
  {
   "cell_type": "code",
   "execution_count": 10,
   "metadata": {},
   "outputs": [],
   "source": [
    "# 构建文件夹channel_id\n",
    "folder_path_channel_ids = os.path.join(os.getcwd(), \"channel_id\")\n",
    "if not os.path.exists(folder_path_channel_ids):  # 判断文件夹是否存在\n",
    "    os.makedirs(folder_path_channel_ids)  # 创建文件夹\n",
    "    write_log(\"文件夹channel_id创建成功\")"
   ]
  },
  {
   "cell_type": "code",
   "execution_count": 11,
   "metadata": {},
   "outputs": [],
   "source": [
    "# 视频分辨率变量\n",
    "youtube_dpi = [\"144\", \"180\", \"216\", \"240\", \"360\", \"480\", \"720\", \"1080\", \"1440\", \"2160\", \"4320\"]\n",
    "youtube_media = [\"m4a\", \"mp4\"]\n",
    "# 复制字典youtube-channelid，遍历复制后的字典进行操作以避免在循环中删除元素导致的迭代错误\n",
    "channelid_youtube_copy = channelid_youtube.copy()\n",
    "# 对youtube-channelid的错误进行更正\n",
    "for channelid_youtube_key, channelid_youtube_value in channelid_youtube_copy.items():\n",
    "    # 判断id是否正确\n",
    "    if 'id' not in channelid_youtube_value or not re.search(r\"UC.{22}\", channelid_youtube_value['id']):\n",
    "        # 删除错误的\n",
    "        del channelid_youtube[channelid_youtube_key]\n",
    "        write_log(f\"YouTube频道 {channelid_youtube_key} ID不正确\")\n",
    "    else:\n",
    "        # 对update_size进行纠正\n",
    "        if 'update_size' not in channelid_youtube_value or not (isinstance(channelid_youtube_value['update_size'], int) and channelid_youtube_value['update_size'] > 0):\n",
    "            channelid_youtube[channelid_youtube_key]['update_size'] = 5\n",
    "        # 对id进行纠正\n",
    "        channelid_youtube[channelid_youtube_key]['id'] = re.search(r\"UC.{22}\", channelid_youtube_value['id']).group()\n",
    "        # 对last_size进行纠正\n",
    "        if 'last_size' not in channelid_youtube_value or not (isinstance(channelid_youtube_value['last_size'], int) and channelid_youtube_value['last_size'] > 0):\n",
    "            channelid_youtube[channelid_youtube_key]['last_size'] = 20\n",
    "        # 对title进行纠正\n",
    "        if 'title' not in channelid_youtube_value:\n",
    "            channelid_youtube[channelid_youtube_key]['title'] = channelid_youtube_key\n",
    "        # 对quality进行纠正\n",
    "        if ('quality' not in channelid_youtube_value or not channelid_youtube_value['quality'] in youtube_dpi) and 'media' in channelid_youtube_value and channelid_youtube_value['media'] == \"mp4\":\n",
    "            channelid_youtube[channelid_youtube_key]['quality'] = \"480\"\n",
    "        # 对media进行纠正\n",
    "        if 'media' not in channelid_youtube_value or not channelid_youtube_value['media'] in youtube_media:\n",
    "            channelid_youtube[channelid_youtube_key]['media'] = \"m4a\""
   ]
  },
  {
   "cell_type": "code",
   "execution_count": 12,
   "metadata": {},
   "outputs": [
    {
     "name": "stdout",
     "output_type": "stream",
     "text": [
      "2023-08-16 13:18:51 读取youtube频道的channelid成功\n"
     ]
    }
   ],
   "source": [
    "# 读取youtube频道的id\n",
    "if channelid_youtube is not None:\n",
    "    channelid_youtube_ids = dict({channel[\"id\"]: key for key, channel in channelid_youtube.items()})\n",
    "    write_log(\"读取youtube频道的channelid成功\")\n",
    "else:\n",
    "    channelid_youtube_ids = None\n",
    "# 读取bilibili频道的id\n",
    "if channelid_bilibili is not None:\n",
    "    channelid_bilibili_ids = [channelid_bilibili[key]['id'] for key in channelid_bilibili]\n",
    "    write_log(\"读取bilibili频道的channelid成功\")\n",
    "else:\n",
    "    channelid_bilibili_ids = None"
   ]
  },
  {
   "cell_type": "code",
   "execution_count": 13,
   "metadata": {},
   "outputs": [
    {
     "name": "stdout",
     "output_type": "stream",
     "text": [
      "2023-08-16 13:18:52 YouTube频道 youtube 已更新\n",
      "2023-08-16 13:18:52 YouTube频道 stone记 已更新\n",
      "2023-08-16 13:18:52 需更新的YouTube频道:youtube, stone记\n"
     ]
    }
   ],
   "source": [
    "# 更新Youtube频道xml\n",
    "channelid_youtube_ids_update = {}  #创建需更新的频道\n",
    "youtube_content_ytid_update = {}  #创建需下载视频列表\n",
    "for youtube_key, youtube_value in channelid_youtube_ids.items():\n",
    "    # 构建 URL\n",
    "    youtube_url = f\"https://www.youtube.com/feeds/videos.xml?channel_id={youtube_key}\"\n",
    "    # 发送请求并获取响应内容\n",
    "    youtube_response = requests.get(youtube_url)\n",
    "    youtube_content = youtube_response.text\n",
    "    # 判断频道id是否正确\n",
    "    pattern_youtube404 = r\"Error 404\"  # 设置要匹配的正则表达式模式\n",
    "    pattern_youtube_vary = r'([0-9]{4}-[0-9]{2}-[0-9]{2}T[0-2][0-9]:[0-6][0-9]:[0-6][0-9]\\+00:00)?(starRating count=\"[0-9]*\")?(statistics views=\"[0-9]*\")?(<id>yt:channel:(UC.{22})?</id>)?(<yt:channelId>(UC.{22})?</yt:channelId>)?'\n",
    "    if not re.search(pattern_youtube404, youtube_content):\n",
    "        youtube_content = re.sub(pattern_youtube_vary, '', youtube_content)\n",
    "        # 读取原Youtube频道xml文件并判断是否要更新\n",
    "        try:\n",
    "            with open(f\"channel_id/{youtube_key}.txt\", 'r', encoding='utf-8') as file:  # 打开文件进行读取\n",
    "                youtube_content_original = file.read()  # 读取文件内容\n",
    "            if youtube_content != youtube_content_original:  #判断是否要更新\n",
    "                channelid_youtube_ids_update[youtube_key] = youtube_value\n",
    "        except FileNotFoundError:  #文件不存在直接更新\n",
    "            channelid_youtube_ids_update[youtube_key] = youtube_value\n",
    "        # 构建文件路径\n",
    "        file_path = os.path.join(folder_path_channel_ids, f\"{youtube_key}.txt\")\n",
    "        # 构建文件路径\n",
    "        with open(file_path, \"w\", encoding=\"utf-8\") as file:\n",
    "            file.write(youtube_content)\n",
    "            write_log(f\"YouTube频道 {youtube_value} 已更新\")\n",
    "        # 构建频道文件夹\n",
    "        folder_path_channel_id = os.path.join(os.getcwd(), youtube_key)\n",
    "        if not os.path.exists(folder_path_channel_id):  # 判断文件夹是否存在\n",
    "            os.makedirs(folder_path_channel_id)  # 创建文件夹\n",
    "            write_log(f\"文件夹{youtube_key}创建成功\")\n",
    "        #获取Youtube视频ID列表\n",
    "        youtube_content_ytid = re.findall(r\"(?<=<id>yt:video:).{11}(?=</id>)\", youtube_content)\n",
    "        youtube_content_ytid = youtube_content_ytid[:channelid_youtube[youtube_value]['update_size']]\n",
    "        #获取已下载媒体名称\n",
    "        youtube_content_ytid_original = [os.path.splitext(file)[0] for file in os.listdir(youtube_key) if file.endswith(channelid_youtube[youtube_value]['media'])]\n",
    "        youtube_content_ytid = [exclude for exclude in youtube_content_ytid if exclude not in youtube_content_ytid_original]\n",
    "        if youtube_content_ytid:\n",
    "            channelid_youtube_ids_update[youtube_key] = youtube_value\n",
    "            youtube_content_ytid_update[youtube_key] = youtube_content_ytid\n",
    "    else:\n",
    "        write_log(f\"YouTube频道 {youtube_value} ID不正确无法获取\")\n",
    "        del channelid_youtube_ids[youtube_key]  # 删除错误ID\n",
    "if channelid_youtube_ids_update:\n",
    "    write_log(f\"需更新的YouTube频道:{', '.join(channelid_youtube_ids_update.values())}\")"
   ]
  },
  {
   "cell_type": "code",
   "execution_count": 15,
   "metadata": {},
   "outputs": [
    {
     "name": "stdout",
     "output_type": "stream",
     "text": [
      "SPi0GkYauVU.m4a\n",
      "[youtube] Extracting URL: https://www.youtube.com/watch?v=SPi0GkYauVU\n",
      "[youtube] SPi0GkYauVU: Downloading webpage\n"
     ]
    },
    {
     "name": "stdout",
     "output_type": "stream",
     "text": [
      "[youtube] SPi0GkYauVU: Downloading ios player API JSON\n",
      "[youtube] SPi0GkYauVU: Downloading android player API JSON\n",
      "[youtube] SPi0GkYauVU: Downloading m3u8 information\n",
      "[info] SPi0GkYauVU: Downloading 1 format(s): 140\n",
      "[download] Destination: UCBR8-60-B28hp2BmDPdntcQ/SPi0GkYauVU.m4a\n",
      "[download] 100% of  306.81KiB in 00:00:00 at 2.61MiB/s   \n"
     ]
    },
    {
     "name": "stderr",
     "output_type": "stream",
     "text": [
      "WARNING: SPi0GkYauVU: writing DASH m4a. Only some players support this container. Install ffmpeg to fix this automatically\n"
     ]
    },
    {
     "name": "stdout",
     "output_type": "stream",
     "text": [
      "SPi0GkYauVU下载成功\n",
      "5Ht2M3awcYQ.m4a\n",
      "[youtube] Extracting URL: https://www.youtube.com/watch?v=5Ht2M3awcYQ\n",
      "[youtube] 5Ht2M3awcYQ: Downloading webpage\n",
      "[youtube] 5Ht2M3awcYQ: Downloading ios player API JSON\n",
      "[youtube] 5Ht2M3awcYQ: Downloading android player API JSON\n",
      "[youtube] 5Ht2M3awcYQ: Downloading m3u8 information\n",
      "[info] 5Ht2M3awcYQ: Downloading 1 format(s): 140\n",
      "[download] Destination: UCBR8-60-B28hp2BmDPdntcQ/5Ht2M3awcYQ.m4a\n",
      "[download] 100% of   18.81MiB in 00:00:00 at 39.91MiB/s  \n"
     ]
    },
    {
     "name": "stderr",
     "output_type": "stream",
     "text": [
      "WARNING: 5Ht2M3awcYQ: writing DASH m4a. Only some players support this container. Install ffmpeg to fix this automatically\n"
     ]
    },
    {
     "name": "stdout",
     "output_type": "stream",
     "text": [
      "5Ht2M3awcYQ下载成功\n",
      "ZgCaA5OSZyM.m4a\n",
      "[youtube] Extracting URL: https://www.youtube.com/watch?v=ZgCaA5OSZyM\n",
      "[youtube] ZgCaA5OSZyM: Downloading webpage\n",
      "[youtube] ZgCaA5OSZyM: Downloading ios player API JSON\n",
      "[youtube] ZgCaA5OSZyM: Downloading android player API JSON\n",
      "[youtube] ZgCaA5OSZyM: Downloading player da7c2a60\n",
      "[youtube] ZgCaA5OSZyM: Downloading m3u8 information\n",
      "[info] ZgCaA5OSZyM: Downloading 1 format(s): 140\n",
      "[download] Destination: UCghLs6s95LrBWOdlZUCH4qw/ZgCaA5OSZyM.m4a\n",
      "[download] 100% of    5.29MiB in 00:00:00 at 37.70MiB/s  \n"
     ]
    },
    {
     "name": "stderr",
     "output_type": "stream",
     "text": [
      "WARNING: ZgCaA5OSZyM: writing DASH m4a. Only some players support this container. Install ffmpeg to fix this automatically\n"
     ]
    },
    {
     "name": "stdout",
     "output_type": "stream",
     "text": [
      "ZgCaA5OSZyM下载成功\n",
      "sP1JoFypSy8.m4a\n",
      "[youtube] Extracting URL: https://www.youtube.com/watch?v=sP1JoFypSy8\n",
      "[youtube] sP1JoFypSy8: Downloading webpage\n",
      "[youtube] sP1JoFypSy8: Downloading ios player API JSON\n",
      "[youtube] sP1JoFypSy8: Downloading android player API JSON\n",
      "[youtube] sP1JoFypSy8: Downloading m3u8 information\n",
      "[info] sP1JoFypSy8: Downloading 1 format(s): 140\n",
      "[download] Destination: UCghLs6s95LrBWOdlZUCH4qw/sP1JoFypSy8.m4a\n",
      "[download] 100% of   12.02MiB in 00:00:00 at 41.69MiB/s  \n"
     ]
    },
    {
     "name": "stderr",
     "output_type": "stream",
     "text": [
      "WARNING: sP1JoFypSy8: writing DASH m4a. Only some players support this container. Install ffmpeg to fix this automatically\n"
     ]
    },
    {
     "name": "stdout",
     "output_type": "stream",
     "text": [
      "sP1JoFypSy8下载成功\n",
      "7yRCqCt7Ek0.m4a\n",
      "[youtube] Extracting URL: https://www.youtube.com/watch?v=7yRCqCt7Ek0\n",
      "[youtube] 7yRCqCt7Ek0: Downloading webpage\n",
      "[youtube] 7yRCqCt7Ek0: Downloading ios player API JSON\n",
      "[youtube] 7yRCqCt7Ek0: Downloading android player API JSON\n",
      "[youtube] 7yRCqCt7Ek0: Downloading m3u8 information\n",
      "[info] 7yRCqCt7Ek0: Downloading 1 format(s): 140\n",
      "[download] Destination: UCghLs6s95LrBWOdlZUCH4qw/7yRCqCt7Ek0.m4a\n",
      "[download] 100% of    7.59MiB in 00:00:00 at 44.40MiB/s  \n"
     ]
    },
    {
     "name": "stderr",
     "output_type": "stream",
     "text": [
      "WARNING: 7yRCqCt7Ek0: writing DASH m4a. Only some players support this container. Install ffmpeg to fix this automatically\n"
     ]
    },
    {
     "name": "stdout",
     "output_type": "stream",
     "text": [
      "7yRCqCt7Ek0下载成功\n",
      "0AygSh6Xwaw.m4a\n",
      "[youtube] Extracting URL: https://www.youtube.com/watch?v=0AygSh6Xwaw\n",
      "[youtube] 0AygSh6Xwaw: Downloading webpage\n",
      "[youtube] 0AygSh6Xwaw: Downloading ios player API JSON\n",
      "[youtube] 0AygSh6Xwaw: Downloading android player API JSON\n",
      "[youtube] 0AygSh6Xwaw: Downloading m3u8 information\n",
      "[info] 0AygSh6Xwaw: Downloading 1 format(s): 140\n",
      "[download] Destination: UCghLs6s95LrBWOdlZUCH4qw/0AygSh6Xwaw.m4a\n",
      "[download] 100% of    5.80MiB in 00:00:00 at 45.46MiB/s  \n"
     ]
    },
    {
     "name": "stderr",
     "output_type": "stream",
     "text": [
      "WARNING: 0AygSh6Xwaw: writing DASH m4a. Only some players support this container. Install ffmpeg to fix this automatically\n"
     ]
    },
    {
     "name": "stdout",
     "output_type": "stream",
     "text": [
      "0AygSh6Xwaw下载成功\n",
      "jlAyraQ65Zw.m4a\n",
      "[youtube] Extracting URL: https://www.youtube.com/watch?v=jlAyraQ65Zw\n",
      "[youtube] jlAyraQ65Zw: Downloading webpage\n",
      "[youtube] jlAyraQ65Zw: Downloading ios player API JSON\n",
      "[youtube] jlAyraQ65Zw: Downloading android player API JSON\n",
      "[youtube] jlAyraQ65Zw: Downloading m3u8 information\n",
      "[info] jlAyraQ65Zw: Downloading 1 format(s): 140\n",
      "[download] Destination: UCghLs6s95LrBWOdlZUCH4qw/jlAyraQ65Zw.m4a\n",
      "[download] 100% of   22.17MiB in 00:00:00 at 54.42MiB/s  \n"
     ]
    },
    {
     "name": "stderr",
     "output_type": "stream",
     "text": [
      "WARNING: jlAyraQ65Zw: writing DASH m4a. Only some players support this container. Install ffmpeg to fix this automatically\n"
     ]
    },
    {
     "name": "stdout",
     "output_type": "stream",
     "text": [
      "jlAyraQ65Zw下载成功\n"
     ]
    }
   ],
   "source": [
    "# 下载YouTube视频\n",
    "for ytid_key, ytid_value in youtube_content_ytid_update.items():\n",
    "    # 获取对应文件类型\n",
    "    yt_id_file = channelid_youtube[channelid_youtube_ids_update[ytid_key]]['media']\n",
    "    # 如果为视频格式获取分辨率\n",
    "    if yt_id_file == \"mp4\":\n",
    "        yt_id_quality = channelid_youtube[channelid_youtube_ids_update[ytid_key]]['quality']\n",
    "    else:\n",
    "        yt_id_quality = None\n",
    "    # 下载视频\n",
    "    for yt_id in ytid_value:\n",
    "        download_video(yt_id, ytid_key, yt_id_file, yt_id_quality)\n",
    "        "
   ]
  }
 ],
 "metadata": {
  "kernelspec": {
   "display_name": "Python 3 (ipykernel)",
   "language": "python",
   "name": "python3"
  },
  "language_info": {
   "codemirror_mode": {
    "name": "ipython",
    "version": 3
   },
   "file_extension": ".py",
   "mimetype": "text/x-python",
   "name": "python",
   "nbconvert_exporter": "python",
   "pygments_lexer": "ipython3",
   "version": "3.10.8"
  }
 },
 "nbformat": 4,
 "nbformat_minor": 2
}
