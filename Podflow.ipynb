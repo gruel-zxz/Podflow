{
 "cells": [
  {
   "cell_type": "code",
   "execution_count": 1,
   "metadata": {},
   "outputs": [
    {
     "name": "stdout",
     "output_type": "stream",
     "text": [
      "{'channelid': {'YouTube': {'update_size': 1, 'id': 'UCBR8-60-B28hp2BmDPdntcQ', 'title': 'YouTube', 'quality': '720', 'last_size': 1, 'media': 'm4a'}}}\n"
     ]
    }
   ],
   "source": [
    "import os\n",
    "import json\n",
    "\n",
    "#默认参数\n",
    "default_config = {\n",
    "    \"channelid\": {\n",
    "        \"YouTube\": {\n",
    "            \"update_size\": 1,\n",
    "            \"id\": \"UCBR8-60-B28hp2BmDPdntcQ\",\n",
    "            \"title\": \"YouTube\",\n",
    "            \"quality\": \"720\",\n",
    "            \"last_size\": 1,\n",
    "            \"media\": \"m4a\"\n",
    "        }\n",
    "    }\n",
    "}\n",
    "expected_channelid = {\n",
    "    \"update_size\": 1,\n",
    "    \"id\": \"UCBR8-60-B28hp2BmDPdntcQ\",\n",
    "    \"title\": \"YouTube\",\n",
    "    \"quality\": \"720\",\n",
    "    \"last_size\": 1,\n",
    "    \"media\": \"m4a\"\n",
    "}\n",
    "# 检查当前文件夹中是否存在config.json文件\n",
    "if not os.path.exists('config.json'):\n",
    "    # 如果文件不存在，创建并写入默认字典\n",
    "    with open('config.json', 'w') as file:\n",
    "        json.dump(default_config, file)\n",
    "    print(\"不存在配置文件，已新建，添加频道\")\n",
    "    config = default_config\n",
    "else:\n",
    "    # 如果文件存在，读取字典并保存到config变量中\n",
    "    with open('config.json', 'r') as file:\n",
    "        config = json.load(file)\n",
    "    print(config)"
   ]
  },
  {
   "cell_type": "code",
   "execution_count": 1,
   "metadata": {},
   "outputs": [],
   "source": [
    "channelid = config['channelid']\n",
    "print(channelid)"
   ]
  },
  {
   "cell_type": "code",
   "execution_count": 1,
   "metadata": {},
   "outputs": [],
   "source": [
    "from urllib.request import urlopen\n",
    "\n",
    "# 发送HTTP GET请求并获取网页内容\n",
    "url = 'https://www.youtube.com/feeds/videos.xml?playlist_id=UCBR8-60-B28hp2BmDPdntcQ'  # 要请求的网页URL\n",
    "response = urlopen(url)\n",
    "\n",
    "# 获取网页内容\n",
    "content = response.read().decode('utf-8')\n",
    "\n",
    "print(content)\n"
   ]
  },
  {
   "cell_type": "markdown",
   "metadata": {},
   "source": []
  }
 ],
 "metadata": {
  "kernelspec": {
   "display_name": "Python 3 (ipykernel)",
   "language": "python",
   "name": "python3"
  },
  "language_info": {
   "codemirror_mode": {
    "name": "ipython",
    "version": 3
   },
   "file_extension": ".py",
   "mimetype": "text/x-python",
   "name": "python",
   "nbconvert_exporter": "python",
   "pygments_lexer": "ipython3",
   "version": "3.10.8"
  }
 },
 "nbformat": 4,
 "nbformat_minor": 2
}
