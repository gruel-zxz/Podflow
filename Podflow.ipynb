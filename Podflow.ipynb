{
 "cells": [
  {
   "cell_type": "code",
   "execution_count": 1,
   "metadata": {},
   "outputs": [
    {
     "name": "stdout",
     "output_type": "stream",
     "text": [
      "{'channelid': {'YouTube': {'update_size': 1, 'id': 'UCBR8-60-B28hp2BmDPdntcQ', 'title': 'YouTube', 'quality': '720', 'last_size': 1, 'media': 'm4a'}}}\n"
     ]
    }
   ],
   "source": [
    "import os\n",
    "import json\n",
    "\n",
    "#默认参数\n",
    "default_config = {\n",
    "    \"channelid\": {\n",
    "        \"YouTube\": {\n",
    "            \"update_size\": 1,\n",
    "            \"id\": \"UCBR8-60-B28hp2BmDPdntcQ\",\n",
    "            \"title\": \"YouTube\",\n",
    "            \"quality\": \"720\",\n",
    "            \"last_size\": 1,\n",
    "            \"media\": \"m4a\"\n",
    "        }\n",
    "    }\n",
    "}\n",
    "expected_channelid = {\n",
    "    \"update_size\": 1,\n",
    "    \"id\": \"UCBR8-60-B28hp2BmDPdntcQ\",\n",
    "    \"title\": \"YouTube\",\n",
    "    \"quality\": \"720\",\n",
    "    \"last_size\": 1,\n",
    "    \"media\": \"m4a\"\n",
    "}\n",
    "# 检查当前文件夹中是否存在config.json文件\n",
    "if not os.path.exists('config.json'):\n",
    "    # 如果文件不存在，创建并写入默认字典\n",
    "    with open('config.json', 'w') as file:\n",
    "        json.dump(default_config, file)\n",
    "    print(\"不存在配置文件，已新建，添加频道\")\n",
    "    config = default_config\n",
    "else:\n",
    "    # 如果文件存在，读取字典并保存到config变量中\n",
    "    with open('config.json', 'r') as file:\n",
    "        config = json.load(file)\n",
    "    print(config)"
   ]
  },
  {
   "cell_type": "code",
   "execution_count": 2,
   "metadata": {},
   "outputs": [
    {
     "name": "stdout",
     "output_type": "stream",
     "text": [
      "{'YouTube': {'update_size': 1, 'id': 'UCBR8-60-B28hp2BmDPdntcQ', 'title': 'YouTube', 'quality': '720', 'last_size': 1, 'media': 'm4a'}}\n"
     ]
    }
   ],
   "source": [
    "channelid = config['channelid']\n",
    "print(channelid)"
   ]
  },
  {
   "cell_type": "code",
   "execution_count": 4,
   "metadata": {},
   "outputs": [
    {
     "name": "stdout",
     "output_type": "stream",
     "text": [
      "<!DOCTYPE html><html><head><title>验证码_哔哩哔哩</title><meta name=\"viewport\" content=\"width=device-width,user-scalable=no,initial-scale=1,maximum-scale=1,minimum-scale=1,viewport-fit=cover\"><meta name=\"spm_prefix\" content=\"333.1291\"><script type=\"text/javascript\" src=\"//www.bilibili.com/gentleman/polyfill.js?features=Promise%2CObject.assign%2CString.prototype.includes%2CNumber.isNaN\"></script>\n",
      "    <script>\n",
      "    window._riskdata_ = {\n",
      "      'v_voucher': 'voucher_f468109d-1ec4-4c33-a812-cb9d17c9d291'\n",
      "    }\n",
      "    </script>\n",
      "    <script type=\"text/javascript\" src=\"//s1.hdslb.com/bfs/seed/log/report/log-reporter.js\"></script><link href=\"//s1.hdslb.com/bfs/static/jinkela/risk-captcha/css/risk-captcha.0.da69749d1b28e8499cd7d913726fa7af74949406.css\" rel=\"stylesheet\"></head><body><div id=\"biliMainHeader\"></div><div id=\"risk-captcha-app\"></div><script src=\"//s1.hdslb.com/bfs/seed/jinkela/risk-captcha-sdk/CaptchaLoader.js\"></script><script type=\"text/javascript\" src=\"//s1.hdslb.com/bfs/static/jinkela/risk-captcha/1.risk-captcha.da69749d1b28e8499cd7d913726fa7af74949406.js\"></script><script type=\"text/javascript\" src=\"//s1.hdslb.com/bfs/static/jinkela/risk-captcha/risk-captcha.da69749d1b28e8499cd7d913726fa7af74949406.js\"></script></body></html>\n"
     ]
    }
   ],
   "source": [
    "from urllib.request import urlopen\n",
    "\n",
    "# 发送HTTP GET请求并获取网页内容\n",
    "url = 'https://rsshub.app/bilibili/user/dynamic/8047632'  # 要请求的网页URL\n",
    "response = urlopen(url)\n",
    "\n",
    "# 获取网页内容\n",
    "content = response.read().decode('utf-8')\n",
    "\n",
    "print(content)\n"
   ]
  }
 ],
 "metadata": {
  "kernelspec": {
   "display_name": "Python 3 (ipykernel)",
   "language": "python",
   "name": "python3"
  },
  "language_info": {
   "codemirror_mode": {
    "name": "ipython",
    "version": 3
   },
   "file_extension": ".py",
   "mimetype": "text/x-python",
   "name": "python",
   "nbconvert_exporter": "python",
   "pygments_lexer": "ipython3",
   "version": "3.10.8"
  }
 },
 "nbformat": 4,
 "nbformat_minor": 2
}
