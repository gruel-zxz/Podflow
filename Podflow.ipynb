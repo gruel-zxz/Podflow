{
 "cells": [
  {
   "cell_type": "code",
   "execution_count": 3,
   "metadata": {},
   "outputs": [
    {
     "name": "stdout",
     "output_type": "stream",
     "text": [
      "{\"科学火箭叔\":\"UC8dD8v_uIA7aRzpqaCoIHKg\",\"stone pistol\":\"UCmOVUFkam162EJ48KfQaIyg\",\"奇异博士说\":\"UCVaMMNaYvjmskreBR4dM7rg\",\"科技美学\":\"UCAC204niCVvtDRDFYSiK7Cg\",\"stone记\":\"UCghLs6s95LrBWOdlZUCH4qw\",\"Linvo說宇宙\":\"UCjHCBI7CNqQwzuaiDtCAQmA\",\"四季妈妈—小龙\":\"UC3elWG-AxVvIF2_xPQb1rkQ\",\"Discovery With Andy\":\"UC6lYCOXS4Rxo9xpKS1My32A\",\"冲浪普拉斯\":\"UCZNxe_9FQAK2Z3suwaZlwpQ\",\"老高與小茉 Mr & Mrs Gao\":\"UCMUnInmOkrWN4gof9KlhNmQ\",\"脑洞乌托邦\":\"UC2tQpW0dPiyWPebwBSksJ_g\",\"啾啾鞋\":\"UCIF_gt4BfsWyM_2GOcKXyEQ\",\"幻海航行--science fiction\":\"UCp1nO1bgVwks9b5EhKQGVag\",\"红酒汤姆一世\":\"UCJT6M5j-HT-76ts0eTzZtJw\",\" X調查\":\"UCOyshL6rKK1GqwoEfy_ehBg\",\"海伦子Hellen\":\"UCneG8p_dRmZZ_xFFCv7jfJw\",\"你可敢信\":\"UC2lbb8vjQR64C6gHqD0_4OA\",\"曉涵哥來了\":\"UCvoBl4rnVsetDKA_Tdk-jeA\",\"自说自话的总裁\":\"UCgo_-fjJxnLwwwq5dSY72rg\",\"林亦LYi\":\"UC4dtpugIYK56S_7btf5a-iQ\",\"小乌副频道\":\"UCQvvVtUqtGxqSLixdeG75Uw\"}\n"
     ]
    }
   ],
   "source": [
    "import os\n",
    "\n",
    "# 获取当前文件夹路径\n",
    "folder = os.path.dirname(os.path.abspath('Podflow.ipynb'))  \n",
    "\n",
    "# 在当前文件夹中查找text.json文件\n",
    "for filename in os.listdir(folder):\n",
    "    if filename == 'channel_id.json':\n",
    "        # 拼接完整路径\n",
    "        file_path = os.path.join(folder, filename)  \n",
    "        # 打开文件并读取内容\n",
    "        with open(file_path, 'r') as f:\n",
    "            Dict = f.read()\n",
    "        break\n",
    "else:\n",
    "    print('无法找到channel_id.json文件')\n"
   ]
  },
  {
   "cell_type": "code",
   "execution_count": null,
   "metadata": {},
   "outputs": [],
   "source": []
  }
 ],
 "metadata": {
  "kernelspec": {
   "display_name": "Python 3 (ipykernel)",
   "language": "python",
   "name": "python3"
  },
  "language_info": {
   "codemirror_mode": {
    "name": "ipython",
    "version": 3
   },
   "file_extension": ".py",
   "mimetype": "text/x-python",
   "name": "python",
   "nbconvert_exporter": "python",
   "pygments_lexer": "ipython3",
   "version": "3.11.0"
  }
 },
 "nbformat": 4,
 "nbformat_minor": 2
}
